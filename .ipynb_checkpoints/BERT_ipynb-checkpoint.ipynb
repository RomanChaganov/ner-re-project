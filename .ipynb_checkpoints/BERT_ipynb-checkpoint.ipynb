{
  "cells": [
    {
      "cell_type": "code",
      "execution_count": null,
      "metadata": {
        "colab": {
          "base_uri": "https://localhost:8080/"
        },
        "id": "Vm8S3AWOwWSX",
        "outputId": "5b71e020-418e-46d3-a190-13362ef66a0f"
      },
      "outputs": [
        {
          "output_type": "stream",
          "name": "stdout",
          "text": [
            "Cloning into 'ner-re-project'...\n",
            "remote: Enumerating objects: 81, done.\u001b[K\n",
            "remote: Counting objects: 100% (81/81), done.\u001b[K\n",
            "remote: Compressing objects: 100% (79/79), done.\u001b[K\n",
            "remote: Total 81 (delta 19), reused 47 (delta 1), pack-reused 0 (from 0)\u001b[K\n",
            "Receiving objects: 100% (81/81), 459.49 KiB | 1.72 MiB/s, done.\n",
            "Resolving deltas: 100% (19/19), done.\n"
          ]
        }
      ],
      "source": [
        "!git clone https://github.com/RomanChaganov/ner-re-project.git"
      ]
    },
    {
      "cell_type": "code",
      "execution_count": null,
      "metadata": {
        "colab": {
          "base_uri": "https://localhost:8080/"
        },
        "id": "SMhI6f0DwcFU",
        "outputId": "cf7b5347-195d-42ff-d26a-3c3d54750c6e"
      },
      "outputs": [
        {
          "output_type": "stream",
          "name": "stdout",
          "text": [
            "/content/ner-re-project\n"
          ]
        }
      ],
      "source": [
        "%cd ner-re-project"
      ]
    },
    {
      "cell_type": "code",
      "execution_count": null,
      "metadata": {
        "colab": {
          "base_uri": "https://localhost:8080/",
          "height": 1000,
          "referenced_widgets": [
            "41ef45496ede45a186063ec5248d3889",
            "efa09b5d044f43edadeb263cd5c79bfb",
            "7894ecbc39a24b3ab64ee568df3d1645",
            "2c97e5b1acf847d590fdf88cf05794a2",
            "def5d031a5f84f7d8444b309753c5ae6",
            "a6159a89345c4fd79f8bfce2a810ee4a",
            "9f1ffb0db1da4c92a8bfd2d11bb7af91",
            "c72af5de7b5b4d20b6f169e0e99bd8c9",
            "b72793b0b560429f82865a08165c1cda",
            "6c4575a446f74ae8b161972a3eb918d6"
          ]
        },
        "id": "idmJY-yywrwG",
        "outputId": "b21320df-247d-4648-8d13-2e0c257e1cf4"
      },
      "outputs": [
        {
          "output_type": "stream",
          "name": "stderr",
          "text": [
            "/usr/local/lib/python3.10/dist-packages/_distutils_hack/__init__.py:31: UserWarning: Setuptools is replacing distutils. Support for replacing an already imported distutils is deprecated. In the future, this condition will fail. Register concerns at https://github.com/pypa/setuptools/issues/new?template=distutils-deprecation.yml\n",
            "  warnings.warn(\n",
            "WARNING: pip is being invoked by an old script wrapper. This will fail in a future version of pip.\n",
            "Please see https://github.com/pypa/pip/issues/5599 for advice on fixing the underlying issue.\n",
            "To avoid this problem you can invoke Python with '-m pip' instead of running pip directly.\n"
          ]
        },
        {
          "output_type": "display_data",
          "data": {
            "text/plain": [
              "Collecting argparse\n"
            ],
            "text/html": [
              "<pre style=\"white-space:pre;overflow-x:auto;line-height:normal;font-family:Menlo,'DejaVu Sans Mono',consolas,'Courier New',monospace\">Collecting argparse\n",
              "</pre>\n"
            ]
          },
          "metadata": {}
        },
        {
          "output_type": "display_data",
          "data": {
            "text/plain": [
              "  Downloading argparse-1.4.0-py2.py3-none-any.whl.metadata (2.8 kB)\n"
            ],
            "text/html": [
              "<pre style=\"white-space:pre;overflow-x:auto;line-height:normal;font-family:Menlo,'DejaVu Sans Mono',consolas,'Courier New',monospace\">  Downloading argparse-1.4.0-py2.py3-none-any.whl.metadata (2.8 kB)\n",
              "</pre>\n"
            ]
          },
          "metadata": {}
        },
        {
          "output_type": "display_data",
          "data": {
            "text/plain": [
              "Collecting datasets\n"
            ],
            "text/html": [
              "<pre style=\"white-space:pre;overflow-x:auto;line-height:normal;font-family:Menlo,'DejaVu Sans Mono',consolas,'Courier New',monospace\">Collecting datasets\n",
              "</pre>\n"
            ]
          },
          "metadata": {}
        },
        {
          "output_type": "display_data",
          "data": {
            "text/plain": [
              "  Downloading datasets-3.1.0-py3-none-any.whl.metadata (20 kB)\n"
            ],
            "text/html": [
              "<pre style=\"white-space:pre;overflow-x:auto;line-height:normal;font-family:Menlo,'DejaVu Sans Mono',consolas,'Courier New',monospace\">  Downloading datasets-3.1.0-py3-none-any.whl.metadata (20 kB)\n",
              "</pre>\n"
            ]
          },
          "metadata": {}
        },
        {
          "output_type": "display_data",
          "data": {
            "text/plain": [
              "Requirement already satisfied: filelock in /usr/local/lib/python3.10/dist-packages (from datasets) (3.16.1)\n"
            ],
            "text/html": [
              "<pre style=\"white-space:pre;overflow-x:auto;line-height:normal;font-family:Menlo,'DejaVu Sans Mono',consolas,'Courier New',monospace\">Requirement already satisfied: filelock in /usr/local/lib/python3.10/dist-packages (from datasets) (3.16.1)\n",
              "</pre>\n"
            ]
          },
          "metadata": {}
        },
        {
          "output_type": "display_data",
          "data": {
            "text/plain": [
              "Requirement already satisfied: numpy>=1.17 in /usr/local/lib/python3.10/dist-packages (from datasets) (1.26.4)\n"
            ],
            "text/html": [
              "<pre style=\"white-space:pre;overflow-x:auto;line-height:normal;font-family:Menlo,'DejaVu Sans Mono',consolas,'Courier New',monospace\">Requirement already satisfied: numpy&gt;=1.17 in /usr/local/lib/python3.10/dist-packages (from datasets) (1.26.4)\n",
              "</pre>\n"
            ]
          },
          "metadata": {}
        },
        {
          "output_type": "display_data",
          "data": {
            "text/plain": [
              "Requirement already satisfied: pyarrow>=15.0.0 in /usr/local/lib/python3.10/dist-packages (from datasets) (17.0.0)\n"
            ],
            "text/html": [
              "<pre style=\"white-space:pre;overflow-x:auto;line-height:normal;font-family:Menlo,'DejaVu Sans Mono',consolas,'Courier New',monospace\">Requirement already satisfied: pyarrow&gt;=15.0.0 in /usr/local/lib/python3.10/dist-packages (from datasets) (17.0.0)\n",
              "</pre>\n"
            ]
          },
          "metadata": {}
        },
        {
          "output_type": "display_data",
          "data": {
            "text/plain": [
              "Collecting dill<0.3.9,>=0.3.0 (from datasets)\n"
            ],
            "text/html": [
              "<pre style=\"white-space:pre;overflow-x:auto;line-height:normal;font-family:Menlo,'DejaVu Sans Mono',consolas,'Courier New',monospace\">Collecting dill&lt;0.3.9,&gt;=0.3.0 (from datasets)\n",
              "</pre>\n"
            ]
          },
          "metadata": {}
        },
        {
          "output_type": "display_data",
          "data": {
            "text/plain": [
              "  Downloading dill-0.3.8-py3-none-any.whl.metadata (10 kB)\n"
            ],
            "text/html": [
              "<pre style=\"white-space:pre;overflow-x:auto;line-height:normal;font-family:Menlo,'DejaVu Sans Mono',consolas,'Courier New',monospace\">  Downloading dill-0.3.8-py3-none-any.whl.metadata (10 kB)\n",
              "</pre>\n"
            ]
          },
          "metadata": {}
        },
        {
          "output_type": "display_data",
          "data": {
            "text/plain": [
              "Requirement already satisfied: pandas in /usr/local/lib/python3.10/dist-packages (from datasets) (2.2.2)\n"
            ],
            "text/html": [
              "<pre style=\"white-space:pre;overflow-x:auto;line-height:normal;font-family:Menlo,'DejaVu Sans Mono',consolas,'Courier New',monospace\">Requirement already satisfied: pandas in /usr/local/lib/python3.10/dist-packages (from datasets) (2.2.2)\n",
              "</pre>\n"
            ]
          },
          "metadata": {}
        },
        {
          "output_type": "display_data",
          "data": {
            "text/plain": [
              "Requirement already satisfied: requests>=2.32.2 in /usr/local/lib/python3.10/dist-packages (from datasets) (2.32.3)\n"
            ],
            "text/html": [
              "<pre style=\"white-space:pre;overflow-x:auto;line-height:normal;font-family:Menlo,'DejaVu Sans Mono',consolas,'Courier New',monospace\">Requirement already satisfied: requests&gt;=2.32.2 in /usr/local/lib/python3.10/dist-packages (from datasets) (2.32.3)\n",
              "</pre>\n"
            ]
          },
          "metadata": {}
        },
        {
          "output_type": "display_data",
          "data": {
            "text/plain": [
              "Requirement already satisfied: tqdm>=4.66.3 in /usr/local/lib/python3.10/dist-packages (from datasets) (4.66.6)\n"
            ],
            "text/html": [
              "<pre style=\"white-space:pre;overflow-x:auto;line-height:normal;font-family:Menlo,'DejaVu Sans Mono',consolas,'Courier New',monospace\">Requirement already satisfied: tqdm&gt;=4.66.3 in /usr/local/lib/python3.10/dist-packages (from datasets) (4.66.6)\n",
              "</pre>\n"
            ]
          },
          "metadata": {}
        },
        {
          "output_type": "display_data",
          "data": {
            "text/plain": [
              "Collecting xxhash (from datasets)\n"
            ],
            "text/html": [
              "<pre style=\"white-space:pre;overflow-x:auto;line-height:normal;font-family:Menlo,'DejaVu Sans Mono',consolas,'Courier New',monospace\">Collecting xxhash (from datasets)\n",
              "</pre>\n"
            ]
          },
          "metadata": {}
        },
        {
          "output_type": "display_data",
          "data": {
            "text/plain": [
              "  Downloading xxhash-3.5.0-cp310-cp310-manylinux_2_17_x86_64.manylinux2014_x86_64.whl.metadata (12 kB)\n"
            ],
            "text/html": [
              "<pre style=\"white-space:pre;overflow-x:auto;line-height:normal;font-family:Menlo,'DejaVu Sans Mono',consolas,'Courier New',monospace\">  Downloading xxhash-3.5.0-cp310-cp310-manylinux_2_17_x86_64.manylinux2014_x86_64.whl.metadata (12 kB)\n",
              "</pre>\n"
            ]
          },
          "metadata": {}
        },
        {
          "output_type": "display_data",
          "data": {
            "text/plain": [
              "Collecting multiprocess<0.70.17 (from datasets)\n"
            ],
            "text/html": [
              "<pre style=\"white-space:pre;overflow-x:auto;line-height:normal;font-family:Menlo,'DejaVu Sans Mono',consolas,'Courier New',monospace\">Collecting multiprocess&lt;0.70.17 (from datasets)\n",
              "</pre>\n"
            ]
          },
          "metadata": {}
        },
        {
          "output_type": "display_data",
          "data": {
            "text/plain": [
              "  Downloading multiprocess-0.70.16-py310-none-any.whl.metadata (7.2 kB)\n"
            ],
            "text/html": [
              "<pre style=\"white-space:pre;overflow-x:auto;line-height:normal;font-family:Menlo,'DejaVu Sans Mono',consolas,'Courier New',monospace\">  Downloading multiprocess-0.70.16-py310-none-any.whl.metadata (7.2 kB)\n",
              "</pre>\n"
            ]
          },
          "metadata": {}
        },
        {
          "output_type": "display_data",
          "data": {
            "text/plain": [
              "Collecting fsspec<=2024.9.0,>=2023.1.0 (from fsspec[http]<=2024.9.0,>=2023.1.0->datasets)\n"
            ],
            "text/html": [
              "<pre style=\"white-space:pre;overflow-x:auto;line-height:normal;font-family:Menlo,'DejaVu Sans Mono',consolas,'Courier New',monospace\">Collecting fsspec&lt;=2024.9.0,&gt;=2023.1.0 (from fsspec[http]&lt;=2024.9.0,&gt;=2023.1.0-&gt;datasets)\n",
              "</pre>\n"
            ]
          },
          "metadata": {}
        },
        {
          "output_type": "display_data",
          "data": {
            "text/plain": [
              "  Downloading fsspec-2024.9.0-py3-none-any.whl.metadata (11 kB)\n"
            ],
            "text/html": [
              "<pre style=\"white-space:pre;overflow-x:auto;line-height:normal;font-family:Menlo,'DejaVu Sans Mono',consolas,'Courier New',monospace\">  Downloading fsspec-2024.9.0-py3-none-any.whl.metadata (11 kB)\n",
              "</pre>\n"
            ]
          },
          "metadata": {}
        },
        {
          "output_type": "display_data",
          "data": {
            "text/plain": [
              "Requirement already satisfied: aiohttp in /usr/local/lib/python3.10/dist-packages (from datasets) (3.10.10)\n"
            ],
            "text/html": [
              "<pre style=\"white-space:pre;overflow-x:auto;line-height:normal;font-family:Menlo,'DejaVu Sans Mono',consolas,'Courier New',monospace\">Requirement already satisfied: aiohttp in /usr/local/lib/python3.10/dist-packages (from datasets) (3.10.10)\n",
              "</pre>\n"
            ]
          },
          "metadata": {}
        },
        {
          "output_type": "display_data",
          "data": {
            "text/plain": [
              "Requirement already satisfied: huggingface-hub>=0.23.0 in /usr/local/lib/python3.10/dist-packages (from datasets) (0.24.7)\n"
            ],
            "text/html": [
              "<pre style=\"white-space:pre;overflow-x:auto;line-height:normal;font-family:Menlo,'DejaVu Sans Mono',consolas,'Courier New',monospace\">Requirement already satisfied: huggingface-hub&gt;=0.23.0 in /usr/local/lib/python3.10/dist-packages (from datasets) (0.24.7)\n",
              "</pre>\n"
            ]
          },
          "metadata": {}
        },
        {
          "output_type": "display_data",
          "data": {
            "text/plain": [
              "Requirement already satisfied: packaging in /usr/local/lib/python3.10/dist-packages (from datasets) (24.1)\n"
            ],
            "text/html": [
              "<pre style=\"white-space:pre;overflow-x:auto;line-height:normal;font-family:Menlo,'DejaVu Sans Mono',consolas,'Courier New',monospace\">Requirement already satisfied: packaging in /usr/local/lib/python3.10/dist-packages (from datasets) (24.1)\n",
              "</pre>\n"
            ]
          },
          "metadata": {}
        },
        {
          "output_type": "display_data",
          "data": {
            "text/plain": [
              "Requirement already satisfied: pyyaml>=5.1 in /usr/local/lib/python3.10/dist-packages (from datasets) (6.0.2)\n"
            ],
            "text/html": [
              "<pre style=\"white-space:pre;overflow-x:auto;line-height:normal;font-family:Menlo,'DejaVu Sans Mono',consolas,'Courier New',monospace\">Requirement already satisfied: pyyaml&gt;=5.1 in /usr/local/lib/python3.10/dist-packages (from datasets) (6.0.2)\n",
              "</pre>\n"
            ]
          },
          "metadata": {}
        },
        {
          "output_type": "display_data",
          "data": {
            "text/plain": [
              "Requirement already satisfied: aiohappyeyeballs>=2.3.0 in /usr/local/lib/python3.10/dist-packages (from aiohttp->datasets) (2.4.3)\n"
            ],
            "text/html": [
              "<pre style=\"white-space:pre;overflow-x:auto;line-height:normal;font-family:Menlo,'DejaVu Sans Mono',consolas,'Courier New',monospace\">Requirement already satisfied: aiohappyeyeballs&gt;=2.3.0 in /usr/local/lib/python3.10/dist-packages (from aiohttp-&gt;datasets) (2.4.3)\n",
              "</pre>\n"
            ]
          },
          "metadata": {}
        },
        {
          "output_type": "display_data",
          "data": {
            "text/plain": [
              "Requirement already satisfied: aiosignal>=1.1.2 in /usr/local/lib/python3.10/dist-packages (from aiohttp->datasets) (1.3.1)\n"
            ],
            "text/html": [
              "<pre style=\"white-space:pre;overflow-x:auto;line-height:normal;font-family:Menlo,'DejaVu Sans Mono',consolas,'Courier New',monospace\">Requirement already satisfied: aiosignal&gt;=1.1.2 in /usr/local/lib/python3.10/dist-packages (from aiohttp-&gt;datasets) (1.3.1)\n",
              "</pre>\n"
            ]
          },
          "metadata": {}
        },
        {
          "output_type": "display_data",
          "data": {
            "text/plain": [
              "Requirement already satisfied: attrs>=17.3.0 in /usr/local/lib/python3.10/dist-packages (from aiohttp->datasets) (24.2.0)\n"
            ],
            "text/html": [
              "<pre style=\"white-space:pre;overflow-x:auto;line-height:normal;font-family:Menlo,'DejaVu Sans Mono',consolas,'Courier New',monospace\">Requirement already satisfied: attrs&gt;=17.3.0 in /usr/local/lib/python3.10/dist-packages (from aiohttp-&gt;datasets) (24.2.0)\n",
              "</pre>\n"
            ]
          },
          "metadata": {}
        },
        {
          "output_type": "display_data",
          "data": {
            "text/plain": [
              "Requirement already satisfied: frozenlist>=1.1.1 in /usr/local/lib/python3.10/dist-packages (from aiohttp->datasets) (1.5.0)\n"
            ],
            "text/html": [
              "<pre style=\"white-space:pre;overflow-x:auto;line-height:normal;font-family:Menlo,'DejaVu Sans Mono',consolas,'Courier New',monospace\">Requirement already satisfied: frozenlist&gt;=1.1.1 in /usr/local/lib/python3.10/dist-packages (from aiohttp-&gt;datasets) (1.5.0)\n",
              "</pre>\n"
            ]
          },
          "metadata": {}
        },
        {
          "output_type": "display_data",
          "data": {
            "text/plain": [
              "Requirement already satisfied: multidict<7.0,>=4.5 in /usr/local/lib/python3.10/dist-packages (from aiohttp->datasets) (6.1.0)\n"
            ],
            "text/html": [
              "<pre style=\"white-space:pre;overflow-x:auto;line-height:normal;font-family:Menlo,'DejaVu Sans Mono',consolas,'Courier New',monospace\">Requirement already satisfied: multidict&lt;7.0,&gt;=4.5 in /usr/local/lib/python3.10/dist-packages (from aiohttp-&gt;datasets) (6.1.0)\n",
              "</pre>\n"
            ]
          },
          "metadata": {}
        },
        {
          "output_type": "display_data",
          "data": {
            "text/plain": [
              "Requirement already satisfied: yarl<2.0,>=1.12.0 in /usr/local/lib/python3.10/dist-packages (from aiohttp->datasets) (1.17.0)\n"
            ],
            "text/html": [
              "<pre style=\"white-space:pre;overflow-x:auto;line-height:normal;font-family:Menlo,'DejaVu Sans Mono',consolas,'Courier New',monospace\">Requirement already satisfied: yarl&lt;2.0,&gt;=1.12.0 in /usr/local/lib/python3.10/dist-packages (from aiohttp-&gt;datasets) (1.17.0)\n",
              "</pre>\n"
            ]
          },
          "metadata": {}
        },
        {
          "output_type": "display_data",
          "data": {
            "text/plain": [
              "Requirement already satisfied: async-timeout<5.0,>=4.0 in /usr/local/lib/python3.10/dist-packages (from aiohttp->datasets) (4.0.3)\n"
            ],
            "text/html": [
              "<pre style=\"white-space:pre;overflow-x:auto;line-height:normal;font-family:Menlo,'DejaVu Sans Mono',consolas,'Courier New',monospace\">Requirement already satisfied: async-timeout&lt;5.0,&gt;=4.0 in /usr/local/lib/python3.10/dist-packages (from aiohttp-&gt;datasets) (4.0.3)\n",
              "</pre>\n"
            ]
          },
          "metadata": {}
        },
        {
          "output_type": "display_data",
          "data": {
            "text/plain": [
              "Requirement already satisfied: typing-extensions>=3.7.4.3 in /usr/local/lib/python3.10/dist-packages (from huggingface-hub>=0.23.0->datasets) (4.12.2)\n"
            ],
            "text/html": [
              "<pre style=\"white-space:pre;overflow-x:auto;line-height:normal;font-family:Menlo,'DejaVu Sans Mono',consolas,'Courier New',monospace\">Requirement already satisfied: typing-extensions&gt;=3.7.4.3 in /usr/local/lib/python3.10/dist-packages (from huggingface-hub&gt;=0.23.0-&gt;datasets) (4.12.2)\n",
              "</pre>\n"
            ]
          },
          "metadata": {}
        },
        {
          "output_type": "display_data",
          "data": {
            "text/plain": [
              "Requirement already satisfied: charset-normalizer<4,>=2 in /usr/local/lib/python3.10/dist-packages (from requests>=2.32.2->datasets) (3.4.0)\n"
            ],
            "text/html": [
              "<pre style=\"white-space:pre;overflow-x:auto;line-height:normal;font-family:Menlo,'DejaVu Sans Mono',consolas,'Courier New',monospace\">Requirement already satisfied: charset-normalizer&lt;4,&gt;=2 in /usr/local/lib/python3.10/dist-packages (from requests&gt;=2.32.2-&gt;datasets) (3.4.0)\n",
              "</pre>\n"
            ]
          },
          "metadata": {}
        },
        {
          "output_type": "display_data",
          "data": {
            "text/plain": [
              "Requirement already satisfied: idna<4,>=2.5 in /usr/local/lib/python3.10/dist-packages (from requests>=2.32.2->datasets) (3.10)\n"
            ],
            "text/html": [
              "<pre style=\"white-space:pre;overflow-x:auto;line-height:normal;font-family:Menlo,'DejaVu Sans Mono',consolas,'Courier New',monospace\">Requirement already satisfied: idna&lt;4,&gt;=2.5 in /usr/local/lib/python3.10/dist-packages (from requests&gt;=2.32.2-&gt;datasets) (3.10)\n",
              "</pre>\n"
            ]
          },
          "metadata": {}
        },
        {
          "output_type": "display_data",
          "data": {
            "text/plain": [
              "Requirement already satisfied: urllib3<3,>=1.21.1 in /usr/local/lib/python3.10/dist-packages (from requests>=2.32.2->datasets) (2.2.3)\n"
            ],
            "text/html": [
              "<pre style=\"white-space:pre;overflow-x:auto;line-height:normal;font-family:Menlo,'DejaVu Sans Mono',consolas,'Courier New',monospace\">Requirement already satisfied: urllib3&lt;3,&gt;=1.21.1 in /usr/local/lib/python3.10/dist-packages (from requests&gt;=2.32.2-&gt;datasets) (2.2.3)\n",
              "</pre>\n"
            ]
          },
          "metadata": {}
        },
        {
          "output_type": "display_data",
          "data": {
            "text/plain": [
              "Requirement already satisfied: certifi>=2017.4.17 in /usr/local/lib/python3.10/dist-packages (from requests>=2.32.2->datasets) (2024.8.30)\n"
            ],
            "text/html": [
              "<pre style=\"white-space:pre;overflow-x:auto;line-height:normal;font-family:Menlo,'DejaVu Sans Mono',consolas,'Courier New',monospace\">Requirement already satisfied: certifi&gt;=2017.4.17 in /usr/local/lib/python3.10/dist-packages (from requests&gt;=2.32.2-&gt;datasets) (2024.8.30)\n",
              "</pre>\n"
            ]
          },
          "metadata": {}
        },
        {
          "output_type": "display_data",
          "data": {
            "text/plain": [
              "Requirement already satisfied: python-dateutil>=2.8.2 in /usr/local/lib/python3.10/dist-packages (from pandas->datasets) (2.8.2)\n"
            ],
            "text/html": [
              "<pre style=\"white-space:pre;overflow-x:auto;line-height:normal;font-family:Menlo,'DejaVu Sans Mono',consolas,'Courier New',monospace\">Requirement already satisfied: python-dateutil&gt;=2.8.2 in /usr/local/lib/python3.10/dist-packages (from pandas-&gt;datasets) (2.8.2)\n",
              "</pre>\n"
            ]
          },
          "metadata": {}
        },
        {
          "output_type": "display_data",
          "data": {
            "text/plain": [
              "Requirement already satisfied: pytz>=2020.1 in /usr/local/lib/python3.10/dist-packages (from pandas->datasets) (2024.2)\n"
            ],
            "text/html": [
              "<pre style=\"white-space:pre;overflow-x:auto;line-height:normal;font-family:Menlo,'DejaVu Sans Mono',consolas,'Courier New',monospace\">Requirement already satisfied: pytz&gt;=2020.1 in /usr/local/lib/python3.10/dist-packages (from pandas-&gt;datasets) (2024.2)\n",
              "</pre>\n"
            ]
          },
          "metadata": {}
        },
        {
          "output_type": "display_data",
          "data": {
            "text/plain": [
              "Requirement already satisfied: tzdata>=2022.7 in /usr/local/lib/python3.10/dist-packages (from pandas->datasets) (2024.2)\n"
            ],
            "text/html": [
              "<pre style=\"white-space:pre;overflow-x:auto;line-height:normal;font-family:Menlo,'DejaVu Sans Mono',consolas,'Courier New',monospace\">Requirement already satisfied: tzdata&gt;=2022.7 in /usr/local/lib/python3.10/dist-packages (from pandas-&gt;datasets) (2024.2)\n",
              "</pre>\n"
            ]
          },
          "metadata": {}
        },
        {
          "output_type": "display_data",
          "data": {
            "text/plain": [
              "Requirement already satisfied: six>=1.5 in /usr/local/lib/python3.10/dist-packages (from python-dateutil>=2.8.2->pandas->datasets) (1.16.0)\n"
            ],
            "text/html": [
              "<pre style=\"white-space:pre;overflow-x:auto;line-height:normal;font-family:Menlo,'DejaVu Sans Mono',consolas,'Courier New',monospace\">Requirement already satisfied: six&gt;=1.5 in /usr/local/lib/python3.10/dist-packages (from python-dateutil&gt;=2.8.2-&gt;pandas-&gt;datasets) (1.16.0)\n",
              "</pre>\n"
            ]
          },
          "metadata": {}
        },
        {
          "output_type": "display_data",
          "data": {
            "text/plain": [
              "Requirement already satisfied: propcache>=0.2.0 in /usr/local/lib/python3.10/dist-packages (from yarl<2.0,>=1.12.0->aiohttp->datasets) (0.2.0)\n"
            ],
            "text/html": [
              "<pre style=\"white-space:pre;overflow-x:auto;line-height:normal;font-family:Menlo,'DejaVu Sans Mono',consolas,'Courier New',monospace\">Requirement already satisfied: propcache&gt;=0.2.0 in /usr/local/lib/python3.10/dist-packages (from yarl&lt;2.0,&gt;=1.12.0-&gt;aiohttp-&gt;datasets) (0.2.0)\n",
              "</pre>\n"
            ]
          },
          "metadata": {}
        },
        {
          "output_type": "display_data",
          "data": {
            "text/plain": [
              "Downloading argparse-1.4.0-py2.py3-none-any.whl (23 kB)\n"
            ],
            "text/html": [
              "<pre style=\"white-space:pre;overflow-x:auto;line-height:normal;font-family:Menlo,'DejaVu Sans Mono',consolas,'Courier New',monospace\">Downloading argparse-1.4.0-py2.py3-none-any.whl (23 kB)\n",
              "</pre>\n"
            ]
          },
          "metadata": {}
        },
        {
          "output_type": "display_data",
          "data": {
            "text/plain": [
              "Downloading datasets-3.1.0-py3-none-any.whl (480 kB)\n"
            ],
            "text/html": [
              "<pre style=\"white-space:pre;overflow-x:auto;line-height:normal;font-family:Menlo,'DejaVu Sans Mono',consolas,'Courier New',monospace\">Downloading datasets-3.1.0-py3-none-any.whl (480 kB)\n",
              "</pre>\n"
            ]
          },
          "metadata": {}
        },
        {
          "output_type": "display_data",
          "data": {
            "text/plain": [
              "Output()"
            ],
            "application/vnd.jupyter.widget-view+json": {
              "version_major": 2,
              "version_minor": 0,
              "model_id": "41ef45496ede45a186063ec5248d3889"
            }
          },
          "metadata": {}
        },
        {
          "output_type": "display_data",
          "data": {
            "text/plain": [],
            "text/html": [
              "<pre style=\"white-space:pre;overflow-x:auto;line-height:normal;font-family:Menlo,'DejaVu Sans Mono',consolas,'Courier New',monospace\"></pre>\n"
            ]
          },
          "metadata": {}
        },
        {
          "output_type": "display_data",
          "data": {
            "text/plain": [
              "\n"
            ],
            "text/html": [
              "<pre style=\"white-space:pre;overflow-x:auto;line-height:normal;font-family:Menlo,'DejaVu Sans Mono',consolas,'Courier New',monospace\">\n",
              "</pre>\n"
            ]
          },
          "metadata": {}
        },
        {
          "output_type": "display_data",
          "data": {
            "text/plain": [
              "Downloading dill-0.3.8-py3-none-any.whl (116 kB)\n"
            ],
            "text/html": [
              "<pre style=\"white-space:pre;overflow-x:auto;line-height:normal;font-family:Menlo,'DejaVu Sans Mono',consolas,'Courier New',monospace\">Downloading dill-0.3.8-py3-none-any.whl (116 kB)\n",
              "</pre>\n"
            ]
          },
          "metadata": {}
        },
        {
          "output_type": "display_data",
          "data": {
            "text/plain": [
              "Output()"
            ],
            "application/vnd.jupyter.widget-view+json": {
              "version_major": 2,
              "version_minor": 0,
              "model_id": "7894ecbc39a24b3ab64ee568df3d1645"
            }
          },
          "metadata": {}
        },
        {
          "output_type": "display_data",
          "data": {
            "text/plain": [],
            "text/html": [
              "<pre style=\"white-space:pre;overflow-x:auto;line-height:normal;font-family:Menlo,'DejaVu Sans Mono',consolas,'Courier New',monospace\"></pre>\n"
            ]
          },
          "metadata": {}
        },
        {
          "output_type": "display_data",
          "data": {
            "text/plain": [
              "\n"
            ],
            "text/html": [
              "<pre style=\"white-space:pre;overflow-x:auto;line-height:normal;font-family:Menlo,'DejaVu Sans Mono',consolas,'Courier New',monospace\">\n",
              "</pre>\n"
            ]
          },
          "metadata": {}
        },
        {
          "output_type": "display_data",
          "data": {
            "text/plain": [
              "Downloading fsspec-2024.9.0-py3-none-any.whl (179 kB)\n"
            ],
            "text/html": [
              "<pre style=\"white-space:pre;overflow-x:auto;line-height:normal;font-family:Menlo,'DejaVu Sans Mono',consolas,'Courier New',monospace\">Downloading fsspec-2024.9.0-py3-none-any.whl (179 kB)\n",
              "</pre>\n"
            ]
          },
          "metadata": {}
        },
        {
          "output_type": "display_data",
          "data": {
            "text/plain": [
              "Output()"
            ],
            "application/vnd.jupyter.widget-view+json": {
              "version_major": 2,
              "version_minor": 0,
              "model_id": "def5d031a5f84f7d8444b309753c5ae6"
            }
          },
          "metadata": {}
        },
        {
          "output_type": "display_data",
          "data": {
            "text/plain": [],
            "text/html": [
              "<pre style=\"white-space:pre;overflow-x:auto;line-height:normal;font-family:Menlo,'DejaVu Sans Mono',consolas,'Courier New',monospace\"></pre>\n"
            ]
          },
          "metadata": {}
        },
        {
          "output_type": "display_data",
          "data": {
            "text/plain": [
              "\n"
            ],
            "text/html": [
              "<pre style=\"white-space:pre;overflow-x:auto;line-height:normal;font-family:Menlo,'DejaVu Sans Mono',consolas,'Courier New',monospace\">\n",
              "</pre>\n"
            ]
          },
          "metadata": {}
        },
        {
          "output_type": "display_data",
          "data": {
            "text/plain": [
              "Downloading multiprocess-0.70.16-py310-none-any.whl (134 kB)\n"
            ],
            "text/html": [
              "<pre style=\"white-space:pre;overflow-x:auto;line-height:normal;font-family:Menlo,'DejaVu Sans Mono',consolas,'Courier New',monospace\">Downloading multiprocess-0.70.16-py310-none-any.whl (134 kB)\n",
              "</pre>\n"
            ]
          },
          "metadata": {}
        },
        {
          "output_type": "display_data",
          "data": {
            "text/plain": [
              "Output()"
            ],
            "application/vnd.jupyter.widget-view+json": {
              "version_major": 2,
              "version_minor": 0,
              "model_id": "9f1ffb0db1da4c92a8bfd2d11bb7af91"
            }
          },
          "metadata": {}
        },
        {
          "output_type": "display_data",
          "data": {
            "text/plain": [],
            "text/html": [
              "<pre style=\"white-space:pre;overflow-x:auto;line-height:normal;font-family:Menlo,'DejaVu Sans Mono',consolas,'Courier New',monospace\"></pre>\n"
            ]
          },
          "metadata": {}
        },
        {
          "output_type": "display_data",
          "data": {
            "text/plain": [
              "\n"
            ],
            "text/html": [
              "<pre style=\"white-space:pre;overflow-x:auto;line-height:normal;font-family:Menlo,'DejaVu Sans Mono',consolas,'Courier New',monospace\">\n",
              "</pre>\n"
            ]
          },
          "metadata": {}
        },
        {
          "output_type": "display_data",
          "data": {
            "text/plain": [
              "Downloading xxhash-3.5.0-cp310-cp310-manylinux_2_17_x86_64.manylinux2014_x86_64.whl (194 kB)\n"
            ],
            "text/html": [
              "<pre style=\"white-space:pre;overflow-x:auto;line-height:normal;font-family:Menlo,'DejaVu Sans Mono',consolas,'Courier New',monospace\">Downloading xxhash-3.5.0-cp310-cp310-manylinux_2_17_x86_64.manylinux2014_x86_64.whl (194 kB)\n",
              "</pre>\n"
            ]
          },
          "metadata": {}
        },
        {
          "output_type": "display_data",
          "data": {
            "text/plain": [
              "Output()"
            ],
            "application/vnd.jupyter.widget-view+json": {
              "version_major": 2,
              "version_minor": 0,
              "model_id": "b72793b0b560429f82865a08165c1cda"
            }
          },
          "metadata": {}
        },
        {
          "output_type": "display_data",
          "data": {
            "text/plain": [],
            "text/html": [
              "<pre style=\"white-space:pre;overflow-x:auto;line-height:normal;font-family:Menlo,'DejaVu Sans Mono',consolas,'Courier New',monospace\"></pre>\n"
            ]
          },
          "metadata": {}
        },
        {
          "output_type": "display_data",
          "data": {
            "text/plain": [
              "\n"
            ],
            "text/html": [
              "<pre style=\"white-space:pre;overflow-x:auto;line-height:normal;font-family:Menlo,'DejaVu Sans Mono',consolas,'Courier New',monospace\">\n",
              "</pre>\n"
            ]
          },
          "metadata": {}
        },
        {
          "output_type": "display_data",
          "data": {
            "text/plain": [
              "Installing collected packages: argparse, xxhash, fsspec, dill, multiprocess, datasets\n"
            ],
            "text/html": [
              "<pre style=\"white-space:pre;overflow-x:auto;line-height:normal;font-family:Menlo,'DejaVu Sans Mono',consolas,'Courier New',monospace\">Installing collected packages: argparse, xxhash, fsspec, dill, multiprocess, datasets\n",
              "</pre>\n"
            ]
          },
          "metadata": {}
        },
        {
          "output_type": "display_data",
          "data": {
            "text/plain": [
              "  Attempting uninstall: fsspec\n"
            ],
            "text/html": [
              "<pre style=\"white-space:pre;overflow-x:auto;line-height:normal;font-family:Menlo,'DejaVu Sans Mono',consolas,'Courier New',monospace\">  Attempting uninstall: fsspec\n",
              "</pre>\n"
            ]
          },
          "metadata": {}
        },
        {
          "output_type": "display_data",
          "data": {
            "text/plain": [
              "    Found existing installation: fsspec 2024.10.0\n"
            ],
            "text/html": [
              "<pre style=\"white-space:pre;overflow-x:auto;line-height:normal;font-family:Menlo,'DejaVu Sans Mono',consolas,'Courier New',monospace\">    Found existing installation: fsspec 2024.10.0\n",
              "</pre>\n"
            ]
          },
          "metadata": {}
        },
        {
          "output_type": "display_data",
          "data": {
            "text/plain": [
              "    Uninstalling fsspec-2024.10.0:\n"
            ],
            "text/html": [
              "<pre style=\"white-space:pre;overflow-x:auto;line-height:normal;font-family:Menlo,'DejaVu Sans Mono',consolas,'Courier New',monospace\">    Uninstalling fsspec-2024.10.0:\n",
              "</pre>\n"
            ]
          },
          "metadata": {}
        },
        {
          "output_type": "display_data",
          "data": {
            "text/plain": [
              "      Successfully uninstalled fsspec-2024.10.0\n"
            ],
            "text/html": [
              "<pre style=\"white-space:pre;overflow-x:auto;line-height:normal;font-family:Menlo,'DejaVu Sans Mono',consolas,'Courier New',monospace\">      Successfully uninstalled fsspec-2024.10.0\n",
              "</pre>\n"
            ]
          },
          "metadata": {}
        },
        {
          "output_type": "display_data",
          "data": {
            "text/plain": [
              "\u001b[31mERROR: pip's dependency resolver does not currently take into account all the packages that are installed. This behaviour is the source of the following dependency conflicts.\n",
              "gcsfs 2024.10.0 requires fsspec==2024.10.0, but you have fsspec 2024.9.0 which is incompatible.\u001b[0m\u001b[31m\n",
              "\u001b[0m"
            ],
            "text/html": [
              "<pre style=\"white-space:pre;overflow-x:auto;line-height:normal;font-family:Menlo,'DejaVu Sans Mono',consolas,'Courier New',monospace\"><span style=\"color: #800000; text-decoration-color: #800000\">ERROR: pip's dependency resolver does not currently take into account all the packages that are installed. This behaviour is the source of the following dependency conflicts.\n",
              "gcsfs 2024.10.0 requires fsspec==2024.10.0, but you have fsspec 2024.9.0 which is incompatible.\n",
              "</span></pre>\n"
            ]
          },
          "metadata": {}
        },
        {
          "output_type": "display_data",
          "data": {
            "text/plain": [
              "Successfully installed argparse-1.4.0 datasets-3.1.0 dill-0.3.8 fsspec-2024.9.0 multiprocess-0.70.16 xxhash-3.5.0\n"
            ],
            "text/html": [
              "<pre style=\"white-space:pre;overflow-x:auto;line-height:normal;font-family:Menlo,'DejaVu Sans Mono',consolas,'Courier New',monospace\">Successfully installed argparse-1.4.0 datasets-3.1.0 dill-0.3.8 fsspec-2024.9.0 multiprocess-0.70.16 xxhash-3.5.0\n",
              "</pre>\n"
            ]
          },
          "metadata": {}
        },
        {
          "output_type": "stream",
          "name": "stdout",
          "text": [
            "Collecting focal_loss_torch\n",
            "  Downloading focal_loss_torch-0.1.2-py3-none-any.whl.metadata (2.2 kB)\n",
            "Requirement already satisfied: torch in /usr/local/lib/python3.10/dist-packages (from focal_loss_torch) (2.5.0+cu121)\n",
            "Requirement already satisfied: numpy in /usr/local/lib/python3.10/dist-packages (from focal_loss_torch) (1.26.4)\n",
            "Requirement already satisfied: filelock in /usr/local/lib/python3.10/dist-packages (from torch->focal_loss_torch) (3.16.1)\n",
            "Requirement already satisfied: typing-extensions>=4.8.0 in /usr/local/lib/python3.10/dist-packages (from torch->focal_loss_torch) (4.12.2)\n",
            "Requirement already satisfied: networkx in /usr/local/lib/python3.10/dist-packages (from torch->focal_loss_torch) (3.4.2)\n",
            "Requirement already satisfied: jinja2 in /usr/local/lib/python3.10/dist-packages (from torch->focal_loss_torch) (3.1.4)\n",
            "Requirement already satisfied: fsspec in /usr/local/lib/python3.10/dist-packages (from torch->focal_loss_torch) (2024.9.0)\n",
            "Requirement already satisfied: sympy==1.13.1 in /usr/local/lib/python3.10/dist-packages (from torch->focal_loss_torch) (1.13.1)\n",
            "Requirement already satisfied: mpmath<1.4,>=1.1.0 in /usr/local/lib/python3.10/dist-packages (from sympy==1.13.1->torch->focal_loss_torch) (1.3.0)\n",
            "Requirement already satisfied: MarkupSafe>=2.0 in /usr/local/lib/python3.10/dist-packages (from jinja2->torch->focal_loss_torch) (3.0.2)\n",
            "Downloading focal_loss_torch-0.1.2-py3-none-any.whl (4.5 kB)\n",
            "Installing collected packages: focal_loss_torch\n",
            "Successfully installed focal_loss_torch-0.1.2\n"
          ]
        }
      ],
      "source": [
        "import pip\n",
        "pip.main(['install', 'argparse', 'datasets'])\n",
        "!pip install focal_loss_torch"
      ]
    },
    {
      "cell_type": "code",
      "execution_count": null,
      "metadata": {
        "colab": {
          "base_uri": "https://localhost:8080/"
        },
        "id": "gHct5jeJbivc",
        "outputId": "ec96d8cc-63cb-4891-f24b-fdd3192f961d"
      },
      "outputs": [
        {
          "output_type": "stream",
          "name": "stdout",
          "text": [
            "\n",
            "UNRAR 6.11 beta 1 freeware      Copyright (c) 1993-2022 Alexander Roshal\n",
            "\n",
            "\n",
            "Extracting from data.rar\n",
            "\n",
            "Creating    resources                                                 OK\n",
            "Creating    resources/data                                            OK\n",
            "Creating    resources/data/test                                       OK\n",
            "Extracting  resources/data/test/file0.ann                                \b\b\b\b  0%\b\b\b\b\b  OK \n",
            "Extracting  resources/data/test/file0.txt                                \b\b\b\b  0%\b\b\b\b\b  OK \n",
            "Extracting  resources/data/test/file10.ann                               \b\b\b\b  0%\b\b\b\b\b  OK \n",
            "Extracting  resources/data/test/file10.txt                               \b\b\b\b  1%\b\b\b\b\b  OK \n",
            "Extracting  resources/data/test/file103.ann                              \b\b\b\b  1%\b\b\b\b\b  OK \n",
            "Extracting  resources/data/test/file103.txt                              \b\b\b\b  1%\b\b\b\b\b  OK \n",
            "Extracting  resources/data/test/file105.ann                              \b\b\b\b  2%\b\b\b\b\b  OK \n",
            "Extracting  resources/data/test/file105.txt                              \b\b\b\b  2%\b\b\b\b\b  OK \n",
            "Extracting  resources/data/test/file109.ann                              \b\b\b\b  3%\b\b\b\b\b  OK \n",
            "Extracting  resources/data/test/file109.txt                              \b\b\b\b  3%\b\b\b\b\b  OK \n",
            "Extracting  resources/data/test/file11.ann                               \b\b\b\b  3%\b\b\b\b\b  OK \n",
            "Extracting  resources/data/test/file11.txt                               \b\b\b\b  4%\b\b\b\b\b  OK \n",
            "Extracting  resources/data/test/file114.ann                              \b\b\b\b  4%\b\b\b\b\b  OK \n",
            "Extracting  resources/data/test/file114.txt                              \b\b\b\b  4%\b\b\b\b\b  OK \n",
            "Extracting  resources/data/test/file13.ann                               \b\b\b\b  5%\b\b\b\b\b  OK \n",
            "Extracting  resources/data/test/file13.txt                               \b\b\b\b  5%\b\b\b\b\b  OK \n",
            "Extracting  resources/data/test/file131.ann                              \b\b\b\b  5%\b\b\b\b\b  OK \n",
            "Extracting  resources/data/test/file131.txt                              \b\b\b\b  6%\b\b\b\b\b  OK \n",
            "Extracting  resources/data/test/file139.ann                              \b\b\b\b  6%\b\b\b\b\b  OK \n",
            "Extracting  resources/data/test/file139.txt                              \b\b\b\b  6%\b\b\b\b\b  OK \n",
            "Extracting  resources/data/test/file17.ann                               \b\b\b\b  7%\b\b\b\b\b  OK \n",
            "Extracting  resources/data/test/file17.txt                               \b\b\b\b  7%\b\b\b\b\b  OK \n",
            "Extracting  resources/data/test/file19.ann                               \b\b\b\b  7%\b\b\b\b\b  OK \n",
            "Extracting  resources/data/test/file19.txt                               \b\b\b\b  7%\b\b\b\b\b  OK \n",
            "Extracting  resources/data/test/file20.ann                               \b\b\b\b  8%\b\b\b\b\b  OK \n",
            "Extracting  resources/data/test/file20.txt                               \b\b\b\b  8%\b\b\b\b\b  OK \n",
            "Extracting  resources/data/test/file3.ann                                \b\b\b\b  8%\b\b\b\b\b  OK \n",
            "Extracting  resources/data/test/file3.txt                                \b\b\b\b  9%\b\b\b\b\b  OK \n",
            "Extracting  resources/data/test/file33.ann                               \b\b\b\b  9%\b\b\b\b\b  OK \n",
            "Extracting  resources/data/test/file33.txt                               \b\b\b\b  9%\b\b\b\b\b  OK \n",
            "Extracting  resources/data/test/file36.ann                               \b\b\b\b  9%\b\b\b\b\b  OK \n",
            "Extracting  resources/data/test/file36.txt                               \b\b\b\b  9%\b\b\b\b\b  OK \n",
            "Extracting  resources/data/test/file37.ann                               \b\b\b\b 10%\b\b\b\b\b  OK \n",
            "Extracting  resources/data/test/file37.txt                               \b\b\b\b 10%\b\b\b\b\b  OK \n",
            "Extracting  resources/data/test/file38.ann                               \b\b\b\b 10%\b\b\b\b\b  OK \n",
            "Extracting  resources/data/test/file38.txt                               \b\b\b\b 11%\b\b\b\b\b  OK \n",
            "Extracting  resources/data/test/file50.ann                               \b\b\b\b 11%\b\b\b\b\b  OK \n",
            "Extracting  resources/data/test/file50.txt                               \b\b\b\b 11%\b\b\b\b\b  OK \n",
            "Extracting  resources/data/test/file52.ann                               \b\b\b\b 11%\b\b\b\b\b  OK \n",
            "Extracting  resources/data/test/file52.txt                               \b\b\b\b 12%\b\b\b\b\b  OK \n",
            "Extracting  resources/data/test/file54.ann                               \b\b\b\b 12%\b\b\b\b\b  OK \n",
            "Extracting  resources/data/test/file54.txt                               \b\b\b\b 12%\b\b\b\b\b  OK \n",
            "Extracting  resources/data/test/file58.ann                               \b\b\b\b 12%\b\b\b\b\b  OK \n",
            "Extracting  resources/data/test/file58.txt                               \b\b\b\b 13%\b\b\b\b\b  OK \n",
            "Extracting  resources/data/test/file62.ann                               \b\b\b\b 13%\b\b\b\b\b  OK \n",
            "Extracting  resources/data/test/file62.txt                               \b\b\b\b 13%\b\b\b\b\b  OK \n",
            "Extracting  resources/data/test/file63.ann                               \b\b\b\b 14%\b\b\b\b\b  OK \n",
            "Extracting  resources/data/test/file63.txt                               \b\b\b\b 14%\b\b\b\b\b  OK \n",
            "Extracting  resources/data/test/file66.ann                               \b\b\b\b 15%\b\b\b\b\b  OK \n",
            "Extracting  resources/data/test/file66.txt                               \b\b\b\b 15%\b\b\b\b\b  OK \n",
            "Extracting  resources/data/test/file74.ann                               \b\b\b\b 15%\b\b\b\b\b  OK \n",
            "Extracting  resources/data/test/file74.txt                               \b\b\b\b 15%\b\b\b\b\b  OK \n",
            "Extracting  resources/data/test/file81.ann                               \b\b\b\b 16%\b\b\b\b\b  OK \n",
            "Extracting  resources/data/test/file81.txt                               \b\b\b\b 16%\b\b\b\b\b  OK \n",
            "Extracting  resources/data/test/file91.ann                               \b\b\b\b 17%\b\b\b\b\b  OK \n",
            "Extracting  resources/data/test/file91.txt                               \b\b\b\b 17%\b\b\b\b\b  OK \n",
            "Extracting  resources/data/test/file94.ann                               \b\b\b\b 17%\b\b\b\b\b  OK \n",
            "Extracting  resources/data/test/file94.txt                               \b\b\b\b 18%\b\b\b\b\b  OK \n",
            "Extracting  resources/data/test/file97.ann                               \b\b\b\b 18%\b\b\b\b\b  OK \n",
            "Extracting  resources/data/test/file97.txt                               \b\b\b\b 19%\b\b\b\b\b  OK \n",
            "Creating    resources/data/train                                      OK\n",
            "Extracting  resources/data/train/file1.ann                               \b\b\b\b 19%\b\b\b\b\b  OK \n",
            "Extracting  resources/data/train/file1.txt                               \b\b\b\b 20%\b\b\b\b\b  OK \n",
            "Extracting  resources/data/train/file100.ann                             \b\b\b\b 20%\b\b\b\b\b  OK \n",
            "Extracting  resources/data/train/file100.txt                             \b\b\b\b 21%\b\b\b\b\b  OK \n",
            "Extracting  resources/data/train/file101.ann                             \b\b\b\b 21%\b\b\b\b\b  OK \n",
            "Extracting  resources/data/train/file101.txt                             \b\b\b\b 21%\b\b\b\b\b  OK \n",
            "Extracting  resources/data/train/file102.ann                             \b\b\b\b 22%\b\b\b\b\b  OK \n",
            "Extracting  resources/data/train/file102.txt                             \b\b\b\b 22%\b\b\b\b\b  OK \n",
            "Extracting  resources/data/train/file104.ann                             \b\b\b\b 23%\b\b\b\b\b  OK \n",
            "Extracting  resources/data/train/file104.txt                             \b\b\b\b 23%\b\b\b\b\b  OK \n",
            "Extracting  resources/data/train/file106.ann                             \b\b\b\b 23%\b\b\b\b\b  OK \n",
            "Extracting  resources/data/train/file106.txt                             \b\b\b\b 24%\b\b\b\b\b  OK \n",
            "Extracting  resources/data/train/file107.ann                             \b\b\b\b 24%\b\b\b\b\b  OK \n",
            "Extracting  resources/data/train/file107.txt                             \b\b\b\b 25%\b\b\b\b\b  OK \n",
            "Extracting  resources/data/train/file108.ann                             \b\b\b\b 25%\b\b\b\b\b  OK \n",
            "Extracting  resources/data/train/file108.txt                             \b\b\b\b 26%\b\b\b\b\b  OK \n",
            "Extracting  resources/data/train/file110.ann                             \b\b\b\b 26%\b\b\b\b\b  OK \n",
            "Extracting  resources/data/train/file110.txt                             \b\b\b\b 26%\b\b\b\b\b  OK \n",
            "Extracting  resources/data/train/file111.ann                             \b\b\b\b 27%\b\b\b\b\b  OK \n",
            "Extracting  resources/data/train/file111.txt                             \b\b\b\b 27%\b\b\b\b\b  OK \n",
            "Extracting  resources/data/train/file112.ann                             \b\b\b\b 28%\b\b\b\b\b  OK \n",
            "Extracting  resources/data/train/file112.txt                             \b\b\b\b 28%\b\b\b\b\b  OK \n",
            "Extracting  resources/data/train/file113.ann                             \b\b\b\b 29%\b\b\b\b\b  OK \n",
            "Extracting  resources/data/train/file113.txt                             \b\b\b\b 29%\b\b\b\b\b  OK \n",
            "Extracting  resources/data/train/file115.ann                             \b\b\b\b 29%\b\b\b\b\b  OK \n",
            "Extracting  resources/data/train/file115.txt                             \b\b\b\b 30%\b\b\b\b\b  OK \n",
            "Extracting  resources/data/train/file116.ann                             \b\b\b\b 30%\b\b\b\b\b  OK \n",
            "Extracting  resources/data/train/file116.txt                             \b\b\b\b 31%\b\b\b\b\b  OK \n",
            "Extracting  resources/data/train/file117.ann                             \b\b\b\b 31%\b\b\b\b\b  OK \n",
            "Extracting  resources/data/train/file117.txt                             \b\b\b\b 32%\b\b\b\b\b  OK \n",
            "Extracting  resources/data/train/file118.ann                             \b\b\b\b 32%\b\b\b\b\b  OK \n",
            "Extracting  resources/data/train/file118.txt                             \b\b\b\b 32%\b\b\b\b\b  OK \n",
            "Extracting  resources/data/train/file119.ann                             \b\b\b\b 33%\b\b\b\b\b  OK \n",
            "Extracting  resources/data/train/file119.txt                             \b\b\b\b 33%\b\b\b\b\b  OK \n",
            "Extracting  resources/data/train/file12.ann                              \b\b\b\b 33%\b\b\b\b\b  OK \n",
            "Extracting  resources/data/train/file12.txt                              \b\b\b\b 34%\b\b\b\b\b  OK \n",
            "Extracting  resources/data/train/file120.ann                             \b\b\b\b 34%\b\b\b\b\b  OK \n",
            "Extracting  resources/data/train/file120.txt                             \b\b\b\b 35%\b\b\b\b\b  OK \n",
            "Extracting  resources/data/train/file121.ann                             \b\b\b\b 35%\b\b\b\b\b  OK \n",
            "Extracting  resources/data/train/file121.txt                             \b\b\b\b 35%\b\b\b\b\b  OK \n",
            "Extracting  resources/data/train/file122.ann                             \b\b\b\b 36%\b\b\b\b\b  OK \n",
            "Extracting  resources/data/train/file122.txt                             \b\b\b\b 36%\b\b\b\b\b  OK \n",
            "Extracting  resources/data/train/file123.ann                             \b\b\b\b 37%\b\b\b\b\b  OK \n",
            "Extracting  resources/data/train/file123.txt                             \b\b\b\b 37%\b\b\b\b\b  OK \n",
            "Extracting  resources/data/train/file124.ann                             \b\b\b\b 37%\b\b\b\b\b  OK \n",
            "Extracting  resources/data/train/file124.txt                             \b\b\b\b 38%\b\b\b\b\b  OK \n",
            "Extracting  resources/data/train/file125.ann                             \b\b\b\b 38%\b\b\b\b\b  OK \n",
            "Extracting  resources/data/train/file125.txt                             \b\b\b\b 39%\b\b\b\b\b  OK \n",
            "Extracting  resources/data/train/file126.ann                             \b\b\b\b 39%\b\b\b\b\b  OK \n",
            "Extracting  resources/data/train/file126.txt                             \b\b\b\b 40%\b\b\b\b\b  OK \n",
            "Extracting  resources/data/train/file127.ann                             \b\b\b\b 40%\b\b\b\b\b  OK \n",
            "Extracting  resources/data/train/file127.txt                             \b\b\b\b 40%\b\b\b\b\b  OK \n",
            "Extracting  resources/data/train/file128.ann                             \b\b\b\b 41%\b\b\b\b\b  OK \n",
            "Extracting  resources/data/train/file128.txt                             \b\b\b\b 41%\b\b\b\b\b  OK \n",
            "Extracting  resources/data/train/file129.ann                             \b\b\b\b 42%\b\b\b\b\b  OK \n",
            "Extracting  resources/data/train/file129.txt                             \b\b\b\b 42%\b\b\b\b\b  OK \n",
            "Extracting  resources/data/train/file130.ann                             \b\b\b\b 43%\b\b\b\b\b  OK \n",
            "Extracting  resources/data/train/file130.txt                             \b\b\b\b 43%\b\b\b\b\b  OK \n",
            "Extracting  resources/data/train/file132.ann                             \b\b\b\b 43%\b\b\b\b\b  OK \n",
            "Extracting  resources/data/train/file132.txt                             \b\b\b\b 44%\b\b\b\b\b  OK \n",
            "Extracting  resources/data/train/file133.ann                             \b\b\b\b 44%\b\b\b\b\b  OK \n",
            "Extracting  resources/data/train/file133.txt                             \b\b\b\b 45%\b\b\b\b\b  OK \n",
            "Extracting  resources/data/train/file134.ann                             \b\b\b\b 45%\b\b\b\b\b  OK \n",
            "Extracting  resources/data/train/file134.txt                             \b\b\b\b 46%\b\b\b\b\b  OK \n",
            "Extracting  resources/data/train/file135.ann                             \b\b\b\b 46%\b\b\b\b\b  OK \n",
            "Extracting  resources/data/train/file135.txt                             \b\b\b\b 46%\b\b\b\b\b  OK \n",
            "Extracting  resources/data/train/file136.ann                             \b\b\b\b 47%\b\b\b\b\b  OK \n",
            "Extracting  resources/data/train/file136.txt                             \b\b\b\b 47%\b\b\b\b\b  OK \n",
            "Extracting  resources/data/train/file137.ann                             \b\b\b\b 47%\b\b\b\b\b  OK \n",
            "Extracting  resources/data/train/file137.txt                             \b\b\b\b 48%\b\b\b\b\b  OK \n",
            "Extracting  resources/data/train/file138.ann                             \b\b\b\b 48%\b\b\b\b\b  OK \n",
            "Extracting  resources/data/train/file138.txt                             \b\b\b\b 48%\b\b\b\b\b  OK \n",
            "Extracting  resources/data/train/file14.ann                              \b\b\b\b 48%\b\b\b\b\b  OK \n",
            "Extracting  resources/data/train/file14.txt                              \b\b\b\b 48%\b\b\b\b\b  OK \n",
            "Extracting  resources/data/train/file140.ann                             \b\b\b\b 49%\b\b\b\b\b  OK \n",
            "Extracting  resources/data/train/file140.txt                             \b\b\b\b 49%\b\b\b\b\b  OK \n",
            "Extracting  resources/data/train/file141.ann                             \b\b\b\b 49%\b\b\b\b\b  OK \n",
            "Extracting  resources/data/train/file141.txt                             \b\b\b\b 50%\b\b\b\b\b  OK \n",
            "Extracting  resources/data/train/file142.ann                             \b\b\b\b 50%\b\b\b\b\b  OK \n",
            "Extracting  resources/data/train/file142.txt                             \b\b\b\b 50%\b\b\b\b\b  OK \n",
            "Extracting  resources/data/train/file143.ann                             \b\b\b\b 51%\b\b\b\b\b  OK \n",
            "Extracting  resources/data/train/file143.txt                             \b\b\b\b 51%\b\b\b\b\b  OK \n",
            "Extracting  resources/data/train/file144.ann                             \b\b\b\b 51%\b\b\b\b\b  OK \n",
            "Extracting  resources/data/train/file144.txt                             \b\b\b\b 52%\b\b\b\b\b  OK \n",
            "Extracting  resources/data/train/file145.ann                             \b\b\b\b 52%\b\b\b\b\b  OK \n",
            "Extracting  resources/data/train/file145.txt                             \b\b\b\b 52%\b\b\b\b\b  OK \n",
            "Extracting  resources/data/train/file146.ann                             \b\b\b\b 52%\b\b\b\b\b  OK \n",
            "Extracting  resources/data/train/file146.txt                             \b\b\b\b 53%\b\b\b\b\b  OK \n",
            "Extracting  resources/data/train/file147.ann                             \b\b\b\b 53%\b\b\b\b\b  OK \n",
            "Extracting  resources/data/train/file147.txt                             \b\b\b\b 53%\b\b\b\b\b  OK \n",
            "Extracting  resources/data/train/file148.ann                             \b\b\b\b 54%\b\b\b\b\b  OK \n",
            "Extracting  resources/data/train/file148.txt                             \b\b\b\b 54%\b\b\b\b\b  OK \n",
            "Extracting  resources/data/train/file149.ann                             \b\b\b\b 54%\b\b\b\b\b  OK \n",
            "Extracting  resources/data/train/file149.txt                             \b\b\b\b 54%\b\b\b\b\b  OK \n",
            "Extracting  resources/data/train/file15.ann                              \b\b\b\b 54%\b\b\b\b\b  OK \n",
            "Extracting  resources/data/train/file15.txt                              \b\b\b\b 55%\b\b\b\b\b  OK \n",
            "Extracting  resources/data/train/file16.ann                              \b\b\b\b 55%\b\b\b\b\b  OK \n",
            "Extracting  resources/data/train/file16.txt                              \b\b\b\b 55%\b\b\b\b\b  OK \n",
            "Extracting  resources/data/train/file18.ann                              \b\b\b\b 56%\b\b\b\b\b  OK \n",
            "Extracting  resources/data/train/file18.txt                              \b\b\b\b 56%\b\b\b\b\b  OK \n",
            "Extracting  resources/data/train/file2.ann                               \b\b\b\b 56%\b\b\b\b\b  OK \n",
            "Extracting  resources/data/train/file2.txt                               \b\b\b\b 57%\b\b\b\b\b  OK \n",
            "Extracting  resources/data/train/file21.ann                              \b\b\b\b 57%\b\b\b\b\b  OK \n",
            "Extracting  resources/data/train/file21.txt                              \b\b\b\b 57%\b\b\b\b\b  OK \n",
            "Extracting  resources/data/train/file22.ann                              \b\b\b\b 57%\b\b\b\b\b  OK \n",
            "Extracting  resources/data/train/file22.txt                              \b\b\b\b 58%\b\b\b\b\b  OK \n",
            "Extracting  resources/data/train/file23.ann                              \b\b\b\b 58%\b\b\b\b\b  OK \n",
            "Extracting  resources/data/train/file23.txt                              \b\b\b\b 58%\b\b\b\b\b  OK \n",
            "Extracting  resources/data/train/file24.ann                              \b\b\b\b 58%\b\b\b\b\b  OK \n",
            "Extracting  resources/data/train/file24.txt                              \b\b\b\b 59%\b\b\b\b\b  OK \n",
            "Extracting  resources/data/train/file25.ann                              \b\b\b\b 59%\b\b\b\b\b  OK \n",
            "Extracting  resources/data/train/file25.txt                              \b\b\b\b 59%\b\b\b\b\b  OK \n",
            "Extracting  resources/data/train/file26.ann                              \b\b\b\b 60%\b\b\b\b\b  OK \n",
            "Extracting  resources/data/train/file26.txt                              \b\b\b\b 60%\b\b\b\b\b  OK \n",
            "Extracting  resources/data/train/file27.ann                              \b\b\b\b 60%\b\b\b\b\b  OK \n",
            "Extracting  resources/data/train/file27.txt                              \b\b\b\b 60%\b\b\b\b\b  OK \n",
            "Extracting  resources/data/train/file28.ann                              \b\b\b\b 61%\b\b\b\b\b  OK \n",
            "Extracting  resources/data/train/file28.txt                              \b\b\b\b 61%\b\b\b\b\b  OK \n",
            "Extracting  resources/data/train/file29.ann                              \b\b\b\b 61%\b\b\b\b\b  OK \n",
            "Extracting  resources/data/train/file29.txt                              \b\b\b\b 62%\b\b\b\b\b  OK \n",
            "Extracting  resources/data/train/file30.ann                              \b\b\b\b 62%\b\b\b\b\b  OK \n",
            "Extracting  resources/data/train/file30.txt                              \b\b\b\b 62%\b\b\b\b\b  OK \n",
            "Extracting  resources/data/train/file31.ann                              \b\b\b\b 62%\b\b\b\b\b  OK \n",
            "Extracting  resources/data/train/file31.txt                              \b\b\b\b 63%\b\b\b\b\b  OK \n",
            "Extracting  resources/data/train/file32.ann                              \b\b\b\b 63%\b\b\b\b\b  OK \n",
            "Extracting  resources/data/train/file32.txt                              \b\b\b\b 63%\b\b\b\b\b  OK \n",
            "Extracting  resources/data/train/file34.ann                              \b\b\b\b 63%\b\b\b\b\b  OK \n",
            "Extracting  resources/data/train/file34.txt                              \b\b\b\b 64%\b\b\b\b\b  OK \n",
            "Extracting  resources/data/train/file35.ann                              \b\b\b\b 64%\b\b\b\b\b  OK \n",
            "Extracting  resources/data/train/file35.txt                              \b\b\b\b 64%\b\b\b\b\b  OK \n",
            "Extracting  resources/data/train/file39.ann                              \b\b\b\b 64%\b\b\b\b\b  OK \n",
            "Extracting  resources/data/train/file39.txt                              \b\b\b\b 65%\b\b\b\b\b  OK \n",
            "Extracting  resources/data/train/file4.ann                               \b\b\b\b 65%\b\b\b\b\b  OK \n",
            "Extracting  resources/data/train/file4.txt                               \b\b\b\b 65%\b\b\b\b\b  OK \n",
            "Extracting  resources/data/train/file40.ann                              \b\b\b\b 65%\b\b\b\b\b  OK \n",
            "Extracting  resources/data/train/file40.txt                              \b\b\b\b 66%\b\b\b\b\b  OK \n",
            "Extracting  resources/data/train/file41.ann                              \b\b\b\b 66%\b\b\b\b\b  OK \n",
            "Extracting  resources/data/train/file41.txt                              \b\b\b\b 66%\b\b\b\b\b  OK \n",
            "Extracting  resources/data/train/file42.ann                              \b\b\b\b 66%\b\b\b\b\b  OK \n",
            "Extracting  resources/data/train/file42.txt                              \b\b\b\b 66%\b\b\b\b\b  OK \n",
            "Extracting  resources/data/train/file43.ann                              \b\b\b\b 67%\b\b\b\b\b  OK \n",
            "Extracting  resources/data/train/file43.txt                              \b\b\b\b 67%\b\b\b\b\b  OK \n",
            "Extracting  resources/data/train/file44.ann                              \b\b\b\b 67%\b\b\b\b\b  OK \n",
            "Extracting  resources/data/train/file44.txt                              \b\b\b\b 67%\b\b\b\b\b  OK \n",
            "Extracting  resources/data/train/file45.ann                              \b\b\b\b 68%\b\b\b\b\b  OK \n",
            "Extracting  resources/data/train/file45.txt                              \b\b\b\b 68%\b\b\b\b\b  OK \n",
            "Extracting  resources/data/train/file46.ann                              \b\b\b\b 68%\b\b\b\b\b  OK \n",
            "Extracting  resources/data/train/file46.txt                              \b\b\b\b 68%\b\b\b\b\b  OK \n",
            "Extracting  resources/data/train/file47.ann                              \b\b\b\b 69%\b\b\b\b\b  OK \n",
            "Extracting  resources/data/train/file47.txt                              \b\b\b\b 69%\b\b\b\b\b  OK \n",
            "Extracting  resources/data/train/file48.ann                              \b\b\b\b 69%\b\b\b\b\b  OK \n",
            "Extracting  resources/data/train/file48.txt                              \b\b\b\b 69%\b\b\b\b\b  OK \n",
            "Extracting  resources/data/train/file49.ann                              \b\b\b\b 70%\b\b\b\b\b  OK \n",
            "Extracting  resources/data/train/file49.txt                              \b\b\b\b 70%\b\b\b\b\b  OK \n",
            "Extracting  resources/data/train/file5.ann                               \b\b\b\b 70%\b\b\b\b\b  OK \n",
            "Extracting  resources/data/train/file5.txt                               \b\b\b\b 71%\b\b\b\b\b  OK \n",
            "Extracting  resources/data/train/file51.ann                              \b\b\b\b 71%\b\b\b\b\b  OK \n",
            "Extracting  resources/data/train/file51.txt                              \b\b\b\b 71%\b\b\b\b\b  OK \n",
            "Extracting  resources/data/train/file53.ann                              \b\b\b\b 71%\b\b\b\b\b  OK \n",
            "Extracting  resources/data/train/file53.txt                              \b\b\b\b 72%\b\b\b\b\b  OK \n",
            "Extracting  resources/data/train/file55.ann                              \b\b\b\b 72%\b\b\b\b\b  OK \n",
            "Extracting  resources/data/train/file55.txt                              \b\b\b\b 72%\b\b\b\b\b  OK \n",
            "Extracting  resources/data/train/file56.ann                              \b\b\b\b 72%\b\b\b\b\b  OK \n",
            "Extracting  resources/data/train/file56.txt                              \b\b\b\b 73%\b\b\b\b\b  OK \n",
            "Extracting  resources/data/train/file57.ann                              \b\b\b\b 73%\b\b\b\b\b  OK \n",
            "Extracting  resources/data/train/file57.txt                              \b\b\b\b 73%\b\b\b\b\b  OK \n",
            "Extracting  resources/data/train/file59.ann                              \b\b\b\b 74%\b\b\b\b\b  OK \n",
            "Extracting  resources/data/train/file59.txt                              \b\b\b\b 74%\b\b\b\b\b  OK \n",
            "Extracting  resources/data/train/file6.ann                               \b\b\b\b 74%\b\b\b\b\b  OK \n",
            "Extracting  resources/data/train/file6.txt                               \b\b\b\b 74%\b\b\b\b\b  OK \n",
            "Extracting  resources/data/train/file60.ann                              \b\b\b\b 75%\b\b\b\b\b  OK \n",
            "Extracting  resources/data/train/file60.txt                              \b\b\b\b 75%\b\b\b\b\b  OK \n",
            "Extracting  resources/data/train/file61.ann                              \b\b\b\b 75%\b\b\b\b\b  OK \n",
            "Extracting  resources/data/train/file61.txt                              \b\b\b\b 76%\b\b\b\b\b  OK \n",
            "Extracting  resources/data/train/file64.ann                              \b\b\b\b 76%\b\b\b\b\b  OK \n",
            "Extracting  resources/data/train/file64.txt                              \b\b\b\b 76%\b\b\b\b\b  OK \n",
            "Extracting  resources/data/train/file65.ann                              \b\b\b\b 77%\b\b\b\b\b  OK \n",
            "Extracting  resources/data/train/file65.txt                              \b\b\b\b 77%\b\b\b\b\b  OK \n",
            "Extracting  resources/data/train/file67.ann                              \b\b\b\b 77%\b\b\b\b\b  OK \n",
            "Extracting  resources/data/train/file67.txt                              \b\b\b\b 78%\b\b\b\b\b  OK \n",
            "Extracting  resources/data/train/file68.ann                              \b\b\b\b 78%\b\b\b\b\b  OK \n",
            "Extracting  resources/data/train/file68.txt                              \b\b\b\b 78%\b\b\b\b\b  OK \n",
            "Extracting  resources/data/train/file69.ann                              \b\b\b\b 79%\b\b\b\b\b  OK \n",
            "Extracting  resources/data/train/file69.txt                              \b\b\b\b 79%\b\b\b\b\b  OK \n",
            "Extracting  resources/data/train/file7.ann                               \b\b\b\b 79%\b\b\b\b\b  OK \n",
            "Extracting  resources/data/train/file7.txt                               \b\b\b\b 80%\b\b\b\b\b  OK \n",
            "Extracting  resources/data/train/file70.ann                              \b\b\b\b 80%\b\b\b\b\b  OK \n",
            "Extracting  resources/data/train/file70.txt                              \b\b\b\b 80%\b\b\b\b\b  OK \n",
            "Extracting  resources/data/train/file71.ann                              \b\b\b\b 80%\b\b\b\b\b  OK \n",
            "Extracting  resources/data/train/file71.txt                              \b\b\b\b 81%\b\b\b\b\b  OK \n",
            "Extracting  resources/data/train/file72.ann                              \b\b\b\b 81%\b\b\b\b\b  OK \n",
            "Extracting  resources/data/train/file72.txt                              \b\b\b\b 82%\b\b\b\b\b  OK \n",
            "Extracting  resources/data/train/file73.ann                              \b\b\b\b 82%\b\b\b\b\b  OK \n",
            "Extracting  resources/data/train/file73.txt                              \b\b\b\b 82%\b\b\b\b\b  OK \n",
            "Extracting  resources/data/train/file75.ann                              \b\b\b\b 83%\b\b\b\b\b  OK \n",
            "Extracting  resources/data/train/file75.txt                              \b\b\b\b 83%\b\b\b\b\b  OK \n",
            "Extracting  resources/data/train/file76.ann                              \b\b\b\b 83%\b\b\b\b\b  OK \n",
            "Extracting  resources/data/train/file76.txt                              \b\b\b\b 83%\b\b\b\b\b  OK \n",
            "Extracting  resources/data/train/file77.ann                              \b\b\b\b 84%\b\b\b\b\b  OK \n",
            "Extracting  resources/data/train/file77.txt                              \b\b\b\b 84%\b\b\b\b\b  OK \n",
            "Extracting  resources/data/train/file78.ann                              \b\b\b\b 84%\b\b\b\b\b  OK \n",
            "Extracting  resources/data/train/file78.txt                              \b\b\b\b 85%\b\b\b\b\b  OK \n",
            "Extracting  resources/data/train/file79.ann                              \b\b\b\b 85%\b\b\b\b\b  OK \n",
            "Extracting  resources/data/train/file79.txt                              \b\b\b\b 85%\b\b\b\b\b  OK \n",
            "Extracting  resources/data/train/file8.ann                               \b\b\b\b 86%\b\b\b\b\b  OK \n",
            "Extracting  resources/data/train/file8.txt                               \b\b\b\b 86%\b\b\b\b\b  OK \n",
            "Extracting  resources/data/train/file80.ann                              \b\b\b\b 86%\b\b\b\b\b  OK \n",
            "Extracting  resources/data/train/file80.txt                              \b\b\b\b 87%\b\b\b\b\b  OK \n",
            "Extracting  resources/data/train/file82.ann                              \b\b\b\b 87%\b\b\b\b\b  OK \n",
            "Extracting  resources/data/train/file82.txt                              \b\b\b\b 87%\b\b\b\b\b  OK \n",
            "Extracting  resources/data/train/file83.ann                              \b\b\b\b 88%\b\b\b\b\b  OK \n",
            "Extracting  resources/data/train/file83.txt                              \b\b\b\b 88%\b\b\b\b\b  OK \n",
            "Extracting  resources/data/train/file84.ann                              \b\b\b\b 89%\b\b\b\b\b  OK \n",
            "Extracting  resources/data/train/file84.txt                              \b\b\b\b 89%\b\b\b\b\b  OK \n",
            "Extracting  resources/data/train/file85.ann                              \b\b\b\b 89%\b\b\b\b\b  OK \n",
            "Extracting  resources/data/train/file85.txt                              \b\b\b\b 90%\b\b\b\b\b  OK \n",
            "Extracting  resources/data/train/file86.ann                              \b\b\b\b 90%\b\b\b\b\b  OK \n",
            "Extracting  resources/data/train/file86.txt                              \b\b\b\b 91%\b\b\b\b\b  OK \n",
            "Extracting  resources/data/train/file87.ann                              \b\b\b\b 91%\b\b\b\b\b  OK \n",
            "Extracting  resources/data/train/file87.txt                              \b\b\b\b 92%\b\b\b\b\b  OK \n",
            "Extracting  resources/data/train/file88.ann                              \b\b\b\b 92%\b\b\b\b\b  OK \n",
            "Extracting  resources/data/train/file88.txt                              \b\b\b\b 92%\b\b\b\b\b  OK \n",
            "Extracting  resources/data/train/file89.ann                              \b\b\b\b 93%\b\b\b\b\b  OK \n",
            "Extracting  resources/data/train/file89.txt                              \b\b\b\b 93%\b\b\b\b\b  OK \n",
            "Extracting  resources/data/train/file9.ann                               \b\b\b\b 93%\b\b\b\b\b  OK \n",
            "Extracting  resources/data/train/file9.txt                               \b\b\b\b 94%\b\b\b\b\b  OK \n",
            "Extracting  resources/data/train/file90.ann                              \b\b\b\b 94%\b\b\b\b\b  OK \n",
            "Extracting  resources/data/train/file90.txt                              \b\b\b\b 95%\b\b\b\b\b  OK \n",
            "Extracting  resources/data/train/file92.ann                              \b\b\b\b 95%\b\b\b\b\b  OK \n",
            "Extracting  resources/data/train/file92.txt                              \b\b\b\b 95%\b\b\b\b\b  OK \n",
            "Extracting  resources/data/train/file93.ann                              \b\b\b\b 96%\b\b\b\b\b  OK \n",
            "Extracting  resources/data/train/file93.txt                              \b\b\b\b 96%\b\b\b\b\b  OK \n",
            "Extracting  resources/data/train/file95.ann                              \b\b\b\b 97%\b\b\b\b\b  OK \n",
            "Extracting  resources/data/train/file95.txt                              \b\b\b\b 97%\b\b\b\b\b  OK \n",
            "Extracting  resources/data/train/file96.ann                              \b\b\b\b 97%\b\b\b\b\b  OK \n",
            "Extracting  resources/data/train/file96.txt                              \b\b\b\b 98%\b\b\b\b\b  OK \n",
            "Extracting  resources/data/train/file98.ann                              \b\b\b\b 98%\b\b\b\b\b  OK \n",
            "Extracting  resources/data/train/file98.txt                              \b\b\b\b 99%\b\b\b\b\b  OK \n",
            "Extracting  resources/data/train/file99.ann                              \b\b\b\b 99%\b\b\b\b\b  OK \n",
            "Extracting  resources/data/train/file99.txt                              \b\b\b\b 99%\b\b\b\b\b  OK \n",
            "All OK\n"
          ]
        }
      ],
      "source": [
        "!unrar x data.rar resources/data/"
      ]
    },
    {
      "cell_type": "code",
      "execution_count": null,
      "metadata": {
        "colab": {
          "base_uri": "https://localhost:8080/"
        },
        "id": "2OQJqlJSxy9E",
        "outputId": "abdb0cee-0479-46c9-c0cc-a8d8362c05aa"
      },
      "outputs": [
        {
          "output_type": "stream",
          "name": "stdout",
          "text": [
            "config.json: 100% 590/590 [00:00<00:00, 4.52MB/s]\n",
            "vocab.txt: 100% 1.78M/1.78M [00:00<00:00, 5.44MB/s]\n",
            "/usr/local/lib/python3.10/dist-packages/transformers/tokenization_utils_base.py:1601: FutureWarning: `clean_up_tokenization_spaces` was not set. It will be set to `True` by default. This behavior will be depracted in transformers v4.45, and will be then set to `False` by default. For more details check this issue: https://github.com/huggingface/transformers/issues/31884\n",
            "  warnings.warn(\n",
            "100% 120/120 [00:00<00:00, 419.49it/s]\n"
          ]
        }
      ],
      "source": [
        "!python scripts/mask_texts.py"
      ]
    },
    {
      "cell_type": "code",
      "execution_count": null,
      "metadata": {
        "id": "c_84JeHLyW3j"
      },
      "outputs": [],
      "source": [
        "!mv resources/data/train/masked_texts.jsonl resources/data/train/masked_texts.json"
      ]
    },
    {
      "cell_type": "code",
      "execution_count": null,
      "metadata": {
        "colab": {
          "base_uri": "https://localhost:8080/"
        },
        "id": "gA1CX_wfyNQx",
        "outputId": "ccb59797-f046-428f-a517-7c27cc630543"
      },
      "outputs": [
        {
          "output_type": "stream",
          "name": "stdout",
          "text": [
            "pytorch_model.bin: 100% 716M/716M [00:04<00:00, 167MB/s]\n",
            "Some weights of the model checkpoint at sberbank-ai/ruBert-base were not used when initializing BertForMaskedLM: ['bert.pooler.dense.bias', 'bert.pooler.dense.weight', 'cls.seq_relationship.bias', 'cls.seq_relationship.weight']\n",
            "- This IS expected if you are initializing BertForMaskedLM from the checkpoint of a model trained on another task or with another architecture (e.g. initializing a BertForSequenceClassification model from a BertForPreTraining model).\n",
            "- This IS NOT expected if you are initializing BertForMaskedLM from the checkpoint of a model that you expect to be exactly identical (initializing a BertForSequenceClassification model from a BertForSequenceClassification model).\n",
            "training: 100% 21/21 [00:17<00:00,  1.22it/s, loss: 1.1170]\n",
            "validation: 100% 4/4 [00:00<00:00,  4.49it/s, loss: 0.5266]\n",
            "==> epoch: 0 finished | train loss: 2.29495 | valid loss: 0.50633\n",
            "\n",
            "training: 100% 21/21 [00:16<00:00,  1.29it/s, loss: 0.5120]\n",
            "validation: 100% 4/4 [00:00<00:00,  4.41it/s, loss: 0.3827]\n",
            "==> epoch: 1 finished | train loss: 0.95598 | valid loss: 0.40949\n",
            "\n",
            "training: 100% 21/21 [00:16<00:00,  1.26it/s, loss: 1.1996]\n",
            "validation: 100% 4/4 [00:00<00:00,  4.20it/s, loss: 0.8095]\n",
            "==> epoch: 2 finished | train loss: 0.67868 | valid loss: 0.98723\n",
            "\n",
            "Overfitting! Training loop is finished at 3 epoch\n",
            "Traceback (most recent call last):\n",
            "  File \"/content/ner-re-project/mlm.py\", line 134, in <module>\n",
            "    main(_args)\n",
            "  File \"/content/ner-re-project/mlm.py\", line 96, in main\n",
            "    bert.save_pretrained(os.path.join(args.save_to, \"ruREBus-bert\"))\n",
            "  File \"/usr/local/lib/python3.10/dist-packages/transformers/modeling_utils.py\", line 2793, in save_pretrained\n",
            "    safe_save_file(shard, os.path.join(save_directory, shard_file), metadata={\"format\": \"pt\"})\n",
            "  File \"/usr/local/lib/python3.10/dist-packages/safetensors/torch.py\", line 286, in save_file\n",
            "    serialize_file(_flatten(tensors), filename, metadata=metadata)\n",
            "  File \"/usr/local/lib/python3.10/dist-packages/safetensors/torch.py\", line 496, in _flatten\n",
            "    return {\n",
            "  File \"/usr/local/lib/python3.10/dist-packages/safetensors/torch.py\", line 500, in <dictcomp>\n",
            "    \"data\": _tobytes(v, k),\n",
            "  File \"/usr/local/lib/python3.10/dist-packages/safetensors/torch.py\", line 414, in _tobytes\n",
            "    raise ValueError(\n",
            "ValueError: You are trying to save a non contiguous tensor: `bert.encoder.layer.0.attention.self.query.weight` which is not allowed. It either means you are trying to save tensors which are reference of each other in which case it's recommended to save only the full tensors, and reslice at load time, or simply call `.contiguous()` on your tensor to pack it before saving.\n"
          ]
        }
      ],
      "source": [
        "!python mlm.py --device cuda --batch-size 5 --epochs 10"
      ]
    },
    {
      "cell_type": "code",
      "execution_count": null,
      "metadata": {
        "colab": {
          "base_uri": "https://localhost:8080/"
        },
        "id": "tt3Rb4njzDVw",
        "outputId": "6b6909e0-6eb1-4417-930b-70046ca371c0"
      },
      "outputs": [
        {
          "output_type": "stream",
          "name": "stdout",
          "text": [
            "config.json: 100% 590/590 [00:00<00:00, 4.16MB/s]\n",
            "vocab.txt: 100% 1.78M/1.78M [00:00<00:00, 8.59MB/s]\n",
            "/usr/local/lib/python3.10/dist-packages/transformers/tokenization_utils_base.py:1601: FutureWarning: `clean_up_tokenization_spaces` was not set. It will be set to `True` by default. This behavior will be depracted in transformers v4.45, and will be then set to `False` by default. For more details check this issue: https://github.com/huggingface/transformers/issues/31884\n",
            "  warnings.warn(\n",
            "100% 120/120 [00:00<00:00, 267.43it/s]\n",
            "11\n",
            "/usr/local/lib/python3.10/dist-packages/transformers/tokenization_utils_base.py:1601: FutureWarning: `clean_up_tokenization_spaces` was not set. It will be set to `True` by default. This behavior will be depracted in transformers v4.45, and will be then set to `False` by default. For more details check this issue: https://github.com/huggingface/transformers/issues/31884\n",
            "  warnings.warn(\n",
            "100% 30/30 [00:00<00:00, 257.66it/s]\n",
            "0\n"
          ]
        }
      ],
      "source": [
        "!python -m scripts.tokenize_texts\n",
        "!python -m scripts.tokenize_texts --dir resources/data/test --label2id resources/data/train/label2id.json --retag2id resources/data/train/retag2id.json"
      ]
    },
    {
      "cell_type": "code",
      "execution_count": null,
      "metadata": {
        "id": "Aecz7SPQz9eC",
        "colab": {
          "base_uri": "https://localhost:8080/",
          "height": 34
        },
        "outputId": "08b12c43-7a3f-45ca-b24c-97ff136039d9"
      },
      "outputs": [
        {
          "output_type": "display_data",
          "data": {
            "text/plain": [
              "NumExpr defaulting to 2 threads.\n"
            ],
            "text/html": [
              "<pre style=\"white-space:pre;overflow-x:auto;line-height:normal;font-family:Menlo,'DejaVu Sans Mono',consolas,'Courier New',monospace\">NumExpr defaulting to 2 threads.\n",
              "</pre>\n"
            ]
          },
          "metadata": {}
        }
      ],
      "source": [
        "import torch.cuda\n",
        "\n",
        "from re_utils.train import train_ner"
      ]
    },
    {
      "cell_type": "code",
      "execution_count": null,
      "metadata": {
        "id": "pHJItUmK0AW5"
      },
      "outputs": [],
      "source": [
        "num_labels = 5\n",
        "train_tokenized_texts_path = \"resources/data/train/labeled_texts.jsonl\"\n",
        "test_tokenized_texts_path = \"resources/data/test/labeled_texts.jsonl\"\n",
        "dropout = 0.3\n",
        "batch_size = 2\n",
        "epochs = 6\n",
        "log_every = 5\n",
        "lr_new_layers = 0.0005\n",
        "lr_bert = 0.000001\n",
        "device = \"cuda\" if torch.cuda.is_available() else \"cpu\""
      ]
    },
    {
      "cell_type": "code",
      "execution_count": null,
      "metadata": {
        "colab": {
          "base_uri": "https://localhost:8080/",
          "height": 655
        },
        "id": "M_W1rMWszopW",
        "outputId": "44bddd6d-44d0-410e-b4f4-3c92a37208d0"
      },
      "outputs": [
        {
          "output_type": "display_data",
          "data": {
            "text/plain": [
              "<Figure size 1500x1000 with 2 Axes>"
            ],
            "image/png": "[encoded data removed]"
          },
          "metadata": {}
        },
        {
          "output_type": "stream",
          "name": "stderr",
          "text": [
            "100%|██████████| 61/61 [01:23<00:00,  1.37s/it]"
          ]
        },
        {
          "output_type": "stream",
          "name": "stdout",
          "text": [
            "Current loss: 28.53173828125\n",
            "Current f1: 0.9556640625\n",
            "Epoch 6/6\n"
          ]
        },
        {
          "output_type": "stream",
          "name": "stderr",
          "text": [
            "\n"
          ]
        }
      ],
      "source": [
        "train_ner(\n",
        "    num_labels=num_labels,\n",
        "    bert_name=\"sberbank-ai/ruBert-base\",\n",
        "    train_tokenized_texts_path=train_tokenized_texts_path,\n",
        "    test_tokenized_texts_path=test_tokenized_texts_path,\n",
        "    dropout=dropout,\n",
        "    batch_size=batch_size,\n",
        "    epochs=epochs,\n",
        "    log_every=log_every,\n",
        "    lr_new_layers=lr_new_layers,\n",
        "    lr_bert=lr_bert,\n",
        "    use_crf=True,\n",
        "    save_to=\"weights/bert-crf.pt\",\n",
        "    device=device\n",
        ")"
      ]
    },
    {
      "cell_type": "code",
      "execution_count": null,
      "metadata": {
        "colab": {
          "base_uri": "https://localhost:8080/"
        },
        "id": "muI0_k4c_XKK",
        "outputId": "d8525db4-1337-477f-d015-9e68600fecfb"
      },
      "outputs": [
        {
          "output_type": "stream",
          "name": "stdout",
          "text": [
            "Collecting seqeval\n",
            "  Downloading seqeval-1.2.2.tar.gz (43 kB)\n",
            "\u001b[?25l     \u001b[90m━━━━━━━━━━━━━━━━━━━━━━━━━━━━━━━━━━━━━━━━\u001b[0m \u001b[32m0.0/43.6 kB\u001b[0m \u001b[31m?\u001b[0m eta \u001b[36m-:--:--\u001b[0m\r\u001b[2K     \u001b[90m━━━━━━━━━━━━━━━━━━━━━━━━━━━━━━━━━━━━━━━━\u001b[0m \u001b[32m43.6/43.6 kB\u001b[0m \u001b[31m2.7 MB/s\u001b[0m eta \u001b[36m0:00:00\u001b[0m\n",
            "\u001b[?25h  Preparing metadata (setup.py) ... \u001b[?25l\u001b[?25hdone\n",
            "Requirement already satisfied: numpy>=1.14.0 in /usr/local/lib/python3.10/dist-packages (from seqeval) (1.26.4)\n",
            "Requirement already satisfied: scikit-learn>=0.21.3 in /usr/local/lib/python3.10/dist-packages (from seqeval) (1.5.2)\n",
            "Requirement already satisfied: scipy>=1.6.0 in /usr/local/lib/python3.10/dist-packages (from scikit-learn>=0.21.3->seqeval) (1.13.1)\n",
            "Requirement already satisfied: joblib>=1.2.0 in /usr/local/lib/python3.10/dist-packages (from scikit-learn>=0.21.3->seqeval) (1.4.2)\n",
            "Requirement already satisfied: threadpoolctl>=3.1.0 in /usr/local/lib/python3.10/dist-packages (from scikit-learn>=0.21.3->seqeval) (3.5.0)\n",
            "Building wheels for collected packages: seqeval\n",
            "  Building wheel for seqeval (setup.py) ... \u001b[?25l\u001b[?25hdone\n",
            "  Created wheel for seqeval: filename=seqeval-1.2.2-py3-none-any.whl size=16161 sha256=ce61e742f3f1296c4d579429656101eaed403a0659282eaf0bf740aa9372ab3b\n",
            "  Stored in directory: /root/.cache/pip/wheels/1a/67/4a/ad4082dd7dfc30f2abfe4d80a2ed5926a506eb8a972b4767fa\n",
            "Successfully built seqeval\n",
            "Installing collected packages: seqeval\n",
            "Successfully installed seqeval-1.2.2\n"
          ]
        }
      ],
      "source": [
        "!pip install seqeval"
      ]
    },
    {
      "cell_type": "code",
      "execution_count": null,
      "metadata": {
        "id": "uu6FeL9n_cTx"
      },
      "outputs": [],
      "source": [
        "from models.bert_crf import BertCrf\n",
        "from datasets import NerDataset\n",
        "from torch.utils.data import DataLoader"
      ]
    },
    {
      "cell_type": "code",
      "execution_count": null,
      "metadata": {
        "id": "TpNh-91gARtL"
      },
      "outputs": [],
      "source": [
        "test_dataset = NerDataset(\"resources/data/test/labeled_texts.jsonl\")\n",
        "test_data_loader = DataLoader(\n",
        "    test_dataset,\n",
        "    batch_size=1,\n",
        "    shuffle=False,\n",
        "    collate_fn=test_dataset.collate_function,\n",
        ")"
      ]
    },
    {
      "cell_type": "code",
      "execution_count": null,
      "metadata": {
        "colab": {
          "base_uri": "https://localhost:8080/"
        },
        "id": "pa-xt6eu_lGc",
        "outputId": "3d3dabf7-9fa9-438d-f2b5-fa4a73b8e09f"
      },
      "outputs": [
        {
          "output_type": "stream",
          "name": "stderr",
          "text": [
            "/content/ner-re-project/models/bert_crf.py:159: FutureWarning: You are using `torch.load` with `weights_only=False` (the current default value), which uses the default pickle module implicitly. It is possible to construct malicious pickle data which will execute arbitrary code during unpickling (See https://github.com/pytorch/pytorch/blob/main/SECURITY.md#untrusted-models for more details). In a future release, the default value for `weights_only` will be flipped to `True`. This limits the functions that could be executed during unpickling. Arbitrary objects will no longer be allowed to be loaded via this mode unless they are explicitly allowlisted by the user via `torch.serialization.add_safe_globals`. We recommend you start setting `weights_only=True` for any use case where you don't have full control of the loaded file. Please open an issue on GitHub for any issues related to this experimental feature.\n",
            "  self.load_state_dict(torch.load(path))\n"
          ]
        },
        {
          "output_type": "execute_result",
          "data": {
            "text/plain": [
              "BertCrf(\n",
              "  (cross_entropy): CrossEntropyLoss()\n",
              "  (bert): BertModel(\n",
              "    (embeddings): BertEmbeddings(\n",
              "      (word_embeddings): Embedding(120138, 768, padding_idx=0)\n",
              "      (position_embeddings): Embedding(512, 768)\n",
              "      (token_type_embeddings): Embedding(2, 768)\n",
              "      (LayerNorm): LayerNorm((768,), eps=1e-12, elementwise_affine=True)\n",
              "      (dropout): Dropout(p=0.1, inplace=False)\n",
              "    )\n",
              "    (encoder): BertEncoder(\n",
              "      (layer): ModuleList(\n",
              "        (0-11): 12 x BertLayer(\n",
              "          (attention): BertAttention(\n",
              "            (self): BertSdpaSelfAttention(\n",
              "              (query): Linear(in_features=768, out_features=768, bias=True)\n",
              "              (key): Linear(in_features=768, out_features=768, bias=True)\n",
              "              (value): Linear(in_features=768, out_features=768, bias=True)\n",
              "              (dropout): Dropout(p=0.1, inplace=False)\n",
              "            )\n",
              "            (output): BertSelfOutput(\n",
              "              (dense): Linear(in_features=768, out_features=768, bias=True)\n",
              "              (LayerNorm): LayerNorm((768,), eps=1e-12, elementwise_affine=True)\n",
              "              (dropout): Dropout(p=0.1, inplace=False)\n",
              "            )\n",
              "          )\n",
              "          (intermediate): BertIntermediate(\n",
              "            (dense): Linear(in_features=768, out_features=3072, bias=True)\n",
              "            (intermediate_act_fn): GELUActivation()\n",
              "          )\n",
              "          (output): BertOutput(\n",
              "            (dense): Linear(in_features=3072, out_features=768, bias=True)\n",
              "            (LayerNorm): LayerNorm((768,), eps=1e-12, elementwise_affine=True)\n",
              "            (dropout): Dropout(p=0.1, inplace=False)\n",
              "          )\n",
              "        )\n",
              "      )\n",
              "    )\n",
              "    (pooler): BertPooler(\n",
              "      (dense): Linear(in_features=768, out_features=768, bias=True)\n",
              "      (activation): Tanh()\n",
              "    )\n",
              "  )\n",
              "  (dropout): Dropout(p=0.2, inplace=False)\n",
              "  (hidden2label): Linear(in_features=768, out_features=5, bias=True)\n",
              ")"
            ]
          },
          "metadata": {},
          "execution_count": 17
        }
      ],
      "source": [
        "model = BertCrf(5, 'sberbank-ai/ruBert-base', 0.2, False)\n",
        "model.load_from(\"weights/bert-crf.pt\")\n",
        "model = model.to(device)\n",
        "model.eval()"
      ]
    },
    {
      "cell_type": "code",
      "execution_count": null,
      "metadata": {
        "id": "8DZZosDPOwPt"
      },
      "outputs": [],
      "source": [
        "predictions = []\n",
        "ground_truth = []\n",
        "with torch.no_grad():\n",
        "    for batch in test_data_loader:\n",
        "        input_ids = batch['input_ids'].to(device)\n",
        "        attention_mask = batch['attention_mask'].to(device)\n",
        "        prediction = model.decode(input_ids, attention_mask)\n",
        "\n",
        "        labels = batch['labels'].numpy()\n",
        "\n",
        "        predictions.extend([item for sublist in prediction for item in sublist])\n",
        "        ground_truth.extend([item for sublist in labels for item in sublist])\n"
      ]
    },
    {
      "cell_type": "code",
      "execution_count": null,
      "metadata": {
        "id": "JluruY-JFLF8"
      },
      "outputs": [],
      "source": [
        "import json\n",
        "from seqeval.metrics import classification_report"
      ]
    },
    {
      "cell_type": "code",
      "execution_count": null,
      "metadata": {
        "colab": {
          "base_uri": "https://localhost:8080/"
        },
        "id": "uPSvCTe3BYVO",
        "outputId": "9f55e102-bcbc-40c4-8ea7-055f12725350"
      },
      "outputs": [
        {
          "output_type": "execute_result",
          "data": {
            "text/plain": [
              "{'I-KEY': 0, 'B-VAL': 1, 'B-KEY': 2, 'I-VAL': 3, 'O': 4}"
            ]
          },
          "metadata": {},
          "execution_count": 20
        }
      ],
      "source": [
        "with open('resources/data/train/label2id.json', 'r', encoding='utf-8') as f:\n",
        "    label2id = json.load(f)\n",
        "label2id"
      ]
    },
    {
      "cell_type": "code",
      "execution_count": null,
      "metadata": {
        "colab": {
          "base_uri": "https://localhost:8080/"
        },
        "id": "9ugMeBaFFkKP",
        "outputId": "7738b8ba-9bef-4006-a01b-13fd5b550169"
      },
      "outputs": [
        {
          "output_type": "execute_result",
          "data": {
            "text/plain": [
              "{0: 'I-KEY', 1: 'B-VAL', 2: 'B-KEY', 3: 'I-VAL', 4: 'O'}"
            ]
          },
          "metadata": {},
          "execution_count": 21
        }
      ],
      "source": [
        "id2label = {}\n",
        "for key, value in label2id.items():\n",
        "    id2label[value] = key\n",
        "id2label"
      ]
    },
    {
      "cell_type": "code",
      "execution_count": null,
      "metadata": {
        "id": "b0Qp4CnpGCqW"
      },
      "outputs": [],
      "source": [
        "labels_new = [id2label[id] for id in ground_truth]\n",
        "predictions_new = [id2label[id] for id in predictions]"
      ]
    },
    {
      "cell_type": "code",
      "execution_count": null,
      "metadata": {
        "colab": {
          "base_uri": "https://localhost:8080/"
        },
        "id": "9ZbnIjWkeZnG",
        "outputId": "eb7fec6b-d2b2-4745-a05f-2628d32cde0c"
      },
      "outputs": [
        {
          "output_type": "stream",
          "name": "stdout",
          "text": [
            "['O', 'O', 'O', 'O', 'O', 'O', 'O', 'O', 'O', 'O', 'O', 'O', 'O', 'O', 'O', 'O', 'O', 'O', 'O', 'O', 'O', 'O', 'O', 'O', 'O', 'O', 'O', 'O', 'O', 'O', 'O', 'O', 'O', 'O', 'O', 'O', 'O', 'O', 'O', 'O', 'O', 'O', 'O', 'O', 'O', 'O', 'O', 'O', 'O', 'O', 'O', 'O', 'B-VAL', 'I-VAL', 'I-VAL', 'I-VAL', 'I-VAL', 'I-VAL', 'I-VAL', 'I-VAL', 'I-VAL', 'I-VAL', 'B-KEY', 'I-KEY', 'O', 'B-KEY', 'I-KEY', 'B-VAL', 'I-VAL', 'I-VAL', 'I-VAL', 'I-VAL', 'O', 'B-VAL', 'I-VAL', 'I-VAL', 'I-VAL', 'O', 'B-VAL', 'I-VAL', 'I-VAL', 'I-VAL', 'I-VAL', 'I-VAL', 'O', 'O', 'O', 'O', 'O', 'O', 'O', 'O', 'O', 'O', 'O', 'O', 'O', 'O', 'O', 'O', 'O', 'O', 'O', 'O', 'O', 'O', 'O', 'O', 'O', 'O', 'O', 'O', 'O', 'O', 'O', 'O', 'O', 'O', 'O', 'O', 'O', 'O', 'O', 'B-KEY', 'O', 'O', 'O', 'O', 'O', 'O', 'O', 'O', 'O', 'B-KEY', 'B-VAL', 'I-VAL', 'I-VAL', 'I-VAL', 'I-VAL', 'I-VAL', 'I-VAL', 'I-VAL', 'I-VAL', 'I-VAL', 'O', 'O', 'O', 'O', 'B-KEY', 'I-KEY', 'B-VAL', 'I-VAL', 'I-VAL', 'I-VAL', 'I-VAL', 'I-VAL', 'I-VAL', 'I-VAL', 'I-VAL', 'O', 'O', 'O', 'O', 'O', 'O', 'O', 'O', 'O', 'O', 'B-VAL', 'I-VAL', 'I-VAL', 'I-VAL', 'I-VAL', 'I-VAL', 'O', 'O', 'O', 'O', 'O', 'O', 'O', 'O', 'O', 'O', 'O', 'O', 'O', 'O', 'O', 'O', 'O', 'O', 'O', 'O', 'O', 'O', 'O', 'O', 'O', 'O', 'O', 'O', 'O', 'O', 'B-VAL', 'I-VAL', 'I-VAL', 'I-VAL', 'I-VAL', 'I-VAL', 'O', 'O', 'O', 'O', 'O', 'O', 'O', 'O', 'O', 'O', 'O', 'O', 'O', 'O', 'B-KEY', 'O', 'B-KEY', 'I-KEY', 'I-KEY', 'O', 'O', 'O', 'B-VAL', 'I-VAL', 'I-VAL', 'I-VAL', 'I-VAL', 'I-VAL', 'B-KEY', 'O', 'B-KEY', 'I-KEY', 'I-KEY', 'I-KEY', 'O', 'O', 'O', 'O', 'O', 'O', 'O', 'O', 'O', 'O', 'O', 'O', 'O', 'O', 'O', 'O', 'O', 'O', 'O', 'O', 'O', 'O', 'O', 'O', 'O', 'O', 'O', 'O', 'O', 'O', 'O', 'O', 'O', 'O', 'O', 'O', 'O', 'O', 'O', 'O', 'O', 'O', 'O', 'O', 'O', 'O', 'O', 'O', 'O', 'O', 'O', 'O', 'O', 'O', 'O', 'O', 'O', 'O', 'O', 'O', 'O', 'O', 'O', 'O', 'O', 'O', 'O', 'O', 'O', 'O', 'O', 'O', 'O', 'O', 'O', 'O', 'O', 'O', 'O', 'O', 'O', 'O', 'O', 'O', 'O', 'O', 'O', 'O', 'O', 'O', 'O', 'O', 'O', 'O', 'O', 'O', 'O', 'O', 'O', 'O', 'O', 'O', 'O', 'O', 'O', 'O', 'O', 'O', 'O', 'O', 'O', 'O', 'O', 'O', 'O', 'O', 'O', 'O', 'O', 'O', 'O', 'O', 'O', 'O', 'O', 'O', 'O', 'O', 'O', 'O', 'O', 'O', 'O', 'O', 'O', 'O', 'O', 'O', 'O', 'O', 'O', 'O', 'O', 'O', 'O', 'O', 'O', 'O', 'O', 'O', 'O', 'O', 'O', 'O', 'O', 'O', 'O', 'O', 'O', 'O', 'O', 'O', 'O', 'O', 'O', 'O', 'O', 'O', 'O', 'O', 'O', 'O', 'O', 'O', 'O', 'O', 'O', 'O', 'O', 'O', 'O', 'O', 'O', 'O', 'O', 'O', 'O', 'O', 'O', 'O', 'O', 'O', 'O', 'O', 'O', 'O', 'O', 'O', 'O', 'O', 'O', 'O', 'O', 'O', 'O', 'O', 'O', 'O', 'O', 'O', 'O', 'O', 'O', 'O', 'O', 'O', 'O', 'O', 'O', 'O', 'O', 'O', 'O', 'O', 'O', 'O', 'O', 'O', 'O', 'O', 'O', 'O', 'O', 'O', 'O', 'O', 'O', 'O', 'O', 'O', 'O', 'O', 'O', 'O', 'O', 'O', 'O', 'O', 'O', 'O', 'O', 'O', 'O', 'O', 'O', 'O', 'O', 'O', 'O', 'O', 'O', 'O', 'O', 'O', 'O', 'O', 'O', 'O', 'O', 'O', 'O', 'O', 'O', 'O', 'O', 'O', 'O', 'O', 'O', 'B-KEY', 'O', 'B-VAL', 'I-VAL', 'I-VAL', 'I-VAL', 'I-VAL', 'I-VAL', 'I-VAL', 'I-VAL', 'I-VAL', 'I-VAL', 'I-VAL', 'O', 'B-KEY', 'I-KEY', 'B-VAL', 'I-VAL', 'I-VAL', 'I-VAL', 'I-VAL', 'B-VAL', 'I-VAL', 'I-VAL', 'I-VAL', 'I-VAL', 'I-VAL', 'I-VAL', 'I-VAL', 'I-VAL', 'I-VAL', 'I-VAL', 'I-VAL', 'I-VAL', 'I-VAL', 'I-VAL', 'I-VAL', 'I-VAL', 'I-VAL', 'I-VAL', 'O', 'B-KEY', 'I-KEY', 'I-KEY', 'B-VAL', 'I-VAL', 'I-VAL', 'I-VAL', 'I-VAL', 'I-VAL', 'I-VAL', 'I-VAL', 'I-VAL', 'I-VAL', 'O', 'B-KEY', 'I-KEY', 'I-KEY', 'B-VAL', 'I-VAL', 'I-VAL', 'I-VAL', 'I-VAL', 'I-VAL', 'I-VAL', 'I-VAL', 'I-VAL', 'O', 'B-VAL', 'I-VAL', 'I-VAL', 'I-VAL', 'I-VAL', 'I-VAL', 'I-VAL', 'I-VAL', 'I-VAL', 'O', 'O', 'O', 'O', 'O', 'B-KEY', 'I-KEY', 'B-VAL', 'I-VAL', 'I-VAL', 'I-VAL', 'I-VAL', 'O', 'B-KEY', 'I-KEY', 'B-VAL', 'I-VAL', 'I-VAL', 'I-VAL', 'I-VAL', 'I-VAL', 'I-VAL', 'I-VAL', 'I-VAL', 'I-VAL', 'B-KEY', 'O', 'B-VAL', 'I-VAL', 'I-VAL', 'I-VAL', 'I-VAL', 'I-VAL', 'I-VAL', 'I-VAL', 'I-VAL', 'I-VAL', 'I-VAL', 'I-VAL', 'I-VAL', 'B-VAL', 'I-VAL', 'I-VAL', 'I-VAL', 'I-VAL', 'I-VAL', 'I-VAL', 'I-VAL', 'I-VAL', 'I-VAL', 'I-VAL', 'I-VAL', 'I-VAL', 'O', 'B-KEY', 'I-KEY', 'B-VAL', 'I-VAL', 'I-VAL', 'I-VAL', 'I-VAL', 'I-VAL', 'I-VAL', 'I-VAL', 'B-KEY', 'I-KEY', 'B-VAL', 'I-VAL', 'I-VAL', 'I-VAL', 'I-VAL', 'O', 'B-KEY', 'I-KEY', 'B-VAL', 'I-VAL', 'I-VAL', 'I-VAL', 'I-VAL', 'I-VAL', 'O', 'B-KEY', 'I-KEY', 'B-VAL', 'I-VAL', 'I-VAL', 'I-VAL', 'I-VAL', 'O', 'B-KEY', 'I-KEY', 'B-VAL', 'I-VAL', 'I-VAL', 'I-VAL', 'O', 'B-KEY', 'I-KEY', 'I-KEY', 'B-VAL', 'I-VAL', 'I-VAL', 'I-VAL', 'I-VAL', 'I-VAL', 'I-VAL', 'I-VAL', 'I-VAL', 'I-VAL', 'O', 'O', 'B-VAL', 'I-VAL', 'I-VAL', 'I-VAL', 'I-VAL', 'I-VAL', 'I-VAL', 'O', 'B-KEY', 'I-KEY', 'I-KEY', 'B-VAL', 'I-VAL', 'I-VAL', 'I-VAL', 'I-VAL', 'I-VAL', 'I-VAL', 'I-VAL', 'I-VAL', 'O', 'B-KEY', 'I-KEY', 'B-VAL', 'I-VAL', 'I-VAL', 'I-VAL', 'I-VAL', 'O', 'O', 'O', 'O', 'O', 'O', 'O', 'O', 'O', 'O', 'O', 'O', 'O', 'O', 'O', 'O', 'B-KEY', 'I-KEY', 'O', 'O', 'O', 'B-VAL', 'I-VAL', 'I-VAL', 'I-VAL', 'B-KEY', 'O', 'O', 'O', 'O', 'B-VAL', 'I-VAL', 'I-VAL', 'I-VAL', 'B-KEY', 'O', 'O', 'O', 'O', 'B-KEY', 'O', 'B-VAL', 'I-VAL', 'I-VAL', 'I-VAL', 'I-VAL', 'I-VAL', 'I-VAL', 'I-VAL', 'I-VAL', 'I-VAL', 'O', 'O', 'O', 'B-KEY', 'I-KEY', 'O', 'O', 'O', 'O', 'O', 'O', 'O', 'O', 'O', 'O', 'O', 'O', 'O', 'O', 'O', 'O', 'O', 'O', 'O', 'O', 'O', 'O', 'O', 'O', 'B-KEY', 'O', 'O', 'B-VAL', 'I-VAL', 'I-VAL', 'I-VAL', 'I-VAL', 'I-VAL', 'O', 'O', 'O', 'O', 'B-KEY', 'O', 'O', 'B-VAL', 'I-VAL', 'I-VAL', 'I-VAL', 'I-VAL', 'I-VAL', 'O', 'O', 'O', 'O', 'O', 'O', 'O', 'O', 'O', 'O', 'O', 'O', 'O', 'O', 'O', 'O', 'O', 'O', 'O', 'O', 'O', 'O', 'O', 'O', 'O', 'O', 'O', 'O', 'O', 'O', 'O', 'O', 'O', 'O', 'O', 'O', 'O', 'O', 'O', 'O', 'O', 'O', 'O', 'O', 'O', 'O', 'O', 'O', 'O', 'O', 'O', 'O', 'O', 'O', 'O', 'O', 'O', 'O', 'O', 'O', 'O', 'O', 'O', 'O', 'O', 'O', 'O', 'O', 'O', 'O', 'O', 'O', 'O', 'O', 'O', 'O', 'O', 'O', 'O', 'O', 'O', 'O', 'O', 'O', 'O', 'O', 'O', 'O', 'O', 'O', 'O', 'O', 'O', 'O', 'O', 'O', 'O', 'O', 'O', 'O', 'O', 'O', 'O', 'O', 'O', 'O', 'O', 'O', 'O', 'O', 'O', 'O', 'O', 'O', 'O', 'O', 'O', 'O', 'O', 'O', 'O', 'O', 'O', 'O', 'O', 'O', 'O', 'O', 'O', 'O', 'O', 'O', 'O', 'O', 'O', 'O', 'O', 'O', 'O', 'O', 'O', 'O', 'O', 'O', 'O', 'O', 'O', 'O', 'O', 'O', 'O', 'O', 'O', 'O', 'O', 'O', 'O', 'O', 'O', 'O', 'O', 'O', 'O', 'O', 'O', 'O', 'O', 'O', 'O', 'O', 'O', 'O', 'O', 'O', 'O', 'O', 'O', 'O', 'O', 'O', 'O', 'O', 'O', 'O', 'O', 'O', 'O', 'O', 'O', 'O', 'O', 'B-KEY', 'O', 'B-VAL', 'I-VAL', 'I-VAL', 'I-VAL', 'I-VAL', 'I-VAL', 'I-VAL', 'O', 'B-KEY', 'I-KEY', 'B-VAL', 'I-VAL', 'I-VAL', 'I-VAL', 'I-VAL', 'O', 'B-VAL', 'I-VAL', 'I-VAL', 'I-VAL', 'I-VAL', 'I-VAL', 'I-VAL', 'I-VAL', 'I-VAL', 'I-VAL', 'I-VAL', 'I-VAL', 'I-VAL', 'I-VAL', 'I-VAL', 'I-VAL', 'I-VAL', 'I-VAL', 'I-VAL', 'O', 'B-KEY', 'I-KEY', 'I-KEY', 'B-VAL', 'I-VAL', 'I-VAL', 'I-VAL', 'I-VAL', 'I-VAL', 'I-VAL', 'I-VAL', 'I-VAL', 'I-VAL', 'O', 'O', 'O', 'B-VAL', 'I-VAL', 'I-VAL', 'I-VAL', 'I-VAL', 'I-VAL', 'I-VAL', 'I-VAL', 'I-VAL', 'I-VAL', 'I-VAL', 'I-VAL', 'I-VAL', 'I-VAL', 'O', 'B-KEY', 'I-KEY', 'B-VAL', 'I-VAL', 'I-VAL', 'I-VAL', 'I-VAL', 'O', 'B-KEY', 'I-KEY', 'I-KEY', 'B-VAL', 'I-VAL', 'I-VAL', 'I-VAL', 'I-VAL', 'I-VAL', 'I-VAL', 'I-VAL', 'I-VAL', 'B-KEY', 'O', 'B-VAL', 'I-VAL', 'I-VAL', 'I-VAL', 'I-VAL', 'I-VAL', 'O', 'B-KEY', 'I-KEY', 'B-VAL', 'I-VAL', 'I-VAL', 'I-VAL', 'I-VAL', 'O', 'B-VAL', 'I-VAL', 'I-VAL', 'I-VAL', 'I-VAL', 'I-VAL', 'I-VAL', 'I-VAL', 'I-VAL', 'I-VAL', 'I-VAL', 'I-VAL', 'I-VAL', 'I-VAL', 'I-VAL', 'I-VAL', 'I-VAL', 'I-VAL', 'I-VAL', 'B-KEY', 'O', 'B-VAL', 'I-VAL', 'I-VAL', 'I-VAL', 'I-VAL', 'I-VAL', 'I-VAL', 'I-VAL', 'I-VAL', 'I-VAL', 'I-VAL', 'I-VAL', 'B-KEY', 'O', 'B-VAL', 'I-VAL', 'I-VAL', 'I-VAL', 'B-VAL', 'I-VAL', 'O', 'B-KEY', 'I-KEY', 'O', 'B-KEY', 'O', 'O', 'O', 'B-VAL', 'O', 'O', 'B-KEY', 'B-VAL', 'I-VAL', 'I-VAL', 'I-VAL', 'I-VAL', 'I-VAL', 'O', 'O', 'O', 'O', 'O', 'O', 'O', 'O', 'O', 'O', 'O', 'O', 'O', 'O', 'O', 'O', 'O', 'O', 'O', 'O', 'O', 'O', 'O', 'O', 'O', 'O', 'O', 'O', 'O', 'O', 'B-KEY', 'B-KEY', 'I-KEY', 'I-KEY', 'I-KEY', 'B-VAL', 'I-VAL', 'I-VAL', 'I-VAL', 'I-VAL', 'I-VAL', 'I-VAL', 'B-VAL', 'I-VAL', 'I-VAL', 'I-VAL', 'I-VAL', 'I-VAL', 'O', 'O', 'O', 'O', 'O', 'O', 'O', 'O', 'O', 'O', 'B-KEY', 'O', 'O', 'O', 'O', 'O', 'O', 'O', 'O', 'O', 'O', 'O', 'O', 'O', 'O', 'O', 'O', 'O', 'O', 'O', 'O', 'O', 'O', 'O', 'O', 'O', 'O', 'O', 'O', 'O', 'O', 'O', 'O', 'O', 'O', 'O', 'O', 'O', 'O', 'O', 'O', 'O', 'O', 'O', 'O', 'O', 'O', 'O', 'O', 'O', 'O', 'O', 'O', 'O', 'O', 'O', 'O', 'O', 'O', 'O', 'O', 'O', 'O', 'O', 'O', 'O', 'O', 'O', 'O', 'O', 'O', 'O', 'O', 'O', 'O', 'O', 'O', 'O', 'O', 'O', 'O', 'O', 'O', 'O', 'O', 'O', 'O', 'O', 'O', 'O', 'O', 'O', 'O', 'O', 'O', 'O', 'O', 'O', 'O', 'O', 'O', 'O', 'O', 'O', 'O', 'O', 'O', 'O', 'O', 'O', 'O', 'O', 'O', 'O', 'O', 'O', 'O', 'O', 'O', 'O', 'O', 'O', 'O', 'O', 'O', 'O', 'O', 'O', 'O', 'O', 'O', 'O', 'O', 'O', 'O', 'O', 'O', 'O', 'O', 'O', 'O', 'O', 'O', 'O', 'O', 'O', 'O', 'O', 'O', 'O', 'O', 'O', 'O', 'O', 'O', 'O', 'O', 'O', 'O', 'O', 'O', 'O', 'O', 'O', 'O', 'O', 'O', 'O', 'O', 'O', 'O', 'O', 'O', 'O', 'O', 'O', 'O', 'O', 'O', 'O', 'O', 'O', 'O', 'O', 'O', 'O', 'O', 'O', 'O', 'O', 'O', 'O', 'O', 'O', 'O', 'O', 'O', 'O', 'O', 'O', 'O', 'O', 'O', 'O', 'O', 'O', 'O', 'O', 'O', 'O', 'O', 'O', 'O', 'O', 'O', 'O', 'O', 'O', 'O', 'O', 'O', 'O', 'O', 'O', 'O', 'O', 'O', 'O', 'O', 'O', 'O', 'O', 'O', 'O', 'O', 'O', 'O', 'O', 'O', 'O', 'O', 'O', 'O', 'O', 'O', 'O', 'O', 'O', 'O', 'O', 'O', 'O', 'O', 'O', 'O', 'O', 'O', 'O', 'O', 'O', 'O', 'O', 'O', 'O', 'O', 'O', 'O', 'O', 'O', 'O', 'O', 'O', 'O', 'O', 'O', 'O', 'O', 'O', 'O', 'O', 'O', 'O', 'O', 'O', 'O', 'O', 'O', 'O', 'O', 'O', 'O', 'O', 'O', 'O', 'O', 'O', 'O', 'O', 'O', 'O', 'O', 'O', 'O', 'B-KEY', 'B-VAL', 'I-VAL', 'I-VAL', 'I-VAL', 'I-VAL', 'I-VAL', 'O', 'B-VAL', 'I-VAL', 'I-VAL', 'I-VAL', 'I-VAL', 'I-VAL', 'I-VAL', 'I-VAL', 'I-VAL', 'I-VAL', 'I-VAL', 'I-VAL', 'I-VAL', 'I-VAL', 'I-VAL', 'I-VAL', 'I-VAL', 'I-VAL', 'I-VAL', 'I-VAL', 'I-VAL', 'I-VAL', 'I-VAL', 'I-VAL', 'I-VAL', 'I-VAL', 'I-VAL', 'I-VAL', 'I-VAL', 'I-VAL', 'I-VAL', 'I-VAL', 'I-VAL', 'I-VAL', 'I-VAL', 'I-VAL', 'I-VAL', 'I-VAL', 'I-VAL', 'O', 'B-KEY', 'I-KEY', 'B-VAL', 'I-VAL', 'I-VAL', 'I-VAL', 'I-VAL', 'O', 'B-KEY', 'I-KEY', 'B-VAL', 'I-VAL', 'I-VAL', 'I-VAL', 'I-VAL', 'O', 'B-KEY', 'B-VAL', 'I-VAL', 'I-VAL', 'I-VAL', 'I-VAL', 'I-VAL', 'I-VAL', 'I-VAL', 'I-VAL', 'I-VAL', 'I-VAL', 'I-VAL', 'I-VAL', 'O', 'B-VAL', 'I-VAL', 'I-VAL', 'I-VAL', 'I-VAL', 'I-VAL', 'I-VAL', 'I-VAL', 'I-VAL', 'I-VAL', 'I-VAL', 'I-VAL', 'I-VAL', 'I-VAL', 'I-VAL', 'I-VAL', 'O', 'B-KEY', 'I-KEY', 'B-VAL', 'I-VAL', 'I-VAL', 'I-VAL', 'I-VAL', 'O', 'B-KEY', 'I-KEY', 'B-VAL', 'I-VAL', 'I-VAL', 'I-VAL', 'I-VAL', 'O', 'O', 'O', 'O', 'O', 'O', 'O', 'O', 'O', 'O', 'O', 'O', 'O', 'O', 'O', 'O', 'O', 'O', 'O', 'O', 'O', 'O', 'O', 'O', 'O', 'O', 'O', 'O', 'O', 'O', 'O', 'O', 'O', 'O', 'O', 'O', 'O', 'O', 'O', 'O', 'O', 'O', 'O', 'O', 'O', 'O', 'O', 'O', 'O', 'O', 'O', 'O', 'O', 'O', 'O', 'O', 'O', 'O', 'O', 'O', 'O', 'O', 'O', 'O', 'O', 'O', 'O', 'O', 'O', 'O', 'O', 'O', 'O', 'O', 'O', 'O', 'O', 'O', 'O', 'O', 'O', 'O', 'O', 'O', 'O', 'O', 'O', 'O', 'O', 'O', 'O', 'O', 'O', 'B-KEY', 'O', 'O', 'O', 'O', 'B-KEY', 'B-VAL', 'I-VAL', 'I-VAL', 'I-VAL', 'I-VAL', 'I-VAL', 'I-VAL', 'I-VAL', 'O', 'O', 'O', 'O', 'O', 'O', 'O', 'B-KEY', 'I-KEY', 'B-VAL', 'I-VAL', 'I-VAL', 'I-VAL', 'I-VAL', 'I-VAL', 'I-VAL', 'O', 'O', 'O', 'O', 'O', 'O', 'O', 'O', 'O', 'O', 'O', 'O', 'O', 'O', 'O', 'B-KEY', 'B-VAL', 'I-VAL', 'I-VAL', 'I-VAL', 'I-VAL', 'I-VAL', 'B-KEY', 'I-KEY', 'B-VAL', 'I-VAL', 'I-VAL', 'I-VAL', 'I-VAL', 'B-KEY', 'I-KEY', 'B-VAL', 'I-VAL', 'I-VAL', 'I-VAL', 'I-VAL', 'B-KEY', 'B-VAL', 'I-VAL', 'I-VAL', 'I-VAL', 'I-VAL', 'I-VAL', 'I-VAL', 'I-VAL', 'I-VAL', 'I-VAL', 'I-VAL', 'I-VAL', 'I-VAL', 'I-VAL', 'I-VAL', 'I-VAL', 'I-VAL', 'I-VAL', 'I-VAL', 'I-VAL', 'I-VAL', 'I-VAL', 'I-VAL', 'I-VAL', 'I-VAL', 'I-VAL', 'I-VAL', 'I-VAL', 'I-VAL', 'I-VAL', 'I-VAL', 'I-VAL', 'I-VAL', 'O', 'O', 'B-KEY', 'I-KEY', 'I-KEY', 'I-KEY', 'O', 'O', 'O', 'O', 'O', 'O', 'O', 'O', 'O', 'O', 'O', 'O', 'O', 'O', 'O', 'O', 'O', 'O', 'B-VAL', 'I-VAL', 'I-VAL', 'I-VAL', 'I-VAL', 'I-VAL', 'B-KEY', 'I-KEY', 'O', 'O', 'O', 'O', 'O', 'O', 'O', 'O', 'B-KEY', 'O', 'O', 'O', 'O', 'O', 'O', 'O', 'O', 'B-VAL', 'I-VAL', 'I-VAL', 'I-VAL', 'I-VAL', 'I-VAL', 'I-VAL', 'I-VAL', 'I-VAL', 'I-VAL', 'I-VAL', 'I-VAL', 'I-VAL', 'B-KEY', 'I-KEY', 'B-VAL', 'I-VAL', 'I-VAL', 'I-VAL', 'I-VAL', 'B-KEY', 'I-KEY', 'B-VAL', 'I-VAL', 'I-VAL', 'I-VAL', 'I-VAL', 'B-KEY', 'O', 'B-VAL', 'I-VAL', 'I-VAL', 'I-VAL', 'I-VAL', 'I-VAL', 'I-VAL', 'B-KEY', 'I-KEY', 'O', 'O', 'O', 'O', 'O', 'O', 'O', 'O', 'O', 'O', 'O', 'O', 'O', 'O', 'O', 'O', 'O', 'O', 'O', 'O', 'O', 'O', 'O', 'O', 'O', 'O', 'O', 'O', 'O', 'O', 'O', 'O', 'O', 'O', 'O', 'O', 'O', 'O', 'O', 'O', 'O', 'O', 'O', 'O', 'O', 'O', 'O', 'O', 'O', 'O', 'O', 'O', 'O', 'O', 'O', 'O', 'O', 'O', 'O', 'O', 'O', 'O', 'O', 'O', 'O', 'O', 'O', 'O', 'O', 'O', 'O', 'O', 'O', 'O', 'O', 'O', 'O', 'O', 'O', 'O', 'O', 'O', 'O', 'O', 'O', 'O', 'O', 'O', 'O', 'O', 'O', 'O', 'O', 'O', 'O', 'O', 'O', 'O', 'O', 'O', 'O', 'O', 'O', 'O', 'O', 'O', 'O', 'O', 'O', 'O', 'O', 'O', 'O', 'O', 'O', 'O', 'O', 'O', 'O', 'O', 'O', 'O', 'O', 'O', 'O', 'O', 'O', 'O', 'O', 'O', 'O', 'O', 'B-KEY', 'O', 'O', 'O', 'B-KEY', 'O', 'O', 'O', 'O', 'B-KEY', 'B-VAL', 'I-VAL', 'I-VAL', 'I-VAL', 'I-VAL', 'I-VAL', 'O', 'O', 'O', 'O', 'O', 'O', 'O', 'B-KEY', 'I-KEY', 'B-VAL', 'I-VAL', 'I-VAL', 'I-VAL', 'I-VAL', 'I-VAL', 'I-VAL', 'O', 'O', 'O', 'O', 'O', 'O', 'O', 'O', 'O', 'O', 'O', 'O', 'O', 'O', 'O', 'B-KEY', 'B-VAL', 'I-VAL', 'I-VAL', 'I-VAL', 'I-VAL', 'I-VAL', 'B-KEY', 'I-KEY', 'B-VAL', 'I-VAL', 'I-VAL', 'I-VAL', 'I-VAL', 'B-KEY', 'I-KEY', 'B-VAL', 'I-VAL', 'I-VAL', 'I-VAL', 'B-KEY', 'B-VAL', 'I-VAL', 'I-VAL', 'I-VAL', 'I-VAL', 'I-VAL', 'I-VAL', 'I-VAL', 'I-VAL', 'I-VAL', 'I-VAL', 'I-VAL', 'I-VAL', 'I-VAL', 'I-VAL', 'I-VAL', 'I-VAL', 'I-VAL', 'I-VAL', 'I-VAL', 'I-VAL', 'I-VAL', 'I-VAL', 'B-KEY', 'I-KEY', 'B-KEY', 'I-KEY', 'I-KEY', 'O', 'B-VAL', 'I-VAL', 'I-VAL', 'I-VAL', 'I-VAL', 'I-VAL', 'B-KEY', 'I-KEY', 'O', 'O', 'B-KEY', 'B-VAL', 'I-VAL', 'I-VAL', 'I-VAL', 'I-VAL', 'I-VAL', 'I-VAL', 'I-VAL', 'I-VAL', 'I-VAL', 'I-VAL', 'I-VAL', 'I-VAL', 'B-KEY', 'I-KEY', 'B-VAL', 'I-VAL', 'I-VAL', 'I-VAL', 'I-VAL', 'B-KEY', 'I-KEY', 'B-VAL', 'I-VAL', 'I-VAL', 'I-VAL', 'I-VAL', 'O', 'O', 'O', 'O', 'O', 'O', 'O', 'O', 'O', 'O', 'O', 'O', 'O', 'O', 'O', 'O', 'O', 'O', 'O', 'O', 'O', 'O', 'O', 'O', 'O', 'O', 'O', 'O', 'O', 'O', 'O', 'O', 'O', 'O', 'O', 'O', 'O', 'O', 'O', 'O', 'O', 'O', 'O', 'O', 'O', 'O', 'O', 'O', 'O', 'O', 'O', 'O', 'O', 'O', 'O', 'O', 'O', 'O', 'O', 'O', 'O', 'O', 'O', 'O', 'O', 'O', 'O', 'O', 'O', 'O', 'O', 'O', 'O', 'O', 'O', 'O', 'O', 'O', 'O', 'O', 'O', 'O', 'O', 'O', 'O', 'O', 'O', 'O', 'O', 'O', 'O', 'O', 'O', 'O', 'O', 'O', 'O', 'O', 'O', 'O', 'O', 'O', 'O', 'O', 'O', 'O', 'O', 'O', 'O', 'O', 'O', 'O', 'O', 'O', 'O', 'O', 'O', 'O', 'O', 'O', 'O', 'O', 'O', 'O', 'O', 'O', 'O', 'O', 'O', 'O', 'O', 'O', 'O', 'O', 'O', 'O', 'O', 'O', 'O', 'O', 'O', 'O', 'O', 'O', 'O', 'O', 'O', 'O', 'O', 'O', 'O', 'O', 'O', 'O', 'O', 'O', 'O', 'O', 'O', 'O', 'O', 'O', 'O', 'O', 'O', 'O', 'O', 'O', 'O', 'O', 'O', 'O', 'O', 'O', 'O', 'O', 'O', 'O', 'O', 'O', 'O', 'O', 'O', 'O', 'O', 'O', 'O', 'O', 'O', 'O', 'O', 'O', 'O', 'O', 'O', 'O', 'O', 'O', 'O', 'O', 'O', 'O', 'O', 'O', 'O', 'O', 'O', 'O', 'O', 'O', 'O', 'O', 'O', 'O', 'O', 'O', 'O', 'O', 'O', 'O', 'O', 'O', 'O', 'O', 'O', 'O', 'O', 'O', 'O', 'O', 'O', 'O', 'O', 'O', 'O', 'O', 'O', 'O', 'O', 'O', 'O', 'O', 'O', 'O', 'O', 'O', 'O', 'O', 'O', 'O', 'O', 'O', 'O', 'O', 'O', 'O', 'O', 'O', 'O', 'O', 'O', 'O', 'O', 'O', 'O', 'O', 'O', 'O', 'O', 'O', 'O', 'O', 'O', 'O', 'O', 'O', 'O', 'O', 'O', 'O', 'O', 'O', 'O', 'O', 'O', 'O', 'O', 'O', 'O', 'O', 'O', 'O', 'O', 'O', 'O', 'O', 'O', 'O', 'O', 'O', 'O', 'O', 'O', 'O', 'O', 'O', 'O', 'O', 'O', 'O', 'O', 'O', 'O', 'O', 'O', 'O', 'O', 'O', 'O', 'O', 'O', 'O', 'O', 'O', 'O', 'O', 'O', 'O', 'O', 'O', 'O', 'O', 'O', 'O', 'O', 'O', 'O', 'O', 'O', 'O', 'O', 'O', 'O', 'B-VAL', 'I-VAL', 'I-VAL', 'I-VAL', 'I-VAL', 'I-VAL', 'I-VAL', 'I-VAL', 'I-VAL', 'I-VAL', 'O', 'O', 'O', 'O', 'O', 'O', 'O', 'O', 'O', 'O', 'O', 'O', 'O', 'O', 'O', 'O', 'O', 'O', 'O', 'O', 'B-KEY', 'B-VAL', 'I-VAL', 'I-VAL', 'I-VAL', 'I-VAL', 'I-VAL', 'O', 'O', 'O', 'B-VAL', 'I-VAL', 'I-VAL', 'I-VAL', 'I-VAL', 'I-VAL', 'I-VAL', 'O', 'O', 'O', 'O', 'O', 'O', 'B-KEY', 'B-VAL', 'I-VAL', 'I-VAL', 'I-VAL', 'I-VAL', 'I-VAL', 'B-VAL', 'I-VAL', 'I-VAL', 'I-VAL', 'I-VAL', 'I-VAL', 'O', 'O', 'O', 'B-KEY', 'I-KEY', 'I-KEY', 'B-VAL', 'I-VAL', 'I-VAL', 'I-VAL', 'I-VAL', 'I-VAL', 'I-VAL', 'O', 'O', 'O', 'O', 'O', 'O', 'O', 'O', 'O', 'O', 'B-KEY', 'O', 'O', 'O', 'B-VAL', 'O', 'O', 'O', 'O', 'O', 'O', 'O', 'O', 'O', 'O', 'O', 'O', 'O', 'O', 'O', 'O', 'O', 'O', 'O', 'O', 'O', 'B-KEY', 'B-KEY', 'B-KEY', 'B-KEY', 'I-KEY', 'I-KEY', 'O', 'O', 'B-VAL', 'I-VAL', 'I-VAL', 'I-VAL', 'I-VAL', 'I-VAL', 'O', 'O', 'B-VAL', 'I-VAL', 'I-VAL', 'I-VAL', 'I-VAL', 'I-VAL', 'O', 'O', 'O', 'O', 'O', 'O', 'O', 'O', 'O', 'O', 'O', 'O', 'O', 'O', 'O', 'B-KEY', 'I-KEY', 'I-KEY', 'I-KEY', 'O', 'O', 'O', 'B-VAL', 'I-VAL', 'I-VAL', 'I-VAL', 'I-VAL', 'I-VAL', 'I-VAL', 'B-KEY', 'I-KEY', 'I-KEY', 'O', 'O', 'B-VAL', 'I-VAL', 'I-VAL', 'I-VAL', 'I-VAL', 'I-VAL', 'B-KEY', 'O', 'O', 'O', 'O', 'O', 'O', 'O', 'O', 'O', 'O', 'O', 'O', 'O', 'O', 'O', 'O', 'O', 'O', 'O', 'O', 'O', 'O', 'O', 'O', 'O', 'O', 'O', 'O', 'O', 'O', 'O', 'O', 'O', 'O', 'O', 'O', 'O', 'O', 'O', 'O', 'O', 'O', 'O', 'O', 'O', 'O', 'O', 'O', 'O', 'O', 'O', 'O', 'O', 'O', 'O', 'O', 'O', 'O', 'O', 'O', 'O', 'O', 'O', 'O', 'O', 'O', 'O', 'O', 'O', 'O', 'O', 'O', 'O', 'O', 'O', 'O', 'O', 'O', 'O', 'O', 'O', 'O', 'O', 'O', 'O', 'O', 'O', 'O', 'O', 'O', 'O', 'O', 'O', 'O', 'O', 'O', 'O', 'O', 'O', 'O', 'O', 'O', 'O', 'O', 'O', 'O', 'O', 'O', 'O', 'O', 'O', 'O', 'O', 'O', 'O', 'O', 'O', 'O', 'O', 'O', 'O', 'O', 'O', 'O', 'O', 'O', 'O', 'O', 'O', 'O', 'O', 'O', 'O', 'O', 'O', 'O', 'O', 'O', 'O', 'O', 'O', 'O', 'O', 'O', 'O', 'O', 'O', 'O', 'O', 'O', 'O', 'O', 'O', 'O', 'O', 'O', 'O', 'O', 'O', 'O', 'O', 'O', 'O', 'O', 'O', 'O', 'O', 'O', 'O', 'O', 'O', 'O', 'O', 'O', 'O', 'O', 'O', 'O', 'O', 'O', 'O', 'O', 'O', 'O', 'O', 'O', 'O', 'O', 'O', 'O', 'O', 'O', 'O', 'O', 'O', 'O', 'O', 'O', 'O', 'O', 'O', 'O', 'O', 'O', 'O', 'O', 'O', 'O', 'O', 'O', 'O', 'O', 'O', 'O', 'O', 'O', 'O', 'O', 'O', 'O', 'O', 'O', 'O', 'O', 'O', 'O', 'O', 'O', 'O', 'O', 'O', 'O', 'O', 'O', 'O', 'O', 'O', 'O', 'O', 'O', 'O', 'O', 'O', 'O', 'O', 'O', 'O', 'O', 'O', 'O', 'O', 'O', 'O', 'O', 'O', 'O', 'O', 'O', 'O', 'O', 'O', 'O', 'O', 'O', 'O', 'O', 'O', 'O', 'O', 'O', 'O', 'O', 'O', 'O', 'O', 'O', 'O', 'O', 'O', 'O', 'O', 'O', 'O', 'O', 'O', 'O', 'O', 'O', 'O', 'O', 'O', 'O', 'O', 'O', 'O', 'O', 'O', 'O', 'O', 'O', 'O', 'O', 'O', 'O', 'O', 'O', 'O', 'O', 'O', 'O', 'O', 'O', 'O', 'O', 'O', 'O', 'O', 'O', 'O', 'O', 'O', 'O', 'O', 'O', 'O', 'O', 'O', 'O', 'O', 'O', 'O', 'O', 'O', 'O', 'O', 'O', 'O', 'O', 'O', 'O', 'O', 'O', 'O', 'O', 'O', 'O', 'O', 'O', 'O', 'O', 'O', 'O', 'O', 'O', 'O', 'O', 'O', 'O', 'O', 'O', 'O', 'O', 'O', 'O', 'O', 'B-KEY', 'O', 'O', 'B-KEY', 'O', 'B-KEY', 'I-KEY', 'I-KEY', 'O', 'O', 'O', 'B-VAL', 'I-VAL', 'I-VAL', 'I-VAL', 'I-VAL', 'I-VAL', 'I-VAL', 'O', 'B-KEY', 'O', 'B-KEY', 'I-KEY', 'B-VAL', 'I-VAL', 'I-VAL', 'I-VAL', 'I-VAL', 'I-VAL', 'O', 'B-KEY', 'O', 'O', 'B-VAL', 'I-VAL', 'I-VAL', 'I-VAL', 'I-VAL', 'I-VAL', 'O', 'O', 'O', 'O', 'O', 'O', 'O', 'O', 'O', 'O', 'O', 'O', 'O', 'O', 'O', 'O', 'O', 'O', 'O', 'O', 'O', 'O', 'O', 'O', 'O', 'O', 'O', 'O', 'O', 'O', 'O', 'O', 'O', 'O', 'O', 'O', 'O', 'O', 'O', 'O', 'O', 'O', 'O', 'O', 'O', 'O', 'O', 'O', 'O', 'O', 'O', 'O', 'O', 'O', 'O', 'O', 'O', 'O', 'O', 'O', 'O', 'O', 'O', 'O', 'O', 'O', 'O', 'O', 'O', 'O', 'O', 'O', 'B-KEY', 'O', 'B-VAL', 'I-VAL', 'I-VAL', 'I-VAL', 'I-VAL', 'I-VAL', 'I-VAL', 'O', 'O', 'O', 'O', 'O', 'O', 'O', 'O', 'O', 'O', 'O', 'O', 'O', 'O', 'O', 'O', 'O', 'O', 'O', 'O', 'O', 'O', 'O', 'O', 'O', 'O', 'O', 'O', 'O', 'O', 'O', 'O', 'O', 'O', 'O', 'O', 'O', 'O', 'O', 'O', 'O', 'O', 'O', 'O', 'O', 'O', 'O', 'O', 'O', 'O', 'O', 'O', 'O', 'O', 'O', 'O', 'O', 'O', 'O', 'O', 'O', 'O', 'O', 'O', 'O', 'O', 'O', 'O', 'O', 'O', 'O', 'O', 'B-KEY', 'I-KEY', 'O', 'O', 'O', 'O', 'B-VAL', 'I-VAL', 'I-VAL', 'I-VAL', 'I-VAL', 'I-VAL', 'B-KEY', 'I-KEY', 'O', 'O', 'O', 'O', 'B-VAL', 'I-VAL', 'I-VAL', 'I-VAL', 'I-VAL', 'I-VAL', 'O', 'O', 'O', 'O', 'O', 'O', 'O', 'O', 'O', 'O', 'O', 'O', 'O', 'O', 'O', 'O', 'O', 'O', 'O', 'O', 'O', 'O', 'O', 'O', 'O', 'O', 'O', 'O', 'O', 'O', 'O', 'O', 'O', 'O', 'O', 'O', 'O', 'O', 'O', 'O', 'O', 'O', 'O', 'O', 'O', 'O', 'O', 'O', 'O', 'O', 'O', 'O', 'O', 'O', 'O', 'O', 'O', 'O', 'O', 'O', 'O', 'O', 'O', 'O', 'O', 'O', 'O', 'O', 'O', 'O', 'O', 'O', 'O', 'O', 'O', 'O', 'O', 'O', 'O', 'O', 'O', 'O', 'O', 'O', 'O', 'O', 'O', 'O', 'O', 'O', 'O', 'O', 'O', 'O', 'O', 'O', 'O', 'O', 'O', 'O', 'O', 'O', 'O', 'O', 'O', 'O', 'O', 'O', 'O', 'O', 'O', 'O', 'O', 'O', 'O', 'O', 'O', 'O', 'O', 'O', 'O', 'O', 'O', 'O', 'O', 'O', 'O', 'O', 'O', 'O', 'O', 'O', 'O', 'O', 'O', 'O', 'O', 'O', 'O', 'O', 'O', 'O', 'O', 'O', 'O', 'O', 'O', 'O', 'O', 'O', 'O', 'O', 'O', 'O', 'O', 'O', 'O', 'O', 'O', 'O', 'O', 'O', 'O', 'O', 'O', 'O', 'O', 'O', 'O', 'O', 'O', 'O', 'O', 'O', 'O', 'O', 'O', 'O', 'O', 'O', 'O', 'O', 'O', 'O', 'O', 'O', 'O', 'O', 'O', 'O', 'O', 'O', 'O', 'O', 'O', 'O', 'O', 'O', 'O', 'O', 'O', 'O', 'O', 'O', 'O', 'O', 'O', 'O', 'O', 'O', 'O', 'O', 'O', 'O', 'O', 'O', 'O', 'O', 'O', 'O', 'O', 'O', 'O', 'O', 'O', 'O', 'O', 'O', 'O', 'O', 'O', 'O', 'O', 'O', 'O', 'O', 'O', 'O', 'O', 'O', 'O', 'O', 'O', 'O', 'O', 'O', 'O', 'O', 'O', 'O', 'O', 'O', 'O', 'O', 'O', 'O', 'O', 'O', 'O', 'O', 'O', 'O', 'O', 'O', 'O', 'B-KEY', 'O', 'B-VAL', 'I-VAL', 'I-VAL', 'I-VAL', 'I-VAL', 'I-VAL', 'B-KEY', 'I-KEY', 'I-KEY', 'O', 'B-VAL', 'I-VAL', 'I-VAL', 'I-VAL', 'I-VAL', 'I-VAL', 'I-VAL', 'I-VAL', 'I-VAL', 'I-VAL', 'I-VAL', 'I-VAL', 'I-VAL', 'I-VAL', 'I-VAL', 'B-KEY', 'I-KEY', 'I-KEY', 'O', 'B-VAL', 'I-VAL', 'I-VAL', 'I-VAL', 'I-VAL', 'I-VAL', 'I-VAL', 'I-VAL', 'I-VAL', 'I-VAL', 'I-VAL', 'I-VAL', 'I-VAL', 'I-VAL', 'B-KEY', 'I-KEY', 'O', 'B-KEY', 'B-VAL', 'I-VAL', 'I-VAL', 'I-VAL', 'I-VAL', 'I-VAL', 'I-VAL', 'I-VAL', 'O', 'B-VAL', 'I-VAL', 'I-VAL', 'I-VAL', 'I-VAL', 'B-KEY', 'I-KEY', 'B-VAL', 'I-VAL', 'I-VAL', 'I-VAL', 'I-VAL', 'B-KEY', 'I-KEY', 'B-VAL', 'I-VAL', 'I-VAL', 'I-VAL', 'I-VAL', 'B-KEY', 'I-KEY', 'I-KEY', 'B-VAL', 'I-VAL', 'I-VAL', 'I-VAL', 'I-VAL', 'I-VAL', 'I-VAL', 'I-VAL', 'I-VAL', 'O', 'O', 'O', 'B-VAL', 'I-VAL', 'I-VAL', 'I-VAL', 'I-VAL', 'I-VAL', 'I-VAL', 'I-VAL', 'I-VAL', 'I-VAL', 'I-VAL', 'I-VAL', 'O', 'B-KEY', 'I-KEY', 'I-KEY', 'B-VAL', 'I-VAL', 'I-VAL', 'I-VAL', 'I-VAL', 'I-VAL', 'I-VAL', 'I-VAL', 'I-VAL', 'I-VAL', 'B-KEY', 'I-KEY', 'B-VAL', 'I-VAL', 'I-VAL', 'I-VAL', 'I-VAL', 'B-KEY', 'O', 'B-VAL', 'I-VAL', 'I-VAL', 'I-VAL', 'I-VAL', 'I-VAL', 'I-VAL', 'B-KEY', 'I-KEY', 'I-KEY', 'O', 'B-VAL', 'I-VAL', 'I-VAL', 'I-VAL', 'I-VAL', 'I-VAL', 'I-VAL', 'I-VAL', 'I-VAL', 'I-VAL', 'I-VAL', 'I-VAL', 'I-VAL', 'I-VAL', 'I-VAL', 'I-VAL', 'I-VAL', 'I-VAL', 'I-VAL', 'I-VAL', 'I-VAL', 'B-KEY', 'I-KEY', 'B-VAL', 'I-VAL', 'I-VAL', 'I-VAL', 'I-VAL', 'B-KEY', 'I-KEY', 'I-KEY', 'B-VAL', 'I-VAL', 'I-VAL', 'I-VAL', 'I-VAL', 'I-VAL', 'I-VAL', 'I-VAL', 'O', 'B-KEY', 'I-KEY', 'B-VAL', 'I-VAL', 'I-VAL', 'I-VAL', 'I-VAL', 'I-VAL', 'I-VAL', 'B-KEY', 'I-KEY', 'I-KEY', 'B-VAL', 'I-VAL', 'I-VAL', 'I-VAL', 'I-VAL', 'I-VAL', 'I-VAL', 'I-VAL', 'I-VAL', 'I-VAL', 'O', 'B-VAL', 'I-VAL', 'I-VAL', 'I-VAL', 'I-VAL', 'I-VAL', 'I-VAL', 'I-VAL', 'O', 'O', 'O', 'B-KEY', 'I-KEY', 'I-KEY', 'B-VAL', 'I-VAL', 'I-VAL', 'I-VAL', 'I-VAL', 'I-VAL', 'I-VAL', 'I-VAL', 'I-VAL', 'O', 'B-KEY', 'I-KEY', 'B-VAL', 'I-VAL', 'I-VAL', 'I-VAL', 'I-VAL', 'O', 'O', 'O', 'O', 'O', 'O', 'O', 'O', 'O', 'O', 'O', 'O', 'O', 'O', 'O', 'O', 'O', 'O', 'O', 'O', 'O', 'O', 'O', 'O', 'O', 'O', 'O', 'O', 'O', 'O', 'O', 'O', 'O', 'O', 'O', 'O', 'O', 'O', 'O', 'O', 'O', 'O', 'O', 'B-KEY', 'O', 'O', 'B-KEY', 'I-KEY', 'B-VAL', 'I-VAL', 'I-VAL', 'I-VAL', 'I-VAL', 'I-VAL', 'I-VAL', 'O', 'O', 'O', 'O', 'O', 'O', 'O', 'O', 'O', 'O', 'O', 'O', 'O', 'B-KEY', 'O', 'O', 'B-KEY', 'I-KEY', 'B-VAL', 'I-VAL', 'I-VAL', 'I-VAL', 'I-VAL', 'I-VAL', 'O', 'O', 'O', 'O', 'O', 'O', 'O', 'O', 'O', 'O', 'O', 'O', 'O', 'O', 'O', 'O', 'O', 'O', 'O', 'O', 'O', 'O', 'O', 'O', 'O', 'O', 'O', 'O', 'O', 'O', 'O', 'O', 'O', 'O', 'O', 'O', 'O', 'O', 'O', 'O', 'O', 'O', 'O', 'O', 'O', 'O', 'O', 'O', 'O', 'O', 'O', 'O', 'O', 'O', 'O', 'O', 'O', 'O', 'O', 'O', 'O', 'O', 'O', 'O', 'O', 'O', 'O', 'O', 'O', 'O', 'O', 'O', 'O', 'O', 'O', 'B-KEY', 'O', 'O', 'B-VAL', 'I-VAL', 'I-VAL', 'I-VAL', 'O', 'O', 'O', 'O', 'O', 'O', 'O', 'O', 'O', 'O', 'O', 'B-KEY', 'I-KEY', 'B-VAL', 'I-VAL', 'I-VAL', 'O', 'O', 'O', 'O', 'O', 'O', 'O', 'O', 'O', 'O', 'O', 'O', 'O', 'O', 'O', 'O', 'O', 'O', 'O', 'O', 'O', 'O', 'O', 'O', 'O', 'O', 'O', 'O', 'O', 'O', 'O', 'O', 'O', 'O', 'O', 'O', 'O', 'O', 'O', 'O', 'O', 'O', 'O', 'O', 'O', 'O', 'O', 'O', 'O', 'O', 'O', 'O', 'O', 'O', 'O', 'O', 'O', 'O', 'O', 'O', 'O', 'O', 'B-KEY', 'B-KEY', 'I-KEY', 'I-KEY', 'I-KEY', 'I-KEY', 'B-VAL', 'I-VAL', 'I-VAL', 'I-VAL', 'I-VAL', 'I-VAL', 'B-VAL', 'I-VAL', 'I-VAL', 'I-VAL', 'I-VAL', 'I-VAL', 'O', 'B-KEY', 'B-KEY', 'I-KEY', 'I-KEY', 'I-KEY', 'O', 'O', 'O', 'O', 'O', 'O', 'O', 'O', 'O', 'O', 'O', 'O', 'O', 'O', 'O', 'O', 'O', 'O', 'O', 'O', 'O', 'O', 'O', 'O', 'O', 'O', 'O', 'O', 'O', 'O', 'O', 'O', 'O', 'O', 'O', 'O', 'O', 'O', 'O', 'O', 'B-KEY', 'B-VAL', 'I-VAL', 'I-VAL', 'I-VAL', 'I-VAL', 'I-VAL', 'O', 'B-VAL', 'I-VAL', 'I-VAL', 'I-VAL', 'I-VAL', 'I-VAL', 'I-VAL', 'I-VAL', 'I-VAL', 'I-VAL', 'I-VAL', 'I-VAL', 'I-VAL', 'I-VAL', 'I-VAL', 'I-VAL', 'I-VAL', 'I-VAL', 'I-VAL', 'I-VAL', 'I-VAL', 'I-VAL', 'I-VAL', 'I-VAL', 'I-VAL', 'I-VAL', 'I-VAL', 'I-VAL', 'I-VAL', 'I-VAL', 'I-VAL', 'I-VAL', 'I-VAL', 'I-VAL', 'I-VAL', 'I-VAL', 'I-VAL', 'I-VAL', 'I-VAL', 'O', 'B-KEY', 'I-KEY', 'B-VAL', 'I-VAL', 'I-VAL', 'I-VAL', 'I-VAL', 'O', 'B-KEY', 'I-KEY', 'B-VAL', 'I-VAL', 'I-VAL', 'I-VAL', 'I-VAL', 'O', 'B-KEY', 'B-VAL', 'I-VAL', 'I-VAL', 'I-VAL', 'I-VAL', 'I-VAL', 'I-VAL', 'I-VAL', 'I-VAL', 'I-VAL', 'I-VAL', 'I-VAL', 'I-VAL', 'O', 'B-VAL', 'I-VAL', 'I-VAL', 'I-VAL', 'I-VAL', 'I-VAL', 'I-VAL', 'I-VAL', 'I-VAL', 'I-VAL', 'I-VAL', 'I-VAL', 'I-VAL', 'I-VAL', 'I-VAL', 'I-VAL', 'O', 'B-KEY', 'I-KEY', 'B-VAL', 'I-VAL', 'I-VAL', 'I-VAL', 'I-VAL', 'O', 'B-KEY', 'I-KEY', 'B-VAL', 'I-VAL', 'I-VAL', 'I-VAL', 'I-VAL', 'O', 'O', 'O', 'O', 'O', 'O', 'O', 'O', 'O', 'O', 'O', 'O', 'O', 'O', 'O', 'O', 'O', 'O', 'O', 'O', 'O', 'O', 'O', 'O', 'O', 'O', 'O', 'O', 'O', 'O', 'O', 'O', 'O', 'O', 'O', 'O', 'O', 'O', 'O', 'O', 'O', 'O', 'O', 'O', 'O', 'O', 'O', 'O', 'O', 'O', 'O', 'O', 'O', 'O', 'O', 'O', 'O', 'O', 'O', 'O', 'O', 'O', 'O', 'O', 'O', 'O', 'O', 'O', 'O', 'O', 'O', 'O', 'O', 'O', 'O', 'O', 'O', 'O', 'O', 'O', 'O', 'O', 'O', 'O', 'O', 'O', 'O', 'O', 'O', 'O', 'O', 'O', 'O', 'B-KEY', 'O', 'O', 'O', 'O', 'B-KEY', 'B-VAL', 'I-VAL', 'I-VAL', 'I-VAL', 'I-VAL', 'I-VAL', 'I-VAL', 'I-VAL', 'I-VAL', 'O', 'O', 'O', 'O', 'O', 'O', 'O', 'B-KEY', 'I-KEY', 'B-VAL', 'I-VAL', 'I-VAL', 'I-VAL', 'I-VAL', 'I-VAL', 'I-VAL', 'I-VAL', 'O', 'O', 'O', 'O', 'O', 'O', 'O', 'O', 'O', 'O', 'O', 'O', 'O', 'O', 'O', 'B-KEY', 'B-VAL', 'I-VAL', 'I-VAL', 'I-VAL', 'I-VAL', 'I-VAL', 'B-KEY', 'I-KEY', 'B-VAL', 'I-VAL', 'I-VAL', 'I-VAL', 'I-VAL', 'B-KEY', 'I-KEY', 'B-VAL', 'I-VAL', 'I-VAL', 'I-VAL', 'I-VAL', 'B-KEY', 'B-VAL', 'I-VAL', 'I-VAL', 'I-VAL', 'I-VAL', 'I-VAL', 'I-VAL', 'I-VAL', 'I-VAL', 'I-VAL', 'I-VAL', 'I-VAL', 'I-VAL', 'I-VAL', 'I-VAL', 'I-VAL', 'I-VAL', 'I-VAL', 'I-VAL', 'I-VAL', 'I-VAL', 'I-VAL', 'I-VAL', 'I-VAL', 'I-VAL', 'I-VAL', 'I-VAL', 'I-VAL', 'I-VAL', 'I-VAL', 'I-VAL', 'I-VAL', 'I-VAL', 'B-KEY', 'I-KEY', 'O', 'O', 'O', 'O', 'O', 'O', 'O', 'O', 'O', 'O', 'O', 'O', 'O', 'O', 'O', 'O', 'O', 'O', 'O', 'O', 'O', 'O', 'B-VAL', 'I-VAL', 'I-VAL', 'I-VAL', 'I-VAL', 'I-VAL', 'B-KEY', 'I-KEY', 'O', 'O', 'O', 'O', 'O', 'O', 'O', 'O', 'B-KEY', 'O', 'O', 'O', 'O', 'O', 'O', 'O', 'O', 'B-VAL', 'I-VAL', 'I-VAL', 'I-VAL', 'I-VAL', 'I-VAL', 'I-VAL', 'I-VAL', 'I-VAL', 'I-VAL', 'I-VAL', 'I-VAL', 'I-VAL', 'B-KEY', 'I-KEY', 'B-VAL', 'I-VAL', 'I-VAL', 'I-VAL', 'I-VAL', 'B-KEY', 'I-KEY', 'B-VAL', 'I-VAL', 'I-VAL', 'I-VAL', 'I-VAL', 'B-KEY', 'O', 'B-VAL', 'I-VAL', 'I-VAL', 'I-VAL', 'I-VAL', 'I-VAL', 'I-VAL', 'B-KEY', 'I-KEY', 'O', 'O', 'O', 'O', 'O', 'O', 'O', 'O', 'O', 'O', 'O', 'O', 'O', 'O', 'O', 'O', 'O', 'O', 'O', 'O', 'O', 'O', 'O', 'O', 'O', 'O', 'O', 'O', 'O', 'O', 'O', 'O', 'O', 'O', 'O', 'O', 'O', 'O', 'O', 'O', 'O', 'O', 'O', 'O', 'O', 'O', 'O', 'O', 'O', 'O', 'O', 'O', 'O', 'O', 'O', 'O', 'O', 'O', 'O', 'O', 'O', 'O', 'O', 'O', 'O', 'O', 'O', 'O', 'O', 'O', 'O', 'O', 'O', 'O', 'O', 'O', 'O', 'O', 'O', 'O', 'O', 'O', 'O', 'O', 'O', 'O', 'O', 'O', 'O', 'O', 'O', 'O', 'O', 'O', 'O', 'O', 'B-VAL', 'I-VAL', 'I-VAL', 'I-VAL', 'I-VAL', 'I-VAL', 'O', 'O', 'O', 'O', 'O', 'O', 'O', 'O', 'O', 'O', 'O', 'O', 'O', 'O', 'O', 'O', 'O', 'O', 'O', 'O', 'O', 'O', 'O', 'O', 'O', 'O', 'O', 'O', 'O', 'O', 'O', 'O', 'B-KEY', 'I-KEY', 'I-KEY', 'I-KEY', 'O', 'B-VAL', 'I-VAL', 'I-VAL', 'I-VAL', 'I-VAL', 'B-KEY', 'O', 'B-VAL', 'I-VAL', 'I-VAL', 'I-VAL', 'I-VAL', 'I-VAL', 'I-VAL', 'I-VAL', 'I-VAL', 'I-VAL', 'I-VAL', 'I-VAL', 'I-VAL', 'I-VAL', 'I-VAL', 'O', 'O', 'O', 'O', 'O', 'O', 'O', 'O', 'O', 'O', 'O', 'O', 'O', 'O', 'O', 'O', 'O', 'O', 'O', 'O', 'O', 'O', 'O', 'O', 'O', 'O', 'O', 'O', 'O', 'O', 'O', 'O', 'O', 'O', 'O', 'O', 'O', 'O', 'O', 'O', 'O', 'O', 'O', 'O', 'O', 'O', 'O', 'O', 'O', 'O', 'O', 'O', 'O', 'O', 'O', 'O', 'O', 'O', 'O', 'O', 'O', 'O', 'O', 'O', 'O', 'O', 'O', 'O', 'O', 'O', 'O', 'O', 'O', 'O', 'O', 'O', 'O', 'O', 'O', 'O', 'O', 'O', 'O', 'O', 'O', 'O', 'O', 'O', 'O', 'O', 'O', 'B-KEY', 'I-KEY', 'I-KEY', 'I-KEY', 'I-KEY', 'O', 'B-KEY', 'B-VAL', 'I-VAL', 'I-VAL', 'I-VAL', 'I-VAL', 'I-VAL', 'O', 'O', 'O', 'O', 'O', 'O', 'O', 'O', 'O', 'O', 'O', 'O', 'O', 'O', 'O', 'O', 'O', 'O', 'O', 'O', 'O', 'O', 'O', 'O', 'O', 'O', 'O', 'O', 'O', 'O', 'O', 'O', 'O', 'O', 'O', 'O', 'O', 'O', 'O', 'O', 'O', 'O', 'O', 'O', 'O', 'O', 'O', 'O', 'O', 'O', 'O', 'O', 'O', 'O', 'O', 'O', 'O', 'O', 'O', 'O', 'O', 'O', 'O', 'O', 'O', 'O', 'O', 'O', 'O', 'O', 'O', 'O', 'O', 'O', 'O', 'O', 'O', 'O', 'O', 'O', 'O', 'O', 'O', 'O', 'O', 'O', 'O', 'O', 'O', 'O', 'O', 'O', 'O', 'O', 'O', 'O', 'O', 'O', 'O', 'O', 'O', 'O', 'O', 'O', 'O', 'O', 'O', 'O', 'O', 'O', 'O', 'O', 'O', 'O', 'O', 'O', 'O', 'O', 'O', 'O', 'O', 'O', 'O', 'O', 'O', 'O', 'O', 'O', 'O', 'O', 'O', 'O', 'O', 'O', 'O', 'O', 'O', 'O', 'O', 'O', 'O', 'O', 'O', 'O', 'O', 'O', 'O', 'O', 'O', 'O', 'O', 'O', 'O', 'O', 'O', 'O', 'O', 'O', 'O', 'O', 'O', 'O', 'O', 'O', 'O', 'O', 'O', 'O', 'O', 'O', 'O', 'O', 'O', 'O', 'O', 'O', 'O', 'O', 'O', 'O', 'O', 'O', 'O', 'O', 'O', 'O', 'O', 'O', 'O', 'O', 'O', 'O', 'O', 'O', 'O', 'O', 'O', 'O', 'O', 'O', 'O', 'O', 'O', 'O', 'O', 'O', 'O', 'O', 'O', 'O', 'O', 'O', 'O', 'O', 'O', 'O', 'O', 'O', 'O', 'O', 'O', 'O', 'O', 'O', 'O', 'O', 'O', 'O', 'O', 'O', 'O', 'O', 'O', 'O', 'O', 'O', 'O', 'O', 'O', 'O', 'O', 'O', 'O', 'O', 'O', 'O', 'O', 'O', 'O', 'O', 'O', 'O', 'O', 'O', 'O', 'O', 'O', 'O', 'O', 'O', 'O', 'O', 'O', 'O', 'O', 'O', 'O', 'O', 'O', 'O', 'O', 'O', 'O', 'O', 'O', 'O', 'O', 'O', 'O', 'O', 'O', 'O', 'O', 'O', 'O', 'O', 'O', 'O', 'O', 'O', 'O', 'O', 'O', 'O', 'O', 'O', 'O', 'O', 'O', 'O', 'O', 'O', 'O', 'O', 'O', 'O', 'O', 'O', 'O', 'O', 'O', 'O', 'O', 'O', 'O', 'O', 'O', 'O', 'O', 'O', 'O', 'O', 'O', 'O', 'O', 'O', 'O', 'O', 'O', 'O', 'O', 'O', 'O', 'O', 'O', 'O', 'O', 'O', 'O', 'O', 'O', 'O', 'O', 'O', 'O', 'O', 'O', 'O', 'O', 'O', 'O', 'O', 'O', 'O', 'O', 'O', 'O', 'O', 'O', 'O', 'O', 'O', 'O', 'O', 'O', 'B-VAL', 'I-VAL', 'I-VAL', 'I-VAL', 'I-VAL', 'I-VAL', 'I-VAL', 'I-VAL', 'I-VAL', 'I-VAL', 'I-VAL', 'I-VAL', 'I-VAL', 'I-VAL', 'I-VAL', 'I-VAL', 'I-VAL', 'I-VAL', 'I-VAL', 'I-VAL', 'I-VAL', 'I-VAL', 'I-VAL', 'I-VAL', 'I-VAL', 'I-VAL', 'I-VAL', 'I-VAL', 'O', 'O', 'O', 'O', 'O', 'O', 'O', 'O', 'O', 'B-KEY', 'O', 'O', 'O', 'O', 'B-KEY', 'I-KEY', 'I-KEY', 'B-VAL', 'I-VAL', 'I-VAL', 'I-VAL', 'I-VAL', 'I-VAL', 'O', 'O', 'O', 'O', 'O', 'O', 'O', 'O', 'O', 'O', 'O', 'O', 'O', 'O', 'O', 'O', 'O', 'O', 'O', 'O', 'O', 'O', 'O', 'B-VAL', 'I-VAL', 'I-VAL', 'I-VAL', 'I-VAL', 'I-VAL', 'I-VAL', 'I-VAL', 'I-VAL', 'I-VAL', 'I-VAL', 'I-VAL', 'I-VAL', 'I-VAL', 'I-VAL', 'I-VAL', 'I-VAL', 'I-VAL', 'I-VAL', 'I-VAL', 'I-VAL', 'O', 'O', 'O', 'O', 'O', 'O', 'O', 'O', 'O', 'B-KEY', 'O', 'O', 'O', 'O', 'B-KEY', 'I-KEY', 'B-VAL', 'I-VAL', 'I-VAL', 'I-VAL', 'I-VAL', 'I-VAL', 'I-VAL', 'O', 'O', 'O', 'O', 'O', 'O', 'O', 'O', 'O', 'O', 'O', 'O', 'O', 'O', 'O', 'O', 'O', 'O', 'O', 'O', 'O', 'O', 'O', 'O', 'O', 'O', 'O', 'O', 'O', 'O', 'O', 'O', 'O', 'O', 'O', 'O', 'O', 'O', 'O', 'O', 'O', 'O', 'O', 'O', 'O', 'O', 'O', 'O', 'O', 'O', 'O', 'O', 'O', 'O', 'O', 'O', 'O', 'O', 'O', 'O', 'O', 'O', 'O', 'O', 'O', 'O', 'O', 'O', 'O', 'O', 'O', 'O', 'O', 'O', 'O', 'O', 'O', 'O', 'O', 'O', 'O', 'O', 'O', 'O', 'O', 'O', 'O', 'O', 'O', 'O', 'O', 'O', 'O', 'O', 'O', 'O', 'O', 'O', 'O', 'O', 'O', 'O', 'O', 'O', 'B-KEY', 'B-KEY', 'I-KEY', 'I-KEY', 'I-KEY', 'I-KEY', 'I-KEY', 'I-KEY', 'I-KEY', 'I-KEY', 'O', 'O', 'O', 'O', 'O', 'O', 'O', 'O', 'O', 'O', 'O', 'O', 'O', 'O', 'O', 'B-VAL', 'I-VAL', 'I-VAL', 'I-VAL', 'I-VAL', 'I-VAL', 'O', 'O', 'O', 'O', 'O', 'B-KEY', 'B-KEY', 'I-KEY', 'I-KEY', 'I-KEY', 'I-KEY', 'I-KEY', 'I-KEY', 'I-KEY', 'I-KEY', 'I-KEY', 'I-KEY', 'O', 'O', 'O', 'O', 'O', 'O', 'O', 'O', 'O', 'O', 'O', 'O', 'O', 'O', 'O', 'B-VAL', 'I-VAL', 'I-VAL', 'I-VAL', 'I-VAL', 'I-VAL', 'O', 'O', 'O', 'O', 'O', 'O', 'O', 'O', 'O', 'O', 'O', 'O', 'O', 'O', 'O', 'O', 'O', 'O', 'O', 'O', 'O', 'O', 'O', 'O', 'O', 'O', 'O', 'O', 'O', 'O', 'O', 'O', 'O', 'O', 'O', 'O', 'O', 'O', 'O', 'O', 'O', 'O', 'O', 'O', 'O', 'O', 'O', 'O', 'O', 'O', 'O', 'O', 'O', 'O', 'O', 'O', 'O', 'O', 'O', 'O', 'O', 'O', 'O', 'O', 'O', 'O', 'O', 'O', 'O', 'O', 'O', 'O', 'O', 'O', 'O', 'O', 'O', 'O', 'O', 'O', 'O', 'O', 'O', 'O', 'O', 'O', 'O', 'O', 'O', 'O', 'O', 'O', 'O', 'O', 'O', 'O', 'O', 'O', 'O', 'O', 'O', 'O', 'O', 'O', 'O', 'O', 'O', 'O', 'O', 'O', 'O', 'O', 'O', 'O', 'O', 'O', 'O', 'O', 'O', 'O', 'O', 'O', 'O', 'O', 'O', 'O', 'O', 'O', 'O', 'O', 'O', 'O', 'O', 'O', 'O', 'O', 'O', 'O', 'O', 'O', 'O', 'O', 'O', 'O', 'O', 'O', 'O', 'O', 'O', 'O', 'O', 'O', 'O', 'O', 'O', 'O', 'O', 'O', 'O', 'O', 'O', 'O', 'O', 'O', 'O', 'O', 'O', 'O', 'O', 'O', 'O', 'O', 'O', 'O', 'O', 'O', 'O', 'O', 'O', 'O', 'O', 'O', 'O', 'O', 'O', 'O', 'O', 'O', 'O', 'O', 'O', 'O', 'O', 'O', 'O', 'O', 'O', 'O', 'O', 'O', 'O', 'O', 'O', 'O', 'O', 'O', 'O', 'O', 'O', 'O', 'O', 'O', 'O', 'O', 'O', 'O', 'O', 'O', 'O', 'O', 'O', 'O', 'B-KEY', 'B-VAL', 'I-VAL', 'I-VAL', 'I-VAL', 'I-VAL', 'I-VAL', 'O', 'B-VAL', 'I-VAL', 'I-VAL', 'I-VAL', 'I-VAL', 'I-VAL', 'I-VAL', 'I-VAL', 'I-VAL', 'I-VAL', 'I-VAL', 'I-VAL', 'I-VAL', 'I-VAL', 'I-VAL', 'I-VAL', 'I-VAL', 'I-VAL', 'I-VAL', 'I-VAL', 'I-VAL', 'I-VAL', 'I-VAL', 'I-VAL', 'I-VAL', 'I-VAL', 'I-VAL', 'I-VAL', 'I-VAL', 'I-VAL', 'I-VAL', 'I-VAL', 'I-VAL', 'I-VAL', 'I-VAL', 'I-VAL', 'I-VAL', 'I-VAL', 'I-VAL', 'O', 'B-KEY', 'I-KEY', 'B-VAL', 'I-VAL', 'I-VAL', 'I-VAL', 'I-VAL', 'O', 'B-KEY', 'I-KEY', 'B-VAL', 'I-VAL', 'I-VAL', 'I-VAL', 'I-VAL', 'O', 'B-KEY', 'B-VAL', 'I-VAL', 'I-VAL', 'I-VAL', 'I-VAL', 'I-VAL', 'I-VAL', 'I-VAL', 'I-VAL', 'I-VAL', 'I-VAL', 'I-VAL', 'I-VAL', 'O', 'B-VAL', 'I-VAL', 'I-VAL', 'I-VAL', 'I-VAL', 'I-VAL', 'I-VAL', 'I-VAL', 'I-VAL', 'I-VAL', 'I-VAL', 'I-VAL', 'I-VAL', 'I-VAL', 'I-VAL', 'I-VAL', 'O', 'B-KEY', 'I-KEY', 'B-VAL', 'I-VAL', 'I-VAL', 'I-VAL', 'I-VAL', 'O', 'B-KEY', 'I-KEY', 'B-VAL', 'I-VAL', 'I-VAL', 'I-VAL', 'I-VAL', 'O', 'O', 'O', 'O', 'O', 'O', 'O', 'O', 'O', 'O', 'O', 'O', 'O', 'O', 'O', 'O', 'O', 'O', 'O', 'O', 'O', 'O', 'O', 'O', 'O', 'O', 'O', 'O', 'O', 'O', 'O', 'O', 'O', 'O', 'O', 'O', 'O', 'O', 'O', 'O', 'O', 'O', 'O', 'O', 'O', 'O', 'O', 'O', 'O', 'O', 'O', 'O', 'O', 'O', 'O', 'O', 'O', 'O', 'O', 'O', 'O', 'O', 'O', 'O', 'O', 'O', 'O', 'O', 'O', 'O', 'O', 'O', 'O', 'O', 'O', 'O', 'O', 'O', 'O', 'O', 'O', 'O', 'O', 'O', 'O', 'O', 'O', 'O', 'O', 'O', 'O', 'O', 'O', 'B-KEY', 'O', 'O', 'O', 'B-KEY', 'O', 'O', 'O', 'O', 'B-KEY', 'B-VAL', 'I-VAL', 'I-VAL', 'I-VAL', 'I-VAL', 'I-VAL', 'I-VAL', 'I-VAL', 'I-VAL', 'O', 'O', 'O', 'O', 'O', 'O', 'O', 'B-KEY', 'I-KEY', 'B-VAL', 'I-VAL', 'I-VAL', 'I-VAL', 'I-VAL', 'I-VAL', 'I-VAL', 'I-VAL', 'O', 'O', 'O', 'O', 'O', 'O', 'O', 'O', 'O', 'O', 'O', 'O', 'O', 'O', 'O', 'B-KEY', 'B-VAL', 'I-VAL', 'I-VAL', 'I-VAL', 'I-VAL', 'I-VAL', 'B-KEY', 'I-KEY', 'B-VAL', 'I-VAL', 'I-VAL', 'I-VAL', 'I-VAL', 'B-KEY', 'I-KEY', 'B-VAL', 'I-VAL', 'I-VAL', 'I-VAL', 'I-VAL', 'B-KEY', 'B-VAL', 'I-VAL', 'I-VAL', 'I-VAL', 'I-VAL', 'I-VAL', 'I-VAL', 'I-VAL', 'I-VAL', 'I-VAL', 'I-VAL', 'I-VAL', 'I-VAL', 'I-VAL', 'I-VAL', 'I-VAL', 'I-VAL', 'I-VAL', 'I-VAL', 'I-VAL', 'I-VAL', 'I-VAL', 'I-VAL', 'I-VAL', 'I-VAL', 'I-VAL', 'I-VAL', 'I-VAL', 'I-VAL', 'I-VAL', 'I-VAL', 'I-VAL', 'I-VAL', 'B-KEY', 'I-KEY', 'B-KEY', 'I-KEY', 'I-KEY', 'I-KEY', 'O', 'O', 'O', 'O', 'O', 'O', 'O', 'O', 'O', 'O', 'O', 'O', 'O', 'O', 'O', 'O', 'O', 'O', 'B-VAL', 'I-VAL', 'I-VAL', 'I-VAL', 'I-VAL', 'I-VAL', 'B-KEY', 'I-KEY', 'O', 'O', 'O', 'O', 'O', 'O', 'O', 'O', 'B-KEY', 'O', 'O', 'O', 'O', 'O', 'O', 'O', 'O', 'B-VAL', 'I-VAL', 'I-VAL', 'I-VAL', 'I-VAL', 'I-VAL', 'I-VAL', 'I-VAL', 'I-VAL', 'I-VAL', 'I-VAL', 'I-VAL', 'I-VAL', 'B-KEY', 'I-KEY', 'B-VAL', 'I-VAL', 'I-VAL', 'I-VAL', 'I-VAL', 'B-KEY', 'I-KEY', 'B-VAL', 'I-VAL', 'I-VAL', 'I-VAL', 'I-VAL', 'B-KEY', 'O', 'B-VAL', 'I-VAL', 'I-VAL', 'I-VAL', 'I-VAL', 'I-VAL', 'I-VAL', 'B-KEY', 'I-KEY', 'O', 'O', 'O', 'O', 'O', 'O', 'O', 'O', 'O', 'O', 'O', 'O', 'O', 'O', 'O', 'O', 'O', 'O', 'O', 'O', 'O', 'O', 'O', 'O', 'O', 'O', 'O', 'O', 'O', 'O', 'O', 'O', 'O', 'O', 'O', 'O', 'O', 'O', 'O', 'O', 'O', 'O', 'O', 'O', 'O', 'O', 'O', 'O', 'O', 'O', 'O', 'O', 'O', 'O', 'O', 'O', 'O', 'O', 'O', 'O', 'O', 'O', 'O', 'O', 'O', 'O', 'O', 'O', 'O', 'O', 'O', 'O', 'O', 'O', 'O', 'O', 'O', 'O', 'O', 'O', 'O', 'O', 'O', 'O', 'O', 'O', 'O', 'O', 'O', 'O', 'O', 'O', 'O', 'O', 'O', 'O', 'O', 'O', 'O', 'O', 'O', 'O', 'O', 'B-KEY', 'O', 'B-VAL', 'I-VAL', 'I-VAL', 'I-VAL', 'I-VAL', 'I-VAL', 'I-VAL', 'O', 'B-KEY', 'I-KEY', 'O', 'B-KEY', 'I-KEY', 'B-VAL', 'I-VAL', 'I-VAL', 'I-VAL', 'I-VAL', 'I-VAL', 'O', 'B-VAL', 'I-VAL', 'I-VAL', 'I-VAL', 'O', 'B-VAL', 'I-VAL', 'I-VAL', 'I-VAL', 'I-VAL', 'I-VAL', 'I-VAL', 'I-VAL', 'I-VAL', 'I-VAL', 'I-VAL', 'I-VAL', 'I-VAL', 'I-VAL', 'I-VAL', 'B-KEY', 'O', 'B-VAL', 'I-VAL', 'I-VAL', 'I-VAL', 'I-VAL', 'I-VAL', 'O', 'B-KEY', 'I-KEY', 'O', 'B-KEY', 'I-KEY', 'B-VAL', 'I-VAL', 'I-VAL', 'I-VAL', 'I-VAL', 'O', 'B-VAL', 'I-VAL', 'I-VAL', 'I-VAL', 'O', 'B-VAL', 'I-VAL', 'I-VAL', 'I-VAL', 'I-VAL', 'I-VAL', 'I-VAL', 'I-VAL', 'I-VAL', 'I-VAL', 'I-VAL', 'B-KEY', 'O', 'B-VAL', 'I-VAL', 'I-VAL', 'I-VAL', 'I-VAL', 'O', 'O', 'O', 'B-KEY', 'I-KEY', 'O', 'O', 'O', 'O', 'O', 'B-VAL', 'I-VAL', 'I-VAL', 'I-VAL', 'I-VAL', 'B-KEY', 'O', 'B-VAL', 'I-VAL', 'I-VAL', 'I-VAL', 'I-VAL', 'B-KEY', 'O', 'O', 'O', 'O', 'B-KEY', 'O', 'B-VAL', 'I-VAL', 'I-VAL', 'I-VAL', 'I-VAL', 'I-VAL', 'I-VAL', 'O', 'O', 'O', 'O', 'O', 'O', 'O', 'O', 'O', 'O', 'O', 'O', 'O', 'O', 'O', 'O', 'O', 'O', 'O', 'O', 'O', 'O', 'B-KEY', 'B-KEY', 'B-KEY', 'B-KEY', 'O', 'O', 'B-VAL', 'I-VAL', 'I-VAL', 'I-VAL', 'I-VAL', 'I-VAL', 'B-VAL', 'I-VAL', 'I-VAL', 'I-VAL', 'I-VAL', 'I-VAL', 'O', 'O', 'O', 'O', 'O', 'O', 'O', 'O', 'O', 'O', 'O', 'O', 'O', 'O', 'O', 'O', 'O', 'O', 'O', 'O', 'O', 'O', 'O', 'O', 'O', 'O', 'O', 'O', 'O', 'O', 'O', 'O', 'O', 'O', 'O', 'O', 'O', 'O', 'O', 'O', 'O', 'O', 'O', 'O', 'O', 'O', 'O', 'O', 'O', 'O', 'O', 'O', 'O', 'O', 'O', 'O', 'O', 'O', 'O', 'O', 'O', 'O', 'O', 'O', 'O', 'O', 'O', 'O', 'O', 'O', 'O', 'O', 'O', 'O', 'O', 'O', 'O', 'O', 'O', 'O', 'O', 'O', 'O', 'O', 'O', 'O', 'O', 'O', 'O', 'O', 'O', 'O', 'O', 'O', 'O', 'O', 'O', 'O', 'O', 'O', 'O', 'O', 'O', 'O', 'O', 'O', 'O', 'O', 'O', 'O', 'O', 'O', 'O', 'O', 'O', 'O', 'O', 'O', 'O', 'O', 'O', 'O', 'O', 'O', 'O', 'O', 'O', 'O', 'O', 'O', 'O', 'O', 'O', 'O', 'O', 'O', 'O', 'O', 'O', 'O', 'O', 'O', 'O', 'O', 'O', 'O', 'O', 'O', 'O', 'O', 'O', 'O', 'O', 'O', 'O', 'O', 'O', 'O', 'O', 'O', 'O', 'O', 'O', 'O', 'O', 'O', 'O', 'O', 'O', 'O', 'O', 'O', 'O', 'O', 'O', 'O', 'O', 'O', 'O', 'O', 'O', 'O', 'O', 'O', 'O', 'O', 'O', 'O', 'O', 'O', 'O', 'O', 'O', 'O', 'O', 'O', 'O', 'O', 'O', 'O', 'O', 'O', 'O', 'O', 'O', 'O', 'O', 'O', 'O', 'O', 'O', 'O', 'O', 'O', 'O', 'O', 'O', 'O', 'O', 'O', 'O', 'O', 'O', 'O', 'O', 'O', 'O', 'O', 'O', 'O', 'O', 'O', 'O', 'O', 'O', 'O', 'O', 'O', 'O', 'O', 'O', 'O', 'O', 'O', 'O', 'O', 'O', 'O', 'O', 'O', 'O', 'O', 'O', 'O', 'O', 'O', 'O', 'O', 'O', 'O', 'O', 'O', 'O', 'O', 'O', 'O', 'O', 'O', 'O', 'O', 'O', 'O', 'O', 'O', 'O', 'O', 'O', 'O', 'O', 'O', 'O', 'O', 'O', 'O', 'O', 'O', 'O', 'O', 'O', 'O', 'O', 'O', 'O', 'O', 'O', 'O', 'O', 'O', 'O', 'O', 'O', 'O', 'O', 'O', 'O', 'O', 'O', 'O', 'O', 'O', 'O', 'O', 'O', 'O', 'O', 'O', 'O', 'O', 'O', 'O', 'O', 'O', 'O', 'O', 'O', 'O', 'O', 'O', 'O', 'O', 'O', 'O', 'O', 'O', 'O', 'O', 'O', 'O', 'O', 'O', 'O', 'O', 'O', 'O', 'O', 'O', 'O', 'O', 'O', 'O', 'O', 'O', 'O', 'O', 'O', 'O', 'O', 'O', 'O', 'O', 'O', 'O', 'O', 'O', 'O', 'O', 'O', 'O', 'O', 'B-VAL', 'I-VAL', 'I-VAL', 'I-VAL', 'O', 'O', 'O', 'O', 'O', 'O', 'O', 'O', 'O', 'B-KEY', 'O', 'O', 'O', 'O', 'B-KEY', 'I-KEY', 'B-VAL', 'I-VAL', 'I-VAL', 'I-VAL', 'I-VAL', 'I-VAL', 'O', 'O', 'O', 'O', 'O', 'O', 'O', 'O', 'O', 'O', 'O', 'O', 'O', 'B-VAL', 'I-VAL', 'I-VAL', 'I-VAL', 'I-VAL', 'I-VAL', 'I-VAL', 'I-VAL', 'O', 'O', 'O', 'O', 'O', 'O', 'O', 'O', 'O', 'B-KEY', 'O', 'O', 'O', 'O', 'B-KEY', 'I-KEY', 'B-VAL', 'I-VAL', 'I-VAL', 'I-VAL', 'I-VAL', 'I-VAL', 'I-VAL', 'O', 'O', 'O', 'O', 'O', 'O', 'O', 'O', 'O', 'O', 'O', 'O', 'O', 'O', 'O', 'O', 'O', 'O', 'O', 'O', 'O', 'O', 'O', 'O', 'O', 'O', 'O', 'O', 'O', 'O', 'O', 'O', 'O', 'O', 'O', 'O', 'O', 'O', 'O', 'O', 'O', 'O', 'B-KEY', 'O', 'O', 'O', 'B-KEY', 'B-VAL', 'I-VAL', 'O', 'O', 'O', 'O', 'O', 'O', 'O', 'O', 'O', 'O', 'O', 'O', 'O', 'O', 'O', 'B-KEY', 'I-KEY', 'O', 'B-VAL', 'I-VAL', 'I-VAL', 'I-VAL', 'I-VAL', 'I-VAL', 'O', 'O', 'O', 'O', 'O', 'O', 'O', 'O', 'O', 'O', 'O', 'O', 'O', 'O', 'O', 'O', 'O', 'O', 'O', 'O', 'O', 'O', 'O', 'O', 'O', 'O', 'O', 'O', 'O', 'O', 'O', 'O', 'O', 'O', 'O', 'O', 'O', 'O', 'O', 'O', 'O', 'O', 'O', 'O', 'O', 'O', 'O', 'O', 'O', 'O', 'O', 'O', 'O', 'O', 'O', 'O', 'O', 'O', 'O', 'O', 'O', 'O', 'O', 'O', 'O', 'O', 'O', 'O', 'O', 'O', 'O', 'O', 'O', 'O', 'O', 'O', 'O', 'O', 'O', 'O', 'O', 'O', 'O', 'O', 'O', 'O', 'O', 'O', 'O', 'O', 'O', 'B-KEY', 'I-KEY', 'O', 'B-KEY', 'I-KEY', 'O', 'B-KEY', 'I-KEY', 'I-KEY', 'I-KEY', 'I-KEY', 'B-VAL', 'I-VAL', 'I-VAL', 'I-VAL', 'I-VAL', 'I-VAL', 'I-VAL', 'O', 'O', 'O', 'B-KEY', 'I-KEY', 'I-KEY', 'I-KEY', 'I-KEY', 'B-VAL', 'I-VAL', 'I-VAL', 'I-VAL', 'I-VAL', 'O', 'O', 'O', 'O', 'O', 'O', 'O', 'O', 'O', 'O', 'O', 'O', 'O', 'O', 'O', 'O', 'O', 'O', 'O', 'O', 'O', 'O', 'O', 'O', 'O', 'O', 'O', 'O', 'O', 'O', 'O', 'O', 'O', 'O', 'O', 'O', 'O', 'O', 'O', 'O', 'O', 'O', 'O', 'O', 'O', 'O', 'O', 'O', 'O', 'O', 'O', 'O', 'O', 'O', 'O', 'O', 'O', 'O', 'O', 'O', 'O', 'O', 'O', 'O', 'O', 'O', 'O', 'O', 'O', 'O', 'O', 'O', 'O', 'O', 'O', 'O', 'O', 'O', 'O', 'O', 'O', 'O', 'O', 'O', 'O', 'O', 'O', 'O', 'O', 'O', 'O', 'O', 'O', 'O', 'O', 'O', 'O', 'O', 'O', 'O', 'O', 'O', 'O', 'O', 'O', 'O', 'O', 'O', 'O', 'O', 'O', 'O', 'O', 'O', 'O', 'O', 'O', 'O', 'O', 'O', 'O', 'O', 'O', 'O', 'O', 'O', 'O', 'O', 'O', 'O', 'O', 'O', 'O', 'O', 'O', 'O', 'O', 'O', 'O', 'O', 'O', 'O', 'O', 'O', 'O', 'O', 'O', 'O', 'O', 'O', 'O', 'O', 'O', 'O', 'O', 'O', 'O', 'O', 'O', 'O', 'O', 'O', 'O', 'O', 'O', 'O', 'O', 'O', 'O', 'O', 'O', 'O', 'O', 'O', 'O', 'O', 'O', 'O', 'O', 'O', 'O', 'O', 'O', 'O', 'O', 'O', 'O', 'O', 'O', 'O', 'O', 'O', 'O', 'O', 'O', 'O', 'O', 'O', 'O', 'O', 'O', 'O', 'O', 'O', 'O', 'O', 'O', 'O', 'O', 'O', 'O', 'O', 'O', 'O', 'O', 'O', 'O', 'O', 'O', 'B-KEY', 'I-KEY', 'O', 'O', 'O', 'O', 'O', 'O', 'O', 'B-VAL', 'I-VAL', 'I-VAL', 'I-VAL', 'I-VAL', 'I-VAL', 'O', 'O', 'O', 'O', 'O', 'O', 'O', 'O', 'O', 'O', 'O', 'O', 'O', 'O', 'O', 'O', 'B-KEY', 'I-KEY', 'O', 'O', 'O', 'O', 'O', 'O', 'B-VAL', 'I-VAL', 'I-VAL', 'I-VAL', 'I-VAL', 'O', 'O', 'O', 'O', 'O', 'O', 'O', 'O', 'O', 'O', 'O', 'O', 'O', 'O', 'O', 'O', 'O', 'O', 'O', 'O', 'O', 'O', 'O', 'O', 'O', 'O', 'O', 'O', 'O', 'O', 'O', 'O', 'O', 'O', 'O', 'O', 'O', 'O', 'O', 'O', 'B-VAL', 'I-VAL', 'I-VAL', 'I-VAL', 'I-VAL', 'I-VAL', 'I-VAL', 'I-VAL', 'I-VAL', 'I-VAL', 'O', 'O', 'O', 'O', 'B-KEY', 'B-VAL', 'I-VAL', 'I-VAL', 'I-VAL', 'I-VAL', 'I-VAL', 'O', 'O', 'O', 'O', 'O', 'O', 'O', 'B-VAL', 'I-VAL', 'I-VAL', 'I-VAL', 'I-VAL', 'I-VAL', 'I-VAL', 'I-VAL', 'I-VAL', 'I-VAL', 'B-KEY', 'O', 'O', 'O', 'O', 'O', 'O', 'O', 'O', 'O', 'O', 'O', 'B-VAL', 'I-VAL', 'I-VAL', 'I-VAL', 'I-VAL', 'I-VAL', 'I-VAL', 'I-VAL', 'I-VAL', 'I-VAL', 'I-VAL', 'I-VAL', 'I-VAL', 'B-KEY', 'O', 'O', 'O', 'O', 'O', 'O', 'O', 'O', 'O', 'O', 'O', 'O', 'O', 'O', 'O', 'O', 'O', 'O', 'O', 'O', 'O', 'O', 'B-KEY', 'O', 'B-VAL', 'I-VAL', 'I-VAL', 'I-VAL', 'I-VAL', 'I-VAL', 'I-VAL', 'I-VAL', 'B-KEY', 'I-KEY', 'O', 'B-KEY', 'I-KEY', 'O', 'B-KEY', 'O', 'O', 'B-VAL', 'I-VAL', 'I-VAL', 'I-VAL', 'I-VAL', 'I-VAL', 'B-KEY', 'I-KEY', 'O', 'O', 'O', 'B-VAL', 'I-VAL', 'I-VAL', 'I-VAL', 'I-VAL', 'I-VAL', 'I-VAL', 'O', 'O', 'O', 'O', 'O', 'O', 'O', 'O', 'O', 'O', 'O', 'O', 'O', 'O', 'O', 'O', 'O', 'O', 'O', 'O', 'O', 'O', 'O', 'O', 'O', 'O', 'O', 'O', 'O', 'O', 'O', 'O', 'O', 'O', 'O', 'O', 'O', 'O', 'O', 'O', 'O', 'O', 'O', 'O', 'O', 'O', 'O', 'O', 'O', 'B-VAL', 'I-VAL', 'I-VAL', 'I-VAL', 'I-VAL', 'I-VAL', 'O', 'O', 'O', 'O', 'O', 'O', 'O', 'O', 'O', 'O', 'O', 'O', 'O', 'O', 'O', 'O', 'O', 'O', 'O', 'O', 'O', 'O', 'O', 'O', 'O', 'O', 'O', 'O', 'O', 'O', 'O', 'O', 'O', 'O', 'O', 'O', 'O', 'O', 'O', 'O', 'O', 'O', 'O', 'O', 'O', 'O', 'O', 'O', 'O', 'O', 'O', 'O', 'O', 'O', 'O', 'O', 'O', 'O', 'O', 'O', 'O', 'O', 'O', 'O', 'O', 'O', 'O', 'O', 'O', 'O', 'O', 'O', 'O', 'O', 'O', 'O', 'O', 'O', 'O', 'O', 'O', 'O', 'O', 'O', 'O', 'O', 'O', 'O', 'O', 'O', 'O', 'O', 'O', 'O', 'O', 'O', 'O', 'O', 'O', 'O', 'O', 'O', 'O', 'O', 'O', 'O', 'O', 'O', 'O', 'O', 'O', 'O', 'O', 'O', 'O', 'O', 'O', 'O', 'O', 'O', 'O', 'O', 'O', 'O', 'O', 'O', 'O', 'O', 'O', 'O', 'O', 'O', 'O', 'O', 'O', 'O', 'O', 'O', 'O', 'O', 'O', 'O', 'O', 'O', 'O', 'O', 'O', 'O', 'O', 'O', 'O', 'O', 'O', 'O', 'O', 'O', 'O', 'O', 'O', 'O', 'O', 'O', 'O', 'O', 'O', 'O', 'O', 'O', 'O', 'O', 'O', 'O', 'O', 'O', 'O', 'O', 'O', 'O', 'O', 'O', 'O', 'O', 'O', 'O', 'O', 'O', 'O', 'O', 'O', 'O', 'O', 'O', 'O', 'O', 'O', 'O', 'O', 'O', 'O', 'O', 'O', 'O', 'O', 'O', 'O', 'O', 'O', 'O', 'O', 'O', 'O', 'O', 'O', 'O', 'O', 'O', 'O', 'O', 'O', 'O', 'O', 'O', 'O', 'O', 'O', 'O', 'O', 'O', 'O', 'O', 'O', 'O', 'O', 'O', 'O', 'O', 'O', 'O', 'O', 'O', 'O', 'O', 'O', 'O', 'O', 'O', 'O', 'O', 'O', 'O', 'O', 'O', 'O', 'O', 'O', 'O', 'O', 'O', 'O', 'O', 'O', 'O', 'O', 'O', 'O', 'O', 'O', 'O', 'O', 'O', 'O', 'O', 'B-KEY', 'B-VAL', 'I-VAL', 'I-VAL', 'I-VAL', 'I-VAL', 'I-VAL', 'O', 'B-VAL', 'I-VAL', 'I-VAL', 'I-VAL', 'I-VAL', 'I-VAL', 'I-VAL', 'I-VAL', 'I-VAL', 'I-VAL', 'I-VAL', 'I-VAL', 'I-VAL', 'I-VAL', 'I-VAL', 'I-VAL', 'I-VAL', 'I-VAL', 'I-VAL', 'I-VAL', 'I-VAL', 'I-VAL', 'I-VAL', 'I-VAL', 'I-VAL', 'I-VAL', 'I-VAL', 'I-VAL', 'I-VAL', 'I-VAL', 'I-VAL', 'I-VAL', 'I-VAL', 'I-VAL', 'I-VAL', 'I-VAL', 'I-VAL', 'I-VAL', 'I-VAL', 'O', 'B-KEY', 'I-KEY', 'B-VAL', 'I-VAL', 'I-VAL', 'I-VAL', 'I-VAL', 'O', 'B-KEY', 'I-KEY', 'B-VAL', 'I-VAL', 'I-VAL', 'I-VAL', 'I-VAL', 'O', 'B-KEY', 'B-VAL', 'I-VAL', 'I-VAL', 'I-VAL', 'I-VAL', 'I-VAL', 'I-VAL', 'I-VAL', 'I-VAL', 'I-VAL', 'I-VAL', 'I-VAL', 'I-VAL', 'O', 'B-VAL', 'I-VAL', 'I-VAL', 'I-VAL', 'I-VAL', 'I-VAL', 'I-VAL', 'I-VAL', 'I-VAL', 'I-VAL', 'I-VAL', 'I-VAL', 'I-VAL', 'I-VAL', 'I-VAL', 'I-VAL', 'O', 'B-KEY', 'I-KEY', 'B-VAL', 'I-VAL', 'I-VAL', 'I-VAL', 'I-VAL', 'O', 'B-KEY', 'I-KEY', 'B-VAL', 'I-VAL', 'I-VAL', 'I-VAL', 'I-VAL', 'O', 'O', 'O', 'O', 'O', 'O', 'O', 'O', 'O', 'O', 'O', 'O', 'O', 'O', 'O', 'O', 'O', 'O', 'O', 'O', 'O', 'O', 'O', 'O', 'O', 'O', 'O', 'O', 'O', 'O', 'O', 'O', 'O', 'O', 'O', 'O', 'O', 'O', 'O', 'O', 'O', 'O', 'O', 'O', 'O', 'O', 'O', 'O', 'O', 'O', 'O', 'O', 'O', 'O', 'O', 'O', 'O', 'O', 'O', 'O', 'O', 'O', 'O', 'O', 'O', 'O', 'O', 'O', 'O', 'O', 'O', 'O', 'O', 'O', 'O', 'O', 'O', 'O', 'O', 'O', 'O', 'O', 'O', 'O', 'O', 'O', 'O', 'O', 'O', 'O', 'O', 'O', 'O', 'B-KEY', 'O', 'O', 'O', 'O', 'B-KEY', 'B-VAL', 'I-VAL', 'I-VAL', 'I-VAL', 'I-VAL', 'I-VAL', 'I-VAL', 'I-VAL', 'O', 'O', 'O', 'O', 'O', 'O', 'O', 'B-KEY', 'I-KEY', 'B-VAL', 'I-VAL', 'I-VAL', 'I-VAL', 'I-VAL', 'O', 'O', 'O', 'O', 'O', 'O', 'O', 'O', 'O', 'O', 'O', 'O', 'O', 'O', 'O', 'B-KEY', 'B-VAL', 'I-VAL', 'I-VAL', 'I-VAL', 'I-VAL', 'I-VAL', 'B-KEY', 'I-KEY', 'B-VAL', 'I-VAL', 'I-VAL', 'I-VAL', 'I-VAL', 'B-KEY', 'I-KEY', 'B-VAL', 'I-VAL', 'I-VAL', 'I-VAL', 'I-VAL', 'B-KEY', 'B-VAL', 'I-VAL', 'I-VAL', 'I-VAL', 'I-VAL', 'I-VAL', 'I-VAL', 'I-VAL', 'I-VAL', 'I-VAL', 'I-VAL', 'I-VAL', 'I-VAL', 'I-VAL', 'I-VAL', 'I-VAL', 'I-VAL', 'I-VAL', 'I-VAL', 'I-VAL', 'I-VAL', 'I-VAL', 'I-VAL', 'I-VAL', 'I-VAL', 'I-VAL', 'I-VAL', 'I-VAL', 'I-VAL', 'I-VAL', 'I-VAL', 'I-VAL', 'I-VAL', 'B-KEY', 'I-KEY', 'B-KEY', 'I-KEY', 'I-KEY', 'I-KEY', 'O', 'O', 'O', 'O', 'O', 'O', 'O', 'O', 'O', 'O', 'O', 'O', 'O', 'O', 'O', 'O', 'O', 'O', 'B-VAL', 'I-VAL', 'I-VAL', 'I-VAL', 'I-VAL', 'I-VAL', 'B-KEY', 'I-KEY', 'O', 'O', 'O', 'O', 'O', 'O', 'O', 'O', 'B-KEY', 'B-VAL', 'I-VAL', 'I-VAL', 'I-VAL', 'I-VAL', 'I-VAL', 'I-VAL', 'I-VAL', 'I-VAL', 'I-VAL', 'I-VAL', 'I-VAL', 'I-VAL', 'B-KEY', 'I-KEY', 'B-VAL', 'I-VAL', 'I-VAL', 'I-VAL', 'I-VAL', 'B-KEY', 'I-KEY', 'B-VAL', 'I-VAL', 'I-VAL', 'I-VAL', 'I-VAL', 'O', 'O', 'O', 'O', 'O', 'O', 'O', 'O', 'O', 'O', 'O', 'O', 'O', 'O', 'O', 'O', 'O', 'O', 'O', 'O', 'O', 'O', 'O', 'O', 'O', 'O', 'O', 'O', 'O', 'O', 'O', 'O', 'O', 'O', 'O', 'O', 'O', 'O', 'O', 'O', 'O', 'O', 'O', 'O', 'O', 'O', 'O', 'O', 'O', 'O', 'O', 'O', 'O', 'O', 'O', 'O', 'O', 'O', 'O', 'O', 'O', 'O', 'O', 'O', 'O', 'O', 'O', 'O', 'O', 'O', 'O', 'O', 'O', 'O', 'O', 'O', 'O', 'O', 'O', 'O', 'O', 'O', 'O', 'O', 'O', 'O', 'O', 'O', 'O', 'O', 'O', 'O', 'O', 'O', 'O', 'O', 'O', 'O', 'O', 'O', 'O', 'O', 'O', 'O', 'O', 'O', 'O', 'O', 'O', 'O', 'O', 'O', 'O', 'O', 'O', 'O', 'O', 'O', 'O', 'O', 'O', 'O', 'O', 'O', 'O', 'O', 'O', 'O', 'O', 'O', 'O', 'O', 'O', 'O', 'O', 'O', 'O', 'O', 'O', 'O', 'O', 'O', 'O', 'O', 'O', 'O', 'O', 'O', 'O', 'O', 'O', 'O', 'O', 'O', 'O', 'O', 'O', 'O', 'O', 'B-KEY', 'I-KEY', 'I-KEY', 'I-KEY', 'I-KEY', 'O', 'B-VAL', 'I-VAL', 'I-VAL', 'I-VAL', 'I-VAL', 'B-KEY', 'I-KEY', 'I-KEY', 'I-KEY', 'I-KEY', 'I-KEY', 'O', 'B-VAL', 'I-VAL', 'I-VAL', 'I-VAL', 'I-VAL', 'I-VAL', 'I-VAL', 'I-VAL', 'B-KEY', 'I-KEY', 'I-KEY', 'I-KEY', 'I-KEY', 'I-KEY', 'O', 'B-VAL', 'I-VAL', 'I-VAL', 'I-VAL', 'I-VAL', 'I-VAL', 'I-VAL', 'I-VAL', 'I-VAL', 'I-VAL', 'B-KEY', 'I-KEY', 'I-KEY', 'I-KEY', 'I-KEY', 'O', 'B-VAL', 'I-VAL', 'B-KEY', 'I-KEY', 'O', 'B-KEY', 'I-KEY', 'I-KEY', 'B-VAL', 'I-VAL', 'I-VAL', 'I-VAL', 'I-VAL', 'I-VAL', 'O', 'O', 'O', 'B-KEY', 'I-KEY', 'I-KEY', 'I-KEY', 'I-KEY', 'B-VAL', 'I-VAL', 'I-VAL', 'I-VAL', 'B-VAL', 'I-VAL', 'I-VAL', 'I-VAL', 'I-VAL', 'I-VAL', 'O', 'O', 'O', 'O', 'O', 'O', 'O', 'O', 'O', 'O', 'O', 'O', 'O', 'O', 'O', 'O', 'O', 'O', 'O', 'O', 'O', 'O', 'O', 'O', 'O', 'O', 'O', 'O', 'O', 'O', 'O', 'O', 'O', 'O', 'O', 'O', 'O', 'O', 'O', 'B-KEY', 'I-KEY', 'I-KEY', 'I-KEY', 'B-VAL', 'I-VAL', 'I-VAL', 'I-VAL', 'I-VAL', 'I-VAL', 'O', 'O', 'O', 'O', 'O', 'O', 'O', 'O', 'O', 'O', 'O', 'O', 'O', 'O', 'O', 'O', 'O', 'O', 'O', 'O', 'O', 'O', 'O', 'O', 'O', 'O', 'O', 'O', 'O', 'O', 'O', 'O', 'O', 'O', 'O', 'O', 'O', 'O', 'O', 'O', 'O', 'O', 'O', 'O', 'O', 'O', 'O', 'O', 'O', 'O', 'O', 'O', 'O', 'O', 'O', 'O', 'O', 'O', 'O', 'O', 'O', 'O', 'O', 'O', 'O', 'O', 'O', 'O', 'O', 'O', 'O', 'O', 'O', 'O', 'O', 'O', 'O', 'O', 'O', 'O', 'O', 'O', 'O', 'B-KEY', 'I-KEY', 'I-KEY', 'I-KEY', 'I-KEY', 'I-KEY', 'O', 'O', 'O', 'B-VAL', 'I-VAL', 'I-VAL', 'I-VAL', 'I-VAL', 'B-KEY', 'I-KEY', 'I-KEY', 'I-KEY', 'I-KEY', 'I-KEY', 'O', 'O', 'O', 'B-VAL', 'I-VAL', 'I-VAL', 'I-VAL', 'I-VAL', 'B-KEY', 'I-KEY', 'I-KEY', 'O', 'B-VAL', 'I-VAL', 'I-VAL', 'I-VAL', 'I-VAL', 'I-VAL', 'I-VAL', 'I-VAL', 'I-VAL', 'I-VAL', 'I-VAL', 'I-VAL', 'I-VAL', 'I-VAL', 'B-KEY', 'I-KEY', 'I-KEY', 'O', 'O', 'O', 'O', 'B-VAL', 'I-VAL', 'I-VAL', 'I-VAL', 'I-VAL', 'I-VAL', 'O', 'O', 'O', 'O', 'O', 'O', 'O', 'O', 'O', 'O', 'O', 'O', 'O', 'O', 'O', 'O', 'O', 'O', 'O', 'O', 'O', 'O', 'O', 'O', 'O', 'O', 'O', 'O', 'O', 'O', 'O', 'O', 'O', 'O', 'O', 'O', 'O', 'O', 'O', 'O', 'O', 'O', 'O', 'O', 'O', 'O', 'O', 'O', 'O', 'O', 'O', 'O', 'O', 'O', 'O', 'O', 'O', 'O', 'O', 'O', 'O', 'O', 'O', 'O', 'O', 'O', 'O', 'O', 'O', 'O', 'O', 'O', 'O', 'O', 'O', 'O', 'O', 'O', 'O', 'O', 'O', 'O', 'O', 'O', 'O', 'O', 'O', 'O', 'O', 'O', 'O', 'O', 'O', 'O', 'O', 'O', 'O', 'O', 'O', 'O', 'O', 'O', 'O', 'O', 'O', 'O', 'O', 'O', 'O', 'O', 'O', 'O', 'O', 'O', 'O', 'O', 'O', 'O', 'O', 'O', 'O', 'O', 'O', 'O', 'O', 'O', 'O', 'O', 'O', 'O', 'O', 'O', 'O', 'O', 'O', 'O', 'O', 'O', 'O', 'O', 'O', 'O', 'O', 'O', 'O', 'O', 'O', 'O', 'O', 'O', 'O', 'O', 'O', 'O', 'O', 'O', 'O', 'O', 'O', 'O', 'O', 'O', 'O', 'O', 'O', 'O', 'O', 'O', 'O', 'O', 'O', 'O', 'O', 'O', 'O', 'O', 'O', 'O', 'O', 'O', 'O', 'O', 'O', 'O', 'O', 'O', 'O', 'O', 'O', 'O', 'O', 'O', 'O', 'O', 'O', 'O', 'O', 'O', 'O', 'O', 'O', 'O', 'O', 'O', 'O', 'O', 'O', 'O', 'O', 'O', 'O', 'O', 'O', 'O', 'O', 'O', 'O', 'O', 'O', 'O', 'O', 'O', 'O', 'O', 'O', 'O', 'O', 'O', 'O', 'O', 'O', 'O', 'O', 'O', 'O', 'O', 'O', 'O', 'O', 'O', 'O', 'O', 'O', 'O', 'O', 'O', 'O', 'O', 'O', 'O', 'O', 'O', 'O', 'O', 'B-VAL', 'I-VAL', 'I-VAL', 'I-VAL', 'I-VAL', 'I-VAL', 'O', 'O', 'O', 'O', 'O', 'O', 'O', 'O', 'O', 'B-KEY', 'O', 'O', 'O', 'O', 'B-KEY', 'I-KEY', 'B-VAL', 'I-VAL', 'I-VAL', 'I-VAL', 'I-VAL', 'I-VAL', 'O', 'O', 'O', 'O', 'O', 'O', 'O', 'O', 'O', 'O', 'O', 'O', 'O', 'O', 'B-VAL', 'I-VAL', 'I-VAL', 'I-VAL', 'I-VAL', 'I-VAL', 'O', 'O', 'O', 'O', 'O', 'O', 'O', 'O', 'O', 'B-KEY', 'O', 'O', 'O', 'O', 'B-KEY', 'I-KEY', 'B-VAL', 'I-VAL', 'I-VAL', 'I-VAL', 'I-VAL', 'I-VAL', 'I-VAL', 'O', 'O', 'O', 'O', 'O', 'O', 'O', 'O', 'O', 'O', 'O', 'O', 'O', 'O', 'O', 'O', 'O', 'O', 'O', 'O', 'O', 'O', 'O', 'O', 'O', 'O', 'O', 'O', 'O', 'O', 'O', 'O', 'O', 'O', 'O', 'O', 'O', 'O', 'O', 'O', 'O', 'O', 'O', 'O', 'O', 'O', 'O', 'O', 'O', 'O', 'O', 'O', 'O', 'O', 'O', 'O', 'O', 'O', 'O', 'O', 'O', 'O', 'O', 'O', 'O', 'O', 'O', 'O', 'O', 'O', 'O', 'O', 'O', 'O', 'O', 'O', 'O', 'O', 'O', 'O', 'O', 'O', 'O', 'O', 'O', 'O', 'O', 'O', 'O', 'O', 'O', 'O', 'O', 'O', 'O', 'O', 'O', 'O', 'O', 'O', 'O', 'O', 'O', 'O', 'O', 'O', 'O', 'O', 'O', 'O', 'O', 'O', 'O', 'O', 'O', 'O', 'O', 'O', 'O', 'O', 'O', 'O', 'O', 'O', 'O', 'O', 'O', 'O', 'O', 'O', 'O', 'O', 'O', 'O', 'O', 'O', 'O', 'O', 'O', 'O', 'O', 'O', 'O', 'O', 'O', 'O', 'O', 'O', 'O', 'O', 'O', 'O', 'O', 'O', 'O', 'O', 'O', 'O', 'O', 'O', 'O', 'O', 'O', 'O', 'O', 'O', 'O', 'O', 'O', 'O', 'O', 'O', 'O', 'O', 'O', 'O', 'O', 'O', 'O', 'O', 'O', 'O', 'O', 'O', 'O', 'O', 'O', 'O', 'O', 'O', 'O', 'O', 'O', 'O', 'O', 'O', 'O', 'O', 'O', 'O', 'O', 'O', 'O', 'B-KEY', 'O', 'O', 'O', 'O', 'B-VAL', 'I-VAL', 'I-VAL', 'I-VAL', 'I-VAL', 'I-VAL', 'B-KEY', 'O', 'O', 'O', 'O', 'O', 'O', 'O', 'O', 'O', 'O', 'O', 'O', 'O', 'O', 'O', 'O', 'O', 'O', 'O', 'O', 'O', 'O', 'O', 'O', 'O', 'O', 'O', 'O', 'O', 'O', 'O', 'O', 'O', 'O', 'O', 'O', 'O', 'O', 'O', 'O', 'O', 'O', 'O', 'O', 'O', 'O', 'O', 'O', 'O', 'O', 'O', 'O', 'O', 'O', 'O', 'O', 'O', 'O', 'O', 'O', 'O', 'O', 'O', 'O', 'O', 'O', 'O', 'O', 'O', 'O', 'O', 'O', 'O', 'O', 'O', 'O', 'O', 'O', 'O', 'O', 'O', 'O', 'O', 'O', 'O', 'O', 'O', 'O', 'O', 'O', 'O', 'O', 'O', 'O', 'O', 'O', 'O', 'O', 'O', 'O', 'O', 'O', 'O', 'O', 'O', 'O', 'O', 'O', 'O', 'O', 'O', 'O', 'O', 'O', 'O', 'O', 'O', 'O', 'O', 'O', 'O', 'O', 'O', 'O', 'O', 'O', 'O', 'O', 'O', 'O', 'O', 'O', 'O', 'O', 'O', 'O', 'O', 'O', 'O', 'O', 'O', 'O', 'O', 'O', 'O', 'O', 'O', 'O', 'O', 'O', 'O', 'O', 'O', 'O', 'O', 'O', 'O', 'O', 'O', 'O', 'O', 'O', 'O', 'O', 'O', 'O', 'O', 'O', 'O', 'O', 'O', 'O', 'O', 'O', 'O', 'O', 'O', 'O', 'O', 'O', 'O', 'O', 'O', 'O', 'O', 'O', 'O', 'O', 'O', 'O', 'O', 'O', 'O', 'O', 'O', 'O', 'O', 'O', 'O', 'O', 'O', 'O', 'O', 'O', 'O', 'O', 'O', 'O', 'O', 'O', 'O', 'O', 'O', 'O', 'O', 'O', 'O', 'O', 'O', 'O', 'O', 'O', 'O', 'O', 'O', 'O', 'O', 'B-VAL', 'I-VAL', 'I-VAL', 'I-VAL', 'O', 'O', 'O', 'O', 'O', 'O', 'O', 'O', 'O', 'B-KEY', 'O', 'O', 'O', 'O', 'B-KEY', 'I-KEY', 'B-VAL', 'I-VAL', 'I-VAL', 'I-VAL', 'I-VAL', 'I-VAL', 'I-VAL', 'O', 'O', 'O', 'O', 'O', 'O', 'O', 'O', 'O', 'O', 'O', 'O', 'O', 'O', 'B-VAL', 'I-VAL', 'I-VAL', 'I-VAL', 'O', 'O', 'O', 'O', 'O', 'O', 'O', 'O', 'O', 'B-KEY', 'O', 'O', 'O', 'O', 'B-VAL', 'I-VAL', 'I-VAL', 'I-VAL', 'I-VAL', 'O', 'O', 'O', 'O', 'O', 'O', 'O', 'O', 'O', 'O', 'O', 'O', 'O', 'O', 'O', 'O', 'O', 'O', 'O', 'O', 'O', 'O', 'O', 'O', 'O', 'O', 'O', 'O', 'O', 'O', 'O', 'O', 'O', 'O', 'O', 'O', 'O', 'O', 'O', 'O', 'O', 'O', 'O', 'O', 'O', 'O', 'O', 'O', 'O', 'O', 'O', 'O', 'O', 'O', 'O', 'O', 'O', 'O', 'O', 'O', 'O', 'O', 'O', 'O', 'O', 'O', 'O', 'O', 'O', 'O', 'O', 'O', 'O', 'O', 'O', 'O', 'O', 'O', 'O', 'O', 'O', 'O', 'O', 'O', 'O', 'O', 'O', 'O', 'O', 'O', 'O', 'O', 'O', 'O', 'O', 'O', 'O', 'O', 'O', 'O', 'O', 'O', 'O', 'O', 'O', 'O', 'O', 'O', 'O', 'O', 'O', 'O', 'O', 'O', 'O', 'O', 'O', 'O', 'O', 'O', 'O', 'O', 'O', 'O', 'O', 'O', 'O', 'O', 'O', 'O', 'O', 'O', 'O', 'O', 'O', 'O', 'O', 'O', 'O', 'O', 'O', 'O', 'O', 'O', 'O', 'O', 'O', 'O', 'O', 'O', 'O', 'O', 'O', 'O', 'O', 'O', 'O', 'O', 'O', 'O', 'O', 'O', 'O', 'O', 'O', 'O', 'O', 'O', 'O', 'O', 'O', 'O', 'O', 'O', 'O', 'O', 'O', 'O', 'O', 'O', 'O', 'O', 'O', 'O', 'O', 'O', 'O', 'O', 'O', 'O', 'O', 'O', 'O', 'O', 'O', 'O', 'O', 'O', 'O', 'O', 'O', 'O', 'O', 'O', 'O', 'O', 'O', 'O', 'O', 'O', 'O', 'O', 'O', 'O', 'O', 'O', 'O', 'O', 'O', 'O', 'O', 'O', 'O', 'O', 'O', 'O', 'O', 'O', 'O', 'O', 'O', 'B-KEY', 'O', 'O', 'O', 'O', 'B-VAL', 'I-VAL', 'I-VAL', 'I-VAL', 'I-VAL', 'I-VAL', 'B-KEY', 'O', 'O', 'O', 'O', 'O', 'O', 'O', 'O', 'O', 'O', 'O', 'O', 'O', 'O', 'O', 'O', 'O', 'O', 'O', 'O', 'O', 'O', 'O', 'O', 'O', 'O', 'O', 'O', 'O', 'O', 'O', 'O', 'O', 'O', 'O', 'O', 'O', 'O', 'O', 'O', 'O', 'O', 'O', 'O', 'O', 'O', 'O', 'O', 'O', 'O', 'O', 'O', 'O', 'O', 'O', 'O', 'O', 'O', 'O', 'O', 'O', 'O', 'O', 'O', 'O', 'O', 'O', 'O', 'O', 'O', 'O', 'O', 'O', 'O', 'O', 'O', 'O', 'O', 'O', 'O', 'O', 'O', 'O', 'O', 'O', 'O', 'O', 'O', 'O', 'O', 'O', 'O', 'O', 'O', 'O', 'O', 'O', 'O', 'O', 'O', 'O', 'O', 'O', 'O', 'O', 'O', 'O', 'O', 'O', 'O', 'O', 'O', 'O', 'O', 'O', 'O', 'O', 'O', 'O', 'O', 'O', 'O', 'O', 'O', 'O', 'O', 'O', 'O', 'O', 'O', 'O', 'O', 'O', 'O', 'O', 'O', 'O', 'O', 'O', 'O', 'O', 'O', 'O', 'O', 'O', 'O', 'O', 'O', 'O', 'O', 'O', 'O', 'O', 'O', 'O', 'O', 'O', 'O', 'O', 'O', 'O', 'O', 'O', 'O', 'O', 'O', 'O', 'B-VAL', 'I-VAL', 'I-VAL', 'I-VAL', 'I-VAL', 'I-VAL', 'I-VAL', 'I-VAL', 'B-KEY', 'O', 'B-VAL', 'I-VAL', 'I-VAL', 'I-VAL', 'I-VAL', 'I-VAL', 'B-KEY', 'O', 'O', 'O', 'O', 'O', 'O', 'O', 'O', 'O', 'O', 'O', 'O', 'O', 'O', 'O', 'O', 'O', 'O', 'O', 'O', 'O', 'O', 'B-KEY', 'O', 'O', 'O', 'O', 'B-KEY', 'B-VAL', 'I-VAL', 'I-VAL', 'I-VAL', 'I-VAL', 'I-VAL', 'O', 'O', 'O', 'O', 'O', 'O', 'O', 'B-KEY', 'I-KEY', 'B-VAL', 'I-VAL', 'I-VAL', 'O', 'O', 'O', 'O', 'O', 'O', 'O', 'O', 'O', 'O', 'O', 'O', 'O', 'O', 'O', 'B-KEY', 'B-VAL', 'I-VAL', 'I-VAL', 'I-VAL', 'I-VAL', 'I-VAL', 'I-VAL', 'I-VAL', 'B-KEY', 'I-KEY', 'B-VAL', 'I-VAL', 'I-VAL', 'I-VAL', 'I-VAL', 'B-KEY', 'I-KEY', 'B-VAL', 'I-VAL', 'I-VAL', 'I-VAL', 'I-VAL', 'B-KEY', 'B-VAL', 'I-VAL', 'I-VAL', 'I-VAL', 'I-VAL', 'I-VAL', 'I-VAL', 'I-VAL', 'I-VAL', 'I-VAL', 'I-VAL', 'I-VAL', 'I-VAL', 'I-VAL', 'I-VAL', 'I-VAL', 'I-VAL', 'I-VAL', 'I-VAL', 'I-VAL', 'I-VAL', 'I-VAL', 'I-VAL', 'I-VAL', 'O', 'B-VAL', 'I-VAL', 'I-VAL', 'I-VAL', 'I-VAL', 'B-KEY', 'I-KEY', 'B-VAL', 'I-VAL', 'I-VAL', 'I-VAL', 'I-VAL', 'B-KEY', 'I-KEY', 'B-VAL', 'I-VAL', 'I-VAL', 'I-VAL', 'I-VAL', 'B-KEY', 'I-KEY', 'I-KEY', 'B-VAL', 'I-VAL', 'I-VAL', 'I-VAL', 'I-VAL', 'I-VAL', 'I-VAL', 'I-VAL', 'I-VAL', 'B-KEY', 'I-KEY', 'I-KEY', 'B-VAL', 'I-VAL', 'I-VAL', 'I-VAL', 'I-VAL', 'I-VAL', 'I-VAL', 'I-VAL', 'I-VAL', 'I-VAL', 'I-VAL', 'B-KEY', 'O', 'B-VAL', 'I-VAL', 'I-VAL', 'I-VAL', 'I-VAL', 'I-VAL', 'B-KEY', 'I-KEY', 'O', 'O', 'O', 'O', 'O', 'O', 'O', 'O', 'B-KEY', 'B-VAL', 'I-VAL', 'I-VAL', 'I-VAL', 'I-VAL', 'I-VAL', 'B-KEY', 'I-KEY', 'B-VAL', 'I-VAL', 'I-VAL', 'I-VAL', 'I-VAL', 'B-KEY', 'I-KEY', 'B-VAL', 'I-VAL', 'I-VAL', 'I-VAL', 'I-VAL', 'O', 'B-KEY', 'I-KEY', 'O', 'O', 'O', 'O', 'O', 'O', 'O', 'O', 'O', 'O', 'O', 'O', 'O', 'O', 'O', 'O', 'O', 'O', 'O', 'O', 'O', 'O', 'O', 'O', 'O', 'O', 'O', 'O', 'O', 'O', 'O', 'O', 'O', 'O', 'O', 'O', 'O', 'O', 'O', 'O', 'O', 'O', 'O', 'O', 'O', 'O', 'O', 'O', 'O', 'O', 'O', 'O', 'O', 'O', 'O', 'O', 'O', 'O', 'O', 'O', 'O', 'O', 'O', 'O', 'O', 'O', 'O', 'O', 'O', 'O', 'O', 'O', 'O', 'O', 'O', 'O', 'O', 'O', 'O', 'O', 'O', 'O', 'O', 'O', 'O', 'O', 'O', 'O', 'O', 'O', 'O', 'O', 'O', 'O', 'O', 'O', 'O', 'O', 'O', 'O', 'O', 'O', 'O', 'O', 'O', 'O', 'O', 'O', 'O', 'O', 'O', 'O', 'O', 'O', 'O', 'O', 'O', 'O', 'O', 'O', 'O', 'O', 'O', 'O', 'O', 'O', 'O', 'O', 'O', 'O', 'O', 'O', 'O', 'O', 'O', 'O', 'O', 'O', 'O', 'O', 'O', 'O', 'O', 'O', 'O', 'O', 'O', 'O', 'O', 'O', 'O', 'O', 'O', 'O', 'O', 'O', 'O', 'O', 'O', 'O', 'O', 'O', 'O', 'O', 'O', 'O', 'O', 'O', 'O', 'O', 'O', 'O', 'O', 'O', 'O', 'O', 'O', 'O', 'O', 'O', 'O', 'O', 'O', 'O', 'O', 'O', 'O', 'O', 'O', 'O', 'O', 'O', 'O', 'O', 'O', 'O', 'O', 'O', 'O', 'O', 'O', 'O', 'O', 'O', 'O', 'O', 'O', 'O', 'O', 'O', 'O', 'O', 'O', 'O', 'O', 'O', 'O', 'O', 'O', 'O', 'O', 'O', 'O', 'O', 'O', 'O', 'O', 'O', 'O', 'O', 'O', 'O', 'O', 'O', 'O', 'O', 'O', 'O', 'O', 'O', 'O', 'O', 'O', 'O', 'O', 'O', 'O', 'O', 'O', 'O', 'O', 'O', 'O', 'O', 'O', 'O', 'O', 'O', 'O', 'O', 'O', 'O', 'O', 'O', 'O', 'O', 'O', 'O', 'O', 'O', 'O', 'O', 'O', 'O', 'O', 'O', 'O', 'O', 'O', 'O', 'O', 'O', 'O', 'O', 'O', 'O', 'O', 'O', 'O', 'O', 'O', 'O', 'O', 'O', 'O', 'O', 'O', 'O', 'O', 'O', 'O', 'O', 'O', 'O', 'O', 'O', 'O', 'O', 'O', 'O', 'O', 'O', 'O', 'O', 'O', 'O', 'O', 'O', 'O', 'O', 'O', 'O', 'O', 'O', 'O', 'O', 'O', 'O', 'O', 'O', 'O', 'O', 'O', 'O', 'O', 'O', 'O', 'O', 'O', 'O', 'O', 'O', 'O', 'O', 'O', 'O', 'O', 'O', 'O', 'O', 'O', 'O', 'O', 'O', 'O', 'O', 'O', 'O', 'O', 'O', 'O', 'O', 'O', 'O', 'O', 'O', 'O', 'O', 'O', 'O', 'O', 'O', 'B-KEY', 'I-KEY', 'I-KEY', 'O', 'B-VAL', 'I-VAL', 'O', 'B-KEY', 'I-KEY', 'O', 'B-VAL', 'I-VAL', 'I-VAL', 'I-VAL', 'I-VAL', 'O', 'B-KEY', 'I-KEY', 'O', 'B-VAL', 'I-VAL', 'I-VAL', 'I-VAL', 'I-VAL', 'I-VAL', 'O', 'B-KEY', 'I-KEY', 'I-KEY', 'I-KEY', 'O', 'B-VAL', 'O', 'B-KEY', 'I-KEY', 'I-KEY', 'I-KEY', 'I-KEY', 'I-KEY', 'O', 'B-VAL', 'B-KEY', 'O', 'O', 'O', 'O', 'B-KEY', 'B-VAL', 'I-VAL', 'I-VAL', 'I-VAL', 'I-VAL', 'I-VAL', 'I-VAL', 'I-VAL', 'I-VAL', 'O', 'O', 'O', 'O', 'O', 'O', 'O', 'B-KEY', 'I-KEY', 'B-VAL', 'I-VAL', 'I-VAL', 'I-VAL', 'I-VAL', 'O', 'O', 'O', 'O', 'O', 'O', 'O', 'O', 'O', 'O', 'O', 'O', 'O', 'O', 'O', 'B-KEY', 'B-VAL', 'I-VAL', 'I-VAL', 'I-VAL', 'I-VAL', 'I-VAL', 'I-VAL', 'I-VAL', 'I-VAL', 'I-VAL', 'I-VAL', 'I-VAL', 'O', 'O', 'O', 'O', 'O', 'O', 'O', 'O', 'O', 'B-KEY', 'I-KEY', 'B-VAL', 'I-VAL', 'I-VAL', 'I-VAL', 'I-VAL', 'I-VAL', 'B-KEY', 'I-KEY', 'B-VAL', 'I-VAL', 'I-VAL', 'I-VAL', 'I-VAL', 'B-KEY', 'B-VAL', 'I-VAL', 'I-VAL', 'I-VAL', 'I-VAL', 'I-VAL', 'I-VAL', 'I-VAL', 'I-VAL', 'I-VAL', 'I-VAL', 'I-VAL', 'I-VAL', 'I-VAL', 'I-VAL', 'I-VAL', 'I-VAL', 'I-VAL', 'I-VAL', 'I-VAL', 'I-VAL', 'O', 'B-VAL', 'I-VAL', 'I-VAL', 'I-VAL', 'I-VAL', 'I-VAL', 'I-VAL', 'I-VAL', 'I-VAL', 'I-VAL', 'I-VAL', 'O', 'B-VAL', 'I-VAL', 'I-VAL', 'I-VAL', 'I-VAL', 'I-VAL', 'I-VAL', 'I-VAL', 'B-KEY', 'I-KEY', 'O', 'B-VAL', 'I-VAL', 'I-VAL', 'I-VAL', 'I-VAL', 'I-VAL', 'B-KEY', 'I-KEY', 'O', 'O', 'O', 'O', 'O', 'O', 'O', 'O', 'B-KEY', 'O', 'O', 'O', 'O', 'O', 'O', 'O', 'O', 'O', 'O', 'B-VAL', 'I-VAL', 'I-VAL', 'I-VAL', 'I-VAL', 'I-VAL', 'B-KEY', 'I-KEY', 'B-VAL', 'I-VAL', 'I-VAL', 'I-VAL', 'I-VAL', 'B-KEY', 'I-KEY', 'B-VAL', 'I-VAL', 'I-VAL', 'I-VAL', 'I-VAL', 'B-KEY', 'O', 'B-VAL', 'I-VAL', 'I-VAL', 'I-VAL', 'I-VAL', 'I-VAL', 'I-VAL', 'B-KEY', 'I-KEY', 'O', 'O', 'O', 'O', 'O', 'O', 'O', 'O', 'O', 'O', 'O', 'O', 'O', 'O', 'O', 'O', 'O', 'O', 'O', 'O', 'O', 'O', 'O', 'O', 'O', 'O', 'O', 'O', 'O', 'O', 'O', 'O', 'O', 'O', 'O', 'O', 'O', 'O', 'O', 'O', 'O', 'O', 'O', 'O', 'O', 'O', 'O', 'O', 'O', 'O', 'O', 'O', 'O', 'O', 'O', 'O', 'O', 'O', 'O', 'O', 'O', 'O', 'O', 'O', 'O', 'O', 'O', 'O', 'O', 'O', 'O', 'O', 'O', 'O', 'O', 'O', 'O', 'O', 'O', 'O', 'O', 'O', 'O', 'O', 'O', 'O', 'O', 'O', 'O', 'O', 'O', 'O', 'O', 'O', 'O', 'O', 'O', 'O', 'O', 'O', 'O', 'O', 'O', 'O', 'O', 'O', 'O', 'O', 'O', 'O', 'O', 'O', 'O', 'O', 'O', 'O', 'O', 'O', 'O', 'O', 'O', 'O', 'O', 'O', 'O', 'O', 'O', 'O', 'O', 'O', 'O', 'O', 'O', 'O', 'O', 'O', 'O', 'O', 'O', 'O', 'O', 'O', 'O', 'O', 'O', 'O', 'O', 'O', 'O', 'O', 'O', 'O', 'O', 'O', 'O', 'O', 'O', 'O', 'O', 'O', 'O', 'O', 'O', 'O', 'O', 'O', 'O', 'O', 'O', 'O', 'O', 'O', 'O', 'O', 'O', 'O', 'O', 'O', 'O', 'O', 'O', 'O', 'O', 'O', 'O', 'O', 'O', 'O', 'O', 'O', 'O', 'O', 'O', 'O', 'O', 'O', 'O', 'O', 'O', 'O', 'O', 'O', 'O', 'O', 'O', 'O', 'O', 'O', 'O', 'O', 'O', 'O', 'O', 'O', 'O', 'O', 'O', 'O', 'B-KEY', 'B-VAL', 'I-VAL', 'I-VAL', 'I-VAL', 'I-VAL', 'I-VAL', 'O', 'B-VAL', 'I-VAL', 'I-VAL', 'I-VAL', 'I-VAL', 'I-VAL', 'I-VAL', 'I-VAL', 'I-VAL', 'I-VAL', 'I-VAL', 'I-VAL', 'I-VAL', 'I-VAL', 'I-VAL', 'I-VAL', 'I-VAL', 'I-VAL', 'I-VAL', 'I-VAL', 'I-VAL', 'I-VAL', 'I-VAL', 'I-VAL', 'I-VAL', 'I-VAL', 'I-VAL', 'I-VAL', 'I-VAL', 'I-VAL', 'I-VAL', 'I-VAL', 'I-VAL', 'I-VAL', 'I-VAL', 'I-VAL', 'I-VAL', 'I-VAL', 'I-VAL', 'O', 'B-KEY', 'I-KEY', 'B-VAL', 'I-VAL', 'I-VAL', 'I-VAL', 'I-VAL', 'O', 'B-KEY', 'I-KEY', 'B-VAL', 'I-VAL', 'I-VAL', 'I-VAL', 'I-VAL', 'O', 'B-KEY', 'B-VAL', 'I-VAL', 'I-VAL', 'I-VAL', 'I-VAL', 'I-VAL', 'I-VAL', 'I-VAL', 'I-VAL', 'I-VAL', 'I-VAL', 'I-VAL', 'I-VAL', 'O', 'B-VAL', 'I-VAL', 'I-VAL', 'I-VAL', 'I-VAL', 'I-VAL', 'I-VAL', 'I-VAL', 'I-VAL', 'I-VAL', 'I-VAL', 'I-VAL', 'I-VAL', 'I-VAL', 'I-VAL', 'I-VAL', 'O', 'B-KEY', 'I-KEY', 'B-VAL', 'I-VAL', 'I-VAL', 'I-VAL', 'I-VAL', 'O', 'B-KEY', 'I-KEY', 'B-VAL', 'I-VAL', 'I-VAL', 'I-VAL', 'I-VAL', 'O', 'O', 'O', 'O', 'O', 'O', 'O', 'O', 'O', 'O', 'O', 'O', 'O', 'O', 'O', 'O', 'O', 'O', 'O', 'O', 'O', 'O', 'O', 'O', 'O', 'O', 'O', 'O', 'O', 'O', 'O', 'O', 'O', 'O', 'O', 'O', 'O', 'O', 'O', 'O', 'O', 'O', 'O', 'O', 'O', 'O', 'O', 'O', 'O', 'O', 'O', 'O', 'O', 'O', 'O', 'O', 'O', 'O', 'O', 'O', 'O', 'O', 'O', 'O', 'O', 'O', 'O', 'O', 'O', 'O', 'O', 'O', 'O', 'O', 'O', 'O', 'O', 'O', 'O', 'O', 'O', 'O', 'O', 'O', 'O', 'O', 'O', 'O', 'O', 'O', 'O', 'O', 'O', 'B-KEY', 'O', 'O', 'O', 'B-KEY', 'O', 'O', 'O', 'O', 'B-KEY', 'B-VAL', 'I-VAL', 'I-VAL', 'I-VAL', 'I-VAL', 'I-VAL', 'I-VAL', 'I-VAL', 'I-VAL', 'O', 'O', 'O', 'O', 'O', 'O', 'O', 'B-KEY', 'I-KEY', 'B-VAL', 'I-VAL', 'I-VAL', 'I-VAL', 'I-VAL', 'O', 'O', 'O', 'O', 'O', 'O', 'O', 'O', 'O', 'O', 'O', 'O', 'O', 'O', 'O', 'B-KEY', 'B-VAL', 'I-VAL', 'I-VAL', 'I-VAL', 'I-VAL', 'I-VAL', 'B-KEY', 'I-KEY', 'B-VAL', 'I-VAL', 'I-VAL', 'I-VAL', 'I-VAL', 'B-KEY', 'I-KEY', 'B-VAL', 'I-VAL', 'I-VAL', 'I-VAL', 'I-VAL', 'B-KEY', 'B-VAL', 'I-VAL', 'I-VAL', 'I-VAL', 'I-VAL', 'I-VAL', 'I-VAL', 'I-VAL', 'I-VAL', 'I-VAL', 'I-VAL', 'I-VAL', 'I-VAL', 'I-VAL', 'I-VAL', 'I-VAL', 'I-VAL', 'I-VAL', 'I-VAL', 'I-VAL', 'I-VAL', 'I-VAL', 'I-VAL', 'I-VAL', 'I-VAL', 'I-VAL', 'I-VAL', 'I-VAL', 'I-VAL', 'I-VAL', 'I-VAL', 'I-VAL', 'I-VAL', 'B-KEY', 'I-KEY', 'B-KEY', 'I-KEY', 'I-KEY', 'I-KEY', 'O', 'O', 'O', 'O', 'O', 'O', 'O', 'O', 'O', 'O', 'O', 'O', 'O', 'O', 'O', 'O', 'O', 'O', 'B-VAL', 'I-VAL', 'I-VAL', 'I-VAL', 'I-VAL', 'I-VAL', 'B-KEY', 'I-KEY', 'O', 'O', 'O', 'O', 'O', 'O', 'O', 'O', 'B-KEY', 'O', 'O', 'O', 'O', 'O', 'O', 'O', 'O', 'B-VAL', 'I-VAL', 'I-VAL', 'I-VAL', 'I-VAL', 'I-VAL', 'I-VAL', 'I-VAL', 'I-VAL', 'I-VAL', 'I-VAL', 'I-VAL', 'I-VAL', 'B-KEY', 'I-KEY', 'B-VAL', 'I-VAL', 'I-VAL', 'I-VAL', 'I-VAL', 'B-KEY', 'I-KEY', 'B-VAL', 'I-VAL', 'I-VAL', 'I-VAL', 'I-VAL', 'B-KEY', 'O', 'B-VAL', 'I-VAL', 'I-VAL', 'I-VAL', 'I-VAL', 'I-VAL', 'I-VAL', 'B-KEY', 'I-KEY', 'O', 'O', 'O', 'O', 'O', 'O', 'O', 'O', 'O', 'O', 'O', 'O', 'O', 'O', 'O', 'O', 'O', 'O', 'O', 'O', 'O', 'O', 'O', 'O', 'O', 'O', 'O', 'O', 'O', 'O', 'O', 'O', 'O', 'O', 'O', 'O', 'O', 'O', 'O', 'O', 'O', 'O', 'O', 'O', 'O', 'O', 'O', 'O', 'O', 'O', 'O', 'O', 'O', 'O', 'O', 'O', 'O', 'O', 'O', 'O', 'O', 'O', 'O', 'O', 'O', 'O', 'O', 'O', 'O', 'O', 'O', 'O', 'O', 'O', 'O', 'O', 'O', 'O', 'O', 'O', 'O', 'O', 'O', 'O', 'O', 'O', 'O', 'O', 'O', 'O', 'O', 'O', 'O', 'O', 'O', 'B-VAL', 'I-VAL', 'I-VAL', 'I-VAL', 'I-VAL', 'O', 'B-KEY', 'B-VAL', 'I-VAL', 'I-VAL', 'I-VAL', 'I-VAL', 'O', 'O', 'O', 'O', 'O', 'O', 'O', 'O', 'O', 'O', 'B-VAL', 'I-VAL', 'I-VAL', 'I-VAL', 'I-VAL', 'I-VAL', 'O', 'O', 'O', 'O', 'O', 'O', 'O', 'O', 'O', 'O', 'O', 'O', 'O', 'O', 'O', 'O', 'O', 'O', 'O', 'O', 'O', 'O', 'O', 'O', 'O', 'O', 'O', 'O', 'O', 'O', 'O', 'B-KEY', 'O', 'B-VAL', 'I-VAL', 'I-VAL', 'I-VAL', 'I-VAL', 'I-VAL', 'I-VAL', 'I-VAL', 'I-VAL', 'I-VAL', 'I-VAL', 'O', 'O', 'O', 'B-KEY', 'I-KEY', 'I-KEY', 'I-KEY', 'B-KEY', 'I-KEY', 'B-KEY', 'I-KEY', 'I-KEY', 'I-KEY', 'B-VAL', 'I-VAL', 'I-VAL', 'I-VAL', 'I-VAL', 'B-KEY', 'I-KEY', 'B-KEY', 'I-KEY', 'B-VAL', 'I-VAL', 'I-VAL', 'I-VAL', 'I-VAL', 'I-VAL', 'I-VAL', 'B-KEY', 'I-KEY', 'I-KEY', 'B-VAL', 'I-VAL', 'I-VAL', 'I-VAL', 'I-VAL', 'I-VAL', 'I-VAL', 'O', 'O', 'O', 'O', 'O', 'O', 'O', 'O', 'O', 'O', 'O', 'O', 'O', 'O', 'O', 'O', 'O', 'O', 'O', 'O', 'O', 'O', 'O', 'O', 'O', 'O', 'O', 'O', 'O', 'O', 'B-KEY', 'O', 'B-VAL', 'O', 'O', 'O', 'O', 'O', 'O', 'O', 'O', 'O', 'O', 'O', 'O', 'O', 'O', 'O', 'O', 'O', 'O', 'O', 'O', 'O', 'O', 'O', 'B-KEY', 'I-KEY', 'O', 'B-VAL', 'I-VAL', 'I-VAL', 'I-VAL', 'I-VAL', 'B-KEY', 'I-KEY', 'O', 'O', 'O', 'B-VAL', 'I-VAL', 'I-VAL', 'I-VAL', 'I-VAL', 'I-VAL', 'I-VAL', 'O', 'O', 'O', 'O', 'O', 'O', 'O', 'O', 'O', 'O', 'O', 'O', 'O', 'O', 'O', 'O', 'O', 'O', 'O', 'O', 'O', 'O', 'O', 'O', 'O', 'O', 'O', 'O', 'O', 'O', 'O', 'O', 'O', 'O', 'O', 'O', 'O', 'O', 'O', 'O', 'O', 'O', 'O', 'O', 'O', 'O', 'O', 'O', 'O', 'O', 'O', 'O', 'O', 'O', 'O', 'O', 'O', 'O', 'O', 'O', 'O', 'O', 'O', 'O', 'O', 'O', 'O', 'O', 'O', 'O', 'O', 'O', 'O', 'O', 'O', 'O', 'O', 'O', 'O', 'O', 'O', 'O', 'O', 'O', 'O', 'O', 'O', 'O', 'O', 'O', 'O', 'O', 'O', 'O', 'O', 'O', 'O', 'O', 'O', 'O', 'O', 'O', 'O', 'O', 'O', 'O', 'O', 'O', 'O', 'O', 'O', 'O', 'O', 'O', 'O', 'O', 'O', 'O', 'O', 'O', 'O', 'O', 'O', 'O', 'O', 'O', 'O', 'O', 'O', 'O', 'O', 'O', 'O', 'O', 'O', 'O', 'O', 'O', 'O', 'O', 'O', 'O', 'O', 'O', 'O', 'O', 'O', 'O', 'O', 'O', 'O', 'O', 'O', 'O', 'O', 'O', 'O', 'O', 'O', 'O', 'O', 'O', 'O', 'O', 'O', 'O', 'O', 'O', 'O', 'O', 'O', 'O', 'O', 'O', 'O', 'O', 'O', 'O', 'O', 'O', 'O', 'O', 'O', 'O', 'O', 'O', 'O', 'O', 'O', 'O', 'O', 'O', 'O', 'O', 'O', 'O', 'O', 'O', 'O', 'O', 'O', 'O', 'O', 'O', 'O', 'O', 'O', 'O', 'O', 'O', 'O', 'O', 'O', 'O', 'O', 'O', 'O', 'O', 'O', 'O', 'O', 'O', 'O', 'O', 'O', 'O', 'O', 'O', 'O', 'O', 'O', 'O', 'O', 'O', 'O', 'O', 'O', 'O', 'O', 'O', 'O', 'O', 'O', 'O', 'O', 'O', 'O', 'O', 'O', 'O', 'O', 'O', 'O', 'O', 'O', 'O', 'O', 'O', 'O', 'O', 'O', 'O', 'O', 'O', 'O', 'O', 'O', 'O', 'O', 'O', 'O', 'O', 'O', 'O', 'O', 'O', 'O', 'O', 'O', 'O', 'O', 'O', 'O', 'O', 'O', 'O', 'O', 'O', 'O', 'O', 'O', 'O', 'O', 'O', 'O', 'O', 'O', 'O', 'O', 'O', 'O', 'O', 'O', 'O', 'O', 'O', 'O', 'O', 'O', 'O', 'O', 'O', 'O', 'O', 'O', 'O', 'O', 'O', 'O', 'O', 'O', 'O', 'O', 'O', 'O', 'O', 'O', 'O', 'O', 'O', 'O', 'O', 'O', 'O', 'O', 'O', 'O', 'O', 'O', 'O', 'O', 'O', 'O', 'O', 'O', 'O', 'O', 'O', 'B-KEY', 'B-VAL', 'I-VAL', 'I-VAL', 'I-VAL', 'I-VAL', 'I-VAL', 'O', 'B-VAL', 'I-VAL', 'I-VAL', 'I-VAL', 'I-VAL', 'I-VAL', 'I-VAL', 'I-VAL', 'I-VAL', 'I-VAL', 'I-VAL', 'I-VAL', 'I-VAL', 'I-VAL', 'I-VAL', 'I-VAL', 'I-VAL', 'I-VAL', 'I-VAL', 'I-VAL', 'I-VAL', 'I-VAL', 'I-VAL', 'I-VAL', 'I-VAL', 'I-VAL', 'I-VAL', 'I-VAL', 'I-VAL', 'I-VAL', 'I-VAL', 'I-VAL', 'I-VAL', 'I-VAL', 'I-VAL', 'I-VAL', 'I-VAL', 'I-VAL', 'I-VAL', 'O', 'B-KEY', 'I-KEY', 'B-VAL', 'I-VAL', 'I-VAL', 'I-VAL', 'I-VAL', 'O', 'B-KEY', 'I-KEY', 'B-VAL', 'I-VAL', 'I-VAL', 'I-VAL', 'I-VAL', 'O', 'B-KEY', 'B-VAL', 'I-VAL', 'I-VAL', 'I-VAL', 'I-VAL', 'I-VAL', 'I-VAL', 'I-VAL', 'I-VAL', 'I-VAL', 'I-VAL', 'I-VAL', 'I-VAL', 'O', 'B-VAL', 'I-VAL', 'I-VAL', 'I-VAL', 'I-VAL', 'I-VAL', 'I-VAL', 'I-VAL', 'I-VAL', 'I-VAL', 'I-VAL', 'I-VAL', 'I-VAL', 'I-VAL', 'I-VAL', 'I-VAL', 'O', 'B-KEY', 'I-KEY', 'B-VAL', 'I-VAL', 'I-VAL', 'I-VAL', 'I-VAL', 'O', 'B-KEY', 'I-KEY', 'B-VAL', 'I-VAL', 'I-VAL', 'I-VAL', 'I-VAL', 'O', 'O', 'O', 'O', 'O', 'O', 'O', 'O', 'O', 'O', 'O', 'O', 'O', 'O', 'O', 'O', 'O', 'O', 'O', 'O', 'O', 'O', 'O', 'O', 'O', 'O', 'O', 'O', 'O', 'O', 'O', 'O', 'O', 'O', 'O', 'O', 'O', 'O', 'O', 'O', 'O', 'O', 'O', 'O', 'O', 'O', 'O', 'O', 'O', 'O', 'O', 'O', 'O', 'O', 'O', 'O', 'O', 'O', 'O', 'O', 'O', 'O', 'O', 'O', 'O', 'O', 'O', 'O', 'O', 'O', 'O', 'O', 'O', 'O', 'O', 'O', 'O', 'O', 'O', 'O', 'O', 'O', 'O', 'O', 'O', 'O', 'O', 'O', 'O', 'O', 'O', 'O', 'O', 'B-KEY', 'O', 'O', 'O', 'B-KEY', 'O', 'O', 'O', 'O', 'B-KEY', 'B-VAL', 'I-VAL', 'I-VAL', 'I-VAL', 'I-VAL', 'I-VAL', 'I-VAL', 'I-VAL', 'O', 'O', 'O', 'O', 'O', 'O', 'O', 'B-KEY', 'I-KEY', 'B-VAL', 'I-VAL', 'I-VAL', 'I-VAL', 'I-VAL', 'I-VAL', 'I-VAL', 'O', 'O', 'O', 'O', 'O', 'O', 'O', 'O', 'O', 'O', 'O', 'O', 'O', 'O', 'O', 'B-KEY', 'B-VAL', 'I-VAL', 'I-VAL', 'I-VAL', 'I-VAL', 'I-VAL', 'B-KEY', 'I-KEY', 'B-VAL', 'I-VAL', 'I-VAL', 'I-VAL', 'I-VAL', 'B-KEY', 'I-KEY', 'B-VAL', 'I-VAL', 'I-VAL', 'I-VAL', 'I-VAL', 'B-KEY', 'B-VAL', 'I-VAL', 'I-VAL', 'I-VAL', 'I-VAL', 'I-VAL', 'I-VAL', 'I-VAL', 'I-VAL', 'I-VAL', 'I-VAL', 'I-VAL', 'I-VAL', 'I-VAL', 'I-VAL', 'I-VAL', 'I-VAL', 'I-VAL', 'I-VAL', 'I-VAL', 'I-VAL', 'I-VAL', 'I-VAL', 'I-VAL', 'I-VAL', 'I-VAL', 'I-VAL', 'I-VAL', 'I-VAL', 'I-VAL', 'I-VAL', 'I-VAL', 'I-VAL', 'B-KEY', 'I-KEY', 'B-KEY', 'I-KEY', 'I-KEY', 'I-KEY', 'O', 'O', 'O', 'O', 'O', 'O', 'O', 'O', 'O', 'O', 'O', 'O', 'O', 'O', 'O', 'O', 'O', 'O', 'B-VAL', 'I-VAL', 'I-VAL', 'I-VAL', 'I-VAL', 'I-VAL', 'B-KEY', 'I-KEY', 'O', 'O', 'O', 'O', 'O', 'O', 'O', 'O', 'B-KEY', 'O', 'O', 'O', 'O', 'O', 'O', 'O', 'O', 'B-VAL', 'I-VAL', 'I-VAL', 'I-VAL', 'I-VAL', 'I-VAL', 'I-VAL', 'I-VAL', 'I-VAL', 'I-VAL', 'I-VAL', 'I-VAL', 'I-VAL', 'B-KEY', 'I-KEY', 'B-VAL', 'I-VAL', 'I-VAL', 'I-VAL', 'I-VAL', 'B-KEY', 'I-KEY', 'B-VAL', 'I-VAL', 'I-VAL', 'I-VAL', 'I-VAL', 'B-KEY', 'O', 'B-VAL', 'I-VAL', 'I-VAL', 'I-VAL', 'I-VAL', 'I-VAL', 'I-VAL', 'B-KEY', 'I-KEY', 'O', 'O', 'O', 'O', 'O', 'O', 'O', 'O', 'O', 'O', 'O', 'O', 'O', 'O', 'O', 'O', 'O', 'O', 'O', 'O', 'O', 'O', 'O', 'O', 'O', 'O', 'O', 'O', 'O', 'O', 'O', 'O', 'O', 'O', 'O', 'O', 'O', 'O', 'O', 'O', 'O', 'O', 'O', 'O', 'O', 'O', 'O', 'O', 'O', 'O', 'O', 'O', 'O', 'O', 'O', 'O', 'O', 'O', 'O', 'O', 'O', 'O', 'O', 'O', 'O', 'O', 'O', 'O', 'O', 'O', 'O', 'O', 'O', 'O', 'O', 'O', 'O', 'O', 'O', 'O', 'O', 'O', 'O', 'O', 'O', 'O', 'O', 'O', 'O', 'O', 'O', 'O', 'O', 'O', 'O', 'O', 'O', 'O', 'O', 'O', 'O', 'O', 'O', 'O', 'O', 'O', 'O', 'O', 'O', 'O', 'O', 'O', 'O', 'O', 'O', 'O', 'O', 'B-KEY', 'B-VAL', 'I-VAL', 'I-VAL', 'I-VAL', 'I-VAL', 'I-VAL', 'O', 'B-VAL', 'I-VAL', 'I-VAL', 'I-VAL', 'I-VAL', 'I-VAL', 'I-VAL', 'I-VAL', 'I-VAL', 'I-VAL', 'I-VAL', 'I-VAL', 'I-VAL', 'I-VAL', 'I-VAL', 'I-VAL', 'I-VAL', 'I-VAL', 'I-VAL', 'I-VAL', 'I-VAL', 'I-VAL', 'I-VAL', 'I-VAL', 'I-VAL', 'I-VAL', 'I-VAL', 'I-VAL', 'I-VAL', 'I-VAL', 'I-VAL', 'I-VAL', 'I-VAL', 'I-VAL', 'I-VAL', 'I-VAL', 'I-VAL', 'I-VAL', 'I-VAL', 'O', 'B-KEY', 'I-KEY', 'B-VAL', 'I-VAL', 'I-VAL', 'I-VAL', 'I-VAL', 'O', 'B-KEY', 'I-KEY', 'B-VAL', 'I-VAL', 'I-VAL', 'I-VAL', 'I-VAL', 'O', 'B-KEY', 'B-VAL', 'I-VAL', 'I-VAL', 'I-VAL', 'I-VAL', 'I-VAL', 'I-VAL', 'I-VAL', 'I-VAL', 'I-VAL', 'I-VAL', 'I-VAL', 'I-VAL', 'O', 'B-VAL', 'I-VAL', 'I-VAL', 'I-VAL', 'I-VAL', 'I-VAL', 'I-VAL', 'I-VAL', 'I-VAL', 'I-VAL', 'I-VAL', 'I-VAL', 'I-VAL', 'I-VAL', 'I-VAL', 'I-VAL', 'O', 'B-KEY', 'I-KEY', 'B-VAL', 'I-VAL', 'I-VAL', 'I-VAL', 'I-VAL', 'O', 'B-KEY', 'I-KEY', 'B-VAL', 'I-VAL', 'I-VAL', 'I-VAL', 'I-VAL', 'O', 'O', 'O', 'O', 'O', 'O', 'O', 'O', 'O', 'O', 'O', 'O', 'O', 'O', 'O', 'O', 'O', 'O', 'O', 'O', 'O', 'O', 'O', 'O', 'O', 'O', 'O', 'O', 'O', 'O', 'O', 'O', 'O', 'O', 'O', 'O', 'O', 'O', 'O', 'O', 'O', 'O', 'O', 'O', 'O', 'O', 'O', 'O', 'O', 'O', 'O', 'O', 'O', 'O', 'O', 'O', 'O', 'O', 'O', 'O', 'O', 'O', 'O', 'O', 'O', 'O', 'O', 'O', 'O', 'O', 'O', 'O', 'O', 'O', 'O', 'O', 'O', 'O', 'O', 'O', 'O', 'O', 'O', 'O', 'O', 'O', 'O', 'O', 'O', 'O', 'O', 'O', 'O', 'O', 'O', 'O', 'O', 'B-KEY', 'O', 'O', 'O', 'O', 'B-KEY', 'B-VAL', 'I-VAL', 'I-VAL', 'I-VAL', 'I-VAL', 'I-VAL', 'I-VAL', 'I-VAL', 'O', 'O', 'O', 'O', 'O', 'O', 'O', 'B-KEY', 'I-KEY', 'B-VAL', 'I-VAL', 'I-VAL', 'I-VAL', 'I-VAL', 'O', 'O', 'O', 'O', 'O', 'O', 'O', 'O', 'O', 'O', 'O', 'O', 'O', 'O', 'O', 'B-KEY', 'B-VAL', 'I-VAL', 'I-VAL', 'I-VAL', 'I-VAL', 'I-VAL', 'B-KEY', 'I-KEY', 'B-VAL', 'I-VAL', 'I-VAL', 'I-VAL', 'I-VAL', 'B-KEY', 'I-KEY', 'B-VAL', 'I-VAL', 'I-VAL', 'I-VAL', 'I-VAL', 'B-KEY', 'B-VAL', 'I-VAL', 'I-VAL', 'I-VAL', 'I-VAL', 'I-VAL', 'I-VAL', 'I-VAL', 'I-VAL', 'I-VAL', 'I-VAL', 'I-VAL', 'I-VAL', 'I-VAL', 'I-VAL', 'I-VAL', 'I-VAL', 'I-VAL', 'I-VAL', 'I-VAL', 'I-VAL', 'I-VAL', 'I-VAL', 'I-VAL', 'I-VAL', 'I-VAL', 'I-VAL', 'I-VAL', 'I-VAL', 'I-VAL', 'I-VAL', 'I-VAL', 'I-VAL', 'B-KEY', 'I-KEY', 'B-KEY', 'I-KEY', 'I-KEY', 'I-KEY', 'O', 'O', 'O', 'O', 'O', 'O', 'O', 'O', 'O', 'O', 'O', 'O', 'O', 'O', 'O', 'O', 'O', 'O', 'B-VAL', 'I-VAL', 'I-VAL', 'I-VAL', 'I-VAL', 'I-VAL', 'B-KEY', 'I-KEY', 'O', 'O', 'O', 'O', 'O', 'O', 'O', 'O', 'B-KEY', 'O', 'O', 'O', 'O', 'O', 'O', 'O', 'O', 'B-VAL', 'I-VAL', 'I-VAL', 'I-VAL', 'I-VAL', 'I-VAL', 'I-VAL', 'I-VAL', 'I-VAL', 'I-VAL', 'I-VAL', 'I-VAL', 'I-VAL', 'B-KEY', 'I-KEY', 'B-VAL', 'I-VAL', 'I-VAL', 'I-VAL', 'I-VAL', 'B-KEY', 'I-KEY', 'B-VAL', 'I-VAL', 'I-VAL', 'I-VAL', 'I-VAL', 'B-KEY', 'O', 'B-VAL', 'I-VAL', 'I-VAL', 'I-VAL', 'I-VAL', 'I-VAL', 'I-VAL', 'B-KEY', 'I-KEY', 'O', 'O', 'O', 'O', 'O', 'O', 'O', 'O', 'O', 'O', 'O', 'O', 'O', 'O', 'O', 'O', 'O', 'O', 'O', 'O', 'O', 'O', 'O', 'O', 'O', 'O', 'O', 'O', 'O', 'O', 'O', 'O', 'O', 'O', 'O', 'O', 'O', 'O', 'O', 'O', 'O', 'O', 'O', 'O', 'O', 'O', 'O', 'O', 'O', 'O', 'O', 'O', 'O', 'O', 'O', 'O', 'O', 'O', 'O', 'O', 'O', 'O', 'O', 'O', 'O', 'O', 'O', 'O', 'O', 'O', 'O', 'O', 'O', 'O', 'O', 'O', 'O', 'O', 'O', 'O', 'O', 'O', 'O', 'O', 'O', 'O', 'O', 'O', 'O', 'O', 'O', 'O', 'O', 'O', 'O', 'O', 'O', 'O', 'O', 'O', 'O', 'O', 'O', 'O', 'O', 'O', 'O', 'O', 'O', 'O', 'O', 'O', 'O', 'O', 'O', 'O', 'O', 'O', 'O', 'O', 'O', 'O', 'O', 'O', 'O', 'O', 'O', 'O', 'B-VAL', 'I-VAL', 'I-VAL', 'I-VAL', 'I-VAL', 'O', 'O', 'O', 'B-KEY', 'B-VAL', 'I-VAL', 'I-VAL', 'I-VAL', 'I-VAL', 'I-VAL', 'I-VAL', 'I-VAL', 'I-VAL', 'O', 'O', 'O', 'O', 'O', 'O', 'O', 'O', 'B-KEY', 'I-KEY', 'B-KEY', 'I-KEY', 'I-KEY', 'I-KEY', 'B-VAL', 'I-VAL', 'I-VAL', 'I-VAL', 'I-VAL', 'I-VAL', 'B-VAL', 'I-VAL', 'I-VAL', 'I-VAL', 'I-VAL', 'I-VAL', 'I-VAL', 'B-KEY', 'I-KEY', 'B-KEY', 'I-KEY', 'I-KEY', 'B-VAL', 'I-VAL', 'I-VAL', 'I-VAL', 'I-VAL', 'B-VAL', 'I-VAL', 'I-VAL', 'I-VAL', 'I-VAL', 'I-VAL', 'I-VAL', 'I-VAL', 'B-KEY', 'I-KEY', 'B-VAL', 'I-VAL', 'I-VAL', 'I-VAL', 'I-VAL', 'B-VAL', 'I-VAL', 'I-VAL', 'I-VAL', 'I-VAL', 'I-VAL', 'O', 'O', 'O', 'O', 'O', 'O', 'O', 'O', 'O', 'O', 'O', 'O', 'O', 'O', 'O', 'B-KEY', 'B-VAL', 'I-VAL', 'I-VAL', 'I-VAL', 'I-VAL', 'I-VAL', 'I-VAL', 'I-VAL', 'I-VAL', 'I-VAL', 'I-VAL', 'I-VAL', 'O', 'O', 'O', 'O', 'O', 'O', 'O', 'O', 'O', 'O', 'O', 'O', 'O', 'O', 'O', 'O', 'O', 'O', 'O', 'O', 'O', 'O', 'O', 'O', 'O', 'O', 'O', 'O', 'O', 'O', 'O', 'O', 'O', 'O', 'O', 'O', 'O', 'O', 'O', 'O', 'O', 'O', 'O', 'O', 'O', 'O', 'O', 'O', 'O', 'O', 'O', 'O', 'O', 'O', 'O', 'O', 'O', 'O', 'O', 'O', 'O', 'O', 'O', 'O', 'O', 'O', 'O', 'O', 'O', 'O', 'O', 'O', 'O', 'O', 'O', 'O', 'O', 'O', 'O', 'O', 'O', 'B-KEY', 'I-KEY', 'O', 'O', 'B-VAL', 'I-VAL', 'I-VAL', 'I-VAL', 'I-VAL', 'I-VAL', 'B-KEY', 'I-KEY', 'O', 'O', 'B-VAL', 'I-VAL', 'I-VAL', 'I-VAL', 'I-VAL', 'I-VAL', 'O', 'O', 'B-VAL', 'I-VAL', 'I-VAL', 'I-VAL', 'I-VAL', 'O', 'O', 'O', 'O', 'O', 'O', 'O', 'O', 'O', 'O', 'O', 'O', 'O', 'O', 'O', 'O', 'O', 'O', 'O', 'O', 'O', 'O', 'O', 'O', 'O', 'O', 'O', 'O', 'O', 'O', 'O', 'O', 'O', 'O', 'O', 'O', 'O', 'O', 'O', 'O', 'O', 'O', 'O', 'O', 'O', 'O', 'O', 'O', 'O', 'O', 'O', 'O', 'O', 'O', 'O', 'O', 'O', 'O', 'O', 'O', 'O', 'O', 'O', 'O', 'O', 'O', 'O', 'O', 'O', 'O', 'O', 'O', 'O', 'O', 'O', 'O', 'O', 'O', 'O', 'O', 'O', 'O', 'O', 'O', 'O', 'O', 'O', 'O', 'O', 'O', 'O', 'O', 'O', 'O', 'O', 'O', 'O', 'O', 'O', 'O', 'O', 'O', 'O', 'O', 'O', 'O', 'O', 'O', 'O', 'O', 'O', 'O', 'O', 'O', 'O', 'O', 'O', 'O', 'O', 'O', 'O', 'O', 'O', 'O', 'O', 'O', 'O', 'O', 'O', 'O', 'O', 'O', 'O', 'O', 'O', 'O', 'O', 'O', 'O', 'O', 'O', 'O', 'O', 'O', 'O', 'O', 'O', 'O', 'O', 'O', 'O', 'O', 'O', 'O', 'O', 'O', 'O', 'O', 'O', 'O', 'O', 'O', 'O', 'O', 'O', 'O', 'O', 'O', 'O', 'O', 'O', 'O', 'O', 'O', 'O', 'O', 'O', 'O', 'O', 'O', 'O', 'O', 'O', 'O', 'O', 'O', 'O', 'O', 'O', 'O', 'O', 'O', 'O', 'O', 'O', 'O', 'O', 'O', 'O', 'O', 'O', 'O', 'O', 'O', 'O', 'O', 'O', 'O', 'O', 'O', 'O', 'O', 'O', 'O', 'O', 'O', 'O', 'O', 'O', 'O', 'O', 'O', 'O', 'O', 'O', 'O', 'O', 'O', 'O', 'O', 'O', 'O', 'O', 'O', 'O', 'O', 'O', 'O', 'O', 'O', 'O', 'O', 'O', 'O', 'O', 'O', 'O', 'O', 'O', 'O', 'O', 'O', 'O', 'O', 'O', 'O', 'O', 'O', 'O', 'O', 'O', 'O', 'O', 'O', 'O', 'O', 'O', 'O', 'O', 'O', 'O', 'O', 'O', 'O', 'O', 'O', 'O', 'O', 'O', 'O', 'O', 'O', 'O', 'O', 'O', 'O', 'O', 'O', 'O', 'O', 'O', 'B-KEY', 'B-VAL', 'I-VAL', 'I-VAL', 'I-VAL', 'I-VAL', 'I-VAL', 'O', 'B-VAL', 'I-VAL', 'I-VAL', 'I-VAL', 'I-VAL', 'I-VAL', 'I-VAL', 'I-VAL', 'I-VAL', 'I-VAL', 'I-VAL', 'I-VAL', 'I-VAL', 'I-VAL', 'I-VAL', 'I-VAL', 'I-VAL', 'I-VAL', 'I-VAL', 'I-VAL', 'I-VAL', 'I-VAL', 'I-VAL', 'I-VAL', 'I-VAL', 'I-VAL', 'I-VAL', 'I-VAL', 'I-VAL', 'I-VAL', 'I-VAL', 'I-VAL', 'I-VAL', 'I-VAL', 'I-VAL', 'I-VAL', 'I-VAL', 'I-VAL', 'I-VAL', 'O', 'B-KEY', 'I-KEY', 'B-VAL', 'I-VAL', 'I-VAL', 'I-VAL', 'I-VAL', 'O', 'B-KEY', 'I-KEY', 'B-VAL', 'I-VAL', 'I-VAL', 'I-VAL', 'I-VAL', 'O', 'B-KEY', 'B-VAL', 'I-VAL', 'I-VAL', 'I-VAL', 'I-VAL', 'I-VAL', 'I-VAL', 'I-VAL', 'I-VAL', 'I-VAL', 'I-VAL', 'I-VAL', 'I-VAL', 'O', 'B-VAL', 'I-VAL', 'I-VAL', 'I-VAL', 'I-VAL', 'I-VAL', 'I-VAL', 'I-VAL', 'I-VAL', 'I-VAL', 'I-VAL', 'I-VAL', 'I-VAL', 'I-VAL', 'I-VAL', 'I-VAL', 'O', 'B-KEY', 'I-KEY', 'B-VAL', 'I-VAL', 'I-VAL', 'I-VAL', 'I-VAL', 'O', 'B-KEY', 'I-KEY', 'B-VAL', 'I-VAL', 'I-VAL', 'I-VAL', 'I-VAL', 'O', 'O', 'O', 'O', 'O', 'O', 'O', 'O', 'O', 'O', 'O', 'O', 'O', 'O', 'O', 'O', 'O', 'O', 'O', 'O', 'O', 'O', 'O', 'O', 'O', 'O', 'O', 'O', 'O', 'O', 'O', 'O', 'O', 'O', 'O', 'O', 'O', 'O', 'O', 'O', 'O', 'O', 'O', 'O', 'O', 'O', 'O', 'O', 'O', 'O', 'O', 'O', 'O', 'O', 'O', 'O', 'O', 'O', 'O', 'O', 'O', 'O', 'O', 'O', 'O', 'O', 'O', 'O', 'O', 'O', 'O', 'O', 'O', 'O', 'O', 'O', 'O', 'O', 'O', 'O', 'O', 'O', 'O', 'O', 'O', 'O', 'O', 'O', 'O', 'O', 'O', 'O', 'O', 'B-KEY', 'O', 'O', 'O', 'B-KEY', 'O', 'O', 'O', 'O', 'B-KEY', 'B-VAL', 'I-VAL', 'I-VAL', 'I-VAL', 'I-VAL', 'I-VAL', 'I-VAL', 'I-VAL', 'I-VAL', 'O', 'O', 'O', 'O', 'O', 'O', 'O', 'B-KEY', 'I-KEY', 'B-VAL', 'I-VAL', 'I-VAL', 'I-VAL', 'I-VAL', 'O', 'O', 'O', 'O', 'O', 'O', 'O', 'O', 'O', 'O', 'O', 'O', 'O', 'O', 'O', 'B-KEY', 'B-VAL', 'I-VAL', 'I-VAL', 'I-VAL', 'I-VAL', 'I-VAL', 'B-KEY', 'I-KEY', 'B-VAL', 'I-VAL', 'I-VAL', 'I-VAL', 'I-VAL', 'B-KEY', 'I-KEY', 'B-VAL', 'I-VAL', 'I-VAL', 'I-VAL', 'I-VAL', 'B-KEY', 'B-VAL', 'I-VAL', 'I-VAL', 'I-VAL', 'I-VAL', 'I-VAL', 'I-VAL', 'I-VAL', 'I-VAL', 'I-VAL', 'I-VAL', 'I-VAL', 'I-VAL', 'I-VAL', 'I-VAL', 'I-VAL', 'I-VAL', 'I-VAL', 'I-VAL', 'I-VAL', 'I-VAL', 'I-VAL', 'I-VAL', 'I-VAL', 'I-VAL', 'I-VAL', 'I-VAL', 'I-VAL', 'I-VAL', 'I-VAL', 'I-VAL', 'I-VAL', 'I-VAL', 'B-KEY', 'I-KEY', 'B-KEY', 'I-KEY', 'I-KEY', 'I-KEY', 'O', 'O', 'O', 'O', 'O', 'O', 'O', 'O', 'O', 'O', 'O', 'O', 'O', 'O', 'O', 'O', 'O', 'O', 'B-VAL', 'I-VAL', 'I-VAL', 'I-VAL', 'I-VAL', 'I-VAL', 'B-KEY', 'I-KEY', 'O', 'O', 'O', 'O', 'O', 'O', 'O', 'O', 'B-KEY', 'O', 'O', 'O', 'O', 'O', 'O', 'O', 'O', 'B-VAL', 'I-VAL', 'I-VAL', 'I-VAL', 'I-VAL', 'I-VAL', 'I-VAL', 'I-VAL', 'I-VAL', 'I-VAL', 'I-VAL', 'I-VAL', 'I-VAL', 'B-KEY', 'I-KEY', 'B-VAL', 'I-VAL', 'I-VAL', 'I-VAL', 'I-VAL', 'B-KEY', 'I-KEY', 'B-VAL', 'I-VAL', 'I-VAL', 'I-VAL', 'I-VAL', 'B-KEY', 'O', 'B-VAL', 'I-VAL', 'I-VAL', 'I-VAL', 'I-VAL', 'I-VAL', 'I-VAL', 'B-KEY', 'I-KEY', 'O', 'O', 'O', 'O', 'O', 'O', 'O', 'O', 'O', 'O', 'O', 'O', 'O', 'O', 'O', 'O', 'O', 'O', 'O', 'O', 'O', 'O', 'O', 'O', 'O', 'O', 'O', 'O', 'O', 'O', 'O', 'O', 'O', 'O', 'O', 'O', 'O', 'O', 'O', 'O', 'O', 'O', 'O', 'O', 'O', 'O', 'O', 'O', 'O', 'O', 'O', 'O', 'O', 'O', 'O', 'O', 'O', 'O', 'O', 'O', 'O', 'O', 'O', 'O', 'O', 'O', 'O', 'O', 'O', 'O', 'O', 'O', 'O', 'O', 'O', 'O', 'O', 'O', 'O', 'O', 'O', 'O', 'O', 'O', 'O', 'O', 'O', 'O', 'O', 'O', 'O', 'O', 'O', 'O', 'O', 'B-VAL', 'I-VAL', 'I-VAL', 'I-VAL', 'I-VAL', 'I-VAL', 'O', 'O', 'O', 'O', 'O', 'O', 'O', 'O', 'O', 'O', 'O', 'O', 'O', 'O', 'O', 'O', 'O', 'O', 'O', 'O', 'O', 'O', 'O', 'B-VAL', 'I-VAL', 'I-VAL', 'I-VAL', 'I-VAL', 'I-VAL', 'O', 'O', 'B-KEY', 'I-KEY', 'B-VAL', 'I-VAL', 'I-VAL', 'I-VAL', 'I-VAL', 'I-VAL', 'O', 'B-VAL', 'I-VAL', 'I-VAL', 'I-VAL', 'I-VAL', 'O', 'O', 'B-KEY', 'I-KEY', 'B-VAL', 'I-VAL', 'I-VAL', 'I-VAL', 'I-VAL', 'I-VAL', 'O', 'O', 'O', 'B-KEY', 'I-KEY', 'I-KEY', 'I-KEY', 'I-KEY', 'B-VAL', 'I-VAL', 'I-VAL', 'I-VAL', 'I-VAL', 'I-VAL', 'I-VAL', 'I-VAL', 'O', 'O', 'O', 'O', 'O', 'O', 'O', 'O', 'O', 'O', 'O', 'O', 'O', 'O', 'O', 'O', 'O', 'O', 'O', 'O', 'O', 'O', 'O', 'O', 'O', 'O', 'O', 'O', 'O', 'O', 'O', 'O', 'O', 'O', 'O', 'O', 'O', 'O', 'O', 'O', 'O', 'O', 'O', 'O', 'O', 'O', 'O', 'O', 'O', 'O', 'O', 'O', 'O', 'O', 'O', 'O', 'O', 'O', 'O', 'O', 'O', 'O', 'O', 'O', 'O', 'O', 'O', 'O', 'O', 'O', 'O', 'O', 'O', 'O', 'O', 'O', 'O', 'O', 'O', 'O', 'O', 'O', 'O', 'O', 'O', 'O', 'O', 'O', 'O', 'O', 'O', 'O', 'O', 'O', 'O', 'O', 'O', 'O', 'O', 'O', 'O', 'O', 'O', 'O', 'O', 'O', 'O', 'O', 'O', 'O', 'O', 'O', 'O', 'O', 'O', 'O', 'O', 'O', 'O', 'O', 'O', 'O', 'O', 'O', 'O', 'O', 'O', 'O', 'O', 'O', 'O', 'O', 'O', 'O', 'O', 'O', 'O', 'O', 'O', 'O', 'O', 'O', 'O', 'O', 'O', 'O', 'O', 'O', 'O', 'O', 'O', 'O', 'O', 'O', 'O', 'O', 'O', 'O', 'O', 'O', 'O', 'O', 'O', 'O', 'O', 'O', 'O', 'O', 'O', 'O', 'O', 'O', 'O', 'O', 'O', 'O', 'O', 'O', 'O', 'O', 'O', 'O', 'O', 'O', 'O', 'O', 'O', 'O', 'O', 'O', 'O', 'O', 'O', 'O', 'O', 'O', 'O', 'O', 'O', 'O', 'O', 'O', 'O', 'O', 'O', 'O', 'O', 'O', 'O', 'O', 'O', 'B-KEY', 'O', 'B-VAL', 'I-VAL', 'I-VAL', 'I-VAL', 'I-VAL', 'I-VAL', 'I-VAL', 'I-VAL', 'I-VAL', 'I-VAL', 'I-VAL', 'I-VAL', 'I-VAL', 'I-VAL', 'I-VAL', 'I-VAL', 'I-VAL', 'I-VAL', 'I-VAL', 'I-VAL', 'I-VAL', 'I-VAL', 'I-VAL', 'O', 'O', 'O', 'O', 'O', 'O', 'O', 'O', 'O', 'O', 'O', 'O', 'O', 'O', 'O', 'O', 'O', 'O', 'O', 'O', 'O', 'O', 'O', 'B-KEY', 'I-KEY', 'I-KEY', 'I-KEY', 'B-VAL', 'I-VAL', 'I-VAL', 'I-VAL', 'I-VAL', 'I-VAL', 'O', 'O', 'O', 'O', 'B-VAL', 'I-VAL', 'I-VAL', 'I-VAL', 'I-VAL', 'I-VAL', 'B-KEY', 'I-KEY', 'I-KEY', 'I-KEY', 'I-KEY', 'B-VAL', 'I-VAL', 'I-VAL', 'I-VAL', 'I-VAL', 'O', 'O', 'O', 'O', 'B-VAL', 'I-VAL', 'I-VAL', 'I-VAL', 'I-VAL', 'I-VAL', 'B-KEY', 'I-KEY', 'I-KEY', 'I-KEY', 'I-KEY', 'B-VAL', 'I-VAL', 'I-VAL', 'I-VAL', 'I-VAL', 'O', 'O', 'O', 'O', 'B-VAL', 'I-VAL', 'I-VAL', 'I-VAL', 'I-VAL', 'I-VAL', 'O', 'O', 'O', 'O', 'O', 'O', 'O', 'O', 'O', 'O', 'O', 'O', 'O', 'O', 'O', 'O', 'O', 'O', 'O', 'O', 'O', 'O', 'O', 'O', 'O', 'O', 'O', 'O', 'O', 'O', 'O', 'O', 'O', 'O', 'O', 'O', 'O', 'O', 'O', 'O', 'O', 'O', 'O', 'O', 'O', 'O', 'O', 'O', 'O', 'O', 'O', 'O', 'O', 'O', 'O', 'O', 'O', 'O', 'O', 'O', 'O', 'O', 'O', 'O', 'O', 'O', 'O', 'O', 'O', 'O', 'O', 'O', 'O', 'O', 'O', 'O', 'O', 'O', 'O', 'O', 'O', 'O', 'O', 'O', 'O', 'O', 'O', 'O', 'O', 'O', 'O', 'O', 'O', 'O', 'O', 'O', 'O', 'O', 'O', 'O', 'O', 'O', 'O', 'O', 'O', 'O', 'O', 'O', 'O', 'O', 'O', 'O', 'O', 'O', 'O', 'O', 'O', 'O', 'O', 'O', 'O', 'O', 'O', 'O', 'O', 'O', 'O', 'O', 'O', 'O', 'O', 'O', 'O', 'O', 'O', 'O', 'O', 'O', 'O', 'O', 'O', 'O', 'O', 'O', 'O', 'O', 'O', 'O', 'O', 'O', 'O', 'O', 'B-VAL', 'I-VAL', 'I-VAL', 'I-VAL', 'I-VAL', 'I-VAL', 'O', 'O', 'O', 'O', 'O', 'O', 'O', 'O', 'O', 'B-KEY', 'I-KEY', 'I-KEY', 'O', 'O', 'O', 'O', 'B-KEY', 'I-KEY', 'B-VAL', 'I-VAL', 'I-VAL', 'I-VAL', 'I-VAL', 'I-VAL', 'O', 'O', 'O', 'O', 'O', 'O', 'O', 'O', 'O', 'O', 'O', 'O', 'O', 'O', 'O', 'O', 'O', 'O', 'O', 'O', 'O', 'B-KEY', 'I-KEY', 'B-VAL', 'I-VAL', 'I-VAL', 'I-VAL', 'I-VAL', 'I-VAL', 'I-VAL', 'O', 'O', 'O', 'O', 'O', 'O', 'B-VAL', 'I-VAL', 'I-VAL', 'I-VAL', 'O', 'O', 'O', 'O', 'O', 'O', 'O', 'O', 'O', 'B-KEY', 'I-KEY', 'O', 'O', 'O', 'O', 'B-KEY', 'I-KEY', 'B-VAL', 'I-VAL', 'I-VAL', 'I-VAL', 'I-VAL', 'I-VAL', 'I-VAL', 'O', 'O', 'O', 'O', 'O', 'O', 'O', 'O', 'O', 'O', 'O', 'O', 'O', 'O', 'O', 'O', 'O', 'O', 'O', 'O', 'O', 'O', 'O', 'O', 'O', 'O', 'O', 'O', 'O', 'O', 'O', 'O', 'O', 'O', 'O', 'O', 'O', 'O', 'O', 'O', 'O', 'O', 'O', 'O', 'O', 'O', 'O', 'O', 'O', 'O', 'O', 'O', 'O', 'O', 'O', 'O', 'O', 'O', 'O', 'O', 'O', 'O', 'O', 'O', 'O', 'O', 'O', 'O', 'O', 'O', 'O', 'O', 'O', 'O', 'O', 'O', 'O', 'O', 'O', 'O', 'O', 'O', 'O', 'O', 'O', 'O', 'O', 'O', 'O', 'O', 'O', 'O', 'O', 'O', 'O', 'O', 'O', 'O', 'O', 'O', 'O', 'O', 'O', 'O', 'O', 'O', 'O', 'O', 'O', 'O', 'O', 'O', 'O', 'O', 'O', 'O', 'O', 'O', 'O', 'O', 'O', 'O', 'O', 'O', 'O', 'O', 'O', 'O', 'O', 'O', 'O', 'O', 'O', 'O', 'O', 'O', 'O', 'O', 'O', 'O', 'O', 'O', 'O', 'O', 'O', 'O', 'O', 'O', 'O', 'O', 'O', 'O', 'O', 'O', 'O', 'O', 'O', 'O', 'O', 'O', 'O', 'O', 'O', 'O', 'O', 'O', 'O', 'O', 'O', 'O', 'O', 'O', 'O', 'O', 'O', 'O', 'O', 'O', 'O', 'O', 'O', 'O', 'O', 'O', 'O', 'O', 'O', 'O', 'O', 'O', 'O', 'O', 'O', 'O', 'O', 'O', 'O', 'O', 'O', 'O', 'O', 'O', 'O', 'O', 'O', 'O', 'O', 'O', 'O', 'O', 'O', 'O', 'O', 'O', 'O', 'O', 'O', 'O', 'B-KEY', 'I-KEY', 'I-KEY', 'O', 'O', 'O', 'B-VAL', 'I-VAL', 'I-VAL', 'I-VAL', 'I-VAL', 'B-KEY', 'I-KEY', 'O', 'O', 'O', 'O', 'O', 'O', 'O', 'O', 'O', 'O', 'O', 'O', 'O', 'O', 'O', 'O', 'O', 'O', 'O', 'O', 'O', 'O', 'O', 'O', 'O', 'O', 'O', 'O', 'O', 'O', 'O', 'O', 'O', 'O', 'O', 'O', 'O', 'O', 'O', 'O', 'O', 'O', 'O', 'O', 'O', 'O', 'O', 'O', 'O', 'O', 'O', 'O', 'O', 'O', 'O', 'O', 'O', 'O', 'O', 'O', 'O', 'O', 'O', 'O', 'O', 'O', 'O', 'O', 'O', 'O', 'O', 'O', 'O', 'O', 'O', 'O', 'O', 'O', 'O', 'O', 'O', 'O', 'O', 'O', 'O', 'O', 'O', 'O', 'O', 'O', 'O', 'O', 'O', 'O', 'O', 'O', 'O', 'O', 'O', 'O', 'O', 'O', 'O', 'O', 'O', 'O', 'O', 'O', 'O', 'O', 'O', 'O', 'O', 'O', 'O', 'O', 'O', 'O', 'O', 'O', 'O', 'O', 'O', 'O', 'O', 'O', 'O', 'O', 'O', 'O', 'O', 'O', 'O', 'O', 'O', 'O', 'O', 'O', 'O', 'O', 'O', 'O', 'O', 'O', 'O', 'O', 'O', 'O', 'O', 'O', 'O', 'B-KEY', 'I-KEY', 'O', 'B-VAL', 'I-VAL', 'I-VAL', 'I-VAL', 'I-VAL', 'I-VAL', 'O', 'B-KEY', 'I-KEY', 'I-KEY', 'B-VAL', 'I-VAL', 'I-VAL', 'I-VAL', 'I-VAL', 'B-KEY', 'I-KEY', 'I-KEY', 'I-KEY', 'I-KEY', 'I-KEY', 'I-KEY', 'I-KEY', 'I-KEY', 'I-KEY', 'I-KEY', 'I-KEY', 'I-KEY', 'O', 'B-VAL', 'I-VAL', 'I-VAL', 'I-VAL', 'I-VAL', 'I-VAL', 'O', 'B-KEY', 'I-KEY', 'I-KEY', 'I-KEY', 'B-VAL', 'I-VAL', 'I-VAL', 'I-VAL', 'I-VAL', 'I-VAL', 'B-KEY', 'I-KEY', 'I-KEY', 'I-KEY', 'I-KEY', 'I-KEY', 'I-KEY', 'O', 'B-VAL', 'I-VAL', 'I-VAL', 'I-VAL', 'I-VAL', 'I-VAL', 'I-VAL', 'O', 'B-KEY', 'B-VAL', 'I-VAL', 'I-VAL', 'I-VAL', 'I-VAL', 'I-VAL', 'O', 'O', 'O', 'O', 'O', 'O', 'O', 'O', 'O', 'O', 'O', 'O', 'O', 'O', 'O', 'O', 'O', 'O', 'O', 'O', 'O', 'O', 'O', 'O', 'O', 'O', 'O', 'O', 'O', 'O', 'O', 'O', 'O', 'O', 'O', 'O', 'O', 'O', 'O', 'O', 'B-KEY', 'I-KEY', 'O', 'B-VAL', 'I-VAL', 'I-VAL', 'I-VAL', 'I-VAL', 'I-VAL', 'I-VAL', 'I-VAL', 'I-VAL', 'I-VAL', 'I-VAL', 'I-VAL', 'I-VAL', 'I-VAL', 'I-VAL', 'I-VAL', 'O', 'B-KEY', 'I-KEY', 'O', 'B-VAL', 'I-VAL', 'O', 'B-KEY', 'I-KEY', 'O', 'B-VAL', 'I-VAL', 'I-VAL', 'O', 'B-KEY', 'I-KEY', 'O', 'B-VAL', 'I-VAL', 'I-VAL', 'I-VAL', 'I-VAL', 'I-VAL', 'I-VAL', 'I-VAL', 'I-VAL', 'I-VAL', 'I-VAL', 'I-VAL', 'O', 'O', 'O', 'O', 'O', 'O', 'O', 'O', 'O', 'O', 'O', 'O', 'O', 'O', 'O', 'O', 'O', 'O', 'O', 'O', 'O', 'O', 'O', 'O', 'O', 'O', 'O', 'O', 'O', 'O', 'O', 'O', 'O', 'O', 'O', 'O', 'O', 'O', 'O', 'O', 'B-KEY', 'I-KEY', 'O', 'O', 'O', 'O', 'B-VAL', 'I-VAL', 'I-VAL', 'I-VAL', 'I-VAL', 'I-VAL', 'B-KEY', 'I-KEY', 'I-KEY', 'I-KEY', 'I-KEY', 'I-KEY', 'I-KEY', 'I-KEY', 'I-KEY', 'I-KEY', 'I-KEY', 'I-KEY', 'I-KEY', 'O', 'O', 'O', 'O', 'B-VAL', 'I-VAL', 'I-VAL', 'I-VAL', 'I-VAL', 'I-VAL', 'B-KEY', 'I-KEY', 'I-KEY', 'I-KEY', 'I-KEY', 'I-KEY', 'I-KEY', 'O', 'O', 'O', 'O', 'O', 'O', 'O', 'O', 'O', 'O', 'O', 'O', 'O', 'O', 'O', 'O', 'O', 'O', 'O', 'O', 'O', 'O', 'O', 'O', 'O', 'O', 'O', 'O', 'O', 'O', 'O', 'O', 'O', 'O', 'O', 'O', 'O', 'O', 'O', 'O', 'O', 'O', 'O', 'O', 'O', 'O', 'O', 'O', 'O', 'O', 'O', 'O', 'O', 'O', 'O', 'O', 'O', 'O', 'O', 'O', 'O', 'O', 'O', 'O', 'O', 'O', 'O', 'O', 'O', 'O', 'O', 'O', 'O', 'O', 'O', 'O', 'O', 'O', 'O', 'O', 'O', 'O', 'O', 'O', 'O', 'O', 'O', 'O', 'O', 'O', 'O', 'O', 'O', 'O', 'O', 'O', 'O', 'O', 'O', 'O', 'O', 'O', 'O', 'O', 'O', 'O', 'O', 'O', 'O', 'O', 'O', 'O', 'O', 'O', 'O', 'O', 'O', 'O', 'O', 'O', 'O', 'O', 'O', 'O', 'O', 'O', 'O', 'O', 'O', 'O', 'O', 'O', 'O', 'O', 'O', 'O', 'O', 'O', 'O', 'O', 'O', 'O', 'O', 'O', 'O', 'O', 'O', 'O', 'O', 'O', 'O', 'O', 'O', 'O', 'O', 'O', 'O', 'O', 'O', 'O', 'O', 'O', 'O', 'O', 'O', 'O', 'O', 'O', 'O', 'O', 'O', 'O', 'O', 'O', 'O', 'O', 'O', 'O', 'O', 'O', 'O', 'O', 'O', 'O', 'O', 'O', 'O', 'O', 'O', 'O', 'O', 'O', 'O', 'O', 'O', 'O', 'O', 'O', 'O', 'O', 'O', 'O', 'O', 'O', 'O', 'O', 'O', 'O', 'O', 'O', 'O', 'O', 'O', 'O', 'O', 'O', 'O', 'O', 'O', 'O', 'O', 'O', 'O', 'O', 'O', 'O', 'O', 'O', 'O', 'O', 'O', 'O', 'O', 'O', 'O', 'O', 'O', 'O', 'O', 'O', 'O', 'O', 'O', 'O', 'O', 'O', 'O', 'O', 'O', 'O', 'O', 'O', 'O', 'O', 'O', 'O', 'O', 'O', 'O', 'O', 'O', 'O', 'O', 'O', 'O', 'O', 'O', 'O', 'O', 'O']\n",
            "['O', 'O', 'O', 'O', 'O', 'O', 'O', 'O', 'O', 'O', 'O', 'O', 'O', 'O', 'O', 'O', 'O', 'O', 'O', 'O', 'O', 'O', 'O', 'O', 'O', 'O', 'O', 'O', 'O', 'O', 'O', 'O', 'O', 'O', 'O', 'O', 'O', 'O', 'O', 'O', 'O', 'O', 'O', 'O', 'O', 'O', 'O', 'O', 'O', 'O', 'O', 'O', 'B-VAL', 'I-KEY', 'I-VAL', 'I-VAL', 'I-VAL', 'I-VAL', 'I-VAL', 'I-VAL', 'I-VAL', 'I-VAL', 'B-KEY', 'I-KEY', 'O', 'B-KEY', 'I-KEY', 'B-VAL', 'I-VAL', 'I-VAL', 'I-VAL', 'I-VAL', 'O', 'B-VAL', 'I-VAL', 'I-VAL', 'I-VAL', 'O', 'B-VAL', 'I-VAL', 'I-VAL', 'I-VAL', 'I-VAL', 'I-VAL', 'O', 'O', 'O', 'O', 'O', 'O', 'O', 'O', 'O', 'O', 'O', 'O', 'O', 'O', 'O', 'O', 'O', 'O', 'O', 'O', 'O', 'O', 'O', 'O', 'O', 'O', 'O', 'O', 'O', 'O', 'O', 'O', 'O', 'O', 'O', 'O', 'O', 'O', 'O', 'B-KEY', 'O', 'O', 'O', 'O', 'O', 'O', 'O', 'O', 'O', 'B-KEY', 'B-VAL', 'I-VAL', 'I-VAL', 'I-VAL', 'I-VAL', 'I-VAL', 'I-VAL', 'I-VAL', 'I-VAL', 'O', 'O', 'O', 'O', 'O', 'B-KEY', 'I-KEY', 'I-VAL', 'I-VAL', 'I-VAL', 'I-VAL', 'I-VAL', 'I-VAL', 'I-VAL', 'I-VAL', 'O', 'O', 'O', 'O', 'O', 'O', 'O', 'O', 'O', 'O', 'O', 'B-VAL', 'I-VAL', 'I-VAL', 'I-VAL', 'I-VAL', 'O', 'O', 'O', 'O', 'O', 'O', 'O', 'O', 'O', 'O', 'O', 'O', 'O', 'O', 'O', 'O', 'O', 'O', 'O', 'O', 'O', 'O', 'O', 'O', 'O', 'O', 'O', 'O', 'O', 'O', 'O', 'B-VAL', 'O', 'I-VAL', 'I-VAL', 'I-VAL', 'O', 'O', 'O', 'O', 'O', 'O', 'O', 'O', 'O', 'O', 'O', 'O', 'O', 'O', 'O', 'B-KEY', 'O', 'O', 'O', 'B-KEY', 'I-VAL', 'I-VAL', 'O', 'I-VAL', 'I-VAL', 'I-VAL', 'I-VAL', 'I-VAL', 'I-VAL', 'B-KEY', 'O', 'B-KEY', 'I-KEY', 'I-KEY', 'I-KEY', 'O', 'I-VAL', 'I-VAL', 'O', 'O', 'O', 'O', 'O', 'O', 'O', 'O', 'O', 'O', 'O', 'O', 'O', 'O', 'O', 'O', 'O', 'O', 'O', 'O', 'O', 'O', 'O', 'O', 'O', 'O', 'O', 'O', 'O', 'O', 'O', 'O', 'O', 'O', 'O', 'O', 'O', 'O', 'O', 'O', 'O', 'O', 'O', 'O', 'O', 'O', 'O', 'O', 'O', 'O', 'O', 'O', 'O', 'O', 'O', 'O', 'O', 'O', 'O', 'O', 'O', 'O', 'O', 'O', 'O', 'O', 'O', 'O', 'O', 'O', 'O', 'O', 'O', 'O', 'O', 'O', 'O', 'O', 'O', 'O', 'O', 'O', 'O', 'O', 'O', 'O', 'O', 'O', 'O', 'O', 'O', 'O', 'O', 'O', 'O', 'O', 'O', 'O', 'O', 'O', 'O', 'O', 'O', 'O', 'O', 'O', 'O', 'O', 'O', 'O', 'O', 'O', 'O', 'O', 'O', 'O', 'O', 'O', 'O', 'O', 'O', 'O', 'O', 'O', 'O', 'O', 'O', 'O', 'O', 'O', 'O', 'O', 'O', 'O', 'O', 'O', 'O', 'O', 'O', 'O', 'O', 'O', 'O', 'O', 'O', 'O', 'O', 'O', 'O', 'O', 'O', 'O', 'O', 'O', 'O', 'O', 'O', 'O', 'O', 'O', 'O', 'O', 'O', 'O', 'O', 'O', 'O', 'O', 'O', 'O', 'O', 'O', 'O', 'O', 'O', 'O', 'O', 'O', 'O', 'O', 'O', 'O', 'O', 'O', 'O', 'O', 'O', 'O', 'O', 'O', 'O', 'O', 'O', 'O', 'O', 'O', 'O', 'O', 'O', 'O', 'O', 'O', 'O', 'O', 'O', 'O', 'O', 'O', 'O', 'O', 'O', 'O', 'O', 'O', 'O', 'O', 'O', 'O', 'O', 'O', 'O', 'O', 'O', 'O', 'O', 'O', 'O', 'O', 'O', 'O', 'O', 'O', 'O', 'O', 'O', 'O', 'O', 'O', 'O', 'O', 'O', 'O', 'O', 'O', 'O', 'O', 'O', 'O', 'O', 'O', 'O', 'O', 'O', 'O', 'O', 'O', 'O', 'O', 'O', 'O', 'O', 'O', 'O', 'O', 'O', 'O', 'O', 'O', 'O', 'O', 'O', 'O', 'O', 'O', 'O', 'O', 'B-KEY', 'O', 'I-VAL', 'I-VAL', 'I-VAL', 'I-VAL', 'I-VAL', 'I-VAL', 'I-VAL', 'I-VAL', 'I-VAL', 'I-VAL', 'I-VAL', 'O', 'B-KEY', 'I-KEY', 'B-VAL', 'I-VAL', 'I-VAL', 'I-VAL', 'I-VAL', 'I-VAL', 'I-VAL', 'I-VAL', 'I-VAL', 'I-VAL', 'I-VAL', 'I-VAL', 'I-VAL', 'I-VAL', 'I-VAL', 'I-VAL', 'I-VAL', 'I-VAL', 'I-VAL', 'I-VAL', 'I-VAL', 'I-VAL', 'I-VAL', 'I-VAL', 'O', 'B-KEY', 'I-KEY', 'I-KEY', 'B-VAL', 'I-VAL', 'I-VAL', 'I-VAL', 'I-VAL', 'I-VAL', 'I-VAL', 'I-VAL', 'I-VAL', 'I-VAL', 'O', 'B-KEY', 'I-KEY', 'I-KEY', 'B-VAL', 'I-VAL', 'I-VAL', 'I-VAL', 'I-VAL', 'I-VAL', 'I-VAL', 'I-VAL', 'I-VAL', 'I-VAL', 'I-VAL', 'I-KEY', 'I-VAL', 'I-VAL', 'I-VAL', 'I-VAL', 'I-VAL', 'I-VAL', 'I-VAL', 'I-VAL', 'I-VAL', 'I-VAL', 'I-VAL', 'O', 'B-KEY', 'I-KEY', 'B-VAL', 'I-VAL', 'I-VAL', 'I-VAL', 'I-VAL', 'O', 'B-KEY', 'I-KEY', 'I-VAL', 'I-VAL', 'I-VAL', 'I-VAL', 'I-VAL', 'I-VAL', 'I-VAL', 'I-VAL', 'I-VAL', 'I-VAL', 'B-KEY', 'O', 'B-VAL', 'I-VAL', 'I-VAL', 'I-VAL', 'I-VAL', 'I-VAL', 'I-VAL', 'I-VAL', 'I-VAL', 'I-VAL', 'I-VAL', 'I-VAL', 'I-VAL', 'B-VAL', 'I-VAL', 'I-VAL', 'I-VAL', 'I-VAL', 'I-VAL', 'I-VAL', 'I-VAL', 'I-VAL', 'I-VAL', 'I-VAL', 'I-VAL', 'I-VAL', 'O', 'B-KEY', 'I-VAL', 'I-VAL', 'I-VAL', 'I-VAL', 'I-VAL', 'I-VAL', 'I-VAL', 'I-VAL', 'I-VAL', 'B-KEY', 'I-KEY', 'B-VAL', 'I-VAL', 'I-VAL', 'I-VAL', 'I-VAL', 'O', 'B-KEY', 'I-KEY', 'B-VAL', 'I-VAL', 'I-VAL', 'I-VAL', 'I-VAL', 'I-VAL', 'O', 'B-KEY', 'I-KEY', 'B-VAL', 'I-VAL', 'I-VAL', 'I-VAL', 'I-VAL', 'O', 'B-KEY', 'I-KEY', 'B-VAL', 'I-VAL', 'I-VAL', 'I-VAL', 'O', 'B-KEY', 'I-KEY', 'I-KEY', 'B-VAL', 'I-VAL', 'I-VAL', 'I-VAL', 'I-VAL', 'I-VAL', 'I-VAL', 'I-VAL', 'I-VAL', 'I-VAL', 'O', 'B-KEY', 'I-VAL', 'I-VAL', 'I-VAL', 'I-VAL', 'I-VAL', 'I-VAL', 'I-VAL', 'O', 'B-KEY', 'I-KEY', 'I-KEY', 'B-VAL', 'I-VAL', 'I-VAL', 'I-VAL', 'I-VAL', 'I-VAL', 'I-VAL', 'I-VAL', 'I-VAL', 'O', 'B-KEY', 'I-KEY', 'B-VAL', 'I-VAL', 'I-VAL', 'I-VAL', 'I-VAL', 'B-KEY', 'O', 'O', 'O', 'O', 'O', 'O', 'O', 'O', 'O', 'O', 'O', 'O', 'O', 'O', 'O', 'B-KEY', 'I-KEY', 'O', 'O', 'O', 'B-VAL', 'I-VAL', 'I-VAL', 'I-VAL', 'B-KEY', 'O', 'B-KEY', 'I-KEY', 'O', 'B-VAL', 'I-VAL', 'I-VAL', 'O', 'B-KEY', 'O', 'O', 'O', 'O', 'B-KEY', 'O', 'B-VAL', 'I-VAL', 'I-VAL', 'I-VAL', 'I-VAL', 'I-VAL', 'I-VAL', 'I-VAL', 'I-VAL', 'I-VAL', 'O', 'O', 'O', 'B-KEY', 'I-KEY', 'O', 'O', 'O', 'O', 'O', 'O', 'O', 'O', 'O', 'O', 'O', 'O', 'O', 'O', 'O', 'O', 'O', 'O', 'O', 'O', 'O', 'O', 'O', 'O', 'B-KEY', 'O', 'O', 'I-VAL', 'I-VAL', 'I-VAL', 'I-VAL', 'I-VAL', 'I-VAL', 'O', 'O', 'O', 'O', 'B-KEY', 'O', 'O', 'B-VAL', 'I-VAL', 'I-VAL', 'I-VAL', 'I-VAL', 'I-VAL', 'O', 'O', 'O', 'O', 'O', 'O', 'O', 'O', 'O', 'O', 'O', 'O', 'O', 'O', 'O', 'O', 'O', 'O', 'O', 'O', 'O', 'O', 'O', 'O', 'O', 'O', 'O', 'O', 'O', 'O', 'O', 'O', 'O', 'O', 'O', 'O', 'O', 'O', 'O', 'O', 'O', 'O', 'O', 'O', 'O', 'O', 'O', 'O', 'O', 'O', 'O', 'O', 'O', 'O', 'O', 'O', 'O', 'O', 'O', 'O', 'O', 'O', 'O', 'O', 'O', 'O', 'O', 'O', 'O', 'O', 'O', 'O', 'O', 'O', 'O', 'O', 'O', 'O', 'O', 'O', 'O', 'O', 'O', 'O', 'O', 'O', 'O', 'O', 'O', 'O', 'O', 'O', 'O', 'O', 'O', 'O', 'O', 'O', 'O', 'O', 'O', 'O', 'O', 'O', 'O', 'O', 'O', 'O', 'O', 'O', 'O', 'O', 'O', 'O', 'O', 'O', 'O', 'O', 'O', 'O', 'O', 'O', 'O', 'O', 'O', 'O', 'O', 'O', 'O', 'O', 'O', 'O', 'O', 'O', 'O', 'O', 'O', 'O', 'O', 'O', 'O', 'O', 'O', 'O', 'O', 'O', 'O', 'O', 'O', 'O', 'O', 'O', 'O', 'O', 'O', 'O', 'O', 'O', 'O', 'O', 'O', 'O', 'O', 'O', 'O', 'O', 'O', 'O', 'O', 'O', 'O', 'O', 'O', 'O', 'O', 'O', 'O', 'O', 'O', 'O', 'O', 'O', 'O', 'O', 'O', 'O', 'O', 'O', 'O', 'O', 'O', 'B-KEY', 'O', 'B-VAL', 'I-VAL', 'I-VAL', 'I-VAL', 'I-VAL', 'I-VAL', 'I-VAL', 'O', 'B-KEY', 'I-KEY', 'B-VAL', 'I-VAL', 'I-VAL', 'I-VAL', 'I-VAL', 'O', 'B-VAL', 'I-VAL', 'I-VAL', 'I-VAL', 'I-VAL', 'I-VAL', 'I-VAL', 'I-VAL', 'I-VAL', 'I-VAL', 'I-VAL', 'I-VAL', 'I-VAL', 'I-VAL', 'I-VAL', 'I-VAL', 'I-VAL', 'I-VAL', 'I-VAL', 'O', 'B-KEY', 'I-KEY', 'I-KEY', 'B-VAL', 'I-VAL', 'I-VAL', 'I-VAL', 'I-VAL', 'I-VAL', 'I-VAL', 'I-VAL', 'I-VAL', 'I-VAL', 'O', 'O', 'B-KEY', 'I-VAL', 'I-VAL', 'I-VAL', 'I-VAL', 'I-VAL', 'I-VAL', 'I-VAL', 'I-VAL', 'I-VAL', 'I-VAL', 'I-VAL', 'I-VAL', 'I-VAL', 'I-VAL', 'O', 'B-KEY', 'I-KEY', 'B-VAL', 'I-VAL', 'I-VAL', 'I-VAL', 'I-VAL', 'O', 'B-KEY', 'I-KEY', 'I-KEY', 'B-VAL', 'I-VAL', 'I-VAL', 'I-VAL', 'I-VAL', 'I-VAL', 'I-VAL', 'I-VAL', 'I-VAL', 'B-KEY', 'O', 'B-VAL', 'I-VAL', 'I-VAL', 'I-VAL', 'I-VAL', 'I-VAL', 'O', 'B-KEY', 'I-KEY', 'B-VAL', 'I-VAL', 'I-VAL', 'I-VAL', 'I-VAL', 'O', 'B-VAL', 'I-VAL', 'I-VAL', 'I-VAL', 'I-VAL', 'I-VAL', 'I-VAL', 'I-VAL', 'I-VAL', 'I-VAL', 'I-VAL', 'I-VAL', 'I-VAL', 'I-VAL', 'I-VAL', 'I-VAL', 'I-VAL', 'I-VAL', 'I-VAL', 'O', 'O', 'O', 'O', 'O', 'O', 'O', 'O', 'O', 'O', 'O', 'O', 'O', 'O', 'B-KEY', 'O', 'B-VAL', 'I-VAL', 'I-VAL', 'I-VAL', 'O', 'O', 'O', 'B-KEY', 'I-KEY', 'O', 'B-KEY', 'O', 'O', 'O', 'O', 'O', 'O', 'B-KEY', 'B-VAL', 'I-VAL', 'I-VAL', 'I-VAL', 'I-VAL', 'O', 'B-VAL', 'I-VAL', 'I-VAL', 'I-VAL', 'I-VAL', 'I-VAL', 'O', 'O', 'O', 'O', 'O', 'O', 'O', 'O', 'O', 'O', 'O', 'O', 'O', 'O', 'O', 'O', 'O', 'O', 'O', 'O', 'O', 'O', 'O', 'O', 'B-KEY', 'B-KEY', 'I-KEY', 'I-KEY', 'I-KEY', 'B-VAL', 'I-VAL', 'I-VAL', 'I-VAL', 'I-VAL', 'I-VAL', 'I-VAL', 'I-VAL', 'I-VAL', 'I-VAL', 'I-VAL', 'I-VAL', 'I-VAL', 'O', 'O', 'O', 'O', 'O', 'O', 'O', 'O', 'O', 'O', 'O', 'O', 'O', 'O', 'O', 'O', 'O', 'O', 'O', 'O', 'O', 'O', 'O', 'O', 'O', 'O', 'O', 'O', 'O', 'O', 'O', 'O', 'O', 'O', 'O', 'O', 'O', 'O', 'O', 'O', 'O', 'O', 'O', 'O', 'O', 'O', 'O', 'O', 'O', 'O', 'O', 'O', 'O', 'O', 'O', 'O', 'O', 'O', 'O', 'O', 'O', 'O', 'O', 'O', 'O', 'O', 'O', 'O', 'O', 'O', 'O', 'O', 'O', 'O', 'O', 'O', 'O', 'O', 'O', 'O', 'O', 'O', 'O', 'O', 'O', 'O', 'O', 'O', 'O', 'O', 'O', 'O', 'O', 'O', 'O', 'O', 'O', 'O', 'O', 'O', 'O', 'O', 'O', 'O', 'O', 'O', 'O', 'O', 'O', 'O', 'O', 'O', 'O', 'O', 'O', 'O', 'O', 'O', 'O', 'O', 'O', 'O', 'O', 'O', 'O', 'O', 'O', 'O', 'O', 'O', 'O', 'O', 'O', 'O', 'O', 'O', 'O', 'O', 'O', 'O', 'O', 'O', 'O', 'O', 'O', 'O', 'O', 'O', 'O', 'O', 'O', 'O', 'O', 'O', 'O', 'O', 'O', 'O', 'O', 'O', 'O', 'O', 'O', 'O', 'O', 'O', 'O', 'O', 'O', 'O', 'O', 'O', 'O', 'O', 'O', 'O', 'O', 'O', 'O', 'O', 'O', 'O', 'O', 'O', 'O', 'O', 'O', 'O', 'O', 'O', 'O', 'O', 'O', 'O', 'O', 'O', 'O', 'O', 'O', 'O', 'O', 'O', 'O', 'O', 'O', 'O', 'O', 'O', 'O', 'O', 'O', 'O', 'O', 'O', 'O', 'O', 'O', 'O', 'O', 'O', 'O', 'O', 'O', 'O', 'O', 'O', 'O', 'O', 'O', 'O', 'O', 'O', 'O', 'O', 'O', 'O', 'O', 'O', 'O', 'O', 'O', 'O', 'O', 'O', 'O', 'O', 'O', 'O', 'O', 'O', 'O', 'O', 'O', 'O', 'O', 'O', 'O', 'O', 'O', 'O', 'O', 'O', 'O', 'O', 'O', 'O', 'O', 'O', 'O', 'O', 'O', 'O', 'O', 'O', 'O', 'O', 'O', 'O', 'O', 'O', 'O', 'O', 'O', 'O', 'O', 'O', 'O', 'O', 'O', 'O', 'O', 'O', 'O', 'O', 'O', 'O', 'O', 'O', 'O', 'O', 'O', 'O', 'O', 'O', 'O', 'O', 'O', 'O', 'O', 'O', 'O', 'O', 'O', 'B-KEY', 'B-VAL', 'I-VAL', 'I-VAL', 'I-VAL', 'I-VAL', 'I-VAL', 'O', 'B-VAL', 'I-VAL', 'I-VAL', 'I-VAL', 'I-VAL', 'I-VAL', 'I-VAL', 'I-VAL', 'I-VAL', 'I-VAL', 'I-VAL', 'I-VAL', 'I-VAL', 'I-VAL', 'I-VAL', 'I-VAL', 'I-VAL', 'I-VAL', 'I-VAL', 'I-VAL', 'I-VAL', 'I-VAL', 'I-VAL', 'I-VAL', 'I-VAL', 'I-VAL', 'I-VAL', 'I-VAL', 'I-VAL', 'I-VAL', 'I-VAL', 'I-VAL', 'I-VAL', 'I-VAL', 'I-VAL', 'I-VAL', 'I-VAL', 'I-VAL', 'I-VAL', 'O', 'B-KEY', 'I-KEY', 'B-VAL', 'I-VAL', 'I-VAL', 'I-VAL', 'I-VAL', 'O', 'B-KEY', 'I-KEY', 'B-VAL', 'I-VAL', 'I-VAL', 'I-VAL', 'I-VAL', 'O', 'B-KEY', 'B-VAL', 'I-VAL', 'I-VAL', 'I-VAL', 'I-VAL', 'I-VAL', 'I-VAL', 'I-VAL', 'I-VAL', 'I-VAL', 'I-VAL', 'I-VAL', 'I-VAL', 'O', 'B-VAL', 'I-VAL', 'I-VAL', 'I-VAL', 'I-VAL', 'I-VAL', 'I-VAL', 'I-VAL', 'I-VAL', 'I-VAL', 'I-VAL', 'I-VAL', 'I-VAL', 'I-VAL', 'I-VAL', 'I-VAL', 'O', 'B-KEY', 'I-KEY', 'B-VAL', 'I-VAL', 'I-VAL', 'I-VAL', 'I-VAL', 'O', 'B-KEY', 'I-KEY', 'B-VAL', 'I-VAL', 'I-VAL', 'I-VAL', 'I-VAL', 'O', 'O', 'O', 'O', 'O', 'O', 'O', 'O', 'O', 'O', 'O', 'O', 'O', 'O', 'O', 'O', 'O', 'O', 'O', 'O', 'O', 'O', 'O', 'O', 'O', 'O', 'O', 'O', 'O', 'O', 'O', 'O', 'O', 'O', 'O', 'O', 'O', 'O', 'O', 'O', 'O', 'O', 'O', 'O', 'O', 'O', 'O', 'O', 'O', 'O', 'O', 'O', 'O', 'O', 'O', 'O', 'O', 'O', 'O', 'O', 'O', 'O', 'O', 'O', 'O', 'O', 'O', 'O', 'O', 'O', 'O', 'O', 'O', 'O', 'O', 'O', 'O', 'O', 'O', 'O', 'O', 'O', 'O', 'O', 'O', 'O', 'O', 'O', 'O', 'O', 'O', 'O', 'O', 'B-KEY', 'O', 'O', 'O', 'O', 'B-KEY', 'B-VAL', 'I-VAL', 'I-VAL', 'I-VAL', 'I-VAL', 'I-VAL', 'I-VAL', 'I-VAL', 'O', 'O', 'O', 'O', 'O', 'O', 'O', 'B-KEY', 'I-KEY', 'B-VAL', 'I-VAL', 'I-VAL', 'I-VAL', 'I-VAL', 'I-VAL', 'I-VAL', 'O', 'O', 'O', 'O', 'O', 'O', 'O', 'O', 'O', 'O', 'O', 'O', 'O', 'O', 'O', 'B-KEY', 'B-VAL', 'I-VAL', 'I-VAL', 'I-VAL', 'I-VAL', 'I-VAL', 'B-KEY', 'I-KEY', 'B-VAL', 'I-VAL', 'I-VAL', 'I-VAL', 'I-VAL', 'B-KEY', 'I-KEY', 'B-VAL', 'I-VAL', 'I-VAL', 'I-VAL', 'I-VAL', 'B-KEY', 'B-VAL', 'I-VAL', 'I-VAL', 'I-VAL', 'I-VAL', 'I-VAL', 'I-VAL', 'I-VAL', 'I-VAL', 'I-VAL', 'I-VAL', 'I-VAL', 'I-VAL', 'I-VAL', 'I-VAL', 'I-VAL', 'I-VAL', 'I-VAL', 'I-VAL', 'I-VAL', 'I-VAL', 'I-VAL', 'I-VAL', 'I-VAL', 'I-VAL', 'I-VAL', 'I-VAL', 'I-VAL', 'I-VAL', 'I-VAL', 'I-VAL', 'I-VAL', 'I-VAL', 'B-KEY', 'I-KEY', 'B-KEY', 'I-KEY', 'I-KEY', 'I-KEY', 'O', 'O', 'O', 'O', 'O', 'O', 'O', 'O', 'O', 'O', 'O', 'O', 'O', 'O', 'O', 'O', 'O', 'O', 'B-VAL', 'I-VAL', 'I-VAL', 'I-VAL', 'I-VAL', 'I-VAL', 'B-KEY', 'I-KEY', 'O', 'O', 'O', 'O', 'O', 'O', 'O', 'O', 'B-KEY', 'O', 'O', 'O', 'O', 'O', 'O', 'O', 'O', 'B-VAL', 'I-VAL', 'I-VAL', 'I-VAL', 'I-VAL', 'I-VAL', 'I-VAL', 'I-VAL', 'I-VAL', 'I-VAL', 'I-VAL', 'I-VAL', 'I-VAL', 'B-KEY', 'I-KEY', 'B-VAL', 'I-VAL', 'I-VAL', 'I-VAL', 'I-VAL', 'B-KEY', 'I-KEY', 'B-VAL', 'I-VAL', 'I-VAL', 'I-VAL', 'I-VAL', 'B-KEY', 'O', 'B-VAL', 'I-VAL', 'I-VAL', 'I-VAL', 'I-VAL', 'I-VAL', 'I-VAL', 'B-KEY', 'I-KEY', 'O', 'O', 'O', 'O', 'O', 'O', 'O', 'O', 'O', 'O', 'O', 'O', 'O', 'O', 'O', 'O', 'O', 'O', 'O', 'O', 'O', 'O', 'O', 'O', 'O', 'O', 'O', 'O', 'O', 'O', 'O', 'O', 'O', 'O', 'O', 'O', 'O', 'O', 'O', 'O', 'O', 'O', 'O', 'O', 'O', 'O', 'O', 'O', 'O', 'O', 'O', 'O', 'O', 'O', 'O', 'O', 'O', 'O', 'O', 'O', 'O', 'O', 'O', 'O', 'O', 'O', 'O', 'O', 'O', 'O', 'O', 'O', 'O', 'O', 'O', 'O', 'O', 'O', 'O', 'O', 'O', 'O', 'O', 'O', 'O', 'O', 'O', 'O', 'O', 'O', 'O', 'O', 'O', 'O', 'O', 'O', 'O', 'O', 'O', 'O', 'O', 'O', 'O', 'O', 'O', 'O', 'O', 'O', 'O', 'O', 'O', 'O', 'O', 'O', 'O', 'O', 'O', 'O', 'O', 'O', 'O', 'O', 'I-VAL', 'O', 'O', 'O', 'O', 'O', 'O', 'O', 'O', 'O', 'B-KEY', 'O', 'O', 'O', 'B-KEY', 'O', 'O', 'O', 'O', 'B-KEY', 'B-VAL', 'I-VAL', 'I-VAL', 'I-VAL', 'I-VAL', 'I-VAL', 'O', 'O', 'O', 'O', 'O', 'O', 'O', 'B-KEY', 'I-KEY', 'B-VAL', 'I-VAL', 'I-VAL', 'I-VAL', 'I-VAL', 'I-VAL', 'I-VAL', 'O', 'O', 'O', 'O', 'O', 'O', 'O', 'O', 'O', 'O', 'O', 'O', 'O', 'O', 'O', 'B-KEY', 'B-VAL', 'I-VAL', 'I-VAL', 'I-VAL', 'I-VAL', 'I-VAL', 'B-KEY', 'I-KEY', 'B-VAL', 'I-VAL', 'I-VAL', 'I-VAL', 'I-VAL', 'B-KEY', 'I-KEY', 'B-VAL', 'I-VAL', 'I-VAL', 'I-VAL', 'B-KEY', 'I-VAL', 'I-VAL', 'B-VAL', 'I-VAL', 'I-VAL', 'I-VAL', 'I-VAL', 'I-VAL', 'I-VAL', 'I-VAL', 'I-VAL', 'I-VAL', 'I-VAL', 'I-VAL', 'I-VAL', 'I-VAL', 'I-VAL', 'I-VAL', 'I-VAL', 'I-VAL', 'I-VAL', 'I-VAL', 'I-VAL', 'B-KEY', 'I-KEY', 'B-KEY', 'O', 'I-KEY', 'O', 'I-VAL', 'I-VAL', 'I-VAL', 'I-VAL', 'I-VAL', 'I-VAL', 'B-KEY', 'I-KEY', 'O', 'O', 'B-KEY', 'B-VAL', 'I-VAL', 'I-VAL', 'I-VAL', 'I-VAL', 'I-VAL', 'I-VAL', 'I-VAL', 'I-VAL', 'I-VAL', 'I-VAL', 'I-VAL', 'I-VAL', 'B-KEY', 'I-KEY', 'B-VAL', 'I-VAL', 'I-VAL', 'I-VAL', 'I-VAL', 'B-KEY', 'I-KEY', 'B-VAL', 'I-VAL', 'I-VAL', 'I-VAL', 'I-VAL', 'O', 'B-KEY', 'I-KEY', 'O', 'O', 'O', 'O', 'O', 'O', 'O', 'O', 'O', 'O', 'O', 'O', 'O', 'O', 'O', 'O', 'O', 'O', 'O', 'O', 'O', 'O', 'O', 'O', 'O', 'O', 'O', 'O', 'O', 'O', 'O', 'O', 'O', 'O', 'O', 'O', 'O', 'O', 'O', 'O', 'O', 'O', 'O', 'O', 'O', 'O', 'O', 'O', 'O', 'O', 'O', 'O', 'O', 'O', 'O', 'O', 'O', 'O', 'O', 'O', 'O', 'O', 'O', 'O', 'O', 'O', 'O', 'O', 'O', 'O', 'O', 'O', 'O', 'O', 'O', 'O', 'O', 'O', 'O', 'O', 'O', 'O', 'O', 'O', 'O', 'O', 'O', 'O', 'O', 'O', 'O', 'O', 'O', 'O', 'O', 'O', 'O', 'O', 'O', 'O', 'O', 'O', 'O', 'O', 'O', 'O', 'O', 'O', 'O', 'O', 'O', 'O', 'O', 'O', 'O', 'O', 'O', 'O', 'O', 'O', 'O', 'O', 'O', 'O', 'O', 'O', 'O', 'O', 'O', 'O', 'O', 'O', 'O', 'O', 'O', 'O', 'O', 'O', 'O', 'O', 'O', 'O', 'O', 'O', 'O', 'O', 'O', 'O', 'O', 'O', 'O', 'O', 'O', 'O', 'O', 'O', 'O', 'O', 'O', 'O', 'O', 'O', 'O', 'O', 'O', 'O', 'O', 'O', 'O', 'O', 'O', 'O', 'O', 'O', 'O', 'O', 'O', 'O', 'O', 'O', 'O', 'O', 'O', 'O', 'O', 'O', 'O', 'O', 'O', 'O', 'O', 'O', 'O', 'O', 'O', 'O', 'O', 'O', 'O', 'O', 'O', 'O', 'O', 'O', 'O', 'O', 'O', 'O', 'O', 'O', 'O', 'O', 'O', 'O', 'O', 'O', 'O', 'O', 'O', 'O', 'O', 'O', 'O', 'O', 'O', 'O', 'O', 'O', 'O', 'O', 'O', 'O', 'O', 'O', 'O', 'O', 'O', 'O', 'O', 'O', 'O', 'O', 'O', 'O', 'O', 'O', 'O', 'O', 'O', 'O', 'O', 'O', 'O', 'O', 'O', 'O', 'O', 'O', 'O', 'O', 'O', 'O', 'O', 'O', 'O', 'O', 'O', 'O', 'O', 'O', 'O', 'O', 'O', 'O', 'O', 'O', 'O', 'O', 'O', 'O', 'O', 'O', 'O', 'O', 'O', 'O', 'O', 'O', 'O', 'O', 'O', 'O', 'O', 'O', 'O', 'O', 'O', 'O', 'O', 'O', 'O', 'O', 'O', 'O', 'O', 'O', 'O', 'O', 'O', 'O', 'O', 'O', 'O', 'O', 'O', 'O', 'O', 'O', 'O', 'O', 'O', 'O', 'O', 'O', 'O', 'O', 'O', 'O', 'O', 'O', 'O', 'O', 'O', 'O', 'O', 'O', 'O', 'O', 'O', 'O', 'O', 'I-VAL', 'I-VAL', 'I-VAL', 'I-VAL', 'I-VAL', 'I-VAL', 'I-VAL', 'I-VAL', 'I-VAL', 'O', 'O', 'O', 'O', 'O', 'O', 'O', 'O', 'O', 'I-VAL', 'I-VAL', 'I-VAL', 'O', 'O', 'O', 'O', 'O', 'O', 'O', 'O', 'B-KEY', 'B-VAL', 'I-VAL', 'I-VAL', 'I-VAL', 'I-VAL', 'I-VAL', 'I-VAL', 'I-VAL', 'I-VAL', 'I-VAL', 'I-VAL', 'I-VAL', 'I-VAL', 'I-VAL', 'I-VAL', 'I-VAL', 'O', 'O', 'O', 'O', 'O', 'O', 'B-KEY', 'B-VAL', 'I-VAL', 'I-VAL', 'I-VAL', 'I-VAL', 'I-VAL', 'I-VAL', 'I-VAL', 'I-VAL', 'I-VAL', 'I-VAL', 'I-VAL', 'O', 'O', 'O', 'B-KEY', 'I-KEY', 'I-KEY', 'I-VAL', 'I-VAL', 'I-VAL', 'I-VAL', 'I-VAL', 'I-VAL', 'I-VAL', 'O', 'O', 'O', 'O', 'O', 'O', 'O', 'O', 'O', 'O', 'O', 'O', 'O', 'O', 'O', 'O', 'O', 'O', 'O', 'O', 'O', 'O', 'O', 'O', 'O', 'O', 'O', 'O', 'O', 'O', 'O', 'O', 'O', 'O', 'O', 'O', 'B-KEY', 'B-KEY', 'B-KEY', 'B-KEY', 'I-KEY', 'I-KEY', 'I-VAL', 'I-VAL', 'I-VAL', 'I-VAL', 'I-VAL', 'I-VAL', 'I-VAL', 'I-VAL', 'I-VAL', 'I-VAL', 'I-VAL', 'I-VAL', 'I-VAL', 'I-VAL', 'I-VAL', 'I-VAL', 'O', 'O', 'O', 'O', 'O', 'O', 'O', 'O', 'O', 'O', 'O', 'O', 'B-KEY', 'I-KEY', 'O', 'B-KEY', 'I-KEY', 'I-KEY', 'I-KEY', 'B-VAL', 'I-VAL', 'I-VAL', 'I-VAL', 'I-VAL', 'I-VAL', 'I-VAL', 'I-VAL', 'I-VAL', 'I-VAL', 'B-KEY', 'I-KEY', 'I-KEY', 'O', 'I-VAL', 'O', 'I-VAL', 'I-VAL', 'I-VAL', 'I-VAL', 'I-VAL', 'I-VAL', 'O', 'I-VAL', 'O', 'O', 'O', 'O', 'O', 'O', 'O', 'O', 'O', 'O', 'O', 'O', 'O', 'O', 'O', 'O', 'O', 'O', 'O', 'O', 'O', 'O', 'O', 'O', 'O', 'O', 'O', 'O', 'O', 'O', 'O', 'O', 'O', 'O', 'O', 'O', 'O', 'O', 'O', 'O', 'O', 'O', 'O', 'O', 'O', 'O', 'O', 'O', 'O', 'O', 'O', 'O', 'O', 'O', 'O', 'O', 'O', 'O', 'O', 'O', 'O', 'O', 'O', 'O', 'O', 'O', 'O', 'O', 'O', 'O', 'O', 'O', 'O', 'O', 'O', 'O', 'O', 'O', 'O', 'O', 'O', 'O', 'O', 'O', 'O', 'O', 'O', 'O', 'O', 'O', 'O', 'O', 'O', 'O', 'O', 'O', 'O', 'O', 'O', 'O', 'O', 'O', 'O', 'O', 'O', 'O', 'O', 'O', 'O', 'O', 'O', 'O', 'O', 'O', 'O', 'O', 'O', 'O', 'O', 'O', 'O', 'O', 'O', 'O', 'O', 'O', 'O', 'O', 'O', 'O', 'O', 'O', 'O', 'O', 'O', 'O', 'O', 'O', 'O', 'O', 'O', 'O', 'O', 'O', 'O', 'O', 'O', 'O', 'O', 'O', 'O', 'O', 'O', 'O', 'O', 'O', 'O', 'O', 'O', 'O', 'O', 'O', 'O', 'O', 'O', 'O', 'O', 'O', 'O', 'O', 'O', 'O', 'O', 'O', 'O', 'O', 'O', 'O', 'O', 'O', 'O', 'O', 'O', 'O', 'O', 'O', 'O', 'O', 'O', 'O', 'O', 'O', 'O', 'O', 'O', 'O', 'O', 'O', 'O', 'O', 'O', 'O', 'O', 'O', 'O', 'O', 'O', 'O', 'O', 'O', 'O', 'O', 'O', 'O', 'O', 'O', 'O', 'O', 'O', 'O', 'O', 'O', 'O', 'O', 'O', 'O', 'O', 'O', 'O', 'O', 'O', 'O', 'O', 'O', 'O', 'O', 'O', 'O', 'O', 'O', 'O', 'O', 'O', 'O', 'O', 'O', 'O', 'O', 'O', 'O', 'O', 'O', 'O', 'O', 'O', 'O', 'O', 'O', 'O', 'O', 'O', 'O', 'O', 'O', 'O', 'O', 'O', 'O', 'O', 'O', 'O', 'O', 'O', 'O', 'O', 'O', 'O', 'O', 'O', 'O', 'O', 'O', 'O', 'O', 'O', 'O', 'O', 'O', 'O', 'O', 'O', 'O', 'O', 'O', 'O', 'O', 'O', 'O', 'O', 'O', 'O', 'O', 'O', 'O', 'O', 'O', 'O', 'O', 'O', 'O', 'O', 'O', 'O', 'O', 'O', 'O', 'O', 'O', 'O', 'O', 'O', 'O', 'O', 'O', 'O', 'O', 'O', 'O', 'O', 'O', 'O', 'O', 'O', 'I-KEY', 'B-VAL', 'I-VAL', 'I-VAL', 'I-VAL', 'I-VAL', 'I-VAL', 'I-VAL', 'I-VAL', 'I-VAL', 'I-VAL', 'I-VAL', 'I-VAL', 'I-VAL', 'I-VAL', 'I-VAL', 'I-VAL', 'I-VAL', 'O', 'O', 'O', 'O', 'O', 'O', 'O', 'O', 'O', 'O', 'O', 'O', 'O', 'O', 'O', 'B-KEY', 'O', 'B-KEY', 'O', 'I-KEY', 'I-VAL', 'B-VAL', 'I-VAL', 'I-VAL', 'I-VAL', 'I-VAL', 'I-VAL', 'I-VAL', 'I-VAL', 'I-VAL', 'O', 'B-KEY', 'O', 'B-KEY', 'I-KEY', 'I-VAL', 'I-VAL', 'I-VAL', 'I-VAL', 'I-VAL', 'I-VAL', 'O', 'B-KEY', 'B-VAL', 'I-VAL', 'I-VAL', 'I-VAL', 'I-VAL', 'I-VAL', 'I-VAL', 'I-VAL', 'O', 'O', 'O', 'O', 'O', 'O', 'O', 'O', 'O', 'O', 'O', 'O', 'O', 'O', 'O', 'O', 'O', 'O', 'I-VAL', 'I-VAL', 'I-VAL', 'I-VAL', 'I-VAL', 'O', 'I-VAL', 'I-VAL', 'I-VAL', 'I-VAL', 'I-VAL', 'I-VAL', 'I-VAL', 'I-VAL', 'I-VAL', 'I-VAL', 'I-VAL', 'O', 'O', 'O', 'O', 'O', 'O', 'O', 'O', 'I-VAL', 'I-VAL', 'O', 'O', 'O', 'O', 'O', 'O', 'O', 'B-KEY', 'O', 'O', 'O', 'B-VAL', 'I-VAL', 'I-VAL', 'O', 'I-VAL', 'I-VAL', 'I-VAL', 'O', 'O', 'O', 'O', 'O', 'I-VAL', 'O', 'I-VAL', 'O', 'B-KEY', 'O', 'B-VAL', 'I-VAL', 'I-VAL', 'I-VAL', 'I-VAL', 'I-VAL', 'I-VAL', 'O', 'O', 'O', 'O', 'O', 'O', 'O', 'O', 'O', 'O', 'O', 'O', 'O', 'O', 'O', 'O', 'O', 'O', 'O', 'O', 'O', 'O', 'O', 'O', 'O', 'O', 'O', 'O', 'O', 'O', 'O', 'O', 'O', 'O', 'O', 'O', 'O', 'O', 'O', 'O', 'O', 'O', 'O', 'O', 'O', 'O', 'O', 'O', 'O', 'O', 'O', 'O', 'O', 'O', 'O', 'O', 'O', 'O', 'O', 'O', 'O', 'O', 'O', 'O', 'O', 'O', 'O', 'O', 'O', 'O', 'O', 'O', 'B-KEY', 'O', 'O', 'B-VAL', 'I-VAL', 'O', 'I-VAL', 'I-VAL', 'I-VAL', 'I-VAL', 'I-VAL', 'I-VAL', 'B-KEY', 'I-KEY', 'O', 'O', 'I-VAL', 'O', 'B-VAL', 'I-VAL', 'I-VAL', 'I-VAL', 'O', 'I-VAL', 'O', 'O', 'O', 'O', 'O', 'O', 'O', 'O', 'O', 'O', 'O', 'O', 'O', 'O', 'O', 'O', 'O', 'O', 'O', 'O', 'O', 'O', 'O', 'O', 'O', 'O', 'O', 'O', 'O', 'O', 'O', 'O', 'O', 'O', 'O', 'O', 'O', 'O', 'O', 'O', 'O', 'O', 'O', 'O', 'O', 'O', 'O', 'O', 'O', 'O', 'O', 'O', 'O', 'O', 'O', 'O', 'O', 'O', 'O', 'O', 'O', 'O', 'O', 'O', 'O', 'O', 'O', 'O', 'O', 'O', 'O', 'O', 'O', 'O', 'O', 'O', 'O', 'O', 'O', 'O', 'O', 'O', 'O', 'O', 'O', 'O', 'O', 'O', 'O', 'O', 'O', 'O', 'O', 'O', 'O', 'O', 'O', 'O', 'O', 'O', 'O', 'O', 'O', 'O', 'O', 'O', 'O', 'O', 'O', 'O', 'O', 'O', 'O', 'O', 'O', 'O', 'O', 'O', 'O', 'O', 'O', 'O', 'O', 'O', 'O', 'O', 'O', 'O', 'O', 'O', 'O', 'O', 'O', 'O', 'O', 'O', 'O', 'O', 'O', 'O', 'O', 'O', 'O', 'O', 'O', 'O', 'O', 'O', 'O', 'O', 'O', 'O', 'O', 'O', 'O', 'O', 'O', 'O', 'O', 'O', 'O', 'O', 'O', 'O', 'O', 'O', 'O', 'O', 'O', 'O', 'O', 'O', 'O', 'O', 'O', 'O', 'O', 'O', 'O', 'O', 'O', 'O', 'O', 'O', 'O', 'O', 'O', 'O', 'O', 'O', 'O', 'O', 'O', 'O', 'O', 'O', 'O', 'O', 'O', 'O', 'O', 'O', 'O', 'O', 'O', 'O', 'O', 'O', 'O', 'O', 'O', 'O', 'O', 'O', 'O', 'O', 'O', 'O', 'O', 'O', 'O', 'O', 'O', 'O', 'O', 'O', 'O', 'O', 'O', 'O', 'O', 'O', 'O', 'O', 'O', 'O', 'O', 'O', 'O', 'O', 'O', 'O', 'O', 'O', 'O', 'O', 'O', 'O', 'O', 'O', 'O', 'O', 'O', 'O', 'O', 'O', 'O', 'O', 'O', 'O', 'O', 'O', 'O', 'O', 'O', 'O', 'O', 'B-VAL', 'I-VAL', 'I-VAL', 'I-VAL', 'I-VAL', 'I-VAL', 'B-KEY', 'O', 'B-KEY', 'O', 'B-VAL', 'I-VAL', 'I-VAL', 'I-VAL', 'I-VAL', 'I-VAL', 'I-VAL', 'I-VAL', 'I-VAL', 'I-VAL', 'I-VAL', 'I-VAL', 'I-VAL', 'I-VAL', 'I-VAL', 'B-KEY', 'O', 'O', 'O', 'B-VAL', 'I-VAL', 'I-VAL', 'I-VAL', 'I-VAL', 'I-VAL', 'I-VAL', 'I-VAL', 'I-VAL', 'I-VAL', 'I-VAL', 'I-VAL', 'I-VAL', 'I-VAL', 'B-KEY', 'O', 'O', 'O', 'O', 'I-VAL', 'I-VAL', 'I-VAL', 'I-VAL', 'I-VAL', 'I-VAL', 'I-VAL', 'I-VAL', 'I-VAL', 'I-VAL', 'I-VAL', 'I-VAL', 'I-VAL', 'B-KEY', 'I-KEY', 'B-VAL', 'I-VAL', 'I-VAL', 'I-VAL', 'I-VAL', 'B-KEY', 'I-KEY', 'B-VAL', 'I-VAL', 'I-VAL', 'I-VAL', 'I-VAL', 'B-KEY', 'I-KEY', 'I-KEY', 'B-VAL', 'I-VAL', 'I-VAL', 'I-VAL', 'I-VAL', 'I-VAL', 'I-VAL', 'I-VAL', 'I-VAL', 'O', 'O', 'I-VAL', 'I-VAL', 'I-VAL', 'I-VAL', 'I-VAL', 'I-VAL', 'I-VAL', 'I-VAL', 'I-VAL', 'I-VAL', 'I-VAL', 'I-VAL', 'I-VAL', 'O', 'B-KEY', 'I-KEY', 'I-KEY', 'B-VAL', 'I-VAL', 'I-VAL', 'I-VAL', 'I-VAL', 'I-VAL', 'I-VAL', 'I-VAL', 'I-VAL', 'I-VAL', 'B-KEY', 'I-KEY', 'B-VAL', 'I-VAL', 'I-VAL', 'I-VAL', 'I-VAL', 'B-KEY', 'O', 'B-VAL', 'I-VAL', 'I-VAL', 'I-VAL', 'I-VAL', 'I-VAL', 'I-VAL', 'B-KEY', 'O', 'B-KEY', 'O', 'B-VAL', 'I-VAL', 'I-VAL', 'I-VAL', 'I-VAL', 'I-VAL', 'I-VAL', 'I-VAL', 'I-VAL', 'I-VAL', 'I-VAL', 'I-VAL', 'I-VAL', 'I-VAL', 'I-VAL', 'I-VAL', 'I-VAL', 'I-VAL', 'I-VAL', 'I-VAL', 'I-VAL', 'B-KEY', 'I-KEY', 'B-VAL', 'I-VAL', 'I-VAL', 'I-VAL', 'I-VAL', 'B-KEY', 'I-KEY', 'I-KEY', 'B-VAL', 'I-VAL', 'I-VAL', 'I-VAL', 'I-VAL', 'I-VAL', 'I-VAL', 'I-VAL', 'O', 'B-KEY', 'I-KEY', 'B-VAL', 'I-VAL', 'I-VAL', 'I-VAL', 'I-VAL', 'I-VAL', 'I-VAL', 'B-KEY', 'I-KEY', 'I-KEY', 'B-VAL', 'I-VAL', 'I-VAL', 'I-VAL', 'I-VAL', 'I-VAL', 'I-VAL', 'I-VAL', 'I-VAL', 'I-VAL', 'O', 'B-VAL', 'I-VAL', 'I-VAL', 'I-VAL', 'I-VAL', 'I-VAL', 'I-VAL', 'I-VAL', 'I-VAL', 'I-VAL', 'I-VAL', 'B-KEY', 'I-KEY', 'I-KEY', 'B-VAL', 'I-VAL', 'I-VAL', 'I-VAL', 'I-VAL', 'I-VAL', 'I-VAL', 'I-VAL', 'I-VAL', 'O', 'B-KEY', 'I-KEY', 'B-VAL', 'I-VAL', 'I-VAL', 'I-VAL', 'I-VAL', 'O', 'O', 'O', 'O', 'O', 'O', 'O', 'O', 'O', 'O', 'O', 'O', 'O', 'O', 'O', 'O', 'O', 'O', 'O', 'O', 'O', 'O', 'O', 'O', 'O', 'O', 'O', 'O', 'O', 'O', 'O', 'O', 'O', 'O', 'O', 'O', 'O', 'O', 'O', 'O', 'O', 'O', 'B-KEY', 'B-KEY', 'O', 'O', 'B-KEY', 'I-KEY', 'B-VAL', 'I-VAL', 'I-VAL', 'I-VAL', 'I-VAL', 'I-VAL', 'I-VAL', 'O', 'O', 'O', 'O', 'O', 'O', 'O', 'O', 'O', 'O', 'O', 'O', 'O', 'B-KEY', 'O', 'O', 'O', 'O', 'I-VAL', 'I-VAL', 'I-VAL', 'I-VAL', 'I-VAL', 'I-VAL', 'O', 'O', 'O', 'O', 'O', 'O', 'O', 'O', 'O', 'O', 'O', 'O', 'O', 'O', 'O', 'O', 'O', 'O', 'O', 'O', 'O', 'O', 'O', 'O', 'O', 'O', 'O', 'O', 'O', 'O', 'O', 'O', 'O', 'O', 'O', 'O', 'O', 'O', 'O', 'O', 'O', 'O', 'O', 'O', 'O', 'O', 'O', 'O', 'O', 'O', 'O', 'O', 'O', 'O', 'O', 'O', 'O', 'O', 'O', 'O', 'O', 'O', 'O', 'O', 'O', 'O', 'O', 'O', 'O', 'O', 'O', 'O', 'O', 'O', 'O', 'O', 'O', 'O', 'B-VAL', 'I-VAL', 'I-VAL', 'I-VAL', 'I-VAL', 'B-VAL', 'I-VAL', 'I-VAL', 'I-VAL', 'I-VAL', 'I-VAL', 'I-VAL', 'I-VAL', 'I-VAL', 'O', 'B-KEY', 'I-KEY', 'O', 'O', 'O', 'O', 'O', 'O', 'O', 'O', 'O', 'O', 'O', 'O', 'O', 'I-VAL', 'O', 'O', 'O', 'O', 'O', 'O', 'O', 'O', 'O', 'O', 'O', 'O', 'O', 'O', 'O', 'O', 'O', 'O', 'B-VAL', 'I-VAL', 'I-VAL', 'I-VAL', 'O', 'B-VAL', 'I-VAL', 'I-VAL', 'I-VAL', 'I-VAL', 'I-VAL', 'I-VAL', 'I-VAL', 'I-VAL', 'O', 'B-KEY', 'I-KEY', 'O', 'O', 'O', 'O', 'O', 'O', 'O', 'O', 'O', 'O', 'I-VAL', 'O', 'O', 'I-VAL', 'O', 'O', 'B-KEY', 'B-KEY', 'I-KEY', 'I-KEY', 'I-KEY', 'I-KEY', 'B-VAL', 'I-VAL', 'I-VAL', 'I-VAL', 'I-VAL', 'I-VAL', 'I-VAL', 'I-VAL', 'I-VAL', 'I-VAL', 'B-VAL', 'I-KEY', 'O', 'B-KEY', 'B-KEY', 'I-KEY', 'I-KEY', 'O', 'O', 'O', 'O', 'O', 'O', 'O', 'O', 'O', 'O', 'O', 'O', 'O', 'O', 'O', 'O', 'O', 'O', 'O', 'O', 'O', 'O', 'O', 'O', 'O', 'O', 'O', 'O', 'O', 'O', 'O', 'O', 'O', 'O', 'O', 'O', 'O', 'O', 'O', 'O', 'O', 'B-KEY', 'B-VAL', 'I-VAL', 'I-VAL', 'I-VAL', 'I-VAL', 'I-VAL', 'O', 'B-VAL', 'I-VAL', 'I-VAL', 'I-VAL', 'I-VAL', 'I-VAL', 'I-VAL', 'I-VAL', 'I-VAL', 'I-VAL', 'I-VAL', 'I-VAL', 'I-VAL', 'I-VAL', 'I-VAL', 'I-VAL', 'I-VAL', 'I-VAL', 'I-VAL', 'I-VAL', 'I-VAL', 'I-VAL', 'I-VAL', 'I-VAL', 'I-VAL', 'I-VAL', 'I-VAL', 'I-VAL', 'I-VAL', 'I-VAL', 'I-VAL', 'I-VAL', 'I-VAL', 'I-VAL', 'I-VAL', 'I-VAL', 'I-VAL', 'I-VAL', 'I-VAL', 'O', 'B-KEY', 'I-KEY', 'B-VAL', 'I-VAL', 'I-VAL', 'I-VAL', 'I-VAL', 'O', 'B-KEY', 'I-KEY', 'B-VAL', 'I-VAL', 'I-VAL', 'I-VAL', 'I-VAL', 'O', 'B-KEY', 'B-VAL', 'I-VAL', 'I-VAL', 'I-VAL', 'I-VAL', 'I-VAL', 'I-VAL', 'I-VAL', 'I-VAL', 'I-VAL', 'I-VAL', 'I-VAL', 'I-VAL', 'O', 'B-VAL', 'I-VAL', 'I-VAL', 'I-VAL', 'I-VAL', 'I-VAL', 'I-VAL', 'I-VAL', 'I-VAL', 'I-VAL', 'I-VAL', 'I-VAL', 'I-VAL', 'I-VAL', 'I-VAL', 'I-VAL', 'O', 'B-KEY', 'I-KEY', 'B-VAL', 'I-VAL', 'I-VAL', 'I-VAL', 'I-VAL', 'O', 'B-KEY', 'I-KEY', 'B-VAL', 'I-VAL', 'I-VAL', 'I-VAL', 'I-VAL', 'O', 'O', 'O', 'O', 'O', 'O', 'O', 'O', 'O', 'O', 'O', 'O', 'O', 'O', 'O', 'O', 'O', 'O', 'O', 'O', 'O', 'O', 'O', 'O', 'O', 'O', 'O', 'O', 'O', 'O', 'O', 'O', 'O', 'O', 'O', 'O', 'O', 'O', 'O', 'O', 'O', 'O', 'O', 'O', 'O', 'O', 'O', 'O', 'O', 'O', 'O', 'O', 'O', 'O', 'O', 'O', 'O', 'O', 'O', 'O', 'O', 'O', 'O', 'O', 'O', 'O', 'O', 'O', 'O', 'O', 'O', 'O', 'O', 'O', 'O', 'O', 'O', 'O', 'O', 'O', 'O', 'O', 'O', 'O', 'O', 'O', 'O', 'O', 'O', 'O', 'O', 'O', 'O', 'B-KEY', 'O', 'O', 'O', 'O', 'B-KEY', 'B-VAL', 'I-VAL', 'I-VAL', 'I-VAL', 'I-VAL', 'I-VAL', 'I-VAL', 'I-VAL', 'I-VAL', 'O', 'O', 'O', 'O', 'O', 'O', 'O', 'B-KEY', 'I-KEY', 'B-VAL', 'I-VAL', 'I-VAL', 'I-VAL', 'I-VAL', 'I-VAL', 'I-VAL', 'I-VAL', 'O', 'O', 'O', 'O', 'O', 'O', 'O', 'O', 'O', 'O', 'O', 'O', 'O', 'O', 'O', 'B-KEY', 'B-VAL', 'I-VAL', 'I-VAL', 'I-VAL', 'I-VAL', 'I-VAL', 'B-KEY', 'I-KEY', 'B-VAL', 'I-VAL', 'I-VAL', 'I-VAL', 'I-VAL', 'B-KEY', 'I-KEY', 'B-VAL', 'I-VAL', 'I-VAL', 'I-VAL', 'I-VAL', 'B-KEY', 'B-VAL', 'I-VAL', 'I-VAL', 'I-VAL', 'I-VAL', 'I-VAL', 'I-VAL', 'I-VAL', 'I-VAL', 'I-VAL', 'I-VAL', 'I-VAL', 'I-VAL', 'I-VAL', 'I-VAL', 'I-VAL', 'I-VAL', 'I-VAL', 'I-VAL', 'I-VAL', 'I-VAL', 'I-VAL', 'I-VAL', 'I-VAL', 'I-VAL', 'I-VAL', 'I-VAL', 'I-VAL', 'I-VAL', 'I-VAL', 'I-VAL', 'I-VAL', 'I-VAL', 'B-KEY', 'I-KEY', 'B-KEY', 'I-KEY', 'I-KEY', 'I-KEY', 'O', 'O', 'O', 'O', 'O', 'O', 'O', 'O', 'O', 'O', 'O', 'O', 'O', 'O', 'O', 'O', 'O', 'O', 'B-VAL', 'I-VAL', 'I-VAL', 'I-VAL', 'I-VAL', 'I-VAL', 'B-KEY', 'I-KEY', 'O', 'O', 'O', 'O', 'O', 'O', 'O', 'O', 'B-KEY', 'O', 'O', 'O', 'O', 'O', 'O', 'O', 'O', 'B-VAL', 'I-VAL', 'I-VAL', 'I-VAL', 'I-VAL', 'I-VAL', 'I-VAL', 'I-VAL', 'I-VAL', 'I-VAL', 'I-VAL', 'I-VAL', 'I-VAL', 'B-KEY', 'I-KEY', 'B-VAL', 'I-VAL', 'I-VAL', 'I-VAL', 'I-VAL', 'B-KEY', 'I-KEY', 'B-VAL', 'I-VAL', 'I-VAL', 'I-VAL', 'I-VAL', 'B-KEY', 'O', 'B-VAL', 'I-VAL', 'I-VAL', 'I-VAL', 'I-VAL', 'I-VAL', 'I-VAL', 'B-KEY', 'I-KEY', 'O', 'O', 'O', 'O', 'O', 'O', 'O', 'O', 'O', 'O', 'O', 'O', 'O', 'O', 'O', 'O', 'O', 'O', 'O', 'O', 'O', 'O', 'O', 'O', 'O', 'O', 'O', 'O', 'O', 'O', 'O', 'O', 'O', 'O', 'O', 'O', 'O', 'O', 'O', 'O', 'O', 'O', 'O', 'O', 'O', 'O', 'O', 'O', 'O', 'O', 'O', 'O', 'O', 'O', 'O', 'O', 'O', 'O', 'O', 'O', 'O', 'O', 'O', 'O', 'O', 'O', 'O', 'O', 'O', 'O', 'O', 'O', 'O', 'O', 'O', 'O', 'O', 'O', 'O', 'O', 'O', 'O', 'O', 'O', 'O', 'O', 'O', 'O', 'O', 'O', 'O', 'O', 'O', 'O', 'O', 'O', 'O', 'I-VAL', 'I-VAL', 'I-VAL', 'I-VAL', 'I-VAL', 'O', 'O', 'O', 'O', 'O', 'O', 'O', 'O', 'O', 'O', 'O', 'O', 'O', 'O', 'O', 'O', 'O', 'O', 'O', 'O', 'O', 'O', 'O', 'O', 'O', 'O', 'O', 'O', 'O', 'O', 'O', 'O', 'O', 'O', 'O', 'B-KEY', 'O', 'B-VAL', 'I-VAL', 'I-VAL', 'I-VAL', 'I-VAL', 'B-KEY', 'O', 'I-VAL', 'I-VAL', 'I-VAL', 'I-VAL', 'I-VAL', 'I-VAL', 'I-VAL', 'I-VAL', 'I-VAL', 'I-VAL', 'I-VAL', 'I-VAL', 'I-VAL', 'I-VAL', 'I-VAL', 'O', 'O', 'O', 'O', 'O', 'O', 'O', 'O', 'O', 'O', 'O', 'O', 'O', 'O', 'O', 'O', 'O', 'O', 'O', 'O', 'O', 'O', 'O', 'O', 'O', 'O', 'O', 'O', 'O', 'O', 'O', 'O', 'O', 'O', 'O', 'O', 'O', 'O', 'B-VAL', 'I-VAL', 'I-VAL', 'O', 'O', 'O', 'O', 'O', 'O', 'O', 'O', 'O', 'O', 'O', 'O', 'O', 'O', 'O', 'O', 'B-KEY', 'I-KEY', 'O', 'B-VAL', 'I-VAL', 'I-VAL', 'O', 'O', 'O', 'O', 'O', 'O', 'O', 'O', 'O', 'I-VAL', 'O', 'O', 'O', 'O', 'O', 'O', 'O', 'O', 'O', 'O', 'O', 'O', 'O', 'O', 'O', 'O', 'O', 'O', 'O', 'O', 'O', 'O', 'O', 'O', 'B-KEY', 'O', 'I-VAL', 'I-VAL', 'I-VAL', 'I-VAL', 'I-VAL', 'O', 'O', 'O', 'O', 'O', 'O', 'O', 'O', 'O', 'O', 'O', 'O', 'O', 'O', 'O', 'O', 'O', 'O', 'O', 'O', 'O', 'O', 'O', 'O', 'O', 'O', 'O', 'O', 'O', 'O', 'O', 'O', 'O', 'O', 'O', 'O', 'O', 'O', 'O', 'O', 'O', 'O', 'O', 'O', 'O', 'O', 'O', 'O', 'O', 'O', 'O', 'O', 'O', 'O', 'O', 'O', 'O', 'O', 'O', 'O', 'O', 'O', 'O', 'O', 'O', 'O', 'O', 'O', 'O', 'O', 'O', 'O', 'O', 'O', 'O', 'O', 'O', 'O', 'O', 'O', 'O', 'O', 'O', 'O', 'O', 'O', 'O', 'O', 'O', 'O', 'O', 'O', 'O', 'O', 'O', 'O', 'O', 'O', 'O', 'O', 'O', 'O', 'O', 'O', 'O', 'O', 'O', 'O', 'O', 'O', 'O', 'O', 'O', 'O', 'O', 'O', 'O', 'O', 'O', 'O', 'O', 'O', 'O', 'O', 'O', 'O', 'O', 'O', 'O', 'O', 'O', 'O', 'O', 'O', 'O', 'O', 'O', 'O', 'O', 'O', 'O', 'O', 'O', 'O', 'O', 'O', 'O', 'O', 'O', 'O', 'O', 'O', 'O', 'O', 'O', 'O', 'O', 'O', 'O', 'O', 'O', 'O', 'O', 'O', 'O', 'O', 'O', 'O', 'O', 'O', 'O', 'O', 'O', 'O', 'O', 'O', 'O', 'O', 'O', 'O', 'O', 'O', 'O', 'O', 'O', 'O', 'O', 'O', 'O', 'O', 'O', 'O', 'O', 'O', 'O', 'O', 'O', 'O', 'O', 'O', 'O', 'O', 'O', 'O', 'O', 'O', 'O', 'O', 'O', 'O', 'O', 'O', 'O', 'O', 'O', 'O', 'O', 'O', 'O', 'O', 'O', 'O', 'O', 'O', 'O', 'O', 'O', 'O', 'O', 'O', 'O', 'O', 'O', 'O', 'O', 'O', 'O', 'O', 'O', 'O', 'O', 'O', 'O', 'O', 'O', 'O', 'O', 'O', 'O', 'O', 'O', 'O', 'O', 'O', 'O', 'O', 'O', 'O', 'O', 'O', 'O', 'O', 'O', 'O', 'O', 'O', 'O', 'O', 'O', 'O', 'O', 'O', 'O', 'O', 'O', 'O', 'O', 'O', 'O', 'O', 'O', 'O', 'O', 'O', 'O', 'O', 'O', 'O', 'O', 'O', 'O', 'O', 'O', 'O', 'O', 'O', 'O', 'O', 'O', 'O', 'O', 'O', 'O', 'O', 'O', 'O', 'O', 'O', 'O', 'O', 'O', 'O', 'O', 'O', 'O', 'O', 'O', 'O', 'O', 'O', 'O', 'O', 'O', 'O', 'O', 'O', 'O', 'O', 'O', 'O', 'O', 'O', 'O', 'O', 'O', 'O', 'O', 'O', 'O', 'O', 'O', 'O', 'O', 'O', 'O', 'O', 'O', 'O', 'O', 'O', 'O', 'O', 'O', 'O', 'O', 'O', 'O', 'O', 'O', 'O', 'O', 'O', 'O', 'O', 'O', 'B-VAL', 'B-VAL', 'I-VAL', 'I-VAL', 'O', 'I-VAL', 'I-VAL', 'I-VAL', 'I-VAL', 'I-VAL', 'I-VAL', 'I-VAL', 'I-VAL', 'I-VAL', 'I-VAL', 'I-VAL', 'I-VAL', 'I-VAL', 'I-VAL', 'I-VAL', 'O', 'B-VAL', 'I-VAL', 'I-VAL', 'I-VAL', 'I-VAL', 'I-VAL', 'O', 'O', 'O', 'O', 'O', 'O', 'O', 'O', 'O', 'O', 'B-KEY', 'O', 'O', 'O', 'O', 'I-KEY', 'O', 'I-VAL', 'I-VAL', 'I-VAL', 'I-VAL', 'I-VAL', 'I-VAL', 'I-VAL', 'O', 'O', 'O', 'O', 'O', 'O', 'O', 'O', 'O', 'O', 'O', 'O', 'O', 'O', 'O', 'O', 'O', 'O', 'O', 'O', 'O', 'O', 'O', 'B-VAL', 'I-VAL', 'I-VAL', 'I-VAL', 'I-VAL', 'I-VAL', 'I-VAL', 'I-VAL', 'I-VAL', 'I-VAL', 'I-VAL', 'I-VAL', 'I-VAL', 'I-VAL', 'B-VAL', 'I-VAL', 'I-VAL', 'I-VAL', 'I-VAL', 'I-VAL', 'O', 'O', 'O', 'O', 'O', 'O', 'O', 'O', 'O', 'O', 'B-KEY', 'O', 'O', 'O', 'O', 'B-KEY', 'I-KEY', 'B-VAL', 'I-VAL', 'I-VAL', 'I-VAL', 'I-VAL', 'I-VAL', 'I-VAL', 'O', 'O', 'O', 'O', 'O', 'O', 'O', 'O', 'O', 'O', 'O', 'O', 'O', 'O', 'O', 'O', 'O', 'O', 'O', 'O', 'O', 'O', 'O', 'O', 'O', 'O', 'O', 'O', 'O', 'O', 'O', 'O', 'O', 'O', 'O', 'O', 'O', 'O', 'O', 'O', 'O', 'O', 'O', 'O', 'O', 'O', 'O', 'O', 'O', 'O', 'O', 'O', 'O', 'O', 'O', 'O', 'O', 'O', 'O', 'O', 'O', 'O', 'O', 'O', 'O', 'O', 'O', 'O', 'O', 'O', 'O', 'O', 'O', 'O', 'O', 'O', 'O', 'O', 'O', 'O', 'O', 'O', 'O', 'O', 'O', 'O', 'O', 'O', 'O', 'O', 'O', 'O', 'O', 'O', 'O', 'O', 'O', 'O', 'O', 'O', 'O', 'O', 'O', 'O', 'B-KEY', 'B-KEY', 'O', 'I-VAL', 'B-VAL', 'I-VAL', 'I-VAL', 'I-VAL', 'I-VAL', 'I-VAL', 'O', 'O', 'O', 'O', 'O', 'O', 'O', 'O', 'O', 'O', 'O', 'O', 'O', 'O', 'O', 'B-VAL', 'I-VAL', 'I-VAL', 'I-VAL', 'I-VAL', 'I-VAL', 'I-VAL', 'I-VAL', 'I-VAL', 'I-VAL', 'I-VAL', 'B-KEY', 'B-KEY', 'I-KEY', 'I-KEY', 'I-KEY', 'I-KEY', 'B-VAL', 'I-VAL', 'I-VAL', 'I-VAL', 'I-VAL', 'I-VAL', 'O', 'O', 'O', 'O', 'O', 'O', 'O', 'O', 'O', 'O', 'O', 'O', 'O', 'O', 'O', 'B-VAL', 'I-VAL', 'I-VAL', 'I-VAL', 'I-VAL', 'I-VAL', 'O', 'I-VAL', 'I-VAL', 'I-VAL', 'O', 'O', 'O', 'O', 'O', 'O', 'O', 'O', 'O', 'O', 'O', 'O', 'O', 'O', 'O', 'O', 'O', 'O', 'O', 'O', 'O', 'O', 'O', 'O', 'O', 'O', 'O', 'O', 'O', 'O', 'O', 'O', 'O', 'O', 'O', 'O', 'O', 'O', 'O', 'O', 'O', 'O', 'O', 'O', 'O', 'O', 'O', 'O', 'O', 'O', 'O', 'O', 'O', 'O', 'O', 'O', 'O', 'O', 'O', 'O', 'O', 'O', 'O', 'O', 'O', 'O', 'O', 'O', 'O', 'O', 'O', 'O', 'O', 'O', 'O', 'O', 'O', 'O', 'O', 'O', 'O', 'O', 'O', 'O', 'O', 'O', 'O', 'O', 'O', 'O', 'O', 'O', 'O', 'O', 'O', 'O', 'O', 'O', 'O', 'O', 'O', 'O', 'O', 'O', 'O', 'O', 'O', 'O', 'O', 'O', 'O', 'O', 'O', 'O', 'O', 'O', 'O', 'O', 'O', 'O', 'O', 'O', 'O', 'O', 'O', 'O', 'O', 'O', 'O', 'O', 'O', 'O', 'O', 'O', 'O', 'O', 'O', 'O', 'O', 'O', 'O', 'O', 'O', 'O', 'O', 'O', 'O', 'O', 'O', 'O', 'O', 'O', 'O', 'O', 'O', 'O', 'O', 'O', 'O', 'O', 'O', 'O', 'O', 'O', 'O', 'O', 'O', 'O', 'O', 'O', 'O', 'O', 'O', 'O', 'O', 'O', 'O', 'O', 'O', 'O', 'O', 'O', 'O', 'O', 'O', 'O', 'O', 'O', 'O', 'O', 'O', 'O', 'O', 'O', 'O', 'O', 'O', 'O', 'O', 'O', 'O', 'O', 'O', 'O', 'O', 'O', 'O', 'O', 'O', 'O', 'O', 'O', 'O', 'O', 'O', 'O', 'O', 'O', 'B-KEY', 'B-VAL', 'I-VAL', 'I-VAL', 'I-VAL', 'I-VAL', 'I-VAL', 'O', 'B-VAL', 'I-VAL', 'I-VAL', 'I-VAL', 'I-VAL', 'I-VAL', 'I-VAL', 'I-VAL', 'I-VAL', 'I-VAL', 'I-VAL', 'I-VAL', 'I-VAL', 'I-VAL', 'I-VAL', 'I-VAL', 'I-VAL', 'I-VAL', 'I-VAL', 'I-VAL', 'I-VAL', 'I-VAL', 'I-VAL', 'I-VAL', 'I-VAL', 'I-VAL', 'I-VAL', 'I-VAL', 'I-VAL', 'I-VAL', 'I-VAL', 'I-VAL', 'I-VAL', 'I-VAL', 'I-VAL', 'I-VAL', 'I-VAL', 'I-VAL', 'I-VAL', 'O', 'B-KEY', 'I-KEY', 'B-VAL', 'I-VAL', 'I-VAL', 'I-VAL', 'I-VAL', 'O', 'B-KEY', 'I-KEY', 'B-VAL', 'I-VAL', 'I-VAL', 'I-VAL', 'I-VAL', 'O', 'B-KEY', 'B-VAL', 'I-VAL', 'I-VAL', 'I-VAL', 'I-VAL', 'I-VAL', 'I-VAL', 'I-VAL', 'I-VAL', 'I-VAL', 'I-VAL', 'I-VAL', 'I-VAL', 'O', 'B-VAL', 'I-VAL', 'I-VAL', 'I-VAL', 'I-VAL', 'I-VAL', 'I-VAL', 'I-VAL', 'I-VAL', 'I-VAL', 'I-VAL', 'I-VAL', 'I-VAL', 'I-VAL', 'I-VAL', 'I-VAL', 'O', 'B-KEY', 'I-KEY', 'B-VAL', 'I-VAL', 'I-VAL', 'I-VAL', 'I-VAL', 'O', 'B-KEY', 'I-KEY', 'B-VAL', 'I-VAL', 'I-VAL', 'I-VAL', 'I-VAL', 'O', 'O', 'O', 'O', 'O', 'O', 'O', 'O', 'O', 'O', 'O', 'O', 'O', 'O', 'O', 'O', 'O', 'O', 'O', 'O', 'O', 'O', 'O', 'O', 'O', 'O', 'O', 'O', 'O', 'O', 'O', 'O', 'O', 'O', 'O', 'O', 'O', 'O', 'O', 'O', 'O', 'O', 'O', 'O', 'O', 'O', 'O', 'O', 'O', 'O', 'O', 'O', 'O', 'O', 'O', 'O', 'O', 'O', 'O', 'O', 'O', 'O', 'O', 'O', 'O', 'O', 'O', 'O', 'O', 'O', 'O', 'O', 'O', 'O', 'O', 'O', 'O', 'O', 'O', 'O', 'O', 'O', 'O', 'O', 'O', 'O', 'O', 'O', 'O', 'O', 'O', 'O', 'O', 'B-KEY', 'O', 'O', 'O', 'B-KEY', 'O', 'O', 'O', 'O', 'B-KEY', 'B-VAL', 'B-VAL', 'I-VAL', 'I-VAL', 'I-VAL', 'I-VAL', 'I-VAL', 'I-VAL', 'I-VAL', 'O', 'O', 'O', 'O', 'O', 'O', 'O', 'B-KEY', 'I-KEY', 'B-VAL', 'B-VAL', 'I-VAL', 'I-VAL', 'I-VAL', 'I-VAL', 'I-VAL', 'I-VAL', 'O', 'O', 'O', 'O', 'O', 'O', 'O', 'O', 'O', 'O', 'O', 'O', 'O', 'O', 'O', 'B-KEY', 'B-VAL', 'I-VAL', 'I-VAL', 'I-VAL', 'I-VAL', 'I-VAL', 'B-KEY', 'I-KEY', 'B-VAL', 'I-VAL', 'I-VAL', 'I-VAL', 'I-VAL', 'B-KEY', 'I-KEY', 'B-VAL', 'I-VAL', 'I-VAL', 'I-VAL', 'I-VAL', 'B-KEY', 'B-VAL', 'I-VAL', 'I-VAL', 'I-VAL', 'I-VAL', 'I-VAL', 'I-VAL', 'I-VAL', 'I-VAL', 'I-VAL', 'I-VAL', 'I-VAL', 'I-VAL', 'I-VAL', 'I-VAL', 'I-VAL', 'I-VAL', 'I-VAL', 'I-VAL', 'I-VAL', 'I-VAL', 'I-VAL', 'I-VAL', 'I-VAL', 'I-VAL', 'I-VAL', 'I-VAL', 'I-VAL', 'I-VAL', 'I-VAL', 'I-VAL', 'I-VAL', 'I-VAL', 'B-KEY', 'I-KEY', 'B-KEY', 'I-KEY', 'I-KEY', 'I-KEY', 'O', 'O', 'O', 'O', 'O', 'O', 'O', 'O', 'O', 'O', 'O', 'O', 'O', 'O', 'O', 'O', 'O', 'O', 'B-VAL', 'I-VAL', 'I-VAL', 'I-VAL', 'I-VAL', 'I-VAL', 'B-KEY', 'I-KEY', 'O', 'O', 'O', 'O', 'O', 'O', 'O', 'O', 'B-KEY', 'O', 'O', 'O', 'O', 'O', 'O', 'O', 'O', 'B-VAL', 'I-VAL', 'I-VAL', 'I-VAL', 'I-VAL', 'I-VAL', 'I-VAL', 'I-VAL', 'I-VAL', 'I-VAL', 'I-VAL', 'I-VAL', 'I-VAL', 'B-KEY', 'I-KEY', 'B-VAL', 'I-VAL', 'I-VAL', 'I-VAL', 'I-VAL', 'B-KEY', 'I-KEY', 'B-VAL', 'I-VAL', 'I-VAL', 'I-VAL', 'I-VAL', 'B-KEY', 'O', 'B-VAL', 'I-VAL', 'I-VAL', 'I-VAL', 'I-VAL', 'I-VAL', 'I-VAL', 'B-KEY', 'I-KEY', 'O', 'O', 'O', 'O', 'O', 'O', 'O', 'O', 'O', 'O', 'O', 'O', 'O', 'O', 'O', 'O', 'O', 'O', 'O', 'O', 'O', 'O', 'O', 'O', 'O', 'O', 'O', 'O', 'O', 'O', 'O', 'O', 'O', 'O', 'O', 'O', 'O', 'O', 'O', 'O', 'O', 'O', 'O', 'O', 'O', 'O', 'O', 'O', 'O', 'O', 'O', 'O', 'O', 'O', 'O', 'O', 'O', 'O', 'O', 'O', 'O', 'O', 'O', 'O', 'O', 'O', 'O', 'O', 'O', 'O', 'O', 'O', 'O', 'O', 'O', 'O', 'O', 'O', 'O', 'O', 'O', 'O', 'O', 'O', 'O', 'O', 'O', 'O', 'O', 'O', 'O', 'O', 'O', 'O', 'O', 'O', 'O', 'O', 'O', 'O', 'O', 'O', 'O', 'B-KEY', 'O', 'B-VAL', 'I-VAL', 'I-VAL', 'I-VAL', 'I-VAL', 'I-VAL', 'I-VAL', 'O', 'B-KEY', 'I-KEY', 'O', 'B-KEY', 'I-KEY', 'B-VAL', 'I-VAL', 'I-VAL', 'I-VAL', 'I-VAL', 'I-VAL', 'O', 'B-VAL', 'I-VAL', 'I-VAL', 'I-VAL', 'O', 'B-VAL', 'I-VAL', 'I-VAL', 'I-VAL', 'I-VAL', 'I-VAL', 'I-VAL', 'I-VAL', 'I-VAL', 'I-VAL', 'I-VAL', 'I-VAL', 'I-VAL', 'I-VAL', 'I-VAL', 'B-KEY', 'O', 'B-VAL', 'I-VAL', 'I-VAL', 'I-VAL', 'I-VAL', 'I-VAL', 'O', 'B-KEY', 'I-KEY', 'O', 'B-KEY', 'I-KEY', 'B-VAL', 'I-VAL', 'I-VAL', 'I-VAL', 'I-VAL', 'O', 'B-VAL', 'I-VAL', 'I-VAL', 'I-VAL', 'I-VAL', 'I-VAL', 'I-VAL', 'I-VAL', 'I-VAL', 'I-VAL', 'I-VAL', 'I-VAL', 'I-VAL', 'I-VAL', 'I-VAL', 'I-VAL', 'B-KEY', 'O', 'B-VAL', 'I-VAL', 'I-VAL', 'I-VAL', 'I-VAL', 'O', 'O', 'O', 'B-KEY', 'I-KEY', 'O', 'O', 'O', 'O', 'O', 'B-VAL', 'I-VAL', 'I-VAL', 'I-VAL', 'I-VAL', 'B-KEY', 'O', 'B-VAL', 'I-VAL', 'I-VAL', 'I-VAL', 'I-VAL', 'B-KEY', 'O', 'O', 'O', 'O', 'B-KEY', 'O', 'B-VAL', 'I-VAL', 'I-VAL', 'I-VAL', 'I-VAL', 'I-VAL', 'I-VAL', 'O', 'O', 'O', 'O', 'O', 'O', 'O', 'O', 'O', 'O', 'O', 'O', 'O', 'O', 'O', 'O', 'O', 'O', 'O', 'O', 'O', 'O', 'B-KEY', 'B-KEY', 'B-KEY', 'I-KEY', 'O', 'O', 'B-VAL', 'I-VAL', 'I-VAL', 'I-VAL', 'I-VAL', 'I-VAL', 'I-VAL', 'I-VAL', 'I-VAL', 'I-VAL', 'I-VAL', 'I-VAL', 'O', 'O', 'O', 'O', 'O', 'O', 'O', 'O', 'O', 'I-VAL', 'I-VAL', 'I-VAL', 'I-VAL', 'I-VAL', 'I-VAL', 'O', 'O', 'O', 'O', 'O', 'O', 'O', 'O', 'O', 'O', 'O', 'O', 'O', 'O', 'O', 'O', 'O', 'O', 'O', 'O', 'O', 'O', 'O', 'O', 'O', 'O', 'O', 'O', 'O', 'O', 'O', 'O', 'O', 'O', 'O', 'O', 'O', 'O', 'O', 'O', 'O', 'O', 'O', 'O', 'O', 'O', 'O', 'O', 'O', 'O', 'O', 'O', 'O', 'O', 'O', 'O', 'O', 'O', 'O', 'O', 'O', 'O', 'O', 'O', 'O', 'O', 'O', 'O', 'O', 'O', 'O', 'O', 'O', 'O', 'O', 'O', 'O', 'O', 'O', 'O', 'O', 'O', 'O', 'O', 'O', 'O', 'O', 'O', 'O', 'O', 'O', 'O', 'O', 'O', 'O', 'O', 'O', 'O', 'O', 'O', 'O', 'O', 'O', 'O', 'O', 'O', 'O', 'O', 'O', 'O', 'O', 'O', 'O', 'O', 'O', 'O', 'O', 'O', 'O', 'O', 'O', 'O', 'O', 'O', 'O', 'O', 'O', 'O', 'O', 'O', 'O', 'O', 'O', 'O', 'O', 'O', 'O', 'O', 'O', 'O', 'O', 'O', 'O', 'O', 'O', 'O', 'O', 'O', 'O', 'O', 'O', 'O', 'O', 'O', 'O', 'O', 'O', 'O', 'O', 'O', 'O', 'O', 'O', 'O', 'O', 'O', 'O', 'O', 'O', 'O', 'O', 'O', 'O', 'O', 'O', 'O', 'O', 'O', 'O', 'O', 'O', 'O', 'O', 'O', 'O', 'O', 'O', 'O', 'O', 'O', 'O', 'O', 'O', 'O', 'O', 'O', 'O', 'O', 'O', 'O', 'O', 'O', 'O', 'O', 'O', 'O', 'O', 'O', 'O', 'O', 'O', 'O', 'O', 'O', 'O', 'O', 'O', 'O', 'O', 'O', 'O', 'O', 'O', 'O', 'O', 'O', 'O', 'O', 'O', 'O', 'O', 'O', 'O', 'O', 'O', 'O', 'O', 'O', 'O', 'O', 'O', 'O', 'O', 'O', 'O', 'O', 'O', 'O', 'O', 'O', 'O', 'O', 'O', 'O', 'O', 'O', 'O', 'O', 'O', 'O', 'O', 'O', 'O', 'O', 'O', 'O', 'O', 'O', 'O', 'O', 'O', 'O', 'O', 'O', 'O', 'O', 'O', 'O', 'O', 'O', 'O', 'O', 'O', 'O', 'O', 'O', 'O', 'O', 'O', 'O', 'O', 'O', 'O', 'O', 'O', 'O', 'O', 'O', 'O', 'O', 'O', 'O', 'O', 'O', 'O', 'O', 'O', 'O', 'O', 'O', 'O', 'O', 'O', 'O', 'O', 'O', 'O', 'O', 'O', 'O', 'O', 'O', 'O', 'O', 'O', 'O', 'O', 'O', 'O', 'O', 'O', 'O', 'O', 'O', 'O', 'O', 'O', 'O', 'O', 'O', 'O', 'O', 'O', 'O', 'O', 'O', 'O', 'O', 'O', 'O', 'O', 'O', 'O', 'O', 'B-VAL', 'I-VAL', 'I-VAL', 'I-VAL', 'O', 'O', 'O', 'O', 'O', 'O', 'O', 'O', 'O', 'B-KEY', 'O', 'O', 'O', 'O', 'B-KEY', 'I-KEY', 'I-VAL', 'I-VAL', 'I-VAL', 'I-VAL', 'I-VAL', 'I-VAL', 'O', 'O', 'O', 'O', 'O', 'O', 'O', 'O', 'O', 'O', 'O', 'O', 'O', 'B-VAL', 'I-VAL', 'I-VAL', 'I-VAL', 'I-VAL', 'I-VAL', 'I-VAL', 'I-VAL', 'O', 'O', 'O', 'O', 'O', 'O', 'O', 'O', 'O', 'B-KEY', 'O', 'O', 'O', 'O', 'B-KEY', 'I-KEY', 'I-VAL', 'I-VAL', 'I-VAL', 'I-VAL', 'I-VAL', 'I-VAL', 'I-VAL', 'O', 'O', 'O', 'O', 'O', 'O', 'O', 'O', 'O', 'O', 'O', 'O', 'O', 'O', 'O', 'O', 'O', 'O', 'O', 'O', 'O', 'O', 'O', 'O', 'O', 'O', 'O', 'O', 'O', 'O', 'O', 'O', 'O', 'O', 'O', 'O', 'O', 'O', 'O', 'O', 'O', 'O', 'O', 'O', 'O', 'O', 'O', 'B-VAL', 'I-VAL', 'O', 'O', 'I-VAL', 'I-VAL', 'I-VAL', 'O', 'I-VAL', 'O', 'I-VAL', 'O', 'O', 'O', 'O', 'O', 'O', 'B-KEY', 'I-KEY', 'O', 'B-VAL', 'I-VAL', 'O', 'I-VAL', 'O', 'O', 'O', 'O', 'O', 'O', 'O', 'O', 'O', 'O', 'O', 'O', 'O', 'O', 'O', 'O', 'O', 'O', 'O', 'O', 'O', 'O', 'O', 'O', 'O', 'O', 'O', 'O', 'O', 'O', 'O', 'O', 'O', 'O', 'O', 'O', 'O', 'O', 'O', 'O', 'O', 'O', 'O', 'O', 'O', 'O', 'O', 'O', 'O', 'O', 'O', 'O', 'O', 'O', 'O', 'O', 'O', 'O', 'O', 'O', 'O', 'O', 'O', 'O', 'O', 'O', 'O', 'O', 'O', 'O', 'O', 'O', 'O', 'O', 'O', 'O', 'O', 'O', 'O', 'O', 'O', 'O', 'O', 'O', 'O', 'O', 'O', 'O', 'O', 'O', 'O', 'O', 'O', 'O', 'O', 'O', 'O', 'O', 'O', 'B-KEY', 'I-KEY', 'I-KEY', 'I-KEY', 'I-KEY', 'B-VAL', 'I-VAL', 'I-VAL', 'I-VAL', 'I-VAL', 'I-VAL', 'I-VAL', 'I-VAL', 'I-VAL', 'I-VAL', 'B-KEY', 'I-VAL', 'I-KEY', 'I-KEY', 'I-KEY', 'I-VAL', 'I-VAL', 'I-VAL', 'I-VAL', 'I-VAL', 'I-VAL', 'O', 'O', 'O', 'O', 'O', 'O', 'O', 'O', 'O', 'O', 'O', 'O', 'O', 'O', 'O', 'O', 'O', 'O', 'O', 'O', 'O', 'O', 'O', 'O', 'O', 'O', 'O', 'O', 'O', 'O', 'O', 'O', 'O', 'O', 'O', 'O', 'O', 'O', 'O', 'O', 'O', 'O', 'O', 'O', 'O', 'O', 'O', 'O', 'O', 'O', 'O', 'O', 'O', 'O', 'O', 'O', 'O', 'O', 'O', 'O', 'O', 'O', 'O', 'O', 'O', 'O', 'O', 'O', 'O', 'O', 'O', 'O', 'O', 'O', 'O', 'O', 'O', 'O', 'O', 'O', 'O', 'O', 'O', 'O', 'O', 'O', 'O', 'O', 'O', 'O', 'O', 'O', 'O', 'O', 'O', 'O', 'O', 'O', 'O', 'O', 'O', 'O', 'O', 'O', 'O', 'O', 'O', 'O', 'O', 'O', 'O', 'O', 'O', 'O', 'O', 'O', 'O', 'O', 'O', 'O', 'O', 'O', 'O', 'O', 'O', 'O', 'O', 'O', 'O', 'O', 'O', 'O', 'O', 'O', 'O', 'O', 'O', 'O', 'O', 'O', 'O', 'O', 'O', 'O', 'O', 'O', 'O', 'O', 'O', 'O', 'O', 'O', 'O', 'O', 'O', 'O', 'O', 'O', 'O', 'O', 'O', 'O', 'O', 'O', 'O', 'O', 'O', 'O', 'O', 'O', 'O', 'O', 'O', 'O', 'O', 'O', 'O', 'O', 'O', 'O', 'O', 'O', 'O', 'O', 'O', 'O', 'O', 'O', 'O', 'O', 'O', 'O', 'O', 'O', 'O', 'O', 'O', 'O', 'O', 'O', 'O', 'O', 'O', 'O', 'O', 'O', 'O', 'O', 'O', 'O', 'O', 'O', 'O', 'O', 'O', 'O', 'O', 'O', 'O', 'O', 'O', 'O', 'O', 'O', 'O', 'O', 'I-VAL', 'I-VAL', 'I-VAL', 'I-VAL', 'I-VAL', 'I-VAL', 'I-VAL', 'O', 'O', 'O', 'O', 'O', 'O', 'O', 'O', 'O', 'O', 'O', 'O', 'O', 'O', 'O', 'O', 'O', 'O', 'O', 'O', 'O', 'O', 'O', 'O', 'I-VAL', 'I-VAL', 'I-VAL', 'I-VAL', 'I-VAL', 'O', 'O', 'O', 'O', 'O', 'O', 'O', 'O', 'O', 'O', 'O', 'O', 'O', 'O', 'O', 'O', 'O', 'O', 'O', 'O', 'O', 'O', 'O', 'O', 'O', 'O', 'O', 'O', 'O', 'O', 'O', 'O', 'O', 'O', 'O', 'O', 'O', 'O', 'O', 'O', 'B-VAL', 'I-VAL', 'I-VAL', 'I-VAL', 'I-VAL', 'I-VAL', 'I-VAL', 'I-VAL', 'I-VAL', 'I-VAL', 'O', 'O', 'O', 'O', 'B-VAL', 'B-VAL', 'I-VAL', 'I-VAL', 'I-VAL', 'I-VAL', 'I-VAL', 'O', 'O', 'O', 'O', 'O', 'O', 'O', 'B-VAL', 'I-VAL', 'I-VAL', 'I-VAL', 'I-VAL', 'I-VAL', 'I-VAL', 'I-VAL', 'I-VAL', 'I-VAL', 'B-KEY', 'O', 'O', 'O', 'O', 'O', 'O', 'O', 'O', 'O', 'O', 'O', 'I-VAL', 'I-VAL', 'O', 'I-VAL', 'I-VAL', 'I-VAL', 'I-VAL', 'I-VAL', 'I-VAL', 'I-VAL', 'I-VAL', 'I-VAL', 'I-VAL', 'B-KEY', 'O', 'O', 'O', 'O', 'O', 'O', 'O', 'O', 'O', 'O', 'O', 'O', 'O', 'O', 'O', 'O', 'O', 'O', 'O', 'O', 'O', 'O', 'O', 'O', 'O', 'I-VAL', 'O', 'O', 'O', 'O', 'O', 'O', 'O', 'O', 'O', 'O', 'O', 'O', 'B-VAL', 'I-VAL', 'I-VAL', 'I-VAL', 'I-VAL', 'I-VAL', 'I-VAL', 'I-VAL', 'I-VAL', 'B-KEY', 'I-KEY', 'I-VAL', 'I-VAL', 'I-VAL', 'B-VAL', 'I-VAL', 'I-VAL', 'I-VAL', 'I-VAL', 'I-VAL', 'I-VAL', 'O', 'O', 'O', 'O', 'O', 'O', 'O', 'O', 'O', 'O', 'O', 'O', 'O', 'O', 'O', 'O', 'O', 'O', 'O', 'O', 'O', 'O', 'O', 'O', 'O', 'O', 'O', 'O', 'O', 'O', 'O', 'O', 'O', 'O', 'O', 'O', 'O', 'O', 'O', 'O', 'O', 'O', 'I-VAL', 'O', 'O', 'O', 'O', 'O', 'O', 'O', 'I-KEY', 'I-VAL', 'I-VAL', 'I-VAL', 'I-VAL', 'O', 'O', 'O', 'O', 'O', 'O', 'O', 'O', 'O', 'O', 'O', 'O', 'O', 'O', 'O', 'O', 'O', 'O', 'O', 'O', 'O', 'O', 'O', 'O', 'O', 'O', 'O', 'O', 'O', 'O', 'O', 'O', 'O', 'O', 'O', 'O', 'O', 'O', 'O', 'O', 'O', 'O', 'O', 'O', 'O', 'O', 'O', 'O', 'O', 'O', 'O', 'O', 'O', 'O', 'O', 'O', 'O', 'O', 'O', 'O', 'O', 'O', 'O', 'O', 'O', 'O', 'O', 'O', 'O', 'O', 'O', 'O', 'O', 'O', 'O', 'O', 'O', 'O', 'O', 'O', 'O', 'O', 'O', 'O', 'O', 'O', 'O', 'O', 'O', 'O', 'O', 'O', 'O', 'O', 'O', 'O', 'O', 'O', 'O', 'O', 'O', 'O', 'O', 'O', 'O', 'O', 'O', 'O', 'O', 'O', 'O', 'O', 'O', 'O', 'O', 'O', 'O', 'O', 'O', 'O', 'O', 'O', 'O', 'O', 'O', 'O', 'O', 'O', 'O', 'O', 'O', 'O', 'O', 'O', 'O', 'O', 'O', 'O', 'O', 'O', 'O', 'O', 'O', 'O', 'O', 'O', 'O', 'O', 'O', 'O', 'O', 'O', 'O', 'O', 'O', 'O', 'O', 'O', 'O', 'O', 'O', 'O', 'O', 'O', 'O', 'O', 'O', 'O', 'O', 'O', 'O', 'O', 'O', 'O', 'O', 'O', 'O', 'O', 'O', 'O', 'O', 'O', 'O', 'O', 'O', 'O', 'O', 'O', 'O', 'O', 'O', 'O', 'O', 'O', 'O', 'O', 'O', 'O', 'O', 'O', 'O', 'O', 'O', 'O', 'O', 'O', 'O', 'O', 'O', 'O', 'O', 'O', 'O', 'O', 'O', 'O', 'O', 'O', 'O', 'O', 'O', 'O', 'O', 'O', 'O', 'O', 'O', 'O', 'O', 'O', 'O', 'O', 'O', 'O', 'O', 'O', 'O', 'O', 'O', 'O', 'O', 'O', 'O', 'O', 'O', 'O', 'O', 'O', 'O', 'O', 'O', 'O', 'O', 'O', 'O', 'O', 'O', 'O', 'O', 'O', 'O', 'O', 'O', 'O', 'O', 'O', 'O', 'O', 'O', 'O', 'O', 'O', 'B-KEY', 'B-VAL', 'I-VAL', 'I-VAL', 'I-VAL', 'I-VAL', 'I-VAL', 'O', 'B-VAL', 'I-VAL', 'I-VAL', 'I-VAL', 'I-VAL', 'I-VAL', 'I-VAL', 'I-VAL', 'I-VAL', 'I-VAL', 'I-VAL', 'I-VAL', 'I-VAL', 'I-VAL', 'I-VAL', 'I-VAL', 'I-VAL', 'I-VAL', 'I-VAL', 'I-VAL', 'I-VAL', 'I-VAL', 'I-VAL', 'I-VAL', 'I-VAL', 'I-VAL', 'I-VAL', 'I-VAL', 'I-VAL', 'I-VAL', 'I-VAL', 'I-VAL', 'I-VAL', 'I-VAL', 'I-VAL', 'I-VAL', 'I-VAL', 'I-VAL', 'I-VAL', 'O', 'B-KEY', 'I-KEY', 'B-VAL', 'I-VAL', 'I-VAL', 'I-VAL', 'I-VAL', 'O', 'B-KEY', 'I-KEY', 'B-VAL', 'I-VAL', 'I-VAL', 'I-VAL', 'I-VAL', 'O', 'B-KEY', 'B-VAL', 'I-VAL', 'I-VAL', 'I-VAL', 'I-VAL', 'I-VAL', 'I-VAL', 'I-VAL', 'I-VAL', 'I-VAL', 'I-VAL', 'I-VAL', 'I-VAL', 'O', 'B-VAL', 'I-VAL', 'I-VAL', 'I-VAL', 'I-VAL', 'I-VAL', 'I-VAL', 'I-VAL', 'I-VAL', 'I-VAL', 'I-VAL', 'I-VAL', 'I-VAL', 'I-VAL', 'I-VAL', 'I-VAL', 'O', 'B-KEY', 'I-KEY', 'B-VAL', 'I-VAL', 'I-VAL', 'I-VAL', 'I-VAL', 'O', 'B-KEY', 'I-KEY', 'B-VAL', 'I-VAL', 'I-VAL', 'I-VAL', 'I-VAL', 'O', 'O', 'O', 'O', 'O', 'O', 'O', 'O', 'O', 'O', 'O', 'O', 'O', 'O', 'O', 'O', 'O', 'O', 'O', 'O', 'O', 'O', 'O', 'O', 'O', 'O', 'O', 'O', 'O', 'O', 'O', 'O', 'O', 'O', 'O', 'O', 'O', 'O', 'O', 'O', 'O', 'O', 'O', 'O', 'O', 'O', 'O', 'O', 'O', 'O', 'O', 'O', 'O', 'O', 'O', 'O', 'O', 'O', 'O', 'O', 'O', 'O', 'O', 'O', 'O', 'O', 'O', 'O', 'O', 'O', 'O', 'O', 'O', 'O', 'O', 'O', 'O', 'O', 'O', 'O', 'O', 'O', 'O', 'O', 'O', 'O', 'O', 'O', 'O', 'O', 'O', 'O', 'O', 'B-KEY', 'O', 'O', 'O', 'O', 'B-KEY', 'B-VAL', 'I-VAL', 'I-VAL', 'I-VAL', 'I-VAL', 'I-VAL', 'I-VAL', 'I-VAL', 'O', 'O', 'O', 'O', 'O', 'O', 'O', 'B-KEY', 'I-KEY', 'I-VAL', 'I-VAL', 'I-VAL', 'I-VAL', 'I-VAL', 'O', 'O', 'O', 'O', 'O', 'O', 'O', 'O', 'O', 'O', 'O', 'O', 'O', 'O', 'O', 'B-KEY', 'B-VAL', 'I-VAL', 'I-VAL', 'I-VAL', 'I-VAL', 'I-VAL', 'B-KEY', 'I-KEY', 'B-VAL', 'I-VAL', 'I-VAL', 'I-VAL', 'I-VAL', 'B-KEY', 'I-KEY', 'B-VAL', 'I-VAL', 'I-VAL', 'I-VAL', 'I-VAL', 'B-KEY', 'B-VAL', 'I-VAL', 'I-VAL', 'I-VAL', 'I-VAL', 'I-VAL', 'I-VAL', 'I-VAL', 'I-VAL', 'I-VAL', 'I-VAL', 'I-VAL', 'I-VAL', 'I-VAL', 'I-VAL', 'I-VAL', 'I-VAL', 'I-VAL', 'I-VAL', 'I-VAL', 'I-VAL', 'I-VAL', 'I-VAL', 'I-VAL', 'I-VAL', 'I-VAL', 'I-VAL', 'I-VAL', 'I-VAL', 'I-VAL', 'I-VAL', 'I-VAL', 'I-VAL', 'B-KEY', 'I-KEY', 'B-KEY', 'I-KEY', 'I-KEY', 'I-KEY', 'O', 'O', 'O', 'O', 'O', 'O', 'O', 'O', 'O', 'O', 'O', 'O', 'O', 'O', 'O', 'O', 'O', 'O', 'B-VAL', 'I-VAL', 'I-VAL', 'I-VAL', 'I-VAL', 'I-VAL', 'B-KEY', 'I-KEY', 'O', 'O', 'O', 'O', 'O', 'O', 'O', 'O', 'B-KEY', 'B-VAL', 'I-VAL', 'I-VAL', 'I-VAL', 'I-VAL', 'I-VAL', 'I-VAL', 'I-VAL', 'I-VAL', 'I-VAL', 'I-VAL', 'I-VAL', 'I-VAL', 'B-KEY', 'I-KEY', 'B-VAL', 'I-VAL', 'I-VAL', 'I-VAL', 'I-VAL', 'B-KEY', 'I-KEY', 'B-VAL', 'I-VAL', 'I-VAL', 'I-VAL', 'I-VAL', 'O', 'B-KEY', 'I-KEY', 'O', 'O', 'O', 'O', 'O', 'O', 'O', 'O', 'O', 'O', 'O', 'O', 'O', 'O', 'O', 'O', 'O', 'O', 'O', 'O', 'O', 'O', 'O', 'O', 'O', 'O', 'O', 'O', 'O', 'O', 'O', 'O', 'O', 'O', 'O', 'O', 'O', 'O', 'O', 'O', 'O', 'O', 'O', 'O', 'O', 'O', 'O', 'O', 'O', 'O', 'O', 'O', 'O', 'O', 'O', 'O', 'O', 'O', 'O', 'O', 'O', 'O', 'O', 'O', 'O', 'O', 'O', 'O', 'O', 'O', 'O', 'O', 'O', 'O', 'O', 'O', 'O', 'O', 'O', 'O', 'O', 'O', 'O', 'O', 'O', 'O', 'O', 'O', 'O', 'O', 'O', 'O', 'O', 'O', 'O', 'O', 'O', 'O', 'O', 'O', 'O', 'O', 'O', 'O', 'O', 'O', 'O', 'O', 'O', 'O', 'O', 'O', 'O', 'O', 'O', 'O', 'O', 'O', 'O', 'O', 'O', 'O', 'O', 'O', 'O', 'O', 'O', 'O', 'O', 'O', 'O', 'O', 'O', 'O', 'O', 'O', 'O', 'O', 'O', 'O', 'O', 'O', 'O', 'O', 'O', 'O', 'O', 'O', 'O', 'O', 'O', 'O', 'O', 'O', 'O', 'O', 'O', 'I-VAL', 'I-VAL', 'I-VAL', 'I-VAL', 'O', 'I-VAL', 'I-VAL', 'I-VAL', 'I-VAL', 'I-VAL', 'I-VAL', 'I-VAL', 'I-VAL', 'I-VAL', 'I-VAL', 'I-VAL', 'I-VAL', 'I-VAL', 'I-VAL', 'I-VAL', 'I-VAL', 'I-VAL', 'I-VAL', 'I-VAL', 'I-VAL', 'I-VAL', 'I-VAL', 'I-VAL', 'I-VAL', 'I-VAL', 'I-VAL', 'O', 'I-VAL', 'I-VAL', 'I-VAL', 'I-VAL', 'I-VAL', 'I-VAL', 'I-VAL', 'I-VAL', 'I-VAL', 'I-VAL', 'I-VAL', 'I-VAL', 'I-VAL', 'I-VAL', 'I-KEY', 'O', 'I-VAL', 'I-VAL', 'O', 'O', 'O', 'B-KEY', 'I-KEY', 'I-KEY', 'I-VAL', 'I-VAL', 'I-VAL', 'I-VAL', 'I-VAL', 'I-VAL', 'O', 'O', 'O', 'O', 'B-KEY', 'O', 'I-KEY', 'I-KEY', 'B-VAL', 'I-VAL', 'I-VAL', 'I-VAL', 'I-VAL', 'I-VAL', 'I-VAL', 'I-VAL', 'I-VAL', 'I-VAL', 'O', 'O', 'O', 'O', 'O', 'O', 'O', 'O', 'O', 'O', 'O', 'O', 'O', 'O', 'O', 'O', 'O', 'O', 'O', 'O', 'O', 'O', 'O', 'O', 'O', 'O', 'O', 'O', 'O', 'O', 'O', 'O', 'O', 'O', 'O', 'O', 'O', 'O', 'O', 'O', 'O', 'I-KEY', 'O', 'I-VAL', 'I-VAL', 'I-VAL', 'I-VAL', 'I-VAL', 'I-VAL', 'O', 'O', 'O', 'O', 'O', 'O', 'O', 'O', 'O', 'O', 'O', 'O', 'O', 'O', 'O', 'O', 'O', 'O', 'O', 'O', 'O', 'O', 'O', 'O', 'O', 'O', 'O', 'O', 'O', 'O', 'O', 'O', 'O', 'O', 'O', 'O', 'O', 'O', 'O', 'O', 'O', 'O', 'O', 'O', 'O', 'O', 'O', 'O', 'O', 'O', 'O', 'O', 'O', 'O', 'O', 'O', 'O', 'O', 'O', 'O', 'O', 'O', 'O', 'O', 'O', 'O', 'O', 'O', 'O', 'O', 'O', 'O', 'O', 'O', 'O', 'O', 'O', 'O', 'O', 'O', 'O', 'O', 'O', 'B-KEY', 'O', 'O', 'O', 'O', 'O', 'O', 'O', 'O', 'I-VAL', 'I-VAL', 'I-VAL', 'I-VAL', 'I-VAL', 'O', 'O', 'O', 'O', 'O', 'O', 'O', 'O', 'O', 'B-VAL', 'I-VAL', 'I-VAL', 'I-VAL', 'I-VAL', 'O', 'O', 'O', 'O', 'O', 'O', 'O', 'O', 'O', 'O', 'O', 'O', 'O', 'O', 'O', 'O', 'O', 'O', 'O', 'O', 'I-KEY', 'O', 'I-VAL', 'I-VAL', 'O', 'I-VAL', 'I-VAL', 'I-VAL', 'I-VAL', 'I-VAL', 'I-VAL', 'O', 'O', 'O', 'O', 'O', 'O', 'O', 'O', 'O', 'O', 'O', 'O', 'O', 'O', 'O', 'O', 'O', 'O', 'O', 'O', 'O', 'O', 'O', 'O', 'O', 'O', 'O', 'O', 'O', 'O', 'O', 'O', 'O', 'O', 'O', 'O', 'O', 'O', 'O', 'O', 'O', 'O', 'O', 'O', 'O', 'O', 'O', 'O', 'O', 'O', 'O', 'O', 'O', 'O', 'O', 'O', 'O', 'O', 'O', 'O', 'O', 'O', 'O', 'O', 'O', 'O', 'O', 'O', 'O', 'O', 'O', 'O', 'O', 'O', 'O', 'O', 'O', 'O', 'O', 'O', 'O', 'O', 'O', 'O', 'O', 'O', 'O', 'O', 'O', 'O', 'O', 'O', 'O', 'O', 'O', 'O', 'O', 'O', 'O', 'O', 'O', 'O', 'O', 'O', 'O', 'O', 'O', 'O', 'O', 'O', 'O', 'O', 'O', 'O', 'O', 'O', 'O', 'O', 'O', 'O', 'O', 'O', 'O', 'O', 'O', 'O', 'O', 'O', 'O', 'O', 'O', 'O', 'O', 'O', 'O', 'O', 'O', 'O', 'O', 'O', 'O', 'O', 'O', 'O', 'O', 'O', 'O', 'O', 'O', 'O', 'O', 'O', 'O', 'O', 'O', 'O', 'O', 'O', 'O', 'O', 'O', 'O', 'O', 'O', 'O', 'O', 'O', 'O', 'O', 'O', 'O', 'O', 'O', 'O', 'O', 'O', 'O', 'O', 'O', 'O', 'O', 'O', 'O', 'O', 'O', 'O', 'O', 'O', 'O', 'O', 'O', 'O', 'O', 'O', 'O', 'O', 'O', 'O', 'O', 'O', 'O', 'O', 'O', 'O', 'O', 'O', 'O', 'O', 'O', 'O', 'O', 'O', 'O', 'O', 'O', 'O', 'O', 'O', 'O', 'O', 'O', 'O', 'O', 'O', 'O', 'O', 'O', 'O', 'O', 'O', 'O', 'O', 'O', 'O', 'O', 'O', 'O', 'O', 'O', 'O', 'O', 'O', 'O', 'O', 'O', 'O', 'O', 'O', 'O', 'O', 'O', 'O', 'O', 'O', 'B-VAL', 'I-VAL', 'I-VAL', 'I-VAL', 'I-VAL', 'I-VAL', 'O', 'O', 'O', 'O', 'O', 'O', 'O', 'O', 'O', 'B-KEY', 'O', 'O', 'O', 'O', 'B-KEY', 'I-KEY', 'B-VAL', 'I-VAL', 'I-VAL', 'I-VAL', 'I-VAL', 'I-VAL', 'O', 'O', 'O', 'O', 'O', 'O', 'O', 'O', 'O', 'O', 'O', 'O', 'O', 'O', 'B-VAL', 'I-VAL', 'I-VAL', 'I-VAL', 'I-VAL', 'I-VAL', 'O', 'O', 'O', 'O', 'O', 'O', 'O', 'O', 'O', 'B-KEY', 'O', 'O', 'O', 'O', 'B-KEY', 'I-KEY', 'O', 'I-VAL', 'I-VAL', 'I-VAL', 'I-VAL', 'I-VAL', 'I-VAL', 'O', 'O', 'O', 'O', 'O', 'O', 'O', 'O', 'O', 'O', 'O', 'O', 'O', 'O', 'O', 'O', 'O', 'O', 'O', 'O', 'O', 'O', 'O', 'O', 'O', 'O', 'O', 'O', 'O', 'O', 'O', 'O', 'O', 'O', 'O', 'O', 'O', 'O', 'O', 'O', 'O', 'O', 'O', 'O', 'O', 'O', 'O', 'O', 'O', 'O', 'O', 'O', 'O', 'O', 'O', 'O', 'O', 'O', 'O', 'O', 'O', 'O', 'O', 'O', 'O', 'O', 'O', 'O', 'O', 'O', 'O', 'O', 'O', 'O', 'O', 'O', 'O', 'O', 'O', 'O', 'O', 'O', 'O', 'O', 'O', 'O', 'O', 'O', 'O', 'O', 'O', 'O', 'O', 'O', 'O', 'O', 'O', 'O', 'O', 'O', 'O', 'O', 'O', 'O', 'O', 'O', 'O', 'O', 'O', 'O', 'O', 'O', 'O', 'O', 'O', 'O', 'O', 'O', 'O', 'O', 'O', 'O', 'O', 'O', 'O', 'O', 'O', 'O', 'O', 'O', 'O', 'O', 'O', 'O', 'O', 'O', 'O', 'O', 'O', 'O', 'O', 'O', 'O', 'O', 'O', 'O', 'O', 'O', 'O', 'O', 'O', 'O', 'O', 'O', 'O', 'O', 'O', 'O', 'O', 'O', 'O', 'O', 'O', 'O', 'O', 'O', 'O', 'O', 'O', 'O', 'O', 'O', 'O', 'O', 'O', 'O', 'O', 'O', 'O', 'O', 'O', 'O', 'O', 'O', 'O', 'O', 'O', 'O', 'O', 'O', 'O', 'O', 'O', 'O', 'O', 'O', 'O', 'O', 'O', 'O', 'O', 'O', 'O', 'B-KEY', 'O', 'B-VAL', 'I-VAL', 'O', 'B-VAL', 'I-VAL', 'I-VAL', 'I-VAL', 'I-VAL', 'I-VAL', 'B-KEY', 'O', 'O', 'O', 'O', 'O', 'O', 'O', 'O', 'O', 'O', 'O', 'O', 'O', 'O', 'O', 'O', 'O', 'O', 'O', 'O', 'O', 'O', 'O', 'O', 'O', 'O', 'O', 'O', 'O', 'O', 'O', 'O', 'O', 'O', 'O', 'O', 'O', 'O', 'O', 'O', 'O', 'O', 'O', 'O', 'O', 'O', 'O', 'O', 'O', 'O', 'O', 'O', 'O', 'O', 'O', 'O', 'O', 'O', 'O', 'O', 'O', 'O', 'O', 'O', 'O', 'O', 'O', 'O', 'O', 'O', 'O', 'O', 'O', 'O', 'O', 'O', 'O', 'O', 'O', 'O', 'O', 'O', 'O', 'O', 'O', 'O', 'O', 'O', 'O', 'O', 'O', 'O', 'O', 'O', 'O', 'O', 'O', 'O', 'O', 'O', 'O', 'O', 'O', 'O', 'O', 'O', 'O', 'O', 'O', 'O', 'O', 'O', 'O', 'O', 'O', 'O', 'O', 'O', 'O', 'O', 'O', 'O', 'O', 'O', 'O', 'O', 'O', 'O', 'O', 'O', 'O', 'O', 'O', 'O', 'O', 'O', 'O', 'O', 'O', 'O', 'O', 'O', 'O', 'O', 'O', 'O', 'O', 'O', 'O', 'O', 'O', 'O', 'O', 'O', 'O', 'O', 'O', 'O', 'O', 'O', 'O', 'O', 'O', 'O', 'O', 'O', 'O', 'O', 'O', 'O', 'O', 'O', 'O', 'O', 'O', 'O', 'O', 'O', 'O', 'O', 'O', 'O', 'O', 'O', 'O', 'O', 'O', 'O', 'O', 'O', 'O', 'O', 'O', 'O', 'O', 'O', 'O', 'O', 'O', 'O', 'O', 'O', 'O', 'O', 'O', 'O', 'O', 'O', 'O', 'O', 'O', 'O', 'O', 'O', 'O', 'O', 'O', 'O', 'O', 'O', 'O', 'O', 'O', 'O', 'O', 'O', 'O', 'B-VAL', 'I-VAL', 'I-VAL', 'I-VAL', 'O', 'O', 'O', 'O', 'O', 'O', 'O', 'O', 'O', 'B-KEY', 'O', 'O', 'O', 'O', 'B-KEY', 'I-KEY', 'I-VAL', 'I-VAL', 'I-VAL', 'I-VAL', 'I-VAL', 'I-VAL', 'I-VAL', 'O', 'O', 'O', 'O', 'O', 'O', 'O', 'O', 'O', 'O', 'O', 'O', 'O', 'O', 'B-VAL', 'I-VAL', 'I-VAL', 'I-VAL', 'O', 'O', 'O', 'O', 'O', 'O', 'O', 'O', 'O', 'B-KEY', 'O', 'O', 'O', 'O', 'I-VAL', 'I-VAL', 'I-VAL', 'I-VAL', 'I-VAL', 'O', 'O', 'O', 'O', 'O', 'O', 'O', 'O', 'O', 'O', 'O', 'O', 'O', 'O', 'O', 'O', 'O', 'O', 'O', 'O', 'O', 'O', 'O', 'O', 'O', 'O', 'O', 'O', 'O', 'O', 'O', 'O', 'O', 'O', 'O', 'O', 'O', 'O', 'O', 'O', 'O', 'O', 'O', 'O', 'O', 'O', 'O', 'O', 'O', 'O', 'O', 'O', 'O', 'O', 'O', 'O', 'O', 'O', 'O', 'O', 'O', 'O', 'O', 'O', 'O', 'B-VAL', 'I-VAL', 'I-VAL', 'O', 'O', 'O', 'O', 'O', 'O', 'O', 'O', 'O', 'O', 'O', 'O', 'O', 'O', 'O', 'O', 'O', 'O', 'I-VAL', 'I-VAL', 'O', 'O', 'O', 'O', 'O', 'O', 'O', 'O', 'O', 'O', 'O', 'O', 'O', 'O', 'O', 'O', 'O', 'O', 'O', 'O', 'O', 'O', 'O', 'O', 'O', 'O', 'O', 'O', 'O', 'O', 'O', 'O', 'O', 'O', 'O', 'O', 'O', 'O', 'O', 'O', 'O', 'O', 'O', 'O', 'O', 'O', 'O', 'O', 'O', 'O', 'O', 'O', 'O', 'O', 'O', 'O', 'O', 'O', 'O', 'O', 'O', 'O', 'O', 'O', 'O', 'O', 'O', 'O', 'O', 'O', 'O', 'O', 'O', 'O', 'O', 'O', 'O', 'O', 'O', 'O', 'O', 'O', 'O', 'O', 'O', 'O', 'O', 'O', 'O', 'O', 'O', 'O', 'O', 'O', 'O', 'O', 'O', 'O', 'O', 'O', 'O', 'O', 'O', 'O', 'O', 'O', 'O', 'O', 'O', 'O', 'O', 'O', 'O', 'O', 'O', 'O', 'O', 'O', 'O', 'O', 'O', 'O', 'O', 'O', 'O', 'O', 'O', 'O', 'O', 'O', 'O', 'O', 'O', 'O', 'O', 'O', 'O', 'O', 'O', 'O', 'O', 'O', 'O', 'B-KEY', 'O', 'I-VAL', 'I-VAL', 'O', 'B-VAL', 'I-VAL', 'I-VAL', 'I-VAL', 'I-VAL', 'I-VAL', 'B-KEY', 'O', 'O', 'O', 'O', 'O', 'O', 'O', 'O', 'O', 'O', 'O', 'O', 'O', 'O', 'O', 'O', 'O', 'O', 'O', 'O', 'O', 'O', 'O', 'O', 'O', 'O', 'O', 'O', 'O', 'O', 'O', 'O', 'O', 'O', 'O', 'O', 'O', 'O', 'O', 'O', 'O', 'O', 'O', 'O', 'O', 'O', 'O', 'O', 'O', 'O', 'O', 'O', 'O', 'O', 'O', 'O', 'O', 'O', 'O', 'O', 'O', 'O', 'O', 'O', 'O', 'O', 'O', 'O', 'O', 'O', 'O', 'O', 'O', 'O', 'O', 'O', 'O', 'O', 'O', 'O', 'O', 'O', 'O', 'O', 'O', 'O', 'O', 'O', 'O', 'O', 'O', 'O', 'O', 'O', 'O', 'O', 'O', 'O', 'O', 'O', 'O', 'O', 'O', 'O', 'O', 'O', 'O', 'O', 'O', 'O', 'O', 'O', 'O', 'O', 'O', 'O', 'O', 'O', 'O', 'O', 'O', 'O', 'O', 'O', 'O', 'O', 'O', 'O', 'O', 'O', 'O', 'O', 'O', 'O', 'O', 'O', 'O', 'O', 'O', 'O', 'O', 'O', 'O', 'O', 'O', 'O', 'O', 'O', 'O', 'O', 'O', 'O', 'O', 'O', 'O', 'O', 'O', 'O', 'O', 'O', 'O', 'O', 'O', 'O', 'O', 'O', 'O', 'O', 'B-VAL', 'I-VAL', 'I-VAL', 'I-VAL', 'I-VAL', 'I-VAL', 'I-VAL', 'O', 'O', 'B-VAL', 'I-VAL', 'I-VAL', 'I-VAL', 'I-VAL', 'I-VAL', 'B-KEY', 'O', 'O', 'O', 'O', 'O', 'O', 'O', 'O', 'O', 'O', 'O', 'O', 'O', 'O', 'O', 'O', 'O', 'O', 'O', 'O', 'O', 'O', 'B-KEY', 'O', 'O', 'O', 'O', 'B-KEY', 'B-VAL', 'I-VAL', 'I-VAL', 'I-VAL', 'I-VAL', 'I-VAL', 'O', 'O', 'O', 'O', 'O', 'O', 'O', 'B-KEY', 'I-KEY', 'O', 'B-KEY', 'I-KEY', 'O', 'O', 'O', 'O', 'O', 'O', 'O', 'O', 'O', 'O', 'O', 'O', 'O', 'O', 'O', 'B-KEY', 'O', 'B-VAL', 'I-VAL', 'I-VAL', 'I-VAL', 'I-VAL', 'I-VAL', 'I-VAL', 'B-KEY', 'I-KEY', 'B-VAL', 'I-VAL', 'I-VAL', 'I-VAL', 'I-VAL', 'B-KEY', 'I-KEY', 'B-VAL', 'I-VAL', 'I-VAL', 'I-VAL', 'I-VAL', 'B-KEY', 'I-VAL', 'I-VAL', 'B-VAL', 'I-VAL', 'I-VAL', 'I-VAL', 'I-VAL', 'I-VAL', 'I-VAL', 'I-VAL', 'I-VAL', 'I-VAL', 'I-VAL', 'I-VAL', 'I-VAL', 'I-VAL', 'I-VAL', 'I-VAL', 'I-VAL', 'I-VAL', 'I-VAL', 'I-VAL', 'I-VAL', 'I-VAL', 'O', 'B-VAL', 'I-VAL', 'I-VAL', 'I-VAL', 'I-VAL', 'B-KEY', 'I-KEY', 'B-VAL', 'I-VAL', 'I-VAL', 'I-VAL', 'I-VAL', 'B-KEY', 'I-KEY', 'B-VAL', 'I-VAL', 'I-VAL', 'I-VAL', 'I-VAL', 'B-KEY', 'I-KEY', 'I-KEY', 'B-VAL', 'I-VAL', 'I-VAL', 'I-VAL', 'I-VAL', 'I-VAL', 'I-VAL', 'I-VAL', 'I-VAL', 'B-KEY', 'I-KEY', 'I-KEY', 'B-VAL', 'I-VAL', 'I-VAL', 'I-VAL', 'I-VAL', 'I-VAL', 'I-VAL', 'I-VAL', 'I-VAL', 'I-VAL', 'I-VAL', 'B-KEY', 'O', 'I-VAL', 'I-VAL', 'I-VAL', 'I-VAL', 'I-VAL', 'I-VAL', 'B-KEY', 'I-KEY', 'O', 'O', 'O', 'O', 'O', 'O', 'O', 'O', 'B-KEY', 'B-VAL', 'I-VAL', 'I-VAL', 'I-VAL', 'I-VAL', 'I-VAL', 'B-KEY', 'I-KEY', 'B-VAL', 'I-VAL', 'I-VAL', 'I-VAL', 'I-VAL', 'B-KEY', 'I-KEY', 'B-VAL', 'I-VAL', 'I-VAL', 'I-VAL', 'I-VAL', 'O', 'B-KEY', 'I-KEY', 'O', 'O', 'O', 'O', 'O', 'O', 'O', 'O', 'O', 'O', 'O', 'O', 'O', 'O', 'O', 'O', 'O', 'O', 'O', 'O', 'O', 'O', 'O', 'O', 'O', 'O', 'O', 'O', 'O', 'O', 'O', 'O', 'O', 'O', 'O', 'O', 'O', 'O', 'O', 'O', 'O', 'O', 'O', 'O', 'O', 'O', 'O', 'O', 'O', 'O', 'O', 'O', 'O', 'O', 'O', 'O', 'O', 'O', 'O', 'O', 'O', 'O', 'O', 'O', 'O', 'O', 'O', 'O', 'O', 'O', 'O', 'O', 'O', 'O', 'O', 'O', 'O', 'O', 'O', 'O', 'O', 'O', 'O', 'O', 'O', 'O', 'O', 'O', 'O', 'O', 'O', 'O', 'O', 'O', 'O', 'O', 'O', 'O', 'O', 'O', 'O', 'O', 'O', 'O', 'O', 'O', 'O', 'O', 'O', 'O', 'O', 'O', 'O', 'O', 'O', 'O', 'O', 'O', 'O', 'O', 'O', 'O', 'O', 'O', 'O', 'O', 'O', 'O', 'O', 'O', 'O', 'O', 'O', 'O', 'O', 'O', 'O', 'O', 'O', 'O', 'O', 'O', 'O', 'O', 'O', 'O', 'O', 'O', 'O', 'O', 'O', 'O', 'O', 'O', 'O', 'O', 'O', 'O', 'O', 'O', 'O', 'O', 'O', 'O', 'O', 'O', 'O', 'O', 'O', 'O', 'O', 'O', 'O', 'O', 'O', 'O', 'O', 'O', 'O', 'O', 'O', 'O', 'O', 'O', 'O', 'O', 'O', 'O', 'O', 'O', 'O', 'O', 'O', 'O', 'O', 'O', 'O', 'O', 'O', 'O', 'O', 'O', 'O', 'O', 'O', 'O', 'O', 'O', 'O', 'O', 'O', 'O', 'O', 'O', 'O', 'O', 'O', 'O', 'O', 'O', 'O', 'O', 'O', 'O', 'O', 'O', 'O', 'O', 'O', 'O', 'O', 'O', 'O', 'O', 'O', 'O', 'O', 'O', 'O', 'O', 'O', 'O', 'O', 'O', 'O', 'O', 'O', 'O', 'O', 'O', 'O', 'O', 'O', 'O', 'O', 'O', 'O', 'O', 'O', 'O', 'O', 'O', 'O', 'O', 'O', 'O', 'O', 'O', 'O', 'O', 'O', 'O', 'O', 'O', 'O', 'O', 'O', 'O', 'O', 'O', 'O', 'O', 'O', 'O', 'O', 'O', 'O', 'O', 'O', 'O', 'O', 'O', 'O', 'O', 'O', 'O', 'O', 'O', 'O', 'O', 'O', 'O', 'O', 'O', 'O', 'O', 'O', 'O', 'O', 'O', 'O', 'O', 'O', 'O', 'O', 'O', 'O', 'O', 'O', 'O', 'O', 'O', 'O', 'O', 'O', 'O', 'O', 'O', 'O', 'O', 'O', 'O', 'O', 'O', 'O', 'O', 'O', 'O', 'O', 'O', 'O', 'O', 'O', 'O', 'O', 'O', 'O', 'B-VAL', 'I-VAL', 'I-VAL', 'O', 'O', 'O', 'O', 'O', 'O', 'O', 'O', 'O', 'O', 'B-VAL', 'I-VAL', 'I-VAL', 'O', 'O', 'O', 'O', 'O', 'O', 'O', 'O', 'O', 'O', 'O', 'O', 'O', 'O', 'O', 'O', 'O', 'O', 'O', 'O', 'O', 'O', 'O', 'O', 'O', 'O', 'O', 'O', 'O', 'O', 'B-VAL', 'I-VAL', 'I-VAL', 'I-VAL', 'O', 'O', 'O', 'O', 'O', 'O', 'O', 'O', 'O', 'O', 'O', 'B-KEY', 'O', 'I-KEY', 'O', 'O', 'B-KEY', 'O', 'O', 'O', 'O', 'B-KEY', 'B-VAL', 'I-VAL', 'I-VAL', 'I-VAL', 'I-VAL', 'I-VAL', 'I-VAL', 'I-VAL', 'I-VAL', 'O', 'O', 'O', 'O', 'O', 'O', 'O', 'B-KEY', 'I-KEY', 'I-VAL', 'I-VAL', 'I-VAL', 'I-VAL', 'I-VAL', 'O', 'O', 'O', 'O', 'O', 'O', 'O', 'O', 'O', 'O', 'O', 'O', 'O', 'O', 'O', 'B-KEY', 'B-KEY', 'I-VAL', 'I-VAL', 'I-VAL', 'I-VAL', 'I-VAL', 'I-VAL', 'I-VAL', 'I-VAL', 'I-VAL', 'I-VAL', 'I-VAL', 'I-VAL', 'I-VAL', 'I-VAL', 'I-VAL', 'I-VAL', 'O', 'I-VAL', 'I-VAL', 'I-VAL', 'B-KEY', 'I-KEY', 'B-VAL', 'I-VAL', 'I-VAL', 'I-VAL', 'I-VAL', 'I-VAL', 'B-KEY', 'I-KEY', 'B-VAL', 'I-VAL', 'I-VAL', 'I-VAL', 'I-VAL', 'B-KEY', 'B-VAL', 'I-VAL', 'I-VAL', 'I-VAL', 'I-VAL', 'I-VAL', 'I-VAL', 'I-VAL', 'I-VAL', 'I-VAL', 'I-VAL', 'I-VAL', 'I-VAL', 'I-VAL', 'I-VAL', 'I-VAL', 'I-VAL', 'I-VAL', 'I-VAL', 'I-VAL', 'I-VAL', 'O', 'B-VAL', 'I-VAL', 'I-VAL', 'I-VAL', 'I-VAL', 'I-VAL', 'I-VAL', 'I-VAL', 'I-VAL', 'I-VAL', 'I-VAL', 'O', 'O', 'I-VAL', 'I-VAL', 'I-VAL', 'I-VAL', 'I-VAL', 'I-VAL', 'I-VAL', 'B-KEY', 'I-KEY', 'O', 'B-VAL', 'I-VAL', 'I-VAL', 'I-VAL', 'I-VAL', 'I-VAL', 'B-KEY', 'I-KEY', 'O', 'O', 'O', 'O', 'O', 'O', 'O', 'O', 'B-KEY', 'O', 'O', 'O', 'O', 'O', 'O', 'O', 'O', 'O', 'O', 'B-VAL', 'I-VAL', 'I-VAL', 'I-VAL', 'I-VAL', 'I-VAL', 'B-KEY', 'I-KEY', 'B-VAL', 'I-VAL', 'I-VAL', 'I-VAL', 'I-VAL', 'B-KEY', 'I-KEY', 'B-VAL', 'I-VAL', 'I-VAL', 'I-VAL', 'I-VAL', 'B-KEY', 'O', 'B-VAL', 'I-VAL', 'I-VAL', 'I-VAL', 'I-VAL', 'I-VAL', 'I-VAL', 'B-KEY', 'I-KEY', 'O', 'O', 'O', 'O', 'O', 'O', 'O', 'O', 'O', 'O', 'O', 'O', 'O', 'O', 'O', 'O', 'O', 'O', 'O', 'O', 'O', 'O', 'O', 'O', 'O', 'O', 'O', 'O', 'O', 'O', 'O', 'O', 'O', 'O', 'O', 'O', 'O', 'O', 'O', 'O', 'O', 'O', 'O', 'O', 'O', 'O', 'O', 'O', 'O', 'O', 'O', 'O', 'O', 'O', 'O', 'O', 'O', 'O', 'O', 'O', 'O', 'O', 'O', 'O', 'O', 'O', 'O', 'O', 'O', 'O', 'O', 'O', 'O', 'O', 'O', 'O', 'O', 'O', 'O', 'O', 'O', 'O', 'O', 'O', 'O', 'O', 'O', 'O', 'O', 'O', 'O', 'O', 'O', 'O', 'O', 'O', 'O', 'O', 'O', 'O', 'O', 'O', 'O', 'O', 'O', 'O', 'O', 'O', 'O', 'O', 'O', 'O', 'O', 'O', 'O', 'O', 'O', 'O', 'O', 'O', 'O', 'O', 'O', 'O', 'O', 'O', 'O', 'O', 'O', 'O', 'O', 'O', 'O', 'O', 'O', 'O', 'O', 'O', 'O', 'O', 'O', 'O', 'O', 'O', 'O', 'O', 'O', 'O', 'O', 'O', 'O', 'O', 'O', 'O', 'O', 'O', 'O', 'O', 'O', 'O', 'O', 'O', 'O', 'O', 'O', 'O', 'O', 'O', 'O', 'O', 'O', 'O', 'O', 'O', 'O', 'O', 'O', 'O', 'O', 'O', 'O', 'O', 'O', 'O', 'O', 'O', 'O', 'O', 'O', 'O', 'O', 'O', 'O', 'O', 'O', 'O', 'O', 'O', 'O', 'O', 'O', 'O', 'O', 'O', 'O', 'O', 'O', 'O', 'O', 'O', 'O', 'O', 'O', 'O', 'O', 'O', 'O', 'O', 'B-KEY', 'B-VAL', 'I-VAL', 'I-VAL', 'I-VAL', 'I-VAL', 'I-VAL', 'O', 'B-VAL', 'I-VAL', 'I-VAL', 'I-VAL', 'I-VAL', 'I-VAL', 'I-VAL', 'I-VAL', 'I-VAL', 'I-VAL', 'I-VAL', 'I-VAL', 'I-VAL', 'I-VAL', 'I-VAL', 'I-VAL', 'I-VAL', 'I-VAL', 'I-VAL', 'I-VAL', 'I-VAL', 'I-VAL', 'I-VAL', 'I-VAL', 'I-VAL', 'I-VAL', 'I-VAL', 'I-VAL', 'I-VAL', 'I-VAL', 'I-VAL', 'I-VAL', 'I-VAL', 'I-VAL', 'I-VAL', 'I-VAL', 'I-VAL', 'I-VAL', 'I-VAL', 'O', 'B-KEY', 'I-KEY', 'B-VAL', 'I-VAL', 'I-VAL', 'I-VAL', 'I-VAL', 'O', 'B-KEY', 'I-KEY', 'B-VAL', 'I-VAL', 'I-VAL', 'I-VAL', 'I-VAL', 'O', 'B-KEY', 'B-VAL', 'I-VAL', 'I-VAL', 'I-VAL', 'I-VAL', 'I-VAL', 'I-VAL', 'I-VAL', 'I-VAL', 'I-VAL', 'I-VAL', 'I-VAL', 'I-VAL', 'O', 'B-VAL', 'I-VAL', 'I-VAL', 'I-VAL', 'I-VAL', 'I-VAL', 'I-VAL', 'I-VAL', 'I-VAL', 'I-VAL', 'I-VAL', 'I-VAL', 'I-VAL', 'I-VAL', 'I-VAL', 'I-VAL', 'O', 'B-KEY', 'I-KEY', 'B-VAL', 'I-VAL', 'I-VAL', 'I-VAL', 'I-VAL', 'O', 'B-KEY', 'I-KEY', 'B-VAL', 'I-VAL', 'I-VAL', 'I-VAL', 'I-VAL', 'O', 'O', 'O', 'O', 'O', 'O', 'O', 'O', 'O', 'O', 'O', 'O', 'O', 'O', 'O', 'O', 'O', 'O', 'O', 'O', 'O', 'O', 'O', 'O', 'O', 'O', 'O', 'O', 'O', 'O', 'O', 'O', 'O', 'O', 'O', 'O', 'O', 'O', 'O', 'O', 'O', 'O', 'O', 'O', 'O', 'O', 'O', 'O', 'O', 'O', 'O', 'O', 'O', 'O', 'O', 'O', 'O', 'O', 'O', 'O', 'O', 'O', 'O', 'O', 'O', 'O', 'O', 'O', 'O', 'O', 'O', 'O', 'O', 'O', 'O', 'O', 'O', 'O', 'O', 'O', 'O', 'O', 'O', 'O', 'O', 'O', 'O', 'O', 'O', 'O', 'O', 'O', 'O', 'B-KEY', 'O', 'O', 'O', 'B-KEY', 'O', 'O', 'O', 'O', 'B-KEY', 'B-VAL', 'I-VAL', 'I-VAL', 'I-VAL', 'I-VAL', 'I-VAL', 'I-VAL', 'I-VAL', 'I-VAL', 'O', 'O', 'O', 'O', 'O', 'O', 'O', 'B-KEY', 'I-KEY', 'B-VAL', 'I-VAL', 'I-VAL', 'I-VAL', 'I-VAL', 'O', 'O', 'O', 'O', 'O', 'O', 'O', 'O', 'O', 'O', 'O', 'O', 'O', 'O', 'O', 'B-KEY', 'B-VAL', 'I-VAL', 'I-VAL', 'I-VAL', 'I-VAL', 'I-VAL', 'B-KEY', 'I-KEY', 'B-VAL', 'I-VAL', 'I-VAL', 'I-VAL', 'I-VAL', 'B-KEY', 'I-KEY', 'B-VAL', 'I-VAL', 'I-VAL', 'I-VAL', 'I-VAL', 'B-KEY', 'B-VAL', 'I-VAL', 'I-VAL', 'I-VAL', 'I-VAL', 'I-VAL', 'I-VAL', 'I-VAL', 'I-VAL', 'I-VAL', 'I-VAL', 'I-VAL', 'I-VAL', 'I-VAL', 'I-VAL', 'I-VAL', 'I-VAL', 'I-VAL', 'I-VAL', 'I-VAL', 'I-VAL', 'I-VAL', 'I-VAL', 'I-VAL', 'I-VAL', 'I-VAL', 'I-VAL', 'I-VAL', 'I-VAL', 'I-VAL', 'I-VAL', 'I-VAL', 'I-VAL', 'B-KEY', 'I-KEY', 'B-KEY', 'I-KEY', 'I-KEY', 'I-KEY', 'O', 'O', 'O', 'O', 'O', 'O', 'O', 'O', 'O', 'O', 'O', 'O', 'O', 'O', 'O', 'O', 'O', 'O', 'B-VAL', 'I-VAL', 'I-VAL', 'I-VAL', 'I-VAL', 'I-VAL', 'B-KEY', 'I-KEY', 'O', 'O', 'O', 'O', 'O', 'O', 'O', 'O', 'B-KEY', 'O', 'O', 'O', 'O', 'O', 'O', 'O', 'O', 'B-VAL', 'I-VAL', 'I-VAL', 'I-VAL', 'I-VAL', 'I-VAL', 'I-VAL', 'I-VAL', 'I-VAL', 'I-VAL', 'I-VAL', 'I-VAL', 'I-VAL', 'B-KEY', 'I-KEY', 'B-VAL', 'I-VAL', 'I-VAL', 'I-VAL', 'I-VAL', 'B-KEY', 'I-KEY', 'B-VAL', 'I-VAL', 'I-VAL', 'I-VAL', 'I-VAL', 'B-KEY', 'O', 'B-VAL', 'I-VAL', 'I-VAL', 'I-VAL', 'I-VAL', 'I-VAL', 'I-VAL', 'B-KEY', 'I-KEY', 'O', 'O', 'O', 'O', 'O', 'O', 'O', 'O', 'O', 'O', 'O', 'O', 'O', 'O', 'O', 'O', 'O', 'O', 'O', 'O', 'O', 'O', 'O', 'O', 'O', 'O', 'O', 'O', 'O', 'O', 'O', 'O', 'O', 'O', 'O', 'O', 'O', 'O', 'O', 'O', 'O', 'O', 'O', 'O', 'O', 'O', 'O', 'O', 'O', 'O', 'O', 'O', 'O', 'O', 'O', 'O', 'O', 'O', 'O', 'O', 'O', 'O', 'O', 'O', 'O', 'O', 'O', 'O', 'O', 'O', 'O', 'O', 'O', 'O', 'O', 'O', 'O', 'O', 'O', 'O', 'O', 'O', 'O', 'O', 'O', 'O', 'O', 'O', 'O', 'O', 'O', 'O', 'O', 'O', 'O', 'O', 'I-VAL', 'I-VAL', 'I-VAL', 'I-VAL', 'B-KEY', 'B-KEY', 'B-VAL', 'I-VAL', 'I-VAL', 'I-VAL', 'I-VAL', 'O', 'O', 'O', 'O', 'O', 'O', 'O', 'O', 'O', 'O', 'I-VAL', 'I-VAL', 'I-VAL', 'I-VAL', 'I-VAL', 'I-VAL', 'I-VAL', 'I-VAL', 'I-VAL', 'I-VAL', 'O', 'O', 'O', 'O', 'O', 'O', 'O', 'O', 'O', 'O', 'O', 'O', 'O', 'O', 'O', 'O', 'O', 'O', 'O', 'O', 'O', 'O', 'O', 'O', 'O', 'O', 'O', 'O', 'O', 'O', 'O', 'O', 'O', 'O', 'O', 'O', 'O', 'O', 'O', 'O', 'O', 'B-KEY', 'I-KEY', 'I-KEY', 'I-KEY', 'I-KEY', 'I-KEY', 'B-KEY', 'I-KEY', 'B-KEY', 'I-KEY', 'I-KEY', 'I-KEY', 'I-VAL', 'I-VAL', 'I-VAL', 'I-VAL', 'I-VAL', 'B-KEY', 'I-KEY', 'I-KEY', 'I-KEY', 'I-VAL', 'I-VAL', 'I-VAL', 'I-VAL', 'I-VAL', 'I-VAL', 'I-VAL', 'B-KEY', 'I-KEY', 'I-KEY', 'I-VAL', 'I-VAL', 'I-VAL', 'I-VAL', 'I-VAL', 'I-VAL', 'I-VAL', 'B-KEY', 'O', 'O', 'O', 'O', 'O', 'O', 'O', 'O', 'O', 'O', 'O', 'O', 'O', 'O', 'O', 'O', 'O', 'O', 'O', 'O', 'O', 'O', 'O', 'O', 'O', 'O', 'O', 'O', 'O', 'O', 'O', 'O', 'O', 'O', 'O', 'O', 'O', 'O', 'O', 'O', 'O', 'O', 'O', 'O', 'O', 'O', 'O', 'O', 'O', 'O', 'O', 'O', 'O', 'O', 'O', 'B-KEY', 'B-VAL', 'I-VAL', 'I-VAL', 'I-VAL', 'I-VAL', 'I-VAL', 'I-VAL', 'B-KEY', 'I-KEY', 'I-VAL', 'I-VAL', 'I-VAL', 'I-VAL', 'I-VAL', 'I-VAL', 'I-VAL', 'I-VAL', 'I-VAL', 'I-VAL', 'I-VAL', 'I-VAL', 'I-VAL', 'O', 'O', 'O', 'O', 'O', 'O', 'O', 'O', 'O', 'O', 'O', 'O', 'O', 'O', 'O', 'O', 'O', 'O', 'O', 'O', 'O', 'O', 'O', 'O', 'O', 'O', 'O', 'O', 'O', 'O', 'O', 'O', 'O', 'O', 'O', 'O', 'O', 'O', 'O', 'O', 'O', 'O', 'O', 'O', 'O', 'O', 'O', 'O', 'O', 'O', 'O', 'O', 'O', 'O', 'O', 'O', 'O', 'O', 'O', 'O', 'O', 'O', 'O', 'O', 'O', 'O', 'O', 'O', 'O', 'O', 'O', 'O', 'O', 'O', 'O', 'O', 'O', 'O', 'O', 'O', 'O', 'O', 'O', 'O', 'O', 'O', 'O', 'O', 'O', 'O', 'O', 'O', 'O', 'O', 'O', 'O', 'O', 'O', 'O', 'O', 'O', 'O', 'O', 'O', 'O', 'O', 'O', 'O', 'O', 'O', 'O', 'O', 'O', 'O', 'O', 'O', 'O', 'O', 'O', 'O', 'O', 'O', 'O', 'O', 'O', 'O', 'O', 'O', 'O', 'O', 'O', 'O', 'O', 'O', 'O', 'O', 'O', 'O', 'O', 'O', 'O', 'O', 'O', 'O', 'O', 'O', 'O', 'O', 'O', 'O', 'O', 'O', 'O', 'O', 'O', 'O', 'O', 'O', 'O', 'O', 'O', 'O', 'O', 'O', 'O', 'O', 'O', 'O', 'O', 'O', 'O', 'O', 'O', 'O', 'O', 'O', 'O', 'O', 'O', 'O', 'O', 'O', 'O', 'O', 'O', 'O', 'O', 'O', 'O', 'O', 'O', 'O', 'O', 'O', 'O', 'O', 'O', 'O', 'O', 'O', 'O', 'O', 'O', 'O', 'O', 'O', 'O', 'O', 'O', 'O', 'O', 'O', 'O', 'O', 'O', 'O', 'O', 'O', 'O', 'O', 'O', 'O', 'O', 'O', 'O', 'O', 'O', 'O', 'O', 'O', 'O', 'O', 'O', 'O', 'O', 'O', 'O', 'O', 'O', 'O', 'O', 'O', 'O', 'O', 'O', 'O', 'O', 'O', 'O', 'O', 'O', 'O', 'O', 'O', 'O', 'O', 'O', 'O', 'O', 'O', 'O', 'O', 'O', 'O', 'O', 'O', 'O', 'O', 'O', 'O', 'O', 'O', 'O', 'O', 'O', 'O', 'O', 'O', 'O', 'O', 'O', 'O', 'O', 'O', 'O', 'O', 'O', 'O', 'O', 'O', 'O', 'O', 'O', 'O', 'O', 'O', 'O', 'O', 'O', 'O', 'O', 'O', 'O', 'O', 'O', 'O', 'O', 'O', 'O', 'O', 'O', 'O', 'O', 'O', 'O', 'O', 'O', 'O', 'O', 'O', 'O', 'O', 'O', 'O', 'O', 'O', 'O', 'O', 'O', 'O', 'O', 'O', 'O', 'O', 'O', 'O', 'O', 'O', 'O', 'O', 'O', 'O', 'O', 'O', 'O', 'B-KEY', 'B-VAL', 'I-VAL', 'I-VAL', 'I-VAL', 'I-VAL', 'I-VAL', 'O', 'B-VAL', 'I-VAL', 'I-VAL', 'I-VAL', 'I-VAL', 'I-VAL', 'I-VAL', 'I-VAL', 'I-VAL', 'I-VAL', 'I-VAL', 'I-VAL', 'I-VAL', 'I-VAL', 'I-VAL', 'I-VAL', 'I-VAL', 'I-VAL', 'I-VAL', 'I-VAL', 'I-VAL', 'I-VAL', 'I-VAL', 'I-VAL', 'I-VAL', 'I-VAL', 'I-VAL', 'I-VAL', 'I-VAL', 'I-VAL', 'I-VAL', 'I-VAL', 'I-VAL', 'I-VAL', 'I-VAL', 'I-VAL', 'I-VAL', 'I-VAL', 'I-VAL', 'O', 'B-KEY', 'I-KEY', 'B-VAL', 'I-VAL', 'I-VAL', 'I-VAL', 'I-VAL', 'O', 'B-KEY', 'I-KEY', 'B-VAL', 'I-VAL', 'I-VAL', 'I-VAL', 'I-VAL', 'O', 'B-KEY', 'B-VAL', 'I-VAL', 'I-VAL', 'I-VAL', 'I-VAL', 'I-VAL', 'I-VAL', 'I-VAL', 'I-VAL', 'I-VAL', 'I-VAL', 'I-VAL', 'I-VAL', 'O', 'B-VAL', 'I-VAL', 'I-VAL', 'I-VAL', 'I-VAL', 'I-VAL', 'I-VAL', 'I-VAL', 'I-VAL', 'I-VAL', 'I-VAL', 'I-VAL', 'I-VAL', 'I-VAL', 'I-VAL', 'I-VAL', 'O', 'B-KEY', 'I-KEY', 'B-VAL', 'I-VAL', 'I-VAL', 'I-VAL', 'I-VAL', 'O', 'B-KEY', 'I-KEY', 'B-VAL', 'I-VAL', 'I-VAL', 'I-VAL', 'I-VAL', 'O', 'O', 'O', 'O', 'O', 'O', 'O', 'O', 'O', 'O', 'O', 'O', 'O', 'O', 'O', 'O', 'O', 'O', 'O', 'O', 'O', 'O', 'O', 'O', 'O', 'O', 'O', 'O', 'O', 'O', 'O', 'O', 'O', 'O', 'O', 'O', 'O', 'O', 'O', 'O', 'O', 'O', 'O', 'O', 'O', 'O', 'O', 'O', 'O', 'O', 'O', 'O', 'O', 'O', 'O', 'O', 'O', 'O', 'O', 'O', 'O', 'O', 'O', 'O', 'O', 'O', 'O', 'O', 'O', 'O', 'O', 'O', 'O', 'O', 'O', 'O', 'O', 'O', 'O', 'O', 'O', 'O', 'O', 'O', 'O', 'O', 'O', 'O', 'O', 'O', 'O', 'O', 'O', 'B-KEY', 'O', 'O', 'O', 'B-KEY', 'O', 'O', 'O', 'O', 'B-KEY', 'B-VAL', 'I-VAL', 'I-VAL', 'I-VAL', 'I-VAL', 'I-VAL', 'I-VAL', 'I-VAL', 'O', 'O', 'O', 'O', 'O', 'O', 'O', 'B-KEY', 'I-KEY', 'B-VAL', 'I-VAL', 'I-VAL', 'I-VAL', 'I-VAL', 'I-VAL', 'I-VAL', 'O', 'O', 'O', 'O', 'O', 'O', 'O', 'O', 'O', 'O', 'O', 'O', 'O', 'O', 'O', 'B-KEY', 'B-VAL', 'I-VAL', 'I-VAL', 'I-VAL', 'I-VAL', 'I-VAL', 'B-KEY', 'I-KEY', 'B-VAL', 'I-VAL', 'I-VAL', 'I-VAL', 'I-VAL', 'B-KEY', 'I-KEY', 'B-VAL', 'I-VAL', 'I-VAL', 'I-VAL', 'I-VAL', 'B-KEY', 'B-VAL', 'I-VAL', 'I-VAL', 'I-VAL', 'I-VAL', 'I-VAL', 'I-VAL', 'I-VAL', 'I-VAL', 'I-VAL', 'I-VAL', 'I-VAL', 'I-VAL', 'I-VAL', 'I-VAL', 'I-VAL', 'I-VAL', 'I-VAL', 'I-VAL', 'I-VAL', 'I-VAL', 'I-VAL', 'I-VAL', 'I-VAL', 'I-VAL', 'I-VAL', 'I-VAL', 'I-VAL', 'I-VAL', 'I-VAL', 'I-VAL', 'I-VAL', 'I-VAL', 'B-KEY', 'I-KEY', 'B-KEY', 'I-KEY', 'I-KEY', 'I-KEY', 'O', 'O', 'O', 'O', 'O', 'O', 'O', 'O', 'O', 'O', 'O', 'O', 'O', 'O', 'O', 'O', 'O', 'O', 'B-VAL', 'I-VAL', 'I-VAL', 'I-VAL', 'I-VAL', 'I-VAL', 'B-KEY', 'I-KEY', 'O', 'O', 'O', 'O', 'O', 'O', 'O', 'O', 'B-KEY', 'O', 'O', 'O', 'O', 'O', 'O', 'O', 'O', 'B-VAL', 'I-VAL', 'I-VAL', 'I-VAL', 'I-VAL', 'I-VAL', 'I-VAL', 'I-VAL', 'I-VAL', 'I-VAL', 'I-VAL', 'I-VAL', 'I-VAL', 'B-KEY', 'I-KEY', 'B-VAL', 'I-VAL', 'I-VAL', 'I-VAL', 'I-VAL', 'B-KEY', 'I-KEY', 'B-VAL', 'I-VAL', 'I-VAL', 'I-VAL', 'I-VAL', 'B-KEY', 'O', 'B-VAL', 'I-VAL', 'I-VAL', 'I-VAL', 'I-VAL', 'I-VAL', 'I-VAL', 'B-KEY', 'I-KEY', 'O', 'O', 'O', 'O', 'O', 'O', 'O', 'O', 'O', 'O', 'O', 'O', 'O', 'O', 'O', 'O', 'O', 'O', 'O', 'O', 'O', 'O', 'O', 'O', 'O', 'O', 'O', 'O', 'O', 'O', 'O', 'O', 'O', 'O', 'O', 'O', 'O', 'O', 'O', 'O', 'O', 'O', 'O', 'O', 'O', 'O', 'O', 'O', 'O', 'O', 'O', 'O', 'O', 'O', 'O', 'O', 'O', 'O', 'O', 'O', 'O', 'O', 'O', 'O', 'O', 'O', 'O', 'O', 'O', 'O', 'O', 'O', 'O', 'O', 'O', 'O', 'O', 'O', 'O', 'O', 'O', 'O', 'O', 'O', 'O', 'O', 'O', 'O', 'O', 'O', 'O', 'O', 'O', 'O', 'O', 'O', 'O', 'O', 'O', 'O', 'O', 'O', 'O', 'O', 'O', 'O', 'O', 'O', 'O', 'O', 'O', 'O', 'O', 'O', 'O', 'O', 'O', 'B-KEY', 'B-VAL', 'I-VAL', 'I-VAL', 'I-VAL', 'I-VAL', 'I-VAL', 'O', 'B-VAL', 'I-VAL', 'I-VAL', 'I-VAL', 'I-VAL', 'I-VAL', 'I-VAL', 'I-VAL', 'I-VAL', 'I-VAL', 'I-VAL', 'I-VAL', 'I-VAL', 'I-VAL', 'I-VAL', 'I-VAL', 'I-VAL', 'I-VAL', 'I-VAL', 'I-VAL', 'I-VAL', 'I-VAL', 'I-VAL', 'I-VAL', 'I-VAL', 'I-VAL', 'I-VAL', 'I-VAL', 'I-VAL', 'I-VAL', 'I-VAL', 'I-VAL', 'I-VAL', 'I-VAL', 'I-VAL', 'I-VAL', 'I-VAL', 'I-VAL', 'I-VAL', 'O', 'B-KEY', 'I-KEY', 'B-VAL', 'I-VAL', 'I-VAL', 'I-VAL', 'I-VAL', 'O', 'B-KEY', 'I-KEY', 'B-VAL', 'I-VAL', 'I-VAL', 'I-VAL', 'I-VAL', 'O', 'B-KEY', 'B-VAL', 'I-VAL', 'I-VAL', 'I-VAL', 'I-VAL', 'I-VAL', 'I-VAL', 'I-VAL', 'I-VAL', 'I-VAL', 'I-VAL', 'I-VAL', 'I-VAL', 'O', 'B-VAL', 'I-VAL', 'I-VAL', 'I-VAL', 'I-VAL', 'I-VAL', 'I-VAL', 'I-VAL', 'I-VAL', 'I-VAL', 'I-VAL', 'I-VAL', 'I-VAL', 'I-VAL', 'I-VAL', 'I-VAL', 'O', 'B-KEY', 'I-KEY', 'B-VAL', 'I-VAL', 'I-VAL', 'I-VAL', 'I-VAL', 'O', 'B-KEY', 'I-KEY', 'B-VAL', 'I-VAL', 'I-VAL', 'I-VAL', 'I-VAL', 'O', 'O', 'O', 'O', 'O', 'O', 'O', 'O', 'O', 'O', 'O', 'O', 'O', 'O', 'O', 'O', 'O', 'O', 'O', 'O', 'O', 'O', 'O', 'O', 'O', 'O', 'O', 'O', 'O', 'O', 'O', 'O', 'O', 'O', 'O', 'O', 'O', 'O', 'O', 'O', 'O', 'O', 'O', 'O', 'O', 'O', 'O', 'O', 'O', 'O', 'O', 'O', 'O', 'O', 'O', 'O', 'O', 'O', 'O', 'O', 'O', 'O', 'O', 'O', 'O', 'O', 'O', 'O', 'O', 'O', 'O', 'O', 'O', 'O', 'O', 'O', 'O', 'O', 'O', 'O', 'O', 'O', 'O', 'O', 'O', 'O', 'O', 'O', 'O', 'O', 'O', 'O', 'O', 'B-KEY', 'O', 'O', 'O', 'B-KEY', 'O', 'O', 'O', 'O', 'B-KEY', 'B-VAL', 'I-VAL', 'I-VAL', 'I-VAL', 'I-VAL', 'I-VAL', 'I-VAL', 'I-VAL', 'O', 'O', 'O', 'O', 'O', 'O', 'O', 'B-KEY', 'I-KEY', 'B-VAL', 'I-VAL', 'I-VAL', 'I-VAL', 'I-VAL', 'O', 'O', 'O', 'O', 'O', 'O', 'O', 'O', 'O', 'O', 'O', 'O', 'O', 'O', 'O', 'B-KEY', 'B-VAL', 'I-VAL', 'I-VAL', 'I-VAL', 'I-VAL', 'I-VAL', 'B-KEY', 'I-KEY', 'B-VAL', 'I-VAL', 'I-VAL', 'I-VAL', 'I-VAL', 'B-KEY', 'I-KEY', 'B-VAL', 'I-VAL', 'I-VAL', 'I-VAL', 'I-VAL', 'B-KEY', 'B-VAL', 'I-VAL', 'I-VAL', 'I-VAL', 'I-VAL', 'I-VAL', 'I-VAL', 'I-VAL', 'I-VAL', 'I-VAL', 'I-VAL', 'I-VAL', 'I-VAL', 'I-VAL', 'I-VAL', 'I-VAL', 'I-VAL', 'I-VAL', 'I-VAL', 'I-VAL', 'I-VAL', 'I-VAL', 'I-VAL', 'I-VAL', 'I-VAL', 'I-VAL', 'I-VAL', 'I-VAL', 'I-VAL', 'I-VAL', 'I-VAL', 'I-VAL', 'I-VAL', 'B-KEY', 'I-KEY', 'B-KEY', 'I-KEY', 'I-KEY', 'I-KEY', 'O', 'O', 'O', 'O', 'O', 'O', 'O', 'O', 'O', 'O', 'O', 'O', 'O', 'O', 'O', 'O', 'O', 'O', 'B-VAL', 'I-VAL', 'I-VAL', 'I-VAL', 'I-VAL', 'I-VAL', 'B-KEY', 'I-KEY', 'O', 'O', 'O', 'O', 'O', 'O', 'O', 'O', 'B-KEY', 'O', 'O', 'O', 'O', 'O', 'O', 'O', 'O', 'B-VAL', 'I-VAL', 'I-VAL', 'I-VAL', 'I-VAL', 'I-VAL', 'I-VAL', 'I-VAL', 'I-VAL', 'I-VAL', 'I-VAL', 'I-VAL', 'I-VAL', 'B-KEY', 'I-KEY', 'B-VAL', 'I-VAL', 'I-VAL', 'I-VAL', 'I-VAL', 'B-KEY', 'I-KEY', 'B-VAL', 'I-VAL', 'I-VAL', 'I-VAL', 'I-VAL', 'B-KEY', 'O', 'B-VAL', 'I-VAL', 'I-VAL', 'I-VAL', 'I-VAL', 'I-VAL', 'I-VAL', 'B-KEY', 'I-KEY', 'O', 'O', 'O', 'O', 'O', 'O', 'O', 'O', 'O', 'O', 'O', 'O', 'O', 'O', 'O', 'O', 'O', 'O', 'O', 'O', 'O', 'O', 'O', 'O', 'O', 'O', 'O', 'O', 'O', 'O', 'O', 'O', 'O', 'O', 'O', 'O', 'O', 'O', 'O', 'O', 'O', 'O', 'O', 'O', 'O', 'O', 'O', 'O', 'O', 'O', 'O', 'O', 'O', 'O', 'O', 'O', 'O', 'O', 'O', 'O', 'O', 'O', 'O', 'O', 'O', 'O', 'O', 'O', 'O', 'O', 'O', 'O', 'O', 'O', 'O', 'O', 'O', 'O', 'O', 'O', 'O', 'O', 'O', 'O', 'O', 'O', 'O', 'O', 'O', 'O', 'O', 'O', 'O', 'O', 'O', 'O', 'O', 'O', 'O', 'O', 'O', 'O', 'O', 'O', 'O', 'O', 'O', 'O', 'O', 'O', 'O', 'O', 'O', 'O', 'O', 'O', 'O', 'O', 'O', 'O', 'O', 'O', 'O', 'O', 'O', 'O', 'O', 'O', 'B-VAL', 'I-VAL', 'I-VAL', 'I-VAL', 'I-VAL', 'O', 'O', 'O', 'I-KEY', 'I-VAL', 'I-VAL', 'I-VAL', 'I-VAL', 'I-VAL', 'I-VAL', 'I-VAL', 'I-VAL', 'I-VAL', 'O', 'B-KEY', 'O', 'O', 'O', 'O', 'O', 'O', 'B-KEY', 'I-KEY', 'B-KEY', 'I-KEY', 'I-KEY', 'I-KEY', 'B-VAL', 'I-VAL', 'I-VAL', 'I-VAL', 'I-VAL', 'I-VAL', 'I-VAL', 'I-VAL', 'I-VAL', 'I-VAL', 'I-VAL', 'I-VAL', 'I-VAL', 'B-KEY', 'I-KEY', 'B-VAL', 'I-VAL', 'I-VAL', 'I-VAL', 'I-VAL', 'I-VAL', 'O', 'I-VAL', 'I-VAL', 'I-VAL', 'I-VAL', 'I-VAL', 'I-VAL', 'I-VAL', 'I-VAL', 'I-VAL', 'B-KEY', 'I-KEY', 'B-VAL', 'I-VAL', 'I-VAL', 'I-VAL', 'I-VAL', 'I-VAL', 'I-VAL', 'I-VAL', 'I-VAL', 'I-VAL', 'I-VAL', 'O', 'O', 'O', 'O', 'B-KEY', 'O', 'O', 'O', 'O', 'O', 'O', 'O', 'O', 'O', 'O', 'O', 'O', 'I-VAL', 'O', 'I-VAL', 'I-VAL', 'I-VAL', 'I-VAL', 'I-VAL', 'I-VAL', 'I-VAL', 'I-VAL', 'I-VAL', 'O', 'O', 'O', 'O', 'O', 'O', 'O', 'O', 'O', 'O', 'O', 'O', 'O', 'O', 'O', 'O', 'O', 'O', 'O', 'O', 'O', 'O', 'O', 'O', 'O', 'O', 'O', 'O', 'O', 'O', 'O', 'O', 'O', 'O', 'O', 'O', 'O', 'O', 'O', 'O', 'O', 'O', 'O', 'O', 'O', 'O', 'O', 'O', 'O', 'O', 'O', 'O', 'O', 'O', 'O', 'O', 'O', 'O', 'O', 'O', 'O', 'O', 'O', 'O', 'O', 'O', 'O', 'O', 'O', 'O', 'O', 'O', 'O', 'O', 'O', 'O', 'O', 'O', 'O', 'O', 'O', 'B-KEY', 'I-KEY', 'B-VAL', 'I-VAL', 'I-VAL', 'I-VAL', 'I-VAL', 'I-VAL', 'I-VAL', 'I-VAL', 'B-KEY', 'I-KEY', 'I-VAL', 'I-VAL', 'I-VAL', 'I-VAL', 'I-VAL', 'I-VAL', 'I-VAL', 'I-VAL', 'I-VAL', 'I-VAL', 'I-VAL', 'I-VAL', 'I-VAL', 'I-VAL', 'I-VAL', 'O', 'O', 'O', 'O', 'O', 'O', 'O', 'O', 'O', 'O', 'O', 'O', 'O', 'O', 'O', 'O', 'O', 'O', 'O', 'O', 'O', 'O', 'O', 'O', 'O', 'O', 'O', 'O', 'O', 'O', 'O', 'O', 'O', 'O', 'O', 'O', 'O', 'O', 'O', 'O', 'O', 'O', 'O', 'O', 'O', 'O', 'O', 'O', 'O', 'O', 'O', 'O', 'O', 'O', 'O', 'O', 'O', 'O', 'O', 'O', 'O', 'O', 'O', 'O', 'O', 'O', 'O', 'O', 'O', 'O', 'O', 'O', 'O', 'O', 'O', 'O', 'O', 'O', 'O', 'O', 'O', 'O', 'O', 'O', 'O', 'O', 'O', 'O', 'O', 'O', 'O', 'O', 'O', 'O', 'O', 'O', 'O', 'O', 'O', 'O', 'O', 'O', 'O', 'O', 'O', 'O', 'O', 'O', 'O', 'O', 'O', 'O', 'O', 'O', 'O', 'O', 'O', 'O', 'O', 'O', 'O', 'O', 'O', 'O', 'O', 'O', 'O', 'O', 'O', 'O', 'O', 'O', 'O', 'O', 'O', 'O', 'O', 'O', 'O', 'O', 'O', 'O', 'O', 'O', 'O', 'O', 'O', 'O', 'O', 'O', 'O', 'O', 'O', 'O', 'O', 'O', 'O', 'O', 'O', 'O', 'O', 'O', 'O', 'O', 'O', 'O', 'O', 'O', 'O', 'O', 'O', 'O', 'O', 'O', 'O', 'O', 'O', 'O', 'O', 'O', 'O', 'O', 'O', 'O', 'O', 'O', 'O', 'O', 'O', 'O', 'O', 'O', 'O', 'O', 'O', 'O', 'O', 'O', 'O', 'O', 'O', 'O', 'O', 'O', 'O', 'O', 'O', 'O', 'O', 'O', 'O', 'O', 'O', 'O', 'O', 'O', 'O', 'O', 'O', 'O', 'O', 'O', 'O', 'O', 'O', 'O', 'O', 'O', 'O', 'O', 'O', 'O', 'O', 'O', 'O', 'O', 'O', 'O', 'O', 'O', 'O', 'O', 'O', 'O', 'O', 'O', 'O', 'O', 'O', 'O', 'O', 'O', 'O', 'O', 'O', 'O', 'O', 'O', 'O', 'O', 'O', 'O', 'O', 'O', 'O', 'O', 'O', 'O', 'O', 'O', 'O', 'O', 'O', 'O', 'O', 'O', 'O', 'O', 'O', 'O', 'O', 'O', 'O', 'O', 'O', 'O', 'O', 'O', 'O', 'O', 'O', 'B-KEY', 'B-VAL', 'I-VAL', 'I-VAL', 'I-VAL', 'I-VAL', 'I-VAL', 'O', 'B-VAL', 'I-VAL', 'I-VAL', 'I-VAL', 'I-VAL', 'I-VAL', 'I-VAL', 'I-VAL', 'I-VAL', 'I-VAL', 'I-VAL', 'I-VAL', 'I-VAL', 'I-VAL', 'I-VAL', 'I-VAL', 'I-VAL', 'I-VAL', 'I-VAL', 'I-VAL', 'I-VAL', 'I-VAL', 'I-VAL', 'I-VAL', 'I-VAL', 'I-VAL', 'I-VAL', 'I-VAL', 'I-VAL', 'I-VAL', 'I-VAL', 'I-VAL', 'I-VAL', 'I-VAL', 'I-VAL', 'I-VAL', 'I-VAL', 'I-VAL', 'I-VAL', 'O', 'B-KEY', 'I-KEY', 'B-VAL', 'I-VAL', 'I-VAL', 'I-VAL', 'I-VAL', 'O', 'B-KEY', 'I-KEY', 'B-VAL', 'I-VAL', 'I-VAL', 'I-VAL', 'I-VAL', 'O', 'B-KEY', 'B-VAL', 'I-VAL', 'I-VAL', 'I-VAL', 'I-VAL', 'I-VAL', 'I-VAL', 'I-VAL', 'I-VAL', 'I-VAL', 'I-VAL', 'I-VAL', 'I-VAL', 'O', 'B-VAL', 'I-VAL', 'I-VAL', 'I-VAL', 'I-VAL', 'I-VAL', 'I-VAL', 'I-VAL', 'I-VAL', 'I-VAL', 'I-VAL', 'I-VAL', 'I-VAL', 'I-VAL', 'I-VAL', 'I-VAL', 'O', 'B-KEY', 'I-KEY', 'B-VAL', 'I-VAL', 'I-VAL', 'I-VAL', 'I-VAL', 'O', 'B-KEY', 'I-KEY', 'B-VAL', 'I-VAL', 'I-VAL', 'I-VAL', 'I-VAL', 'O', 'O', 'O', 'O', 'O', 'O', 'O', 'O', 'O', 'O', 'O', 'O', 'O', 'O', 'O', 'O', 'O', 'O', 'O', 'O', 'O', 'O', 'O', 'O', 'O', 'O', 'O', 'O', 'O', 'O', 'O', 'O', 'O', 'O', 'O', 'O', 'O', 'O', 'O', 'O', 'O', 'O', 'O', 'O', 'O', 'O', 'O', 'O', 'O', 'O', 'O', 'O', 'O', 'O', 'O', 'O', 'O', 'O', 'O', 'O', 'O', 'O', 'O', 'O', 'O', 'O', 'O', 'O', 'O', 'O', 'O', 'O', 'O', 'O', 'O', 'O', 'O', 'O', 'O', 'O', 'O', 'O', 'O', 'O', 'O', 'O', 'O', 'O', 'O', 'O', 'O', 'O', 'O', 'B-KEY', 'O', 'O', 'O', 'B-KEY', 'O', 'O', 'O', 'O', 'B-KEY', 'B-VAL', 'I-VAL', 'I-VAL', 'I-VAL', 'I-VAL', 'I-VAL', 'I-VAL', 'I-VAL', 'I-VAL', 'O', 'O', 'O', 'O', 'O', 'O', 'O', 'B-KEY', 'I-KEY', 'I-VAL', 'I-VAL', 'I-VAL', 'I-VAL', 'I-VAL', 'O', 'O', 'O', 'O', 'O', 'O', 'O', 'O', 'O', 'O', 'O', 'O', 'O', 'O', 'O', 'B-KEY', 'B-VAL', 'I-VAL', 'I-VAL', 'I-VAL', 'I-VAL', 'I-VAL', 'B-KEY', 'I-KEY', 'B-VAL', 'I-VAL', 'I-VAL', 'I-VAL', 'I-VAL', 'B-KEY', 'I-KEY', 'B-VAL', 'I-VAL', 'I-VAL', 'I-VAL', 'I-VAL', 'B-KEY', 'B-VAL', 'I-VAL', 'I-VAL', 'I-VAL', 'I-VAL', 'I-VAL', 'I-VAL', 'I-VAL', 'I-VAL', 'I-VAL', 'I-VAL', 'I-VAL', 'I-VAL', 'I-VAL', 'I-VAL', 'I-VAL', 'I-VAL', 'I-VAL', 'I-VAL', 'I-VAL', 'I-VAL', 'I-VAL', 'I-VAL', 'I-VAL', 'I-VAL', 'I-VAL', 'I-VAL', 'I-VAL', 'I-VAL', 'I-VAL', 'I-VAL', 'I-VAL', 'I-VAL', 'B-KEY', 'I-KEY', 'B-KEY', 'I-KEY', 'I-KEY', 'I-KEY', 'O', 'O', 'O', 'O', 'O', 'O', 'O', 'O', 'O', 'O', 'O', 'O', 'O', 'O', 'O', 'O', 'O', 'O', 'B-VAL', 'I-VAL', 'I-VAL', 'I-VAL', 'I-VAL', 'I-VAL', 'B-KEY', 'I-KEY', 'O', 'O', 'O', 'O', 'O', 'O', 'O', 'O', 'B-KEY', 'O', 'O', 'O', 'O', 'O', 'O', 'O', 'O', 'B-VAL', 'I-VAL', 'I-VAL', 'I-VAL', 'I-VAL', 'I-VAL', 'I-VAL', 'I-VAL', 'I-VAL', 'I-VAL', 'I-VAL', 'I-VAL', 'I-VAL', 'B-KEY', 'I-KEY', 'B-VAL', 'I-VAL', 'I-VAL', 'I-VAL', 'I-VAL', 'B-KEY', 'I-KEY', 'B-VAL', 'I-VAL', 'I-VAL', 'I-VAL', 'I-VAL', 'B-KEY', 'O', 'B-VAL', 'I-VAL', 'I-VAL', 'I-VAL', 'I-VAL', 'I-VAL', 'I-VAL', 'B-KEY', 'I-KEY', 'O', 'O', 'O', 'O', 'O', 'O', 'O', 'O', 'O', 'O', 'O', 'O', 'O', 'O', 'O', 'O', 'O', 'O', 'O', 'O', 'O', 'O', 'O', 'O', 'O', 'O', 'O', 'O', 'O', 'O', 'O', 'O', 'O', 'O', 'O', 'O', 'O', 'O', 'O', 'O', 'O', 'O', 'O', 'O', 'O', 'O', 'O', 'O', 'O', 'O', 'O', 'O', 'O', 'O', 'O', 'O', 'O', 'O', 'O', 'O', 'O', 'O', 'O', 'O', 'O', 'O', 'O', 'O', 'O', 'O', 'O', 'O', 'O', 'O', 'O', 'O', 'O', 'O', 'O', 'O', 'O', 'O', 'O', 'O', 'O', 'O', 'O', 'O', 'O', 'O', 'O', 'O', 'O', 'O', 'O', 'O', 'B-VAL', 'I-VAL', 'I-VAL', 'I-VAL', 'I-VAL', 'O', 'O', 'O', 'O', 'O', 'O', 'O', 'O', 'O', 'O', 'O', 'O', 'O', 'O', 'O', 'O', 'O', 'O', 'O', 'O', 'O', 'O', 'O', 'B-VAL', 'I-VAL', 'I-VAL', 'I-VAL', 'I-VAL', 'I-VAL', 'O', 'O', 'B-KEY', 'I-KEY', 'I-VAL', 'I-VAL', 'I-VAL', 'I-VAL', 'I-VAL', 'I-VAL', 'O', 'B-VAL', 'I-VAL', 'I-VAL', 'I-VAL', 'I-VAL', 'O', 'O', 'B-KEY', 'I-KEY', 'I-VAL', 'I-VAL', 'I-VAL', 'I-VAL', 'I-VAL', 'I-VAL', 'O', 'O', 'O', 'B-KEY', 'I-VAL', 'I-KEY', 'I-KEY', 'I-KEY', 'I-VAL', 'I-VAL', 'I-VAL', 'I-VAL', 'I-VAL', 'I-VAL', 'I-VAL', 'I-VAL', 'O', 'O', 'O', 'O', 'O', 'O', 'O', 'O', 'O', 'O', 'O', 'O', 'O', 'O', 'O', 'O', 'O', 'O', 'O', 'O', 'O', 'O', 'O', 'O', 'O', 'O', 'O', 'O', 'O', 'O', 'O', 'O', 'O', 'O', 'O', 'O', 'O', 'O', 'O', 'O', 'O', 'O', 'O', 'O', 'O', 'O', 'O', 'O', 'O', 'O', 'O', 'O', 'O', 'O', 'O', 'O', 'O', 'O', 'O', 'O', 'O', 'O', 'O', 'O', 'O', 'O', 'O', 'O', 'O', 'O', 'O', 'O', 'O', 'O', 'O', 'O', 'O', 'O', 'O', 'O', 'O', 'O', 'O', 'O', 'O', 'O', 'O', 'O', 'O', 'O', 'O', 'O', 'O', 'O', 'O', 'O', 'O', 'O', 'O', 'O', 'O', 'O', 'O', 'O', 'O', 'O', 'O', 'O', 'O', 'O', 'O', 'O', 'O', 'O', 'O', 'O', 'O', 'O', 'O', 'O', 'O', 'O', 'O', 'O', 'O', 'O', 'O', 'O', 'O', 'O', 'O', 'O', 'O', 'O', 'O', 'O', 'O', 'O', 'O', 'O', 'O', 'O', 'O', 'O', 'O', 'O', 'O', 'O', 'O', 'O', 'O', 'O', 'O', 'O', 'O', 'O', 'O', 'O', 'O', 'O', 'O', 'O', 'O', 'O', 'O', 'O', 'O', 'O', 'O', 'O', 'O', 'O', 'O', 'O', 'O', 'O', 'O', 'O', 'O', 'O', 'O', 'O', 'O', 'O', 'O', 'O', 'O', 'I-VAL', 'I-VAL', 'I-VAL', 'I-VAL', 'I-VAL', 'I-VAL', 'O', 'I-VAL', 'O', 'O', 'O', 'O', 'O', 'O', 'O', 'O', 'O', 'O', 'O', 'O', 'O', 'O', 'O', 'O', 'O', 'O', 'O', 'O', 'O', 'O', 'O', 'O', 'O', 'O', 'O', 'O', 'O', 'O', 'O', 'O', 'O', 'O', 'O', 'O', 'O', 'O', 'O', 'O', 'O', 'O', 'O', 'O', 'O', 'O', 'O', 'O', 'O', 'O', 'O', 'O', 'O', 'O', 'O', 'O', 'O', 'O', 'O', 'O', 'O', 'O', 'O', 'O', 'B-KEY', 'I-KEY', 'I-KEY', 'I-KEY', 'B-VAL', 'I-VAL', 'I-VAL', 'I-VAL', 'I-VAL', 'I-VAL', 'O', 'B-VAL', 'I-VAL', 'O', 'B-VAL', 'I-VAL', 'I-VAL', 'I-VAL', 'I-VAL', 'I-VAL', 'B-KEY', 'I-VAL', 'I-KEY', 'I-KEY', 'I-KEY', 'B-VAL', 'I-VAL', 'I-VAL', 'I-VAL', 'I-VAL', 'O', 'B-VAL', 'I-VAL', 'O', 'I-VAL', 'I-VAL', 'I-VAL', 'I-VAL', 'I-VAL', 'I-VAL', 'B-KEY', 'I-VAL', 'I-KEY', 'I-KEY', 'I-KEY', 'B-VAL', 'I-VAL', 'I-VAL', 'I-VAL', 'I-VAL', 'O', 'O', 'I-VAL', 'O', 'I-VAL', 'I-VAL', 'I-VAL', 'I-VAL', 'I-VAL', 'I-VAL', 'O', 'O', 'O', 'O', 'O', 'O', 'O', 'O', 'O', 'O', 'O', 'O', 'O', 'O', 'O', 'O', 'O', 'O', 'O', 'O', 'O', 'O', 'O', 'O', 'O', 'O', 'O', 'O', 'O', 'O', 'O', 'O', 'O', 'I-VAL', 'O', 'O', 'O', 'O', 'O', 'O', 'O', 'O', 'O', 'O', 'O', 'O', 'O', 'O', 'O', 'O', 'O', 'O', 'O', 'O', 'O', 'O', 'O', 'O', 'O', 'O', 'O', 'O', 'O', 'O', 'O', 'O', 'O', 'O', 'O', 'O', 'O', 'O', 'O', 'O', 'O', 'O', 'O', 'O', 'O', 'O', 'O', 'O', 'O', 'O', 'O', 'O', 'O', 'O', 'O', 'O', 'O', 'O', 'O', 'O', 'O', 'O', 'O', 'O', 'O', 'O', 'O', 'O', 'O', 'O', 'O', 'O', 'O', 'O', 'O', 'O', 'O', 'O', 'O', 'O', 'O', 'O', 'O', 'O', 'O', 'O', 'O', 'O', 'O', 'O', 'O', 'O', 'O', 'O', 'O', 'O', 'O', 'O', 'O', 'O', 'O', 'O', 'O', 'O', 'O', 'O', 'O', 'O', 'O', 'O', 'O', 'O', 'O', 'O', 'O', 'O', 'O', 'O', 'O', 'O', 'I-VAL', 'O', 'I-VAL', 'I-VAL', 'O', 'O', 'O', 'O', 'O', 'O', 'O', 'O', 'O', 'O', 'I-VAL', 'I-VAL', 'O', 'O', 'O', 'O', 'B-KEY', 'I-KEY', 'B-VAL', 'I-VAL', 'I-VAL', 'I-VAL', 'I-VAL', 'I-VAL', 'O', 'O', 'O', 'O', 'O', 'O', 'O', 'O', 'O', 'O', 'O', 'O', 'O', 'O', 'O', 'O', 'O', 'O', 'O', 'O', 'O', 'O', 'O', 'B-VAL', 'I-VAL', 'I-VAL', 'I-VAL', 'I-VAL', 'I-VAL', 'I-VAL', 'O', 'O', 'O', 'O', 'O', 'O', 'B-VAL', 'I-VAL', 'I-VAL', 'I-VAL', 'O', 'O', 'O', 'O', 'O', 'O', 'O', 'O', 'O', 'B-KEY', 'I-VAL', 'O', 'O', 'O', 'O', 'B-KEY', 'I-KEY', 'I-VAL', 'I-VAL', 'I-VAL', 'I-VAL', 'I-VAL', 'I-VAL', 'I-VAL', 'O', 'O', 'O', 'O', 'O', 'O', 'O', 'O', 'O', 'O', 'O', 'O', 'O', 'O', 'O', 'O', 'O', 'O', 'O', 'O', 'O', 'O', 'O', 'O', 'O', 'O', 'O', 'O', 'O', 'O', 'O', 'O', 'O', 'O', 'O', 'O', 'O', 'O', 'O', 'O', 'O', 'O', 'O', 'O', 'O', 'O', 'O', 'O', 'O', 'O', 'O', 'O', 'O', 'O', 'O', 'O', 'O', 'O', 'O', 'O', 'O', 'O', 'O', 'O', 'O', 'O', 'O', 'O', 'O', 'O', 'O', 'O', 'O', 'O', 'O', 'O', 'O', 'O', 'O', 'O', 'O', 'O', 'O', 'O', 'O', 'O', 'O', 'I-VAL', 'I-VAL', 'I-VAL', 'I-VAL', 'I-VAL', 'I-VAL', 'I-VAL', 'I-VAL', 'O', 'O', 'O', 'O', 'O', 'O', 'O', 'O', 'O', 'O', 'O', 'O', 'O', 'O', 'O', 'O', 'O', 'O', 'O', 'O', 'O', 'O', 'O', 'O', 'O', 'O', 'O', 'O', 'O', 'O', 'O', 'O', 'O', 'O', 'O', 'O', 'O', 'O', 'O', 'O', 'O', 'O', 'O', 'O', 'O', 'O', 'O', 'O', 'O', 'O', 'O', 'O', 'O', 'O', 'O', 'O', 'O', 'O', 'O', 'O', 'O', 'O', 'O', 'O', 'O', 'O', 'O', 'O', 'O', 'O', 'O', 'O', 'O', 'O', 'O', 'O', 'O', 'O', 'O', 'O', 'O', 'O', 'O', 'O', 'O', 'O', 'O', 'O', 'O', 'O', 'O', 'O', 'O', 'O', 'O', 'O', 'O', 'O', 'O', 'O', 'O', 'O', 'O', 'O', 'O', 'O', 'O', 'O', 'O', 'O', 'O', 'O', 'O', 'O', 'O', 'O', 'O', 'O', 'O', 'O', 'O', 'O', 'O', 'O', 'O', 'O', 'O', 'O', 'O', 'O', 'I-VAL', 'I-VAL', 'I-VAL', 'O', 'O', 'O', 'O', 'O', 'O', 'O', 'O', 'O', 'O', 'O', 'O', 'O', 'O', 'O', 'O', 'O', 'O', 'O', 'O', 'O', 'O', 'O', 'O', 'O', 'O', 'O', 'O', 'O', 'O', 'O', 'O', 'O', 'O', 'O', 'O', 'O', 'O', 'O', 'O', 'O', 'O', 'O', 'O', 'O', 'O', 'O', 'O', 'O', 'O', 'O', 'O', 'O', 'O', 'O', 'O', 'O', 'O', 'O', 'O', 'O', 'O', 'O', 'O', 'O', 'O', 'O', 'O', 'O', 'O', 'O', 'O', 'O', 'O', 'O', 'O', 'O', 'O', 'O', 'O', 'O', 'O', 'O', 'O', 'O', 'O', 'O', 'O', 'O', 'O', 'O', 'O', 'O', 'O', 'O', 'O', 'O', 'O', 'O', 'O', 'O', 'O', 'O', 'O', 'O', 'O', 'O', 'O', 'O', 'O', 'O', 'O', 'O', 'O', 'O', 'O', 'O', 'O', 'O', 'O', 'O', 'O', 'O', 'O', 'O', 'O', 'O', 'O', 'O', 'O', 'O', 'O', 'O', 'O', 'O', 'O', 'O', 'O', 'O', 'O', 'O', 'O', 'O', 'O', 'O', 'O', 'O', 'O', 'O', 'O', 'O', 'O', 'O', 'O', 'O', 'B-KEY', 'O', 'B-VAL', 'I-VAL', 'I-VAL', 'I-VAL', 'I-VAL', 'I-VAL', 'O', 'B-KEY', 'I-KEY', 'I-KEY', 'B-VAL', 'I-VAL', 'I-VAL', 'I-VAL', 'I-VAL', 'B-KEY', 'O', 'O', 'O', 'O', 'O', 'O', 'O', 'I-VAL', 'I-VAL', 'I-VAL', 'I-VAL', 'I-VAL', 'O', 'B-VAL', 'I-VAL', 'I-VAL', 'I-VAL', 'I-VAL', 'I-VAL', 'O', 'B-KEY', 'I-KEY', 'I-KEY', 'I-KEY', 'B-VAL', 'I-VAL', 'I-VAL', 'I-VAL', 'I-VAL', 'I-VAL', 'B-KEY', 'O', 'O', 'O', 'O', 'O', 'O', 'O', 'B-VAL', 'I-VAL', 'I-VAL', 'I-VAL', 'I-VAL', 'I-VAL', 'I-VAL', 'O', 'B-KEY', 'B-VAL', 'I-VAL', 'I-VAL', 'I-VAL', 'I-VAL', 'I-VAL', 'I-VAL', 'I-VAL', 'I-VAL', 'I-VAL', 'O', 'O', 'O', 'O', 'O', 'O', 'O', 'O', 'O', 'O', 'O', 'O', 'O', 'O', 'O', 'O', 'O', 'O', 'O', 'O', 'O', 'O', 'O', 'O', 'O', 'O', 'O', 'O', 'O', 'O', 'O', 'O', 'O', 'O', 'O', 'O', 'O', 'O', 'O', 'O', 'O', 'O', 'I-VAL', 'I-VAL', 'I-VAL', 'I-VAL', 'I-VAL', 'I-VAL', 'I-VAL', 'I-VAL', 'I-VAL', 'I-VAL', 'I-VAL', 'I-VAL', 'I-VAL', 'O', 'O', 'O', 'O', 'O', 'O', 'O', 'O', 'O', 'O', 'O', 'O', 'O', 'O', 'O', 'O', 'O', 'O', 'O', 'O', 'O', 'O', 'O', 'O', 'O', 'O', 'O', 'O', 'O', 'O', 'O', 'O', 'O', 'O', 'O', 'O', 'O', 'O', 'O', 'O', 'O', 'O', 'O', 'O', 'O', 'O', 'O', 'O', 'O', 'O', 'O', 'O', 'O', 'O', 'O', 'O', 'O', 'O', 'O', 'O', 'O', 'O', 'O', 'O', 'O', 'O', 'O', 'O', 'O', 'B-KEY', 'O', 'O', 'B-VAL', 'I-VAL', 'O', 'B-VAL', 'I-VAL', 'I-VAL', 'I-VAL', 'I-VAL', 'I-VAL', 'B-KEY', 'O', 'O', 'O', 'O', 'I-KEY', 'O', 'O', 'I-VAL', 'O', 'O', 'I-VAL', 'I-VAL', 'O', 'B-VAL', 'I-VAL', 'O', 'B-VAL', 'I-VAL', 'I-VAL', 'I-VAL', 'I-VAL', 'I-VAL', 'B-KEY', 'O', 'O', 'O', 'O', 'O', 'O', 'O', 'B-VAL', 'O', 'O', 'O', 'O', 'O', 'O', 'O', 'O', 'O', 'O', 'O', 'O', 'O', 'O', 'O', 'O', 'O', 'O', 'O', 'O', 'O', 'O', 'O', 'O', 'O', 'O', 'O', 'O', 'O', 'O', 'O', 'O', 'O', 'O', 'O', 'O', 'O', 'O', 'O', 'O', 'O', 'O', 'O', 'O', 'O', 'O', 'O', 'O', 'O', 'O', 'O', 'O', 'O', 'O', 'O', 'O', 'O', 'O', 'O', 'O', 'O', 'O', 'O', 'O', 'O', 'O', 'O', 'O', 'O', 'O', 'O', 'O', 'O', 'O', 'O', 'O', 'O', 'O', 'O', 'O', 'O', 'O', 'O', 'O', 'O', 'O', 'O', 'O', 'O', 'O', 'O', 'O', 'O', 'O', 'O', 'O', 'O', 'O', 'O', 'O', 'O', 'O', 'O', 'O', 'O', 'O', 'O', 'O', 'O', 'O', 'O', 'O', 'O', 'O', 'O', 'O', 'O', 'O', 'O', 'O', 'O', 'O', 'O', 'O', 'O', 'O', 'O', 'O', 'O', 'O', 'O', 'O', 'O', 'O', 'O', 'O', 'O', 'O', 'O', 'O', 'O', 'O', 'O', 'O', 'O', 'O', 'O', 'O', 'O', 'O', 'O', 'O', 'O', 'O', 'O', 'O', 'O', 'O', 'O', 'O', 'O', 'O', 'O', 'O', 'O', 'O', 'O', 'O', 'O', 'O', 'O', 'O', 'O', 'O', 'O', 'O', 'O', 'O', 'O', 'O', 'O', 'O', 'O', 'O', 'O', 'O', 'O', 'O', 'O', 'O', 'O', 'O', 'O', 'O', 'O', 'O', 'O', 'O', 'O', 'O', 'O', 'O', 'O', 'O', 'O', 'O', 'O', 'O', 'O', 'O', 'O', 'O', 'O', 'O', 'O', 'O', 'O', 'O', 'O', 'O', 'O', 'O', 'O', 'O', 'O', 'O', 'O', 'O', 'O', 'O', 'O', 'O', 'O', 'O', 'O', 'O', 'O', 'O', 'O', 'O', 'O', 'O', 'O', 'O', 'O', 'O', 'O', 'O', 'O', 'O', 'O', 'O', 'O', 'O', 'O', 'O', 'O', 'O', 'O', 'O', 'O', 'O', 'O', 'O', 'O', 'O', 'O', 'O']\n"
          ]
        }
      ],
      "source": [
        "print(labels_new)\n",
        "print(predictions_new)"
      ]
    },
    {
      "cell_type": "code",
      "execution_count": null,
      "metadata": {
        "id": "i__eDGUg8Rny"
      },
      "outputs": [],
      "source": [
        "b = {}\n",
        "for x in labels_new:\n",
        "    if x in b:\n",
        "        b[x] += 1\n",
        "    else:\n",
        "        b[x] = 1"
      ]
    },
    {
      "cell_type": "code",
      "execution_count": null,
      "metadata": {
        "id": "SrXQLGsY-hNF"
      },
      "outputs": [],
      "source": [
        "a = {}\n",
        "for x in predictions_new:\n",
        "    if x in a:\n",
        "        a[x] += 1\n",
        "    else:\n",
        "        a[x] = 1"
      ]
    },
    {
      "cell_type": "code",
      "execution_count": null,
      "metadata": {
        "colab": {
          "base_uri": "https://localhost:8080/"
        },
        "id": "JcJFhkyf_DHJ",
        "outputId": "a7487de3-aa66-4474-84fe-bbf1b7420876"
      },
      "outputs": [
        {
          "output_type": "execute_result",
          "data": {
            "text/plain": [
              "15360"
            ]
          },
          "metadata": {},
          "execution_count": 26
        }
      ],
      "source": [
        "len(labels_new)"
      ]
    },
    {
      "cell_type": "code",
      "execution_count": null,
      "metadata": {
        "colab": {
          "base_uri": "https://localhost:8080/"
        },
        "id": "S663XN9wFyzj",
        "outputId": "20fb517c-aa9f-4a40-82bb-d7b152f2452e"
      },
      "outputs": [
        {
          "output_type": "stream",
          "name": "stdout",
          "text": [
            "              precision    recall  f1-score   support\n",
            "\n",
            "         KEY       0.83      0.81      0.82       432\n",
            "         VAL       0.67      0.75      0.70       406\n",
            "\n",
            "   micro avg       0.74      0.78      0.76       838\n",
            "   macro avg       0.75      0.78      0.76       838\n",
            "weighted avg       0.75      0.78      0.76       838\n",
            "\n"
          ]
        }
      ],
      "source": [
        "print(classification_report([labels_new], [predictions_new]))"
      ]
    },
    {
      "cell_type": "code",
      "execution_count": null,
      "metadata": {
        "colab": {
          "base_uri": "https://localhost:8080/"
        },
        "id": "5vp7l0TiXykJ",
        "outputId": "2526e6d4-7018-40cd-c0d7-41eff98fb857"
      },
      "outputs": [
        {
          "output_type": "stream",
          "name": "stdout",
          "text": [
            "/content/ner-re-project/models/bert_crf.py:159: FutureWarning: You are using `torch.load` with `weights_only=False` (the current default value), which uses the default pickle module implicitly. It is possible to construct malicious pickle data which will execute arbitrary code during unpickling (See https://github.com/pytorch/pytorch/blob/main/SECURITY.md#untrusted-models for more details). In a future release, the default value for `weights_only` will be flipped to `True`. This limits the functions that could be executed during unpickling. Arbitrary objects will no longer be allowed to be loaded via this mode unless they are explicitly allowlisted by the user via `torch.serialization.add_safe_globals`. We recommend you start setting `weights_only=True` for any use case where you don't have full control of the loaded file. Please open an issue on GitHub for any issues related to this experimental feature.\n",
            "  self.load_state_dict(torch.load(path))\n",
            "100% 122/122 [00:23<00:00,  5.24it/s]\n"
          ]
        }
      ],
      "source": [
        "!python -m scripts.prepare_data_for_re --num-labels 5"
      ]
    },
    {
      "cell_type": "code",
      "execution_count": null,
      "metadata": {
        "colab": {
          "base_uri": "https://localhost:8080/"
        },
        "id": "PCEKo2GH0NSO",
        "outputId": "8501f23e-6378-4a0d-f499-d1bf9445024b"
      },
      "outputs": [
        {
          "output_type": "stream",
          "name": "stdout",
          "text": [
            "/content/ner-re-project/models/bert_crf.py:159: FutureWarning: You are using `torch.load` with `weights_only=False` (the current default value), which uses the default pickle module implicitly. It is possible to construct malicious pickle data which will execute arbitrary code during unpickling (See https://github.com/pytorch/pytorch/blob/main/SECURITY.md#untrusted-models for more details). In a future release, the default value for `weights_only` will be flipped to `True`. This limits the functions that could be executed during unpickling. Arbitrary objects will no longer be allowed to be loaded via this mode unless they are explicitly allowlisted by the user via `torch.serialization.add_safe_globals`. We recommend you start setting `weights_only=True` for any use case where you don't have full control of the loaded file. Please open an issue on GitHub for any issues related to this experimental feature.\n",
            "  self.load_state_dict(torch.load(path))\n",
            "100% 30/30 [00:05<00:00,  5.21it/s]\n"
          ]
        }
      ],
      "source": [
        "!python -m scripts.prepare_data_for_re --labeled-texts resources/data/test/labeled_texts.jsonl --relations resources/data/test/relations.jsonl  --num-labels 5"
      ]
    },
    {
      "cell_type": "code",
      "execution_count": null,
      "metadata": {
        "id": "6013UNxA6yL-"
      },
      "outputs": [],
      "source": [
        "from re_utils.train import train_re\n",
        "import torch"
      ]
    },
    {
      "cell_type": "code",
      "execution_count": null,
      "metadata": {
        "id": "z20LQTDn7NQI"
      },
      "outputs": [],
      "source": [
        "num_re_tags = 2\n",
        "batch_size = 5\n",
        "hidden_size = 768\n",
        "dropout = 0.3\n",
        "entity_tag_to_id_path = \"resources/data/train/entity_tag_to_id.json\"\n",
        "retag2id_path = \"resources/data/train/retag2id.json\"\n",
        "re_train_data_path = \"resources/data/train/re_data.jsonl\"\n",
        "re_test_data_path = \"resources/data/test/re_data.jsonl\"\n",
        "test_relations_path = \"resources/data/test/relations.jsonl\"\n",
        "lr = 0.0001\n",
        "epochs = 13\n",
        "log_every = 1\n",
        "TEST_DELETED_RELATIONS_COUNT = 0\n",
        "device = \"cuda\" if torch.cuda.is_available() else \"cpu\""
      ]
    },
    {
      "cell_type": "code",
      "execution_count": null,
      "metadata": {
        "colab": {
          "base_uri": "https://localhost:8080/"
        },
        "id": "Zr0jS84a7vGb",
        "outputId": "937b3536-29e9-4104-8df4-b19711c7ddc7"
      },
      "outputs": [
        {
          "output_type": "display_data",
          "data": {
            "text/plain": [
              "<Figure size 1500x1000 with 3 Axes>"
            ],
            "image/png": "[encoded data removed]"
          },
          "metadata": {}
        },
        {
          "output_type": "stream",
          "name": "stdout",
          "text": [
            "Current loss: 1.6571750620641978e-06\n",
            "Current f1: 0.9896245761507381\n",
            "Current f1_relation: 0.8438818565400844\n",
            "Epoch 13/13\n"
          ]
        }
      ],
      "source": [
        "train_re(\n",
        "    num_re_tags = num_re_tags,\n",
        "    batch_size = batch_size,\n",
        "    hidden_size = hidden_size,\n",
        "    dropout = dropout,\n",
        "    entity_tag_to_id_path = entity_tag_to_id_path,\n",
        "    retag2id_path=retag2id_path,\n",
        "    re_train_data_path=re_train_data_path,\n",
        "    re_test_data_path=re_test_data_path,\n",
        "    test_relations_path=test_relations_path,\n",
        "    lr = lr,\n",
        "    epochs = epochs,\n",
        "    log_every=log_every,\n",
        "    test_deleted_relations_count=TEST_DELETED_RELATIONS_COUNT,\n",
        "    device = device\n",
        ")"
      ]
    },
    {
      "cell_type": "code",
      "execution_count": null,
      "metadata": {
        "id": "ZQwwZTtPjj01"
      },
      "outputs": [],
      "source": [
        "from models.re_bert_crf import ReBertCrf"
      ]
    },
    {
      "cell_type": "code",
      "execution_count": null,
      "metadata": {
        "colab": {
          "base_uri": "https://localhost:8080/"
        },
        "id": "ZN0jln7yK1y5",
        "outputId": "5c22cf60-e511-4599-e0f0-91a007c89473"
      },
      "outputs": [
        {
          "data": {
            "text/plain": [
              "ReBertCrf(\n",
              "  (arg1_linear): Sequential(\n",
              "    (0): Dropout(p=0.2, inplace=False)\n",
              "    (1): ReLU()\n",
              "    (2): Linear(in_features=768, out_features=64, bias=True)\n",
              "  )\n",
              "  (arg2_linear): Sequential(\n",
              "    (0): Dropout(p=0.2, inplace=False)\n",
              "    (1): ReLU()\n",
              "    (2): Linear(in_features=768, out_features=64, bias=True)\n",
              "  )\n",
              "  (all_seq_linear): Sequential(\n",
              "    (0): Dropout(p=0.2, inplace=False)\n",
              "    (1): ReLU()\n",
              "    (2): Linear(in_features=768, out_features=64, bias=True)\n",
              "  )\n",
              "  (relation_classifier): Sequential(\n",
              "    (0): Dropout(p=0.2, inplace=False)\n",
              "    (1): Linear(in_features=2304, out_features=2, bias=True)\n",
              "  )\n",
              "  (tag_embeddings): Embedding(2, 64)\n",
              ")"
            ]
          },
          "execution_count": 7,
          "metadata": {},
          "output_type": "execute_result"
        }
      ],
      "source": [
        "model_re = ReBertCrf(2, 768, 0.2, {\"VAL\": 0, \"KEY\": 1})\n",
        "model_re.eval()"
      ]
    },
    {
      "cell_type": "code",
      "execution_count": null,
      "metadata": {
        "id": "-LpCkBnb9uue"
      },
      "outputs": [],
      "source": [
        "import torch.nn as nn"
      ]
    },
    {
      "cell_type": "code",
      "execution_count": null,
      "metadata": {
        "colab": {
          "base_uri": "https://localhost:8080/"
        },
        "id": "zpkrdvyg9qlv",
        "outputId": "825dfcca-9654-4d8c-94d7-1b3d2a8b8d4b"
      },
      "outputs": [
        {
          "name": "stdout",
          "output_type": "stream",
          "text": [
            "Общее количество нейронов в модели: 390\n"
          ]
        }
      ],
      "source": [
        "def count_neurons_via_parameters(model):\n",
        "    total_neurons = 0\n",
        "    for name, param in model.named_parameters():\n",
        "        # if 'weight' in name:  # Проверяем только веса\n",
        "        total_neurons += param.size(0)  # Суммируем количество выходных нейронов\n",
        "    return total_neurons\n",
        "\n",
        "# Подсчет нейронов\n",
        "num_neurons = count_neurons_via_parameters(model_re)\n",
        "print(f\"Общее количество нейронов в модели: {num_neurons}\")"
      ]
    },
    {
      "cell_type": "code",
      "execution_count": null,
      "metadata": {
        "id": "0BZGFouykRGp"
      },
      "outputs": [],
      "source": [
        "from transformers import AutoTokenizer\n",
        "tokenizer = AutoTokenizer.from_pretrained(\"ai-forever/ruBert-base\")"
      ]
    },
    {
      "cell_type": "code",
      "execution_count": null,
      "metadata": {
        "id": "WLrazwyGjnMJ"
      },
      "outputs": [],
      "source": [
        "input_ids = torch.tensor([input_ids], device=device)\n",
        "\n",
        "attention_mask = torch.ones(1, input_ids.shape[1], device=device)\n",
        "\n",
        "_, batched_bert_embeddings = model.get_bert_features(input_ids, attention_mask)\n",
        "bert_embeddings = batched_bert_embeddings[0]\n",
        "\n",
        "# full_seq_embedding = get_mean_vector_from_segment(bert_embeddings, 0, len(bert_embeddings)).tolist()\n",
        "labels = model.decode(input_ids, attention_mask)\n",
        "\n",
        "labels = [item for sublist in labels for item in sublist]\n",
        "\n",
        "tags_pos = get_tags_with_positions(labels, id2label)\n",
        "\n",
        "relation_matrix = np.empty((len(tags_pos), len(tags_pos)))\n",
        "\n",
        "entity_tags_set = set()\n",
        "for label, id in label2id.items():\n",
        "    if label == \"O\":\n",
        "        continue\n",
        "    entity_tags_set.add(label.split(\"-\")[1])\n",
        "entity_tag_to_id = {tag: id for id, tag in enumerate(entity_tags_set)}\n",
        "\n",
        "full_seq_embedding = get_mean_vector_from_segment(bert_embeddings, 0, len(bert_embeddings)).tolist()\n",
        "\n",
        "entities_positions = [item[\"pos\"] for item in tags_pos]\n",
        "entities_embeddings = [\n",
        "    get_mean_vector_from_segment(bert_embeddings, pos[0], pos[1]).tolist() for pos in entities_positions\n",
        "]\n",
        "entities_tags = [entity_tag_to_id[item[\"tag\"]] for item in tags_pos]"
      ]
    }
  ],
  "metadata": {
    "accelerator": "GPU",
    "colab": {
      "gpuType": "T4",
      "provenance": []
    },
    "kernelspec": {
      "display_name": "Python 3",
      "name": "python3"
    },
    "language_info": {
      "name": "python"
    },
    "widgets": {
      "application/vnd.jupyter.widget-state+json": {
        "41ef45496ede45a186063ec5248d3889": {
          "model_module": "@jupyter-widgets/output",
          "model_name": "OutputModel",
          "model_module_version": "1.0.0",
          "state": {
            "_dom_classes": [],
            "_model_module": "@jupyter-widgets/output",
            "_model_module_version": "1.0.0",
            "_model_name": "OutputModel",
            "_view_count": null,
            "_view_module": "@jupyter-widgets/output",
            "_view_module_version": "1.0.0",
            "_view_name": "OutputView",
            "layout": "IPY_MODEL_efa09b5d044f43edadeb263cd5c79bfb",
            "msg_id": "",
            "outputs": [
              {
                "output_type": "display_data",
                "data": {
                  "text/plain": "   \u001b[38;2;249;38;114m━━━━━━━━━━━━━━━━━━━━━━━━━━━━━━━━━━━━━━━\u001b[0m\u001b[38;5;237m╺\u001b[0m \u001b[32m471.0/480.6 kB\u001b[0m \u001b[31m26.7 MB/s\u001b[0m eta \u001b[36m0:00:01\u001b[0m\n",
                  "text/html": "<pre style=\"white-space:pre;overflow-x:auto;line-height:normal;font-family:Menlo,'DejaVu Sans Mono',consolas,'Courier New',monospace\">   <span style=\"color: #f92672; text-decoration-color: #f92672\">━━━━━━━━━━━━━━━━━━━━━━━━━━━━━━━━━━━━━━━</span><span style=\"color: #3a3a3a; text-decoration-color: #3a3a3a\">╺</span> <span style=\"color: #008000; text-decoration-color: #008000\">471.0/480.6 kB</span> <span style=\"color: #800000; text-decoration-color: #800000\">26.7 MB/s</span> eta <span style=\"color: #008080; text-decoration-color: #008080\">0:00:01</span>\n</pre>\n"
                },
                "metadata": {}
              }
            ]
          }
        },
        "efa09b5d044f43edadeb263cd5c79bfb": {
          "model_module": "@jupyter-widgets/base",
          "model_name": "LayoutModel",
          "model_module_version": "1.2.0",
          "state": {
            "_model_module": "@jupyter-widgets/base",
            "_model_module_version": "1.2.0",
            "_model_name": "LayoutModel",
            "_view_count": null,
            "_view_module": "@jupyter-widgets/base",
            "_view_module_version": "1.2.0",
            "_view_name": "LayoutView",
            "align_content": null,
            "align_items": null,
            "align_self": null,
            "border": null,
            "bottom": null,
            "display": null,
            "flex": null,
            "flex_flow": null,
            "grid_area": null,
            "grid_auto_columns": null,
            "grid_auto_flow": null,
            "grid_auto_rows": null,
            "grid_column": null,
            "grid_gap": null,
            "grid_row": null,
            "grid_template_areas": null,
            "grid_template_columns": null,
            "grid_template_rows": null,
            "height": null,
            "justify_content": null,
            "justify_items": null,
            "left": null,
            "margin": null,
            "max_height": null,
            "max_width": null,
            "min_height": null,
            "min_width": null,
            "object_fit": null,
            "object_position": null,
            "order": null,
            "overflow": null,
            "overflow_x": null,
            "overflow_y": null,
            "padding": null,
            "right": null,
            "top": null,
            "visibility": null,
            "width": null
          }
        },
        "7894ecbc39a24b3ab64ee568df3d1645": {
          "model_module": "@jupyter-widgets/output",
          "model_name": "OutputModel",
          "model_module_version": "1.0.0",
          "state": {
            "_dom_classes": [],
            "_model_module": "@jupyter-widgets/output",
            "_model_module_version": "1.0.0",
            "_model_name": "OutputModel",
            "_view_count": null,
            "_view_module": "@jupyter-widgets/output",
            "_view_module_version": "1.0.0",
            "_view_name": "OutputView",
            "layout": "IPY_MODEL_2c97e5b1acf847d590fdf88cf05794a2",
            "msg_id": "",
            "outputs": [
              {
                "output_type": "display_data",
                "data": {
                  "text/plain": "   \u001b[38;5;237m━━━━━━━━━━━━━━━━━━━━━━━━━━━━━━━━━━━━━━━━\u001b[0m \u001b[32m0.0/116.3 kB\u001b[0m \u001b[31m?\u001b[0m eta \u001b[36m-:--:--\u001b[0m\n",
                  "text/html": "<pre style=\"white-space:pre;overflow-x:auto;line-height:normal;font-family:Menlo,'DejaVu Sans Mono',consolas,'Courier New',monospace\">   <span style=\"color: #3a3a3a; text-decoration-color: #3a3a3a\">━━━━━━━━━━━━━━━━━━━━━━━━━━━━━━━━━━━━━━━━</span> <span style=\"color: #008000; text-decoration-color: #008000\">0.0/116.3 kB</span> <span style=\"color: #800000; text-decoration-color: #800000\">?</span> eta <span style=\"color: #008080; text-decoration-color: #008080\">-:--:--</span>\n</pre>\n"
                },
                "metadata": {}
              }
            ]
          }
        },
        "2c97e5b1acf847d590fdf88cf05794a2": {
          "model_module": "@jupyter-widgets/base",
          "model_name": "LayoutModel",
          "model_module_version": "1.2.0",
          "state": {
            "_model_module": "@jupyter-widgets/base",
            "_model_module_version": "1.2.0",
            "_model_name": "LayoutModel",
            "_view_count": null,
            "_view_module": "@jupyter-widgets/base",
            "_view_module_version": "1.2.0",
            "_view_name": "LayoutView",
            "align_content": null,
            "align_items": null,
            "align_self": null,
            "border": null,
            "bottom": null,
            "display": null,
            "flex": null,
            "flex_flow": null,
            "grid_area": null,
            "grid_auto_columns": null,
            "grid_auto_flow": null,
            "grid_auto_rows": null,
            "grid_column": null,
            "grid_gap": null,
            "grid_row": null,
            "grid_template_areas": null,
            "grid_template_columns": null,
            "grid_template_rows": null,
            "height": null,
            "justify_content": null,
            "justify_items": null,
            "left": null,
            "margin": null,
            "max_height": null,
            "max_width": null,
            "min_height": null,
            "min_width": null,
            "object_fit": null,
            "object_position": null,
            "order": null,
            "overflow": null,
            "overflow_x": null,
            "overflow_y": null,
            "padding": null,
            "right": null,
            "top": null,
            "visibility": null,
            "width": null
          }
        },
        "def5d031a5f84f7d8444b309753c5ae6": {
          "model_module": "@jupyter-widgets/output",
          "model_name": "OutputModel",
          "model_module_version": "1.0.0",
          "state": {
            "_dom_classes": [],
            "_model_module": "@jupyter-widgets/output",
            "_model_module_version": "1.0.0",
            "_model_name": "OutputModel",
            "_view_count": null,
            "_view_module": "@jupyter-widgets/output",
            "_view_module_version": "1.0.0",
            "_view_name": "OutputView",
            "layout": "IPY_MODEL_a6159a89345c4fd79f8bfce2a810ee4a",
            "msg_id": "",
            "outputs": [
              {
                "output_type": "display_data",
                "data": {
                  "text/plain": "   \u001b[38;5;237m━━━━━━━━━━━━━━━━━━━━━━━━━━━━━━━━━━━━━━━━\u001b[0m \u001b[32m0.0/179.3 kB\u001b[0m \u001b[31m?\u001b[0m eta \u001b[36m-:--:--\u001b[0m\n",
                  "text/html": "<pre style=\"white-space:pre;overflow-x:auto;line-height:normal;font-family:Menlo,'DejaVu Sans Mono',consolas,'Courier New',monospace\">   <span style=\"color: #3a3a3a; text-decoration-color: #3a3a3a\">━━━━━━━━━━━━━━━━━━━━━━━━━━━━━━━━━━━━━━━━</span> <span style=\"color: #008000; text-decoration-color: #008000\">0.0/179.3 kB</span> <span style=\"color: #800000; text-decoration-color: #800000\">?</span> eta <span style=\"color: #008080; text-decoration-color: #008080\">-:--:--</span>\n</pre>\n"
                },
                "metadata": {}
              }
            ]
          }
        },
        "a6159a89345c4fd79f8bfce2a810ee4a": {
          "model_module": "@jupyter-widgets/base",
          "model_name": "LayoutModel",
          "model_module_version": "1.2.0",
          "state": {
            "_model_module": "@jupyter-widgets/base",
            "_model_module_version": "1.2.0",
            "_model_name": "LayoutModel",
            "_view_count": null,
            "_view_module": "@jupyter-widgets/base",
            "_view_module_version": "1.2.0",
            "_view_name": "LayoutView",
            "align_content": null,
            "align_items": null,
            "align_self": null,
            "border": null,
            "bottom": null,
            "display": null,
            "flex": null,
            "flex_flow": null,
            "grid_area": null,
            "grid_auto_columns": null,
            "grid_auto_flow": null,
            "grid_auto_rows": null,
            "grid_column": null,
            "grid_gap": null,
            "grid_row": null,
            "grid_template_areas": null,
            "grid_template_columns": null,
            "grid_template_rows": null,
            "height": null,
            "justify_content": null,
            "justify_items": null,
            "left": null,
            "margin": null,
            "max_height": null,
            "max_width": null,
            "min_height": null,
            "min_width": null,
            "object_fit": null,
            "object_position": null,
            "order": null,
            "overflow": null,
            "overflow_x": null,
            "overflow_y": null,
            "padding": null,
            "right": null,
            "top": null,
            "visibility": null,
            "width": null
          }
        },
        "9f1ffb0db1da4c92a8bfd2d11bb7af91": {
          "model_module": "@jupyter-widgets/output",
          "model_name": "OutputModel",
          "model_module_version": "1.0.0",
          "state": {
            "_dom_classes": [],
            "_model_module": "@jupyter-widgets/output",
            "_model_module_version": "1.0.0",
            "_model_name": "OutputModel",
            "_view_count": null,
            "_view_module": "@jupyter-widgets/output",
            "_view_module_version": "1.0.0",
            "_view_name": "OutputView",
            "layout": "IPY_MODEL_c72af5de7b5b4d20b6f169e0e99bd8c9",
            "msg_id": "",
            "outputs": [
              {
                "output_type": "display_data",
                "data": {
                  "text/plain": "   \u001b[38;5;237m━━━━━━━━━━━━━━━━━━━━━━━━━━━━━━━━━━━━━━━━\u001b[0m \u001b[32m0.0/134.8 kB\u001b[0m \u001b[31m?\u001b[0m eta \u001b[36m-:--:--\u001b[0m\n",
                  "text/html": "<pre style=\"white-space:pre;overflow-x:auto;line-height:normal;font-family:Menlo,'DejaVu Sans Mono',consolas,'Courier New',monospace\">   <span style=\"color: #3a3a3a; text-decoration-color: #3a3a3a\">━━━━━━━━━━━━━━━━━━━━━━━━━━━━━━━━━━━━━━━━</span> <span style=\"color: #008000; text-decoration-color: #008000\">0.0/134.8 kB</span> <span style=\"color: #800000; text-decoration-color: #800000\">?</span> eta <span style=\"color: #008080; text-decoration-color: #008080\">-:--:--</span>\n</pre>\n"
                },
                "metadata": {}
              }
            ]
          }
        },
        "c72af5de7b5b4d20b6f169e0e99bd8c9": {
          "model_module": "@jupyter-widgets/base",
          "model_name": "LayoutModel",
          "model_module_version": "1.2.0",
          "state": {
            "_model_module": "@jupyter-widgets/base",
            "_model_module_version": "1.2.0",
            "_model_name": "LayoutModel",
            "_view_count": null,
            "_view_module": "@jupyter-widgets/base",
            "_view_module_version": "1.2.0",
            "_view_name": "LayoutView",
            "align_content": null,
            "align_items": null,
            "align_self": null,
            "border": null,
            "bottom": null,
            "display": null,
            "flex": null,
            "flex_flow": null,
            "grid_area": null,
            "grid_auto_columns": null,
            "grid_auto_flow": null,
            "grid_auto_rows": null,
            "grid_column": null,
            "grid_gap": null,
            "grid_row": null,
            "grid_template_areas": null,
            "grid_template_columns": null,
            "grid_template_rows": null,
            "height": null,
            "justify_content": null,
            "justify_items": null,
            "left": null,
            "margin": null,
            "max_height": null,
            "max_width": null,
            "min_height": null,
            "min_width": null,
            "object_fit": null,
            "object_position": null,
            "order": null,
            "overflow": null,
            "overflow_x": null,
            "overflow_y": null,
            "padding": null,
            "right": null,
            "top": null,
            "visibility": null,
            "width": null
          }
        },
        "b72793b0b560429f82865a08165c1cda": {
          "model_module": "@jupyter-widgets/output",
          "model_name": "OutputModel",
          "model_module_version": "1.0.0",
          "state": {
            "_dom_classes": [],
            "_model_module": "@jupyter-widgets/output",
            "_model_module_version": "1.0.0",
            "_model_name": "OutputModel",
            "_view_count": null,
            "_view_module": "@jupyter-widgets/output",
            "_view_module_version": "1.0.0",
            "_view_name": "OutputView",
            "layout": "IPY_MODEL_6c4575a446f74ae8b161972a3eb918d6",
            "msg_id": "",
            "outputs": [
              {
                "output_type": "display_data",
                "data": {
                  "text/plain": "   \u001b[38;5;237m━━━━━━━━━━━━━━━━━━━━━━━━━━━━━━━━━━━━━━━━\u001b[0m \u001b[32m0.0/194.1 kB\u001b[0m \u001b[31m?\u001b[0m eta \u001b[36m-:--:--\u001b[0m\n",
                  "text/html": "<pre style=\"white-space:pre;overflow-x:auto;line-height:normal;font-family:Menlo,'DejaVu Sans Mono',consolas,'Courier New',monospace\">   <span style=\"color: #3a3a3a; text-decoration-color: #3a3a3a\">━━━━━━━━━━━━━━━━━━━━━━━━━━━━━━━━━━━━━━━━</span> <span style=\"color: #008000; text-decoration-color: #008000\">0.0/194.1 kB</span> <span style=\"color: #800000; text-decoration-color: #800000\">?</span> eta <span style=\"color: #008080; text-decoration-color: #008080\">-:--:--</span>\n</pre>\n"
                },
                "metadata": {}
              }
            ]
          }
        },
        "6c4575a446f74ae8b161972a3eb918d6": {
          "model_module": "@jupyter-widgets/base",
          "model_name": "LayoutModel",
          "model_module_version": "1.2.0",
          "state": {
            "_model_module": "@jupyter-widgets/base",
            "_model_module_version": "1.2.0",
            "_model_name": "LayoutModel",
            "_view_count": null,
            "_view_module": "@jupyter-widgets/base",
            "_view_module_version": "1.2.0",
            "_view_name": "LayoutView",
            "align_content": null,
            "align_items": null,
            "align_self": null,
            "border": null,
            "bottom": null,
            "display": null,
            "flex": null,
            "flex_flow": null,
            "grid_area": null,
            "grid_auto_columns": null,
            "grid_auto_flow": null,
            "grid_auto_rows": null,
            "grid_column": null,
            "grid_gap": null,
            "grid_row": null,
            "grid_template_areas": null,
            "grid_template_columns": null,
            "grid_template_rows": null,
            "height": null,
            "justify_content": null,
            "justify_items": null,
            "left": null,
            "margin": null,
            "max_height": null,
            "max_width": null,
            "min_height": null,
            "min_width": null,
            "object_fit": null,
            "object_position": null,
            "order": null,
            "overflow": null,
            "overflow_x": null,
            "overflow_y": null,
            "padding": null,
            "right": null,
            "top": null,
            "visibility": null,
            "width": null
          }
        }
      }
    }
  },
  "nbformat": 4,
  "nbformat_minor": 0
}